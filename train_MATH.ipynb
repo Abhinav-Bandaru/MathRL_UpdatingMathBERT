{
 "cells": [
  {
   "cell_type": "markdown",
   "id": "f75995b3",
   "metadata": {},
   "source": [
    "# EVALUATION LOOP"
   ]
  },
  {
   "cell_type": "code",
   "execution_count": 1,
   "id": "fdc8ec74",
   "metadata": {},
   "outputs": [
    {
     "name": "stderr",
     "output_type": "stream",
     "text": [
      "Baseline eval:   0%|          | 0/20 [00:00<?, ?it/s]"
     ]
    },
    {
     "name": "stdout",
     "output_type": "stream",
     "text": [
      "🔍 Top-K Indices: [81, 159, 35]\n",
      "[INFO] Launching 15 parallel inference tasks...\n"
     ]
    },
    {
     "name": "stderr",
     "output_type": "stream",
     "text": [
      "Baseline eval:   5%|▌         | 1/20 [00:01<00:27,  1.47s/it]"
     ]
    },
    {
     "name": "stdout",
     "output_type": "stream",
     "text": [
      "[['72', '72', '144', '72', '48 + (48 / 2) = 48 + 24 = 72'], ['96', '48 + (48/2) = 48 + 24 = 72', '72', '72', '72'], ['48 + 24 = 72', '48 + (48 ÷ 2) = 48 + 24 = 72', '48 + 24 = 72', '48 + 24 = 72', '48 + (48 ÷ 2) = 48 + 24 = 72']]\n",
      "0.8666666666666667\n",
      "🔍 Top-K Indices: [110, 147, 81]\n",
      "[INFO] Launching 15 parallel inference tasks...\n"
     ]
    },
    {
     "name": "stderr",
     "output_type": "stream",
     "text": [
      "Baseline eval:  10%|█         | 2/20 [00:02<00:23,  1.32s/it]"
     ]
    },
    {
     "name": "stdout",
     "output_type": "stream",
     "text": [
      "[['10', '10', '10', '10', '10'], ['10', '10', '10', '10', '10'], ['10', '10', '10', '10', '10']]\n",
      "1.0\n",
      "🔍 Top-K Indices: [201, 73, 228]\n",
      "[INFO] Launching 15 parallel inference tasks...\n"
     ]
    },
    {
     "name": "stderr",
     "output_type": "stream",
     "text": [
      "Baseline eval:  15%|█▌        | 3/20 [00:05<00:30,  1.79s/it]"
     ]
    },
    {
     "name": "stdout",
     "output_type": "stream",
     "text": [
      "[['25', '55', '50', '50', '25'], ['$55', '$55', '$55', '100 - (50 + 15 + 30) = 100 - 95 = 5', '$55'], ['$55', '25', '$35', '$35', '$55']]\n",
      "1.0\n",
      "🔍 Top-K Indices: [13, 93, 228]\n",
      "[INFO] Launching 15 parallel inference tasks...\n"
     ]
    },
    {
     "name": "stderr",
     "output_type": "stream",
     "text": [
      "Baseline eval:  20%|██        | 4/20 [00:06<00:24,  1.51s/it]"
     ]
    },
    {
     "name": "stdout",
     "output_type": "stream",
     "text": [
      "[['36', '48', '42', '78', '54'], ['48', '48', '48', '48', '48'], ['48', '48', '48', '36', '54']]\n",
      "0.06666666666666667\n",
      "🔍 Top-K Indices: [93, 13, 113]\n",
      "[INFO] Launching 15 parallel inference tasks...\n"
     ]
    },
    {
     "name": "stderr",
     "output_type": "stream",
     "text": [
      "Baseline eval:  25%|██▌       | 5/20 [00:07<00:20,  1.36s/it]"
     ]
    },
    {
     "name": "stdout",
     "output_type": "stream",
     "text": [
      "[['624', '624', '624', '624', '624'], ['312', '624', '624', '312', '312'], ['312', '312', '312', '312', '312']]\n",
      "0.4666666666666667\n",
      "🔍 Top-K Indices: [56, 161, 30]\n",
      "[INFO] Launching 15 parallel inference tasks...\n"
     ]
    },
    {
     "name": "stderr",
     "output_type": "stream",
     "text": [
      "Baseline eval:  30%|███       | 6/20 [00:08<00:19,  1.43s/it]"
     ]
    },
    {
     "name": "stdout",
     "output_type": "stream",
     "text": [
      "[['70', '100', '70', 'Total flowers = yellow + purple + green = 10 + (80% of 10) + (25% of (10 + purple))\\nPurple = 80% of 10 = 0.8 * 10 = 8\\nGreen = 25% of (10 + 8) = 0.25 * 18 = 4.5\\nTotal = 10 + 8 + 4.5 = 22.5', 'Total yellow flowers = 10  \\nPurple flowers = 80% more than yellow = 10 + 0.8 * 10 = 10 + 8 = 18  \\nTotal yellow and purple flowers = 10 + 18 = 28  \\nGreen flowers = 25% of yellow and purple = 0.25 * 28 = 7  \\nTotal flowers = yellow + purple + green = 10 + 18 + 7 = 35'], ['150', '60', '78', '165', '225'], ['130', '160', '150', '90', '130']]\n",
      "0.06666666666666667\n",
      "🔍 Top-K Indices: [77, 64, 109]\n",
      "[INFO] Launching 15 parallel inference tasks...\n"
     ]
    },
    {
     "name": "stderr",
     "output_type": "stream",
     "text": [
      "Baseline eval:  35%|███▌      | 7/20 [00:10<00:17,  1.37s/it]"
     ]
    },
    {
     "name": "stdout",
     "output_type": "stream",
     "text": [
      "[['48', '48', '48', '56', '48'], ['48', '48', '56', '48', '48'], ['48', '48', '48', '48', '48']]\n",
      "0.8666666666666667\n",
      "🔍 Top-K Indices: [89, 204, 60]\n",
      "[INFO] Launching 15 parallel inference tasks...\n"
     ]
    },
    {
     "name": "stderr",
     "output_type": "stream",
     "text": [
      "Baseline eval:  40%|████      | 8/20 [00:11<00:15,  1.28s/it]"
     ]
    },
    {
     "name": "stdout",
     "output_type": "stream",
     "text": [
      "[['16', '8', '8', '16', '8'], ['8', '12', '8', '8', '16'], ['8', '8', '8', '8', '8']]\n",
      "0.2\n",
      "🔍 Top-K Indices: [97, 40, 191]\n",
      "[INFO] Launching 15 parallel inference tasks...\n"
     ]
    },
    {
     "name": "stderr",
     "output_type": "stream",
     "text": [
      "Baseline eval:  45%|████▌     | 9/20 [00:12<00:13,  1.21s/it]"
     ]
    },
    {
     "name": "stdout",
     "output_type": "stream",
     "text": [
      "[['$41', '61', '$41', '$41', '61'], ['81', '$41', '61', '$41', '81'], ['59', '39', '59', '$41', '61']]\n",
      "0.4\n",
      "🔍 Top-K Indices: [81, 176, 161]\n",
      "[INFO] Launching 15 parallel inference tasks...\n"
     ]
    },
    {
     "name": "stderr",
     "output_type": "stream",
     "text": [
      "Baseline eval:  50%|█████     | 10/20 [00:13<00:13,  1.31s/it]"
     ]
    },
    {
     "name": "stdout",
     "output_type": "stream",
     "text": [
      "[['$270', '$270', '$342.00', '252', '405'], ['$405', '$405', '$405', '$270', '90'], ['$270', '$270', '$405', '$405', '$270']]\n",
      "0.06666666666666667\n",
      "🔍 Top-K Indices: [23, 234, 248]\n",
      "[INFO] Launching 15 parallel inference tasks...\n"
     ]
    },
    {
     "name": "stderr",
     "output_type": "stream",
     "text": [
      "Baseline eval:  55%|█████▌    | 11/20 [00:14<00:11,  1.24s/it]"
     ]
    },
    {
     "name": "stdout",
     "output_type": "stream",
     "text": [
      "[['422', '423.5', '423', '423', '423.5'], ['423', '423.5', '423.5', '423.5', '423.5'], ['423.5', '423.5', '423.5', '423.5', '423.5']]\n",
      "0.0\n",
      "🔍 Top-K Indices: [49, 238, 70]\n",
      "[INFO] Launching 15 parallel inference tasks...\n"
     ]
    },
    {
     "name": "stderr",
     "output_type": "stream",
     "text": [
      "Baseline eval:  60%|██████    | 12/20 [00:15<00:09,  1.18s/it]"
     ]
    },
    {
     "name": "stdout",
     "output_type": "stream",
     "text": [
      "[['10', '4', '4', '5', '4'], ['4', '4', '6', '3', '5'], ['2', '4', '4', '4', '3']]\n",
      "0.13333333333333333\n",
      "🔍 Top-K Indices: [113, 75, 2]\n",
      "[INFO] Launching 15 parallel inference tasks...\n"
     ]
    },
    {
     "name": "stderr",
     "output_type": "stream",
     "text": [
      "Baseline eval:  65%|██████▌   | 13/20 [00:17<00:08,  1.25s/it]"
     ]
    },
    {
     "name": "stdout",
     "output_type": "stream",
     "text": [
      "[['70', '80', '60 + ( (1/2)*60 - 5 ) = 60 + (30 - 5) = 60 + 25 = 85', '60 + (0.5 * 60 - 5) = 60 + (30 - 5) = 60 + 25 = 85', '60 + ( (1/2) * 60 - 5 ) = 60 + (30 - 5) = 60 + 25 = 85'], ['165', '150', '135', '225', '92'], ['60 + (60 / 2 - 5) = 60 + (30 - 5) = 60 + 25 = 85', '60 + (60/2 - 5) = 60 + (30 - 5) = 60 + 25 = 85', '60 + (60 / 2 - 5) = 60 + (30 - 5) = 60 + 25 = 85', '60 + (60 / 2 - 5) = 60 + (30 - 5) = 60 + 25 = 85', '60 + (60 / 2 - 5) = 60 + (30 - 5) = 60 + 25 = 85']]\n",
      "0.5333333333333333\n",
      "🔍 Top-K Indices: [36, 49, 198]\n",
      "[INFO] Launching 15 parallel inference tasks...\n"
     ]
    },
    {
     "name": "stderr",
     "output_type": "stream",
     "text": [
      "Baseline eval:  70%|███████   | 14/20 [00:18<00:07,  1.21s/it]"
     ]
    },
    {
     "name": "stdout",
     "output_type": "stream",
     "text": [
      "[['$30', '$30', '$26', '$30', '$24'], ['$30', '$30', '$30', '$30', '$30'], ['$30', '$30', '$30', '$30', '$30']]\n",
      "0.0\n",
      "🔍 Top-K Indices: [3, 93, 203]\n",
      "[INFO] Launching 15 parallel inference tasks...\n"
     ]
    },
    {
     "name": "stderr",
     "output_type": "stream",
     "text": [
      "Baseline eval:  75%|███████▌  | 15/20 [00:19<00:06,  1.21s/it]"
     ]
    },
    {
     "name": "stdout",
     "output_type": "stream",
     "text": [
      "[['3', '3', '3', '3', '20 minutes / 8 pages = 2.5 minutes per page  \\n120 pages * 2.5 minutes = 300 minutes  \\n300 minutes / 60 = 5 hours'], ['20 hours', '20 hours', '20 hours', '30', '20 hours'], ['10', '3', '3', '3', '3']]\n",
      "0.06666666666666667\n",
      "🔍 Top-K Indices: [149, 95, 81]\n",
      "[INFO] Launching 15 parallel inference tasks...\n"
     ]
    },
    {
     "name": "stderr",
     "output_type": "stream",
     "text": [
      "Baseline eval:  80%|████████  | 16/20 [00:20<00:04,  1.24s/it]"
     ]
    },
    {
     "name": "stdout",
     "output_type": "stream",
     "text": [
      "[['75000', '$157,500', '15000', '\\\\$105,000', '$35000'], ['$22500', '$15000', '$14,250', 'Profit per DVD = Selling price - Cost price = (6 * 2.5) - 6 = 15 - 6 = 9 dollars  \\nNumber of DVDs sold in 20 weeks = 500 DVDs/day * 5 days/week * 20 weeks = 500 * 5 * 20 = 50,000 DVDs  \\nTotal profit = 50,000 * 9 = 450,000 dollars', 'Profit per DVD = 2.5 * 6 - 6 = 15 - 6 = 9 dollars  \\nNumber of DVDs sold in 20 weeks = 500 DVDs/day * 5 days/week * 20 weeks = 500 * 5 * 20 = 50,000 DVDs  \\nTotal profit = 50,000 * 9 = 450,000 dollars'], ['75000', '7500', '60000', '7500', '7500']]\n",
      "0.0\n",
      "🔍 Top-K Indices: [40, 161, 127]\n",
      "[INFO] Launching 15 parallel inference tasks...\n"
     ]
    },
    {
     "name": "stderr",
     "output_type": "stream",
     "text": [
      "Baseline eval:  85%|████████▌ | 17/20 [00:22<00:03,  1.27s/it]"
     ]
    },
    {
     "name": "stdout",
     "output_type": "stream",
     "text": [
      "[['1000', '1000', '1000', '1000', '1000'], ['714', '714', '714', '714', '714'], ['1000', '1000', \"Mike's share = (2/7) * 2500 = 714.29\\nAfter buying the shirt, Mike's remaining amount = 714.29 - 200 = 514.29\", \"Mike's share = (2/7) * $2500 = $714.29  \\nAfter spending $200, Mike's remaining amount = $714.29 - $200 = 514.29\", \"Mike's share = (2/7) * 2500 = 714.29  \\nMike's remaining amount after buying the shirt = 714.29 - 200 = 514.29\"]]\n",
      "0.0\n",
      "🔍 Top-K Indices: [19, 38, 236]\n",
      "[INFO] Launching 15 parallel inference tasks...\n"
     ]
    },
    {
     "name": "stderr",
     "output_type": "stream",
     "text": [
      "Baseline eval:  90%|█████████ | 18/20 [00:23<00:02,  1.38s/it]"
     ]
    },
    {
     "name": "stdout",
     "output_type": "stream",
     "text": [
      "[['27', '44', '51', '26 - 4 - 6 = 16 pink hard hats remaining  \\n15 - (2 × 6) = 3 green hard hats remaining  \\n24 yellow hard hats remaining  \\n\\nTotal remaining hard hats = 16 + 3 + 24 = 43', '26 - 4 - 6 = 16 pink hard hats remaining  \\n15 - 12 = 3 green hard hats remaining (since John took away 6, which is twice 3)  \\n24 yellow hard hats remaining (none taken away)  \\nTotal remaining = 16 + 3 + 24 = 43'], ['59', '69', '59', '56', '54'], ['54', '69', '64', '49', '64']]\n",
      "0.13333333333333333\n",
      "🔍 Top-K Indices: [70, 49, 140]\n",
      "[INFO] Launching 15 parallel inference tasks...\n"
     ]
    },
    {
     "name": "stderr",
     "output_type": "stream",
     "text": [
      "Baseline eval:  95%|█████████▌| 19/20 [00:25<00:01,  1.58s/it]"
     ]
    },
    {
     "name": "stdout",
     "output_type": "stream",
     "text": [
      "[['9', '9', '9', '10', '9'], ['15', '15', '15', '15', '15'], ['10', '10', '12', '10', '10']]\n",
      "0.0\n",
      "🔍 Top-K Indices: [207, 64, 65]\n",
      "[INFO] Launching 15 parallel inference tasks...\n"
     ]
    },
    {
     "name": "stderr",
     "output_type": "stream",
     "text": [
      "Baseline eval: 100%|██████████| 20/20 [00:28<00:00,  1.41s/it]"
     ]
    },
    {
     "name": "stdout",
     "output_type": "stream",
     "text": [
      "[['44', '22.4', '16', '28', '20 miles each way, so 40 miles per day for 5 days: 40 * 5 = 200 miles.  \\nAdd weekend ride: 200 miles.  \\nTotal miles biked: 200 + 200 = 400 miles.  \\nTime = Distance / Speed = 400 / 25 = 16 hours.'], ['40', '24', '12', '40', '40'], ['50', '26', '40', '18', '34']]\n",
      "0.13333333333333333\n",
      "\n",
      "📊  Baseline accuracy on GSM8K_to_infer: 30.000%\n"
     ]
    },
    {
     "name": "stderr",
     "output_type": "stream",
     "text": [
      "\n"
     ]
    }
   ],
   "source": [
    "# ------------------------------------------------------------\n",
    "# 0.  Imports & config – nothing here should clash with yours\n",
    "# ------------------------------------------------------------\n",
    "from tqdm import tqdm\n",
    "import torch\n",
    "from mathbert_encoder import MathBERTEncoder\n",
    "import retriever_cosine as rc\n",
    "# from import retrieve_top_k_cosine, retrieve_sample_k_cosine\n",
    "from response_sampler import sample_responses_per_demo\n",
    "from reward_aggregator import compute_demo_accuracy\n",
    "from icl_model_wrapper import OpenAIICLModel\n",
    "from grpo_optimizer import grpo_step\n",
    "from datasets import load_dataset\n",
    "from dotenv import load_dotenv\n",
    "import os\n",
    "from transformers import get_linear_schedule_with_warmup\n",
    "from importlib import reload\n",
    "\n",
    "reload(rc)\n",
    "\n",
    "load_dotenv()\n",
    "\n",
    "API_KEY = os.getenv(\"OPENAI_API_KEY\")\n",
    "DEVICE  = \"cuda\" if torch.cuda.is_available() else \"cpu\"\n",
    "K       = 3                # demos per query\n",
    "NUM_SAMPLES = 5             # model completions per query\n",
    "TEMPERATURE = 0.7           # keep same as training loop\n",
    "\n",
    "# ------------------------------------------------------------\n",
    "# 1.  Initialise encoder **in eval mode** (weights frozen)\n",
    "# ------------------------------------------------------------\n",
    "encoder = MathBERTEncoder(device=DEVICE, trainable=False)\n",
    "encoder.eval()                                   # no grads!\n",
    "\n",
    "icl_model = OpenAIICLModel(api_key=API_KEY,\n",
    "                           model_name=\"gpt-4.1-nano\",\n",
    "                           temperature=TEMPERATURE)\n",
    "\n",
    "# ------------------------------------------------------------\n",
    "# 2.  Load/define the inference set\n",
    "#     If you already saved a slice elsewhere, just load it.\n",
    "# ------------------------------------------------------------\n",
    "gsm8k_data = load_dataset(\"gsm8k\", \"main\")[\"train\"].select(range(256))  # slice first 200 examples\n",
    "gsm8k_to_infer = load_dataset(\"gsm8k\", \"main\")[\"train\"] \\\n",
    "                     .select(range(20))          # ⬅ change as needed\n",
    "\n",
    "# ------------------------------------------------------------\n",
    "# 3.  Evaluation loop\n",
    "# ------------------------------------------------------------\n",
    "total, correct = 0, 0\n",
    "all_losses     = []          # optional – to compare prompt quality\n",
    "\n",
    "for idx in tqdm(range(len(gsm8k_to_infer)), desc=\"Baseline eval\"):\n",
    "    item       = gsm8k_to_infer[idx]\n",
    "    Q_inf, A_gt = item[\"question\"], item[\"answer\"]\n",
    "\n",
    "    # Build demo pool (everything except current query)\n",
    "    demos = [(d[\"question\"], d[\"answer\"])\n",
    "             for j, d in enumerate(gsm8k_data) if j != idx]\n",
    "\n",
    "    # Encode query + candidate demos\n",
    "    with torch.no_grad():\n",
    "        q_emb     = encoder.encode([Q_inf], detach=True).squeeze(0)\n",
    "        demo_embs = encoder.encode([q for (q, _) in demos], detach=True)\n",
    "\n",
    "    # ------- ORIGINAL cosine retrieval -------------------------\n",
    "    top_k, _ = rc.retrieve_top_k_cosine(\n",
    "        q_emb, demo_embs, k=min(K, len(demos))\n",
    "    )\n",
    "    print(f\"🔍 Top-K Indices: {top_k}\")\n",
    "    selected_demos = [demos[i] for i in top_k]          # length = 2\n",
    "\n",
    "    # ------- Run the ICL model --------------------------------\n",
    "    responses_nested = sample_responses_per_demo(\n",
    "        demo_tuples = selected_demos,\n",
    "        Q_inf       = Q_inf,\n",
    "        icl_model   = icl_model,\n",
    "        num_samples = NUM_SAMPLES,\n",
    "        parallel=True\n",
    "    )\n",
    "    print(responses_nested)\n",
    "    flat_responses = [r for demo_resps in responses_nested for r in demo_resps]\n",
    "    acc = compute_demo_accuracy(flat_responses, A_gt)\n",
    "    print(acc) \n",
    "    correct += acc\n",
    "    total   += 1\n",
    "\n",
    "baseline_acc = correct / total\n",
    "print(f\"\\n📊  Baseline accuracy on GSM8K_to_infer: {baseline_acc:.3%}\")\n"
   ]
  },
  {
   "cell_type": "markdown",
   "id": "e4a6327e",
   "metadata": {},
   "source": [
    "# TRAINING LOOP"
   ]
  },
  {
   "cell_type": "code",
   "execution_count": 11,
   "id": "afe73d0b",
   "metadata": {},
   "outputs": [
    {
     "name": "stderr",
     "output_type": "stream",
     "text": [
      "Training Steps:   0%|          | 0/10 [00:00<?, ?it/s]"
     ]
    },
    {
     "name": "stdout",
     "output_type": "stream",
     "text": [
      "\n",
      "=== Training Step 1 ===\n"
     ]
    },
    {
     "name": "stderr",
     "output_type": "stream",
     "text": []
    },
    {
     "name": "stdout",
     "output_type": "stream",
     "text": [
      "-------Question---------\n",
      "Natalia sold clips to 48 of her friends in April, and then she sold half as many clips in May. How many clips did Natalia sell altogether in April and May?\n",
      "\n",
      "🧠 Inference Index 0\n",
      "🔍 Top-K Indices: [204, 159, 26, 8, 136, 32, 30, 168, 89, 145, 127, 251, 19, 215, 144, 60, 56, 160, 227, 112, 71, 122, 103, 177, 81, 57, 107, 104, 161, 85, 61, 35, 1, 238, 226, 4, 167, 110, 234, 121, 64, 51, 74, 5, 147, 181, 207, 69, 72, 149, 247, 15, 137]\n",
      "[INFO] Launching 159 parallel inference tasks...\n"
     ]
    },
    {
     "name": "stderr",
     "output_type": "stream",
     "text": []
    },
    {
     "name": "stdout",
     "output_type": "stream",
     "text": [
      "tensor([0.0000, 1.0000, 1.0000, 1.0000, 1.0000, 1.0000, 1.0000, 1.0000, 1.0000,\n",
      "        1.0000, 1.0000, 0.0000, 1.0000, 1.0000, 1.0000, 1.0000, 1.0000, 0.6667,\n",
      "        1.0000, 1.0000, 0.6667, 1.0000, 1.0000, 1.0000, 1.0000, 1.0000, 1.0000,\n",
      "        1.0000, 1.0000, 1.0000, 1.0000, 0.6667, 1.0000, 1.0000, 1.0000, 1.0000,\n",
      "        1.0000, 1.0000, 1.0000, 1.0000, 0.0000, 0.6667, 1.0000, 1.0000, 1.0000,\n",
      "        1.0000, 1.0000, 1.0000, 1.0000, 1.0000, 1.0000, 1.0000, 1.0000],\n",
      "       device='cuda:0')\n",
      "tensor([-3.7668,  0.3354,  0.3354,  0.3354,  0.3354,  0.3354,  0.3354,  0.3354,\n",
      "         0.3354,  0.3354,  0.3354, -3.7668,  0.3354,  0.3354,  0.3354,  0.3354,\n",
      "         0.3354, -1.0320,  0.3354,  0.3354, -1.0320,  0.3354,  0.3354,  0.3354,\n",
      "         0.3354,  0.3354,  0.3354,  0.3354,  0.3354,  0.3354,  0.3354, -1.0320,\n",
      "         0.3354,  0.3354,  0.3354,  0.3354,  0.3354,  0.3354,  0.3354,  0.3354,\n",
      "        -3.7668, -1.0320,  0.3354,  0.3354,  0.3354,  0.3354,  0.3354,  0.3354,\n",
      "         0.3354,  0.3354,  0.3354,  0.3354,  0.3354], device='cuda:0')\n",
      "✅ Rewards: 0.9182\n",
      "✅ Loss: 0.0629\n",
      "-------Question---------\n",
      "Weng earns $12 an hour for babysitting. Yesterday, she just did 50 minutes of babysitting. How much did she earn?\n",
      "\n",
      "🧠 Inference Index 1\n",
      "🔍 Top-K Indices: [8, 1, 112, 157, 221, 202, 245, 176, 201, 136, 206, 161, 94, 227, 159, 86, 52, 22, 249, 150, 64, 88, 168, 167, 11, 3, 104, 28, 131, 4, 40, 92, 208, 116, 119, 68, 79, 66, 51, 156, 175, 187, 151, 33, 209, 217, 142, 133, 195, 139, 243, 76, 220]\n",
      "[INFO] Launching 159 parallel inference tasks...\n"
     ]
    },
    {
     "name": "stderr",
     "output_type": "stream",
     "text": []
    },
    {
     "name": "stdout",
     "output_type": "stream",
     "text": [
      "tensor([1., 1., 1., 1., 1., 1., 1., 1., 1., 1., 1., 1., 1., 1., 1., 1., 1., 1.,\n",
      "        1., 1., 1., 1., 1., 1., 1., 1., 1., 1., 1., 1., 1., 1., 1., 1., 1., 1.,\n",
      "        1., 1., 1., 1., 1., 1., 1., 1., 1., 1., 1., 1., 1., 1., 1., 1., 1.],\n",
      "       device='cuda:0')\n",
      "tensor([0., 0., 0., 0., 0., 0., 0., 0., 0., 0., 0., 0., 0., 0., 0., 0., 0., 0., 0., 0., 0., 0., 0., 0.,\n",
      "        0., 0., 0., 0., 0., 0., 0., 0., 0., 0., 0., 0., 0., 0., 0., 0., 0., 0., 0., 0., 0., 0., 0., 0.,\n",
      "        0., 0., 0., 0., 0.], device='cuda:0')\n",
      "✅ Rewards: 1.0000\n",
      "✅ Loss: -0.0000\n",
      "-------Question---------\n",
      "Betty is saving money for a new wallet which costs $100. Betty has only half of the money she needs. Her parents decided to give her $15 for that purpose, and her grandparents twice as much as her parents. How much more money does Betty need to buy the wallet?\n",
      "\n",
      "🧠 Inference Index 2\n",
      "🔍 Top-K Indices: [251, 136, 77, 15, 73, 82, 245, 56, 228, 129, 22, 65, 2, 112, 51, 105, 101, 154, 30, 83, 131, 120, 161, 94, 157, 64, 86, 40, 231, 11, 109, 124, 4, 102, 67, 85, 61, 221, 3, 208, 176, 41, 194, 137, 207, 18, 148, 68, 146, 147, 214, 13, 159]\n",
      "[INFO] Launching 159 parallel inference tasks...\n"
     ]
    },
    {
     "name": "stderr",
     "output_type": "stream",
     "text": []
    },
    {
     "name": "stdout",
     "output_type": "stream",
     "text": [
      "tensor([1.0000, 1.0000, 0.6667, 1.0000, 1.0000, 0.6667, 0.0000, 1.0000, 1.0000,\n",
      "        1.0000, 1.0000, 1.0000, 1.0000, 1.0000, 1.0000, 1.0000, 1.0000, 1.0000,\n",
      "        1.0000, 1.0000, 1.0000, 1.0000, 1.0000, 0.3333, 0.0000, 1.0000, 1.0000,\n",
      "        1.0000, 0.0000, 1.0000, 1.0000, 1.0000, 1.0000, 0.6667, 1.0000, 1.0000,\n",
      "        1.0000, 1.0000, 0.6667, 1.0000, 1.0000, 1.0000, 1.0000, 1.0000, 1.0000,\n",
      "        1.0000, 0.3333, 0.6667, 0.0000, 0.6667, 1.0000, 1.0000, 1.0000],\n",
      "       device='cuda:0')\n",
      "tensor([ 0.4682,  0.4682, -0.6598,  0.4682,  0.4682, -0.6598, -2.9158,  0.4682,\n",
      "         0.4682,  0.4682,  0.4682,  0.4682,  0.4682,  0.4682,  0.4682,  0.4682,\n",
      "         0.4682,  0.4682,  0.4682,  0.4682,  0.4682,  0.4682,  0.4682, -1.7878,\n",
      "        -2.9158,  0.4682,  0.4682,  0.4682, -2.9158,  0.4682,  0.4682,  0.4682,\n",
      "         0.4682, -0.6598,  0.4682,  0.4682,  0.4682,  0.4682, -0.6598,  0.4682,\n",
      "         0.4682,  0.4682,  0.4682,  0.4682,  0.4682,  0.4682, -1.7878, -0.6598,\n",
      "        -2.9158, -0.6598,  0.4682,  0.4682,  0.4682], device='cuda:0')\n",
      "✅ Rewards: 0.8616\n",
      "✅ Loss: 0.0229\n",
      "-------Question---------\n",
      "Julie is reading a 120-page book. Yesterday, she was able to read 12 pages and today, she read twice as many pages as yesterday. If she wants to read half of the remaining pages tomorrow, how many pages should she read?\n",
      "\n",
      "🧠 Inference Index 3\n",
      "🔍 Top-K Indices: [13, 221, 228, 176, 2, 25, 232, 51, 93, 194, 8, 22, 251, 112, 73, 102, 140, 222, 3, 201, 161, 243, 11, 15, 147, 84, 250, 145, 136, 77, 135, 157, 17, 52, 219, 101, 197, 247, 120, 137, 239, 64, 196, 159, 50, 175, 105, 74, 59, 113, 208, 85, 203]\n",
      "[INFO] Launching 159 parallel inference tasks...\n"
     ]
    },
    {
     "name": "stderr",
     "output_type": "stream",
     "text": []
    },
    {
     "name": "stdout",
     "output_type": "stream",
     "text": [
      "tensor([0., 0., 0., 0., 0., 0., 0., 0., 0., 0., 0., 0., 0., 0., 0., 0., 0., 0., 0., 0., 0., 0., 0., 0.,\n",
      "        0., 0., 0., 0., 0., 0., 0., 0., 0., 0., 0., 0., 0., 0., 0., 0., 0., 0., 0., 0., 0., 0., 0., 0.,\n",
      "        0., 0., 0., 0., 0.], device='cuda:0')\n",
      "tensor([0., 0., 0., 0., 0., 0., 0., 0., 0., 0., 0., 0., 0., 0., 0., 0., 0., 0., 0., 0., 0., 0., 0., 0.,\n",
      "        0., 0., 0., 0., 0., 0., 0., 0., 0., 0., 0., 0., 0., 0., 0., 0., 0., 0., 0., 0., 0., 0., 0., 0.,\n",
      "        0., 0., 0., 0., 0.], device='cuda:0')\n",
      "✅ Rewards: 0.0000\n",
      "✅ Loss: -0.0000\n",
      "-------Question---------\n",
      "James writes a 3-page letter to 2 different friends twice a week.  How many pages does he write a year?\n",
      "\n",
      "🧠 Inference Index 4\n",
      "🔍 Top-K Indices: [221, 82, 89, 157, 225, 59, 161, 93, 178, 251, 211, 92, 240, 14, 176, 137, 150, 29, 51, 207, 202, 136, 232, 15, 208, 2, 145, 72, 112, 110, 228, 213, 113, 63, 249, 244, 134, 204, 99, 22, 84, 191, 149, 117, 187, 33, 217, 65, 133, 140, 61, 73, 45]\n",
      "[INFO] Launching 159 parallel inference tasks...\n"
     ]
    },
    {
     "name": "stderr",
     "output_type": "stream",
     "text": []
    },
    {
     "name": "stdout",
     "output_type": "stream",
     "text": [
      "tensor([0.0000, 0.0000, 0.3333, 1.0000, 0.0000, 0.0000, 0.0000, 0.0000, 0.0000,\n",
      "        0.3333, 0.0000, 0.3333, 0.0000, 0.6667, 0.3333, 0.3333, 0.0000, 0.0000,\n",
      "        0.0000, 0.0000, 0.0000, 0.0000, 0.3333, 0.0000, 1.0000, 0.0000, 0.0000,\n",
      "        0.0000, 0.0000, 0.0000, 0.0000, 0.0000, 0.0000, 0.0000, 1.0000, 0.0000,\n",
      "        0.0000, 0.0000, 0.6667, 0.0000, 0.0000, 0.0000, 0.0000, 1.0000, 0.0000,\n",
      "        0.0000, 0.0000, 0.0000, 0.0000, 0.0000, 0.0000, 0.0000, 0.3333],\n",
      "       device='cuda:0')\n",
      "tensor([-0.4886, -0.4886,  0.6373,  2.8892, -0.4886, -0.4886, -0.4886, -0.4886,\n",
      "        -0.4886,  0.6373, -0.4886,  0.6373, -0.4886,  1.7632,  0.6373,  0.6373,\n",
      "        -0.4886, -0.4886, -0.4886, -0.4886, -0.4886, -0.4886,  0.6373, -0.4886,\n",
      "         2.8892, -0.4886, -0.4886, -0.4886, -0.4886, -0.4886, -0.4886, -0.4886,\n",
      "        -0.4886, -0.4886,  2.8892, -0.4886, -0.4886, -0.4886,  1.7632, -0.4886,\n",
      "        -0.4886, -0.4886, -0.4886,  2.8892, -0.4886, -0.4886, -0.4886, -0.4886,\n",
      "        -0.4886, -0.4886, -0.4886, -0.4886,  0.6373], device='cuda:0')\n",
      "✅ Rewards: 0.1447\n",
      "✅ Loss: 0.0426\n",
      "-------Question---------\n",
      "Mark has a garden with flowers. He planted plants of three different colors in it. Ten of them are yellow, and there are 80% more of those in purple. There are only 25% as many green flowers as there are yellow and purple flowers. How many flowers does Mark have in his garden?\n",
      "\n",
      "🧠 Inference Index 5\n",
      "🔍 Top-K Indices: [228, 105, 238, 232, 21, 40, 245, 51, 3, 56, 222, 153, 88, 159, 242, 251, 82, 15, 73, 35, 161, 250, 11, 135, 139, 166, 203, 121, 239, 110, 65, 156, 220, 116, 136, 205, 108, 25, 2, 75, 128, 22, 109, 130, 244, 79, 176, 204, 38, 137, 122, 8, 70]\n",
      "[INFO] Launching 159 parallel inference tasks...\n"
     ]
    },
    {
     "name": "stderr",
     "output_type": "stream",
     "text": []
    },
    {
     "name": "stdout",
     "output_type": "stream",
     "text": [
      "tensor([0.0000, 0.0000, 0.3333, 0.3333, 0.0000, 0.0000, 1.0000, 0.0000, 0.0000,\n",
      "        0.3333, 0.0000, 0.0000, 0.0000, 0.0000, 0.0000, 0.0000, 0.0000, 1.0000,\n",
      "        1.0000, 0.6667, 0.6667, 0.3333, 1.0000, 0.0000, 0.0000, 0.0000, 1.0000,\n",
      "        0.0000, 0.0000, 0.3333, 0.0000, 0.6667, 0.0000, 0.0000, 0.0000, 0.3333,\n",
      "        0.0000, 0.0000, 1.0000, 0.0000, 0.0000, 0.6667, 0.0000, 1.0000, 1.0000,\n",
      "        0.0000, 0.3333, 0.3333, 0.0000, 0.0000, 0.0000, 0.6667, 0.0000],\n",
      "       device='cuda:0')\n",
      "tensor([-0.6996, -0.6996,  0.1832,  0.1832, -0.6996, -0.6996,  1.9489, -0.6996,\n",
      "        -0.6996,  0.1832, -0.6996, -0.6996, -0.6996, -0.6996, -0.6996, -0.6996,\n",
      "        -0.6996,  1.9489,  1.9489,  1.0661,  1.0661,  0.1832,  1.9489, -0.6996,\n",
      "        -0.6996, -0.6996,  1.9489, -0.6996, -0.6996,  0.1832, -0.6996,  1.0661,\n",
      "        -0.6996, -0.6996, -0.6996,  0.1832, -0.6996, -0.6996,  1.9489, -0.6996,\n",
      "        -0.6996,  1.0661, -0.6996,  1.9489,  1.9489, -0.6996,  0.1832,  0.1832,\n",
      "        -0.6996, -0.6996, -0.6996,  1.0661, -0.6996], device='cuda:0')\n",
      "✅ Rewards: 0.2642\n",
      "✅ Loss: -0.0073\n",
      "-------Question---------\n",
      "Albert is wondering how much pizza he can eat in one day. He buys 2 large pizzas and 2 small pizzas. A large pizza has 16 slices and a small pizza has 8 slices. If he eats it all, how many pieces does he eat that day?\n",
      "\n",
      "🧠 Inference Index 6\n",
      "🔍 Top-K Indices: [149, 65, 177, 77, 64, 30, 160, 222, 197, 234, 32, 238, 211, 128, 196, 86, 198, 85, 122, 40, 154, 220, 253, 56, 250, 5, 152, 176, 221, 49, 109, 237, 240, 110, 232, 139, 15, 182, 4, 8, 219, 95, 199, 249, 37, 134, 74, 203, 25, 167, 36, 107, 251]\n",
      "[INFO] Launching 159 parallel inference tasks...\n"
     ]
    },
    {
     "name": "stderr",
     "output_type": "stream",
     "text": []
    },
    {
     "name": "stdout",
     "output_type": "stream",
     "text": [
      "tensor([0.3333, 1.0000, 1.0000, 1.0000, 1.0000, 1.0000, 0.3333, 1.0000, 0.6667,\n",
      "        1.0000, 1.0000, 1.0000, 1.0000, 1.0000, 1.0000, 0.0000, 0.6667, 0.0000,\n",
      "        1.0000, 0.6667, 1.0000, 1.0000, 0.6667, 1.0000, 1.0000, 0.3333, 1.0000,\n",
      "        1.0000, 0.6667, 1.0000, 1.0000, 0.6667, 1.0000, 1.0000, 1.0000, 1.0000,\n",
      "        1.0000, 0.3333, 1.0000, 1.0000, 1.0000, 1.0000, 1.0000, 1.0000, 1.0000,\n",
      "        1.0000, 0.3333, 0.3333, 0.6667, 1.0000, 1.0000, 0.0000, 1.0000],\n",
      "       device='cuda:0')\n",
      "tensor([-1.6145,  0.5796,  0.5796,  0.5796,  0.5796,  0.5796, -1.6145,  0.5796,\n",
      "        -0.5175,  0.5796,  0.5796,  0.5796,  0.5796,  0.5796,  0.5796, -2.7115,\n",
      "        -0.5175, -2.7115,  0.5796, -0.5175,  0.5796,  0.5796, -0.5175,  0.5796,\n",
      "         0.5796, -1.6145,  0.5796,  0.5796, -0.5175,  0.5796,  0.5796, -0.5175,\n",
      "         0.5796,  0.5796,  0.5796,  0.5796,  0.5796, -1.6145,  0.5796,  0.5796,\n",
      "         0.5796,  0.5796,  0.5796,  0.5796,  0.5796,  0.5796, -1.6145, -1.6145,\n",
      "        -0.5175,  0.5796,  0.5796, -2.7115,  0.5796], device='cuda:0')\n",
      "✅ Rewards: 0.8239\n",
      "✅ Loss: 0.0654\n",
      "-------Question---------\n",
      "Ken created a care package to send to his brother, who was away at boarding school.  Ken placed a box on a scale, and then he poured into the box enough jelly beans to bring the weight to 2 pounds.  Then, he added enough brownies to cause the weight to triple.  Next, he added another 2 pounds of jelly beans.  And finally, he added enough gummy worms to double the weight once again.  What was the final weight of the box of goodies, in pounds?\n",
      "\n",
      "🧠 Inference Index 7\n",
      "🔍 Top-K Indices: [60, 38, 7, 218, 58, 15, 241, 253, 44, 237, 57, 80, 24, 72, 246, 153, 40, 182, 115, 215, 83, 97, 224, 193, 143, 121, 70, 53, 26, 12, 238, 10, 181, 159, 204, 19, 110, 37, 226, 96, 165, 233, 197, 177, 16, 23, 211, 75, 111, 186, 199, 21, 173]\n",
      "[INFO] Launching 159 parallel inference tasks...\n"
     ]
    },
    {
     "name": "stderr",
     "output_type": "stream",
     "text": []
    },
    {
     "name": "stdout",
     "output_type": "stream",
     "text": [
      "tensor([0.0000, 0.3333, 0.0000, 1.0000, 0.6667, 0.3333, 0.0000, 0.0000, 0.0000,\n",
      "        0.6667, 0.0000, 0.0000, 0.0000, 0.3333, 0.6667, 0.0000, 0.3333, 0.0000,\n",
      "        0.0000, 0.0000, 1.0000, 0.0000, 0.6667, 1.0000, 0.0000, 0.3333, 0.3333,\n",
      "        1.0000, 0.0000, 0.3333, 0.3333, 0.0000, 0.0000, 0.0000, 0.3333, 1.0000,\n",
      "        0.6667, 0.0000, 0.0000, 0.0000, 0.3333, 0.3333, 0.0000, 0.0000, 0.0000,\n",
      "        1.0000, 0.0000, 0.0000, 0.0000, 0.0000, 0.3333, 0.6667, 0.3333],\n",
      "       device='cuda:0')\n",
      "tensor([-0.7810,  0.1816, -0.7810,  2.1069,  1.1443,  0.1816, -0.7810, -0.7810,\n",
      "        -0.7810,  1.1443, -0.7810, -0.7810, -0.7810,  0.1816,  1.1443, -0.7810,\n",
      "         0.1816, -0.7810, -0.7810, -0.7810,  2.1069, -0.7810,  1.1443,  2.1069,\n",
      "        -0.7810,  0.1816,  0.1816,  2.1069, -0.7810,  0.1816,  0.1816, -0.7810,\n",
      "        -0.7810, -0.7810,  0.1816,  2.1069,  1.1443, -0.7810, -0.7810, -0.7810,\n",
      "         0.1816,  0.1816, -0.7810, -0.7810, -0.7810,  2.1069, -0.7810, -0.7810,\n",
      "        -0.7810, -0.7810,  0.1816,  1.1443,  0.1816], device='cuda:0')\n",
      "✅ Rewards: 0.2704\n",
      "✅ Loss: -0.1087\n",
      "-------Question---------\n",
      "Alexis is applying for a new job and bought a new set of business clothes to wear to the interview. She went to a department store with a budget of $200 and spent $30 on a button-up shirt, $46 on suit pants, $38 on a suit coat, $11 on socks, and $18 on a belt. She also purchased a pair of shoes, but lost the receipt for them. She has $16 left from her budget. How much did Alexis pay for the shoes?\n",
      "\n",
      "🧠 Inference Index 8\n",
      "🔍 Top-K Indices: [40, 121, 23, 207, 226, 97, 44, 115, 7, 83, 224, 10, 109, 234, 57, 48, 36, 229, 53, 161, 108, 127, 159, 237, 43, 81, 94, 67, 204, 56, 60, 30, 16, 96, 88, 139, 193, 238, 225, 211, 173, 236, 19, 142, 183, 12, 136, 137, 233, 251, 166, 219, 218]\n",
      "[INFO] Launching 159 parallel inference tasks...\n"
     ]
    },
    {
     "name": "stderr",
     "output_type": "stream",
     "text": []
    },
    {
     "name": "stdout",
     "output_type": "stream",
     "text": [
      "tensor([0.6667, 0.3333, 1.0000, 1.0000, 0.6667, 0.6667, 1.0000, 1.0000, 0.0000,\n",
      "        1.0000, 0.0000, 1.0000, 1.0000, 1.0000, 0.0000, 1.0000, 1.0000, 0.0000,\n",
      "        0.6667, 0.6667, 0.0000, 1.0000, 1.0000, 1.0000, 0.3333, 1.0000, 1.0000,\n",
      "        1.0000, 0.6667, 0.6667, 0.6667, 1.0000, 0.3333, 1.0000, 1.0000, 0.0000,\n",
      "        0.6667, 1.0000, 1.0000, 1.0000, 1.0000, 0.0000, 1.0000, 1.0000, 0.6667,\n",
      "        1.0000, 0.3333, 0.6667, 1.0000, 0.6667, 0.0000, 0.6667, 0.0000],\n",
      "       device='cuda:0')\n",
      "tensor([-0.0834, -0.9675,  0.8007,  0.8007, -0.0834, -0.0834,  0.8007,  0.8007,\n",
      "        -1.8516,  0.8007, -1.8516,  0.8007,  0.8007,  0.8007, -1.8516,  0.8007,\n",
      "         0.8007, -1.8516, -0.0834, -0.0834, -1.8516,  0.8007,  0.8007,  0.8007,\n",
      "        -0.9675,  0.8007,  0.8007,  0.8007, -0.0834, -0.0834, -0.0834,  0.8007,\n",
      "        -0.9675,  0.8007,  0.8007, -1.8516, -0.0834,  0.8007,  0.8007,  0.8007,\n",
      "         0.8007, -1.8516,  0.8007,  0.8007, -0.0834,  0.8007, -0.9675, -0.0834,\n",
      "         0.8007, -0.0834, -1.8516, -0.0834, -1.8516], device='cuda:0')\n",
      "✅ Rewards: 0.6981\n",
      "✅ Loss: -0.0054\n",
      "-------Question---------\n",
      "Tina makes $18.00 an hour.  If she works more than 8 hours per shift, she is eligible for overtime, which is paid by your hourly wage + 1/2 your hourly wage.  If she works 10 hours every day for 5 days, how much money does she make?\n",
      "\n",
      "🧠 Inference Index 9\n",
      "🔍 Top-K Indices: [194, 159, 88, 13, 119, 83, 95, 93, 81, 114, 250, 175, 167, 207, 89, 221, 235, 6, 73, 145, 197, 59, 128, 3, 243, 137, 148, 202, 147, 120, 30, 160, 161, 104, 228, 152, 144, 157, 163, 247, 63, 205, 219, 173, 109, 65, 179, 253, 225, 110, 201, 245, 133]\n",
      "[INFO] Launching 159 parallel inference tasks...\n"
     ]
    },
    {
     "name": "stderr",
     "output_type": "stream",
     "text": []
    },
    {
     "name": "stdout",
     "output_type": "stream",
     "text": [
      "tensor([0.0000, 0.0000, 0.0000, 0.0000, 0.0000, 0.0000, 0.0000, 0.3333, 0.0000,\n",
      "        0.0000, 0.0000, 0.0000, 0.0000, 0.0000, 0.0000, 0.0000, 0.0000, 0.0000,\n",
      "        0.0000, 0.0000, 0.0000, 0.0000, 0.0000, 0.0000, 0.0000, 0.0000, 0.0000,\n",
      "        0.0000, 0.0000, 0.0000, 0.0000, 0.3333, 0.0000, 0.0000, 0.0000, 0.3333,\n",
      "        0.0000, 0.0000, 0.0000, 0.0000, 0.0000, 0.0000, 0.0000, 0.0000, 0.0000,\n",
      "        0.0000, 0.0000, 0.0000, 0.0000, 0.0000, 0.0000, 0.0000, 0.0000],\n",
      "       device='cuda:0')\n",
      "tensor([-0.2426, -0.2426, -0.2426, -0.2426, -0.2426, -0.2426, -0.2426,  4.0438,\n",
      "        -0.2426, -0.2426, -0.2426, -0.2426, -0.2426, -0.2426, -0.2426, -0.2426,\n",
      "        -0.2426, -0.2426, -0.2426, -0.2426, -0.2426, -0.2426, -0.2426, -0.2426,\n",
      "        -0.2426, -0.2426, -0.2426, -0.2426, -0.2426, -0.2426, -0.2426,  4.0438,\n",
      "        -0.2426, -0.2426, -0.2426,  4.0438, -0.2426, -0.2426, -0.2426, -0.2426,\n",
      "        -0.2426, -0.2426, -0.2426, -0.2426, -0.2426, -0.2426, -0.2426, -0.2426,\n",
      "        -0.2426, -0.2426, -0.2426, -0.2426, -0.2426], device='cuda:0')\n",
      "✅ Rewards: 0.0189\n",
      "✅ Loss: 0.0040\n",
      "-------Question---------\n",
      "A deep-sea monster rises from the waters once every hundred years to feast on a ship and sate its hunger. Over three hundred years, it has consumed 847 people. Ships have been built larger over time, so each new ship has twice as many people as the last ship. How many people were on the ship the monster ate in the first hundred years?\n",
      "\n",
      "🧠 Inference Index 10\n",
      "🔍 Top-K Indices: [60, 70, 19, 236, 23, 111, 253, 224, 246, 231, 211, 62, 173, 72, 16, 88, 26, 165, 119, 116, 143, 10, 96, 204, 215, 166, 237, 101, 30, 90, 238, 58, 178, 21, 226, 186, 182, 241, 212, 199, 120, 242, 109, 162, 252, 138, 155, 80, 37, 177, 115, 233, 193]\n",
      "[INFO] Launching 159 parallel inference tasks...\n"
     ]
    },
    {
     "name": "stderr",
     "output_type": "stream",
     "text": []
    },
    {
     "name": "stdout",
     "output_type": "stream",
     "text": [
      "tensor([0.0000, 0.0000, 0.0000, 0.0000, 0.0000, 0.3333, 0.0000, 0.0000, 0.0000,\n",
      "        0.3333, 0.0000, 0.0000, 0.0000, 0.0000, 0.0000, 0.0000, 0.3333, 0.0000,\n",
      "        0.0000, 0.0000, 0.0000, 0.0000, 0.0000, 0.0000, 0.3333, 0.6667, 0.0000,\n",
      "        0.3333, 0.0000, 0.0000, 0.3333, 0.0000, 0.0000, 0.0000, 0.0000, 0.0000,\n",
      "        0.0000, 0.0000, 0.6667, 0.0000, 0.0000, 0.3333, 0.0000, 0.3333, 0.0000,\n",
      "        0.0000, 0.0000, 0.0000, 0.0000, 0.0000, 0.0000, 0.0000, 0.0000],\n",
      "       device='cuda:0')\n",
      "tensor([-0.4480, -0.4480, -0.4480, -0.4480, -0.4480,  1.5306, -0.4480, -0.4480,\n",
      "        -0.4480,  1.5306, -0.4480, -0.4480, -0.4480, -0.4480, -0.4480, -0.4480,\n",
      "         1.5306, -0.4480, -0.4480, -0.4480, -0.4480, -0.4480, -0.4480, -0.4480,\n",
      "         1.5306,  3.5092, -0.4480,  1.5306, -0.4480, -0.4480,  1.5306, -0.4480,\n",
      "        -0.4480, -0.4480, -0.4480, -0.4480, -0.4480, -0.4480,  3.5092, -0.4480,\n",
      "        -0.4480,  1.5306, -0.4480,  1.5306, -0.4480, -0.4480, -0.4480, -0.4480,\n",
      "        -0.4480, -0.4480, -0.4480, -0.4480, -0.4480], device='cuda:0')\n",
      "✅ Rewards: 0.0755\n",
      "✅ Loss: -0.2693\n",
      "-------Question---------\n",
      "Tobias is buying a new pair of shoes that costs $95. He has been saving up his money each month for the past three months. He gets a $5 allowance a month. He also mows lawns and shovels driveways. He charges $15 to mow a lawn and $7 to shovel. After buying the shoes, he has $15 in change. If he mows 4 lawns, how many driveways did he shovel?\n",
      "\n",
      "🧠 Inference Index 11\n",
      "🔍 Top-K Indices: [60, 49, 211, 96, 236, 204, 115, 102, 26, 162, 31, 97, 238, 218, 92, 44, 70, 30, 167, 253, 136, 198, 58, 19, 100, 106, 74, 71, 80, 7, 226, 224, 165, 161, 116, 174, 40, 38, 10, 111, 53, 186, 90, 138, 48, 65, 155, 229, 23, 143, 62, 188, 184]\n",
      "[INFO] Launching 159 parallel inference tasks...\n"
     ]
    },
    {
     "name": "stderr",
     "output_type": "stream",
     "text": []
    },
    {
     "name": "stdout",
     "output_type": "stream",
     "text": [
      "tensor([0.3333, 0.0000, 0.0000, 0.0000, 0.0000, 0.0000, 0.0000, 0.0000, 0.3333,\n",
      "        0.0000, 0.3333, 0.0000, 0.0000, 0.0000, 0.6667, 0.0000, 0.0000, 0.0000,\n",
      "        0.0000, 0.0000, 0.0000, 0.6667, 0.0000, 0.0000, 0.0000, 0.0000, 0.0000,\n",
      "        0.0000, 0.0000, 0.0000, 0.0000, 0.0000, 0.0000, 0.0000, 0.0000, 0.0000,\n",
      "        0.0000, 0.0000, 0.0000, 0.0000, 0.0000, 0.0000, 0.0000, 0.0000, 0.0000,\n",
      "        0.0000, 0.0000, 0.0000, 0.0000, 0.0000, 0.0000, 0.0000, 0.0000],\n",
      "       device='cuda:0')\n",
      "tensor([ 1.9717, -0.3000, -0.3000, -0.3000, -0.3000, -0.3000, -0.3000, -0.3000,\n",
      "         1.9717, -0.3000,  1.9717, -0.3000, -0.3000, -0.3000,  4.2435, -0.3000,\n",
      "        -0.3000, -0.3000, -0.3000, -0.3000, -0.3000,  4.2435, -0.3000, -0.3000,\n",
      "        -0.3000, -0.3000, -0.3000, -0.3000, -0.3000, -0.3000, -0.3000, -0.3000,\n",
      "        -0.3000, -0.3000, -0.3000, -0.3000, -0.3000, -0.3000, -0.3000, -0.3000,\n",
      "        -0.3000, -0.3000, -0.3000, -0.3000, -0.3000, -0.3000, -0.3000, -0.3000,\n",
      "        -0.3000, -0.3000, -0.3000, -0.3000, -0.3000], device='cuda:0')\n",
      "✅ Rewards: 0.0440\n",
      "✅ Loss: 0.0211\n",
      "-------Question---------\n",
      "Randy has 60 mango trees on his farm. He also has 5 less than half as many coconut trees as mango trees. How many trees does Randy have in all on his farm?\n",
      "\n",
      "🧠 Inference Index 12\n",
      "🔍 Top-K Indices: [176, 114, 113, 5, 64, 194, 228, 247, 136, 178, 45, 220, 207, 82, 25, 245, 54, 104, 239, 2, 3, 30, 202, 9, 217, 6, 124, 73, 56, 180, 135, 35, 61, 209, 59, 52, 156, 131, 222, 50, 134, 110, 157, 1, 154, 148, 232, 81, 89, 0, 120, 219, 203]\n",
      "[INFO] Launching 159 parallel inference tasks...\n"
     ]
    },
    {
     "name": "stderr",
     "output_type": "stream",
     "text": []
    },
    {
     "name": "stdout",
     "output_type": "stream",
     "text": [
      "tensor([0.3333, 1.0000, 0.0000, 0.0000, 0.0000, 0.3333, 0.0000, 0.0000, 0.0000,\n",
      "        0.0000, 0.3333, 0.6667, 0.0000, 0.6667, 0.6667, 0.0000, 1.0000, 0.0000,\n",
      "        0.0000, 0.6667, 0.0000, 0.3333, 0.6667, 0.3333, 0.0000, 0.0000, 0.0000,\n",
      "        1.0000, 1.0000, 0.6667, 1.0000, 0.0000, 0.0000, 0.3333, 0.0000, 0.3333,\n",
      "        1.0000, 1.0000, 0.0000, 0.0000, 1.0000, 0.0000, 0.6667, 0.0000, 0.6667,\n",
      "        1.0000, 1.0000, 0.0000, 1.0000, 0.3333, 1.0000, 0.0000, 0.3333],\n",
      "       device='cuda:0')\n",
      "tensor([-0.1226,  1.5021, -0.9350, -0.9350, -0.9350, -0.1226, -0.9350, -0.9350,\n",
      "        -0.9350, -0.9350, -0.1226,  0.6898, -0.9350,  0.6898,  0.6898, -0.9350,\n",
      "         1.5021, -0.9350, -0.9350,  0.6898, -0.9350, -0.1226,  0.6898, -0.1226,\n",
      "        -0.9350, -0.9350, -0.9350,  1.5021,  1.5021,  0.6898,  1.5021, -0.9350,\n",
      "        -0.9350, -0.1226, -0.9350, -0.1226,  1.5021,  1.5021, -0.9350, -0.9350,\n",
      "         1.5021, -0.9350,  0.6898, -0.9350,  0.6898,  1.5021,  1.5021, -0.9350,\n",
      "         1.5021, -0.1226,  1.5021, -0.9350, -0.1226], device='cuda:0')\n",
      "✅ Rewards: 0.3836\n",
      "✅ Loss: 0.0141\n",
      "-------Question---------\n",
      "Jasper will serve charcuterie at his dinner party. He buys 2 pounds of cheddar cheese for $10, a pound of cream cheese that cost half the price of the cheddar cheese, and a pack of cold cuts that cost twice the price of the cheddar cheese. How much does he spend on the ingredients?\n",
      "\n",
      "🧠 Inference Index 13\n",
      "🔍 Top-K Indices: [36, 40, 121, 72, 240, 11, 19, 226, 155, 234, 204, 138, 53, 210, 159, 218, 198, 111, 90, 237, 241, 211, 49, 205, 44, 143, 30, 247, 60, 215, 167, 177, 7, 233, 97, 50, 139, 246, 253, 182, 236, 70, 23, 96, 79, 115, 9, 162, 238, 140, 222, 224, 24]\n",
      "[INFO] Launching 159 parallel inference tasks...\n"
     ]
    },
    {
     "name": "stderr",
     "output_type": "stream",
     "text": []
    },
    {
     "name": "stdout",
     "output_type": "stream",
     "text": [
      "tensor([0.0000, 0.0000, 0.0000, 0.0000, 0.0000, 0.0000, 0.0000, 0.0000, 0.0000,\n",
      "        0.0000, 0.0000, 0.0000, 0.0000, 0.0000, 0.3333, 1.0000, 0.0000, 0.0000,\n",
      "        0.0000, 0.0000, 0.0000, 0.0000, 0.0000, 0.0000, 0.0000, 0.6667, 0.3333,\n",
      "        0.0000, 0.0000, 0.0000, 1.0000, 0.0000, 0.0000, 0.0000, 0.0000, 0.0000,\n",
      "        0.0000, 0.0000, 0.0000, 0.0000, 0.0000, 0.0000, 0.0000, 0.0000, 0.0000,\n",
      "        0.0000, 0.0000, 0.0000, 0.0000, 0.0000, 0.0000, 0.0000, 0.0000],\n",
      "       device='cuda:0')\n",
      "tensor([-0.2893, -0.2893, -0.2893, -0.2893, -0.2893, -0.2893, -0.2893, -0.2893,\n",
      "        -0.2893, -0.2893, -0.2893, -0.2893, -0.2893, -0.2893,  1.2441,  4.3111,\n",
      "        -0.2893, -0.2893, -0.2893, -0.2893, -0.2893, -0.2893, -0.2893, -0.2893,\n",
      "        -0.2893,  2.7776,  1.2441, -0.2893, -0.2893, -0.2893,  4.3111, -0.2893,\n",
      "        -0.2893, -0.2893, -0.2893, -0.2893, -0.2893, -0.2893, -0.2893, -0.2893,\n",
      "        -0.2893, -0.2893, -0.2893, -0.2893, -0.2893, -0.2893, -0.2893, -0.2893,\n",
      "        -0.2893, -0.2893, -0.2893, -0.2893, -0.2893], device='cuda:0')\n",
      "✅ Rewards: 0.0629\n",
      "✅ Loss: 0.0855\n",
      "-------Question---------\n",
      "Joy can read 8 pages of a book in 20 minutes. How many hours will it take her to read 120 pages?\n",
      "\n",
      "🧠 Inference Index 14\n",
      "🔍 Top-K Indices: [3, 150, 203, 93, 228, 113, 9, 201, 151, 65, 92, 112, 235, 194, 158, 68, 133, 83, 56, 28, 6, 220, 147, 180, 240, 14, 160, 209, 250, 157, 54, 197, 105, 245, 137, 51, 142, 82, 175, 95, 199, 196, 202, 225, 15, 50, 145, 190, 156, 88, 73, 5, 63]\n",
      "[INFO] Launching 159 parallel inference tasks...\n"
     ]
    },
    {
     "name": "stderr",
     "output_type": "stream",
     "text": []
    },
    {
     "name": "stdout",
     "output_type": "stream",
     "text": [
      "tensor([0.3333, 0.0000, 0.3333, 0.0000, 0.0000, 1.0000, 0.0000, 0.0000, 1.0000,\n",
      "        0.6667, 0.3333, 0.0000, 0.6667, 0.0000, 1.0000, 0.3333, 0.0000, 0.0000,\n",
      "        0.0000, 0.0000, 0.0000, 0.0000, 0.6667, 0.0000, 0.3333, 0.0000, 0.0000,\n",
      "        0.3333, 0.0000, 0.0000, 0.6667, 0.0000, 0.0000, 1.0000, 0.0000, 0.6667,\n",
      "        1.0000, 0.0000, 0.0000, 0.0000, 1.0000, 0.3333, 0.0000, 0.0000, 0.0000,\n",
      "        0.0000, 0.0000, 0.6667, 0.0000, 0.6667, 0.0000, 0.0000, 0.0000],\n",
      "       device='cuda:0')\n",
      "tensor([ 0.2453, -0.6833,  0.2453, -0.6833, -0.6833,  2.1025, -0.6833, -0.6833,\n",
      "         2.1025,  1.1739,  0.2453, -0.6833,  1.1739, -0.6833,  2.1025,  0.2453,\n",
      "        -0.6833, -0.6833, -0.6833, -0.6833, -0.6833, -0.6833,  1.1739, -0.6833,\n",
      "         0.2453, -0.6833, -0.6833,  0.2453, -0.6833, -0.6833,  1.1739, -0.6833,\n",
      "        -0.6833,  2.1025, -0.6833,  1.1739,  2.1025, -0.6833, -0.6833, -0.6833,\n",
      "         2.1025,  0.2453, -0.6833, -0.6833, -0.6833, -0.6833, -0.6833,  1.1739,\n",
      "        -0.6833,  1.1739, -0.6833, -0.6833, -0.6833], device='cuda:0')\n",
      "✅ Rewards: 0.2453\n",
      "✅ Loss: 0.0452\n",
      "-------Question---------\n",
      "James creates a media empire.  He creates a movie for $2000.  Each DVD cost $6 to make.  He sells it for 2.5 times that much.  He sells 500 movies a day for 5 days a week.  How much profit does he make in 20 weeks?\n",
      "\n",
      "🧠 Inference Index 15\n",
      "🔍 Top-K Indices: [155, 211, 70, 253, 30, 204, 37, 91, 13, 116, 234, 152, 119, 99, 72, 237, 7, 215, 92, 251, 238, 18, 5, 157, 123, 40, 60, 210, 226, 120, 53, 182, 176, 49, 129, 164, 198, 101, 22, 36, 24, 240, 179, 79, 67, 16, 208, 84, 128, 177, 235, 161, 127]\n",
      "[INFO] Launching 159 parallel inference tasks...\n"
     ]
    },
    {
     "name": "stderr",
     "output_type": "stream",
     "text": []
    },
    {
     "name": "stdout",
     "output_type": "stream",
     "text": [
      "tensor([0.0000, 0.0000, 0.0000, 0.0000, 0.0000, 0.0000, 0.0000, 0.0000, 0.0000,\n",
      "        0.0000, 0.0000, 0.0000, 0.0000, 0.0000, 0.0000, 0.0000, 0.0000, 0.0000,\n",
      "        0.0000, 0.0000, 0.0000, 0.0000, 0.0000, 0.0000, 0.0000, 0.0000, 0.0000,\n",
      "        0.0000, 0.0000, 0.0000, 0.0000, 0.0000, 0.0000, 0.0000, 0.0000, 0.0000,\n",
      "        0.0000, 0.0000, 0.0000, 0.3333, 0.0000, 0.0000, 0.0000, 0.0000, 0.0000,\n",
      "        0.0000, 0.0000, 0.0000, 0.0000, 0.0000, 0.0000, 0.0000, 0.0000],\n",
      "       device='cuda:0')\n",
      "tensor([-0.1374, -0.1374, -0.1374, -0.1374, -0.1374, -0.1374, -0.1374, -0.1374,\n",
      "        -0.1374, -0.1374, -0.1374, -0.1374, -0.1374, -0.1374, -0.1374, -0.1374,\n",
      "        -0.1374, -0.1374, -0.1374, -0.1374, -0.1374, -0.1374, -0.1374, -0.1374,\n",
      "        -0.1374, -0.1374, -0.1374, -0.1374, -0.1374, -0.1374, -0.1374, -0.1374,\n",
      "        -0.1374, -0.1374, -0.1374, -0.1374, -0.1374, -0.1374, -0.1374,  7.1427,\n",
      "        -0.1374, -0.1374, -0.1374, -0.1374, -0.1374, -0.1374, -0.1374, -0.1374,\n",
      "        -0.1374, -0.1374, -0.1374, -0.1374, -0.1374], device='cuda:0')\n",
      "✅ Rewards: 0.0063\n",
      "✅ Loss: 0.1643\n",
      "-------Question---------\n",
      "The profit from a business transaction is shared among 2 business partners, Mike and Johnson in the ratio 2:5 respectively. If Johnson got $2500, how much will Mike have after spending some of his share on a shirt that costs $200?\n",
      "\n",
      "🧠 Inference Index 16\n",
      "🔍 Top-K Indices: [34, 159, 52, 161, 142, 254, 209, 56, 40, 95, 55, 131, 92, 64, 208, 176, 29, 137, 235, 110, 84, 5, 51, 152, 30, 105, 204, 48, 77, 122, 215, 14, 157, 251, 6, 160, 46, 0, 101, 65, 107, 170, 136, 145, 83, 168, 227, 59, 163, 200, 109, 108, 114]\n",
      "[INFO] Launching 159 parallel inference tasks...\n"
     ]
    },
    {
     "name": "stderr",
     "output_type": "stream",
     "text": []
    },
    {
     "name": "stdout",
     "output_type": "stream",
     "text": [
      "tensor([0.0000, 0.0000, 0.0000, 0.0000, 0.0000, 0.0000, 0.0000, 0.0000, 0.0000,\n",
      "        0.0000, 0.3333, 0.0000, 0.0000, 1.0000, 0.0000, 0.0000, 0.0000, 0.6667,\n",
      "        0.6667, 0.0000, 0.0000, 0.0000, 0.0000, 0.0000, 0.0000, 0.0000, 0.0000,\n",
      "        0.0000, 0.0000, 0.0000, 0.0000, 0.0000, 0.0000, 0.0000, 0.0000, 0.0000,\n",
      "        0.0000, 0.0000, 0.0000, 0.0000, 0.6667, 0.0000, 0.0000, 0.0000, 0.0000,\n",
      "        0.0000, 0.0000, 0.0000, 0.0000, 0.0000, 0.0000, 0.0000, 0.0000],\n",
      "       device='cuda:0')\n",
      "tensor([-0.3034, -0.3034, -0.3034, -0.3034, -0.3034, -0.3034, -0.3034, -0.3034,\n",
      "        -0.3034, -0.3034,  1.3045, -0.3034, -0.3034,  4.5203, -0.3034, -0.3034,\n",
      "        -0.3034,  2.9124,  2.9124, -0.3034, -0.3034, -0.3034, -0.3034, -0.3034,\n",
      "        -0.3034, -0.3034, -0.3034, -0.3034, -0.3034, -0.3034, -0.3034, -0.3034,\n",
      "        -0.3034, -0.3034, -0.3034, -0.3034, -0.3034, -0.3034, -0.3034, -0.3034,\n",
      "         2.9124, -0.3034, -0.3034, -0.3034, -0.3034, -0.3034, -0.3034, -0.3034,\n",
      "        -0.3034, -0.3034, -0.3034, -0.3034, -0.3034], device='cuda:0')\n",
      "✅ Rewards: 0.0629\n",
      "✅ Loss: -0.0585\n",
      "-------Question---------\n",
      "In a truck, there are 26 pink hard hats, 15 green hard hats, and 24 yellow hard hats.  If Carl takes away 4 pink hard hats, and John takes away 6 pink hard hats and twice as many green hard hats as the number of pink hard hats that he removed, then calculate the total number of hard hats that remained in the truck.\n",
      "\n",
      "🧠 Inference Index 17\n",
      "🔍 Top-K Indices: [38, 97, 7, 204, 40, 36, 57, 116, 19, 231, 58, 82, 111, 215, 60, 26, 24, 11, 166, 121, 183, 238, 200, 165, 70, 49, 74, 237, 30, 159, 75, 66, 13, 18, 177, 234, 88, 229, 233, 90, 241, 37, 120, 48, 127, 102, 223, 222, 23, 199, 236, 14, 240]\n",
      "[INFO] Launching 159 parallel inference tasks...\n"
     ]
    },
    {
     "name": "stderr",
     "output_type": "stream",
     "text": []
    },
    {
     "name": "stdout",
     "output_type": "stream",
     "text": [
      "tensor([0.3333, 0.0000, 1.0000, 0.0000, 0.0000, 0.0000, 0.0000, 0.0000, 0.0000,\n",
      "        0.0000, 0.0000, 0.0000, 0.0000, 0.0000, 0.0000, 0.3333, 0.0000, 0.0000,\n",
      "        0.0000, 0.0000, 0.0000, 0.0000, 0.0000, 0.0000, 0.0000, 0.0000, 0.0000,\n",
      "        0.0000, 0.0000, 0.0000, 0.6667, 0.0000, 0.0000, 0.0000, 0.3333, 0.0000,\n",
      "        0.0000, 0.0000, 0.0000, 0.0000, 0.0000, 0.0000, 1.0000, 0.0000, 0.0000,\n",
      "        0.0000, 0.0000, 0.0000, 0.3333, 0.0000, 0.0000, 0.0000, 0.0000],\n",
      "       device='cuda:0')\n",
      "tensor([ 1.1561, -0.3384,  4.1450, -0.3384, -0.3384, -0.3384, -0.3384, -0.3384,\n",
      "        -0.3384, -0.3384, -0.3384, -0.3384, -0.3384, -0.3384, -0.3384,  1.1561,\n",
      "        -0.3384, -0.3384, -0.3384, -0.3384, -0.3384, -0.3384, -0.3384, -0.3384,\n",
      "        -0.3384, -0.3384, -0.3384, -0.3384, -0.3384, -0.3384,  2.6505, -0.3384,\n",
      "        -0.3384, -0.3384,  1.1561, -0.3384, -0.3384, -0.3384, -0.3384, -0.3384,\n",
      "        -0.3384, -0.3384,  4.1450, -0.3384, -0.3384, -0.3384, -0.3384, -0.3384,\n",
      "         1.1561, -0.3384, -0.3384, -0.3384, -0.3384], device='cuda:0')\n",
      "✅ Rewards: 0.0755\n",
      "✅ Loss: 0.0138\n",
      "-------Question---------\n",
      "It takes Roque two hours to walk to work and one hour to ride his bike to work. Roque walks to and from work three times a week and rides his bike to and from work twice a week. How many hours in total does he take to get to and from work a week with walking and biking?\n",
      "\n",
      "🧠 Inference Index 18\n",
      "🔍 Top-K Indices: [119, 18, 60, 13, 165, 181, 204, 49, 233, 19, 23, 237, 121, 40, 197, 226, 21, 211, 24, 57, 198, 222, 155, 63, 103, 192, 115, 238, 7, 177, 229, 15, 167, 30, 48, 164, 123, 116, 219, 76, 91, 45, 90, 221, 122, 142, 218, 101, 111, 210, 97, 249, 109]\n",
      "[INFO] Launching 159 parallel inference tasks...\n"
     ]
    },
    {
     "name": "stderr",
     "output_type": "stream",
     "text": []
    },
    {
     "name": "stdout",
     "output_type": "stream",
     "text": [
      "tensor([0.0000, 0.0000, 0.0000, 0.0000, 0.0000, 0.0000, 0.0000, 0.0000, 0.0000,\n",
      "        0.0000, 0.0000, 0.0000, 0.0000, 0.0000, 0.0000, 0.0000, 0.0000, 0.0000,\n",
      "        0.0000, 0.0000, 0.0000, 0.0000, 0.0000, 0.0000, 0.0000, 0.0000, 0.0000,\n",
      "        0.0000, 0.0000, 0.0000, 0.0000, 0.0000, 1.0000, 0.0000, 0.0000, 0.0000,\n",
      "        0.0000, 0.0000, 0.0000, 0.3333, 0.0000, 0.0000, 0.0000, 0.0000, 0.0000,\n",
      "        0.0000, 0.0000, 0.0000, 0.0000, 0.0000, 1.0000, 0.0000, 0.0000],\n",
      "       device='cuda:0')\n",
      "tensor([-0.2240, -0.2240, -0.2240, -0.2240, -0.2240, -0.2240, -0.2240, -0.2240,\n",
      "        -0.2240, -0.2240, -0.2240, -0.2240, -0.2240, -0.2240, -0.2240, -0.2240,\n",
      "        -0.2240, -0.2240, -0.2240, -0.2240, -0.2240, -0.2240, -0.2240, -0.2240,\n",
      "        -0.2240, -0.2240, -0.2240, -0.2240, -0.2240, -0.2240, -0.2240, -0.2240,\n",
      "         4.8643, -0.2240, -0.2240, -0.2240, -0.2240, -0.2240, -0.2240,  1.4721,\n",
      "        -0.2240, -0.2240, -0.2240, -0.2240, -0.2240, -0.2240, -0.2240, -0.2240,\n",
      "        -0.2240, -0.2240,  4.8643, -0.2240, -0.2240], device='cuda:0')\n",
      "✅ Rewards: 0.0440\n",
      "✅ Loss: 0.0813\n",
      "-------Question---------\n",
      "Tim rides his bike back and forth to work for each of his 5 workdays.  His work is 20 miles away.  He also goes for a weekend bike ride of 200 miles.    If he can bike at 25 mph how much time does he spend biking a week?\n",
      "\n",
      "🧠 Inference Index 19\n",
      "🔍 Top-K Indices: [219, 109, 119, 101, 240, 5, 51, 9, 161, 65, 245, 140, 56, 105, 110, 233, 21, 77, 16, 29, 84, 49, 121, 128, 163, 184, 64, 120, 159, 40, 178, 18, 59, 235, 15, 179, 63, 70, 210, 137, 50, 146, 38, 164, 14, 103, 221, 61, 135, 237, 48, 170, 1]\n",
      "[INFO] Launching 159 parallel inference tasks...\n"
     ]
    },
    {
     "name": "stderr",
     "output_type": "stream",
     "text": [
      "Examples: 100%|██████████| 20/20 [02:51<00:00,  8.56s/it]\n",
      "Training Steps:  10%|█         | 1/10 [02:51<25:40, 171.21s/it]"
     ]
    },
    {
     "name": "stdout",
     "output_type": "stream",
     "text": [
      "tensor([0.6667, 0.0000, 0.0000, 0.0000, 0.0000, 1.0000, 0.0000, 0.6667, 0.0000,\n",
      "        0.0000, 0.3333, 0.0000, 0.0000, 0.3333, 0.6667, 0.0000, 0.3333, 0.0000,\n",
      "        0.0000, 0.6667, 0.0000, 0.0000, 0.0000, 0.0000, 0.0000, 0.6667, 0.3333,\n",
      "        0.6667, 0.0000, 0.0000, 0.3333, 1.0000, 0.6667, 0.6667, 1.0000, 1.0000,\n",
      "        0.3333, 0.3333, 0.6667, 0.0000, 0.3333, 0.3333, 0.0000, 0.0000, 0.3333,\n",
      "        0.3333, 0.0000, 0.0000, 0.0000, 0.0000, 1.0000, 0.0000, 0.0000],\n",
      "       device='cuda:0')\n",
      "tensor([ 1.1326, -0.8038, -0.8038, -0.8038, -0.8038,  2.1008, -0.8038,  1.1326,\n",
      "        -0.8038, -0.8038,  0.1644, -0.8038, -0.8038,  0.1644,  1.1326, -0.8038,\n",
      "         0.1644, -0.8038, -0.8038,  1.1326, -0.8038, -0.8038, -0.8038, -0.8038,\n",
      "        -0.8038,  1.1326,  0.1644,  1.1326, -0.8038, -0.8038,  0.1644,  2.1008,\n",
      "         1.1326,  1.1326,  2.1008,  2.1008,  0.1644,  0.1644,  1.1326, -0.8038,\n",
      "         0.1644,  0.1644, -0.8038, -0.8038,  0.1644,  0.1644, -0.8038, -0.8038,\n",
      "        -0.8038, -0.8038,  2.1008, -0.8038, -0.8038], device='cuda:0')\n",
      "✅ Rewards: 0.2767\n",
      "✅ Loss: 0.0243\n",
      "\n",
      "=== Training Step 2 ===\n"
     ]
    },
    {
     "name": "stderr",
     "output_type": "stream",
     "text": []
    },
    {
     "name": "stdout",
     "output_type": "stream",
     "text": [
      "-------Question---------\n",
      "Natalia sold clips to 48 of her friends in April, and then she sold half as many clips in May. How many clips did Natalia sell altogether in April and May?\n",
      "\n",
      "🧠 Inference Index 0\n",
      "🔍 Top-K Indices: [136, 147, 228, 93, 201, 79, 17, 112, 85, 74, 144, 139, 146, 51, 185, 119, 161, 64, 14, 232, 109, 235, 194, 101, 63, 0, 128, 250, 118, 160, 221, 184, 134, 217, 122, 81, 187, 52, 157, 15, 13, 103, 69, 59, 156, 220, 163, 105, 104, 208, 113, 150, 4]\n",
      "[INFO] Launching 159 parallel inference tasks...\n"
     ]
    },
    {
     "name": "stderr",
     "output_type": "stream",
     "text": []
    },
    {
     "name": "stdout",
     "output_type": "stream",
     "text": [
      "tensor([1.0000, 1.0000, 1.0000, 1.0000, 1.0000, 1.0000, 1.0000, 1.0000, 1.0000,\n",
      "        1.0000, 1.0000, 1.0000, 0.6667, 1.0000, 0.6667, 1.0000, 1.0000, 1.0000,\n",
      "        1.0000, 1.0000, 1.0000, 1.0000, 1.0000, 1.0000, 1.0000, 1.0000, 0.6667,\n",
      "        1.0000, 1.0000, 1.0000, 1.0000, 1.0000, 1.0000, 1.0000, 1.0000, 1.0000,\n",
      "        1.0000, 1.0000, 1.0000, 1.0000, 1.0000, 0.0000, 1.0000, 0.3333, 1.0000,\n",
      "        0.6667, 1.0000, 1.0000, 1.0000, 0.0000, 1.0000, 1.0000, 0.3333],\n",
      "       device='cuda:0')\n",
      "tensor([ 0.3714,  0.3714,  0.3714,  0.3714,  0.3714,  0.3714,  0.3714,  0.3714,\n",
      "         0.3714,  0.3714,  0.3714,  0.3714, -1.0347,  0.3714, -1.0347,  0.3714,\n",
      "         0.3714,  0.3714,  0.3714,  0.3714,  0.3714,  0.3714,  0.3714,  0.3714,\n",
      "         0.3714,  0.3714, -1.0347,  0.3714,  0.3714,  0.3714,  0.3714,  0.3714,\n",
      "         0.3714,  0.3714,  0.3714,  0.3714,  0.3714,  0.3714,  0.3714,  0.3714,\n",
      "         0.3714, -3.8468,  0.3714, -2.4407,  0.3714, -1.0347,  0.3714,  0.3714,\n",
      "         0.3714, -3.8468,  0.3714,  0.3714, -2.4407], device='cuda:0')\n",
      "✅ Rewards: 0.9119\n",
      "✅ Loss: 0.0686\n",
      "-------Question---------\n",
      "Weng earns $12 an hour for babysitting. Yesterday, she just did 50 minutes of babysitting. How much did she earn?\n",
      "\n",
      "🧠 Inference Index 1\n",
      "🔍 Top-K Indices: [228, 201, 15, 89, 176, 232, 28, 101, 51, 38, 110, 13, 88, 206, 124, 194, 18, 161, 45, 4, 212, 154, 22, 99, 14, 105, 1, 137, 63, 239, 235, 8, 160, 152, 120, 233, 77, 147, 95, 0, 104, 250, 175, 27, 40, 245, 25, 52, 64, 109, 144, 113, 35]\n",
      "[INFO] Launching 159 parallel inference tasks...\n"
     ]
    },
    {
     "name": "stderr",
     "output_type": "stream",
     "text": []
    },
    {
     "name": "stdout",
     "output_type": "stream",
     "text": [
      "tensor([1., 1., 1., 1., 1., 1., 1., 1., 1., 1., 1., 1., 1., 1., 1., 1., 1., 1.,\n",
      "        1., 1., 1., 1., 1., 1., 1., 1., 1., 1., 1., 1., 1., 1., 1., 1., 1., 1.,\n",
      "        1., 1., 1., 1., 1., 1., 1., 1., 1., 1., 1., 1., 1., 1., 1., 1., 1.],\n",
      "       device='cuda:0')\n",
      "tensor([0., 0., 0., 0., 0., 0., 0., 0., 0., 0., 0., 0., 0., 0., 0., 0., 0., 0., 0., 0., 0., 0., 0., 0.,\n",
      "        0., 0., 0., 0., 0., 0., 0., 0., 0., 0., 0., 0., 0., 0., 0., 0., 0., 0., 0., 0., 0., 0., 0., 0.,\n",
      "        0., 0., 0., 0., 0.], device='cuda:0')\n",
      "✅ Rewards: 1.0000\n",
      "✅ Loss: -0.0000\n",
      "-------Question---------\n",
      "Betty is saving money for a new wallet which costs $100. Betty has only half of the money she needs. Her parents decided to give her $15 for that purpose, and her grandparents twice as much as her parents. How much more money does Betty need to buy the wallet?\n",
      "\n",
      "🧠 Inference Index 2\n",
      "🔍 Top-K Indices: [228, 15, 239, 75, 50, 154, 203, 131, 110, 201, 217, 112, 120, 33, 77, 184, 147, 5, 160, 202, 196, 152, 170, 104, 99, 151, 48, 158, 144, 64, 145, 29, 94, 74, 2, 250, 8, 105, 156, 208, 87, 187, 178, 124, 52, 243, 45, 251, 222, 213, 28, 195, 93]\n",
      "[INFO] Launching 159 parallel inference tasks...\n"
     ]
    },
    {
     "name": "stderr",
     "output_type": "stream",
     "text": []
    },
    {
     "name": "stdout",
     "output_type": "stream",
     "text": [
      "tensor([1.0000, 1.0000, 1.0000, 1.0000, 1.0000, 1.0000, 0.6667, 1.0000, 1.0000,\n",
      "        0.0000, 1.0000, 1.0000, 0.3333, 1.0000, 1.0000, 1.0000, 1.0000, 0.3333,\n",
      "        1.0000, 0.6667, 1.0000, 1.0000, 1.0000, 1.0000, 1.0000, 1.0000, 1.0000,\n",
      "        0.3333, 0.0000, 1.0000, 1.0000, 1.0000, 1.0000, 0.0000, 1.0000, 1.0000,\n",
      "        1.0000, 1.0000, 1.0000, 1.0000, 1.0000, 1.0000, 1.0000, 1.0000, 1.0000,\n",
      "        1.0000, 1.0000, 0.3333, 1.0000, 1.0000, 1.0000, 1.0000, 0.6667],\n",
      "       device='cuda:0')\n",
      "tensor([ 0.4388,  0.4388,  0.4388,  0.4388,  0.4388,  0.4388, -0.7241,  0.4388,\n",
      "         0.4388, -3.0498,  0.4388,  0.4388, -1.8869,  0.4388,  0.4388,  0.4388,\n",
      "         0.4388, -1.8869,  0.4388, -0.7241,  0.4388,  0.4388,  0.4388,  0.4388,\n",
      "         0.4388,  0.4388,  0.4388, -1.8869, -3.0498,  0.4388,  0.4388,  0.4388,\n",
      "         0.4388, -3.0498,  0.4388,  0.4388,  0.4388,  0.4388,  0.4388,  0.4388,\n",
      "         0.4388,  0.4388,  0.4388,  0.4388,  0.4388,  0.4388,  0.4388, -1.8869,\n",
      "         0.4388,  0.4388,  0.4388,  0.4388, -0.7241], device='cuda:0')\n",
      "✅ Rewards: 0.8742\n",
      "✅ Loss: 0.1211\n",
      "-------Question---------\n",
      "Julie is reading a 120-page book. Yesterday, she was able to read 12 pages and today, she read twice as many pages as yesterday. If she wants to read half of the remaining pages tomorrow, how many pages should she read?\n",
      "\n",
      "🧠 Inference Index 3\n",
      "🔍 Top-K Indices: [156, 149, 228, 79, 145, 8, 55, 86, 21, 253, 95, 128, 120, 159, 117, 200, 88, 72, 232, 161, 201, 109, 89, 233, 212, 77, 185, 160, 102, 29, 56, 105, 113, 26, 30, 25, 99, 219, 81, 50, 33, 188, 211, 24, 119, 60, 82, 94, 166, 35, 93, 250, 14]\n",
      "[INFO] Launching 159 parallel inference tasks...\n"
     ]
    },
    {
     "name": "stderr",
     "output_type": "stream",
     "text": []
    },
    {
     "name": "stdout",
     "output_type": "stream",
     "text": [
      "tensor([0.0000, 0.0000, 0.0000, 0.0000, 0.0000, 0.0000, 0.0000, 0.0000, 0.0000,\n",
      "        0.0000, 0.0000, 0.0000, 0.0000, 0.0000, 0.0000, 0.0000, 0.0000, 0.0000,\n",
      "        0.0000, 0.0000, 0.3333, 0.0000, 0.0000, 0.0000, 0.0000, 0.0000, 0.0000,\n",
      "        0.0000, 0.0000, 0.0000, 0.0000, 0.0000, 0.0000, 0.0000, 0.0000, 0.0000,\n",
      "        0.0000, 0.0000, 0.0000, 0.0000, 0.0000, 0.0000, 0.0000, 0.0000, 0.0000,\n",
      "        0.0000, 0.0000, 0.0000, 0.0000, 0.0000, 0.0000, 0.0000, 0.0000],\n",
      "       device='cuda:0')\n",
      "tensor([-0.1374, -0.1374, -0.1374, -0.1374, -0.1374, -0.1374, -0.1374, -0.1374,\n",
      "        -0.1374, -0.1374, -0.1374, -0.1374, -0.1374, -0.1374, -0.1374, -0.1374,\n",
      "        -0.1374, -0.1374, -0.1374, -0.1374,  7.1427, -0.1374, -0.1374, -0.1374,\n",
      "        -0.1374, -0.1374, -0.1374, -0.1374, -0.1374, -0.1374, -0.1374, -0.1374,\n",
      "        -0.1374, -0.1374, -0.1374, -0.1374, -0.1374, -0.1374, -0.1374, -0.1374,\n",
      "        -0.1374, -0.1374, -0.1374, -0.1374, -0.1374, -0.1374, -0.1374, -0.1374,\n",
      "        -0.1374, -0.1374, -0.1374, -0.1374, -0.1374], device='cuda:0')\n",
      "✅ Rewards: 0.0063\n",
      "✅ Loss: 0.0933\n",
      "-------Question---------\n",
      "James writes a 3-page letter to 2 different friends twice a week.  How many pages does he write a year?\n",
      "\n",
      "🧠 Inference Index 4\n",
      "🔍 Top-K Indices: [157, 3, 206, 207, 92, 145, 232, 64, 128, 18, 29, 161, 253, 228, 48, 101, 133, 56, 237, 63, 251, 197, 5, 84, 156, 8, 204, 89, 137, 99, 127, 93, 220, 13, 233, 152, 109, 159, 153, 88, 185, 173, 194, 120, 211, 176, 82, 108, 254, 73, 146, 148, 170]\n",
      "[INFO] Launching 159 parallel inference tasks...\n"
     ]
    },
    {
     "name": "stderr",
     "output_type": "stream",
     "text": []
    },
    {
     "name": "stdout",
     "output_type": "stream",
     "text": [
      "tensor([0.0000, 0.0000, 0.0000, 1.0000, 0.0000, 1.0000, 0.0000, 0.0000, 0.0000,\n",
      "        0.0000, 0.0000, 0.0000, 0.3333, 1.0000, 0.3333, 0.0000, 0.6667, 0.3333,\n",
      "        0.0000, 0.3333, 0.0000, 0.0000, 0.6667, 0.0000, 0.3333, 0.0000, 0.0000,\n",
      "        0.0000, 0.0000, 0.0000, 0.0000, 0.0000, 0.0000, 0.0000, 0.0000, 1.0000,\n",
      "        0.0000, 0.0000, 0.0000, 0.0000, 1.0000, 0.0000, 0.0000, 0.0000, 0.0000,\n",
      "        0.0000, 0.0000, 0.0000, 0.0000, 0.0000, 0.0000, 0.0000, 0.0000],\n",
      "       device='cuda:0')\n",
      "tensor([-0.4756, -0.4756, -0.4756,  2.6755, -0.4756,  2.6755, -0.4756, -0.4756,\n",
      "        -0.4756, -0.4756, -0.4756, -0.4756,  0.5747,  2.6755,  0.5747, -0.4756,\n",
      "         1.6251,  0.5747, -0.4756,  0.5747, -0.4756, -0.4756,  1.6251, -0.4756,\n",
      "         0.5747, -0.4756, -0.4756, -0.4756, -0.4756, -0.4756, -0.4756, -0.4756,\n",
      "        -0.4756, -0.4756, -0.4756,  2.6755, -0.4756, -0.4756, -0.4756, -0.4756,\n",
      "         2.6755, -0.4756, -0.4756, -0.4756, -0.4756, -0.4756, -0.4756, -0.4756,\n",
      "        -0.4756, -0.4756, -0.4756, -0.4756, -0.4756], device='cuda:0')\n",
      "✅ Rewards: 0.1509\n",
      "✅ Loss: -0.1019\n",
      "-------Question---------\n",
      "Mark has a garden with flowers. He planted plants of three different colors in it. Ten of them are yellow, and there are 80% more of those in purple. There are only 25% as many green flowers as there are yellow and purple flowers. How many flowers does Mark have in his garden?\n",
      "\n",
      "🧠 Inference Index 5\n",
      "🔍 Top-K Indices: [244, 30, 82, 202, 89, 137, 5, 113, 3, 18, 59, 209, 91, 235, 166, 51, 240, 121, 170, 25, 178, 237, 156, 4, 35, 117, 118, 105, 145, 232, 158, 110, 33, 245, 29, 142, 228, 101, 203, 73, 99, 233, 161, 210, 214, 79, 131, 171, 135, 112, 45, 160, 176]\n",
      "[INFO] Launching 159 parallel inference tasks...\n"
     ]
    },
    {
     "name": "stderr",
     "output_type": "stream",
     "text": []
    },
    {
     "name": "stdout",
     "output_type": "stream",
     "text": [
      "tensor([1.0000, 0.0000, 0.0000, 0.0000, 0.3333, 0.6667, 1.0000, 0.3333, 0.0000,\n",
      "        0.0000, 0.6667, 0.6667, 0.0000, 0.0000, 0.0000, 0.0000, 0.0000, 0.0000,\n",
      "        0.3333, 0.0000, 0.0000, 1.0000, 0.3333, 0.0000, 1.0000, 0.0000, 0.6667,\n",
      "        1.0000, 0.3333, 0.0000, 0.0000, 0.0000, 0.0000, 0.0000, 0.0000, 0.0000,\n",
      "        0.0000, 0.0000, 1.0000, 0.0000, 0.0000, 0.0000, 0.0000, 0.0000, 1.0000,\n",
      "        0.0000, 1.0000, 1.0000, 0.3333, 0.3333, 0.0000, 0.0000, 0.6667],\n",
      "       device='cuda:0')\n",
      "tensor([ 1.8508, -0.7081, -0.7081, -0.7081,  0.1448,  0.9978,  1.8508,  0.1448,\n",
      "        -0.7081, -0.7081,  0.9978,  0.9978, -0.7081, -0.7081, -0.7081, -0.7081,\n",
      "        -0.7081, -0.7081,  0.1448, -0.7081, -0.7081,  1.8508,  0.1448, -0.7081,\n",
      "         1.8508, -0.7081,  0.9978,  1.8508,  0.1448, -0.7081, -0.7081, -0.7081,\n",
      "        -0.7081, -0.7081, -0.7081, -0.7081, -0.7081, -0.7081,  1.8508, -0.7081,\n",
      "        -0.7081, -0.7081, -0.7081, -0.7081,  1.8508, -0.7081,  1.8508,  1.8508,\n",
      "         0.1448,  0.1448, -0.7081, -0.7081,  0.9978], device='cuda:0')\n",
      "✅ Rewards: 0.2767\n",
      "✅ Loss: -0.1173\n",
      "-------Question---------\n",
      "Albert is wondering how much pizza he can eat in one day. He buys 2 large pizzas and 2 small pizzas. A large pizza has 16 slices and a small pizza has 8 slices. If he eats it all, how many pieces does he eat that day?\n",
      "\n",
      "🧠 Inference Index 6\n",
      "🔍 Top-K Indices: [18, 228, 113, 178, 147, 25, 220, 243, 1, 194, 112, 245, 54, 81, 3, 158, 63, 184, 250, 232, 105, 209, 225, 110, 160, 202, 175, 2, 69, 219, 101, 79, 93, 221, 13, 118, 206, 140, 82, 137, 151, 15, 152, 159, 131, 83, 129, 124, 139, 109, 207, 64, 48]\n",
      "[INFO] Launching 159 parallel inference tasks...\n"
     ]
    },
    {
     "name": "stderr",
     "output_type": "stream",
     "text": []
    },
    {
     "name": "stdout",
     "output_type": "stream",
     "text": [
      "tensor([1.0000, 0.6667, 1.0000, 1.0000, 0.3333, 1.0000, 1.0000, 1.0000, 1.0000,\n",
      "        1.0000, 1.0000, 0.6667, 0.3333, 1.0000, 1.0000, 1.0000, 1.0000, 1.0000,\n",
      "        1.0000, 0.3333, 1.0000, 0.3333, 1.0000, 1.0000, 1.0000, 1.0000, 1.0000,\n",
      "        1.0000, 0.0000, 1.0000, 0.6667, 1.0000, 1.0000, 1.0000, 1.0000, 1.0000,\n",
      "        1.0000, 1.0000, 1.0000, 1.0000, 1.0000, 1.0000, 1.0000, 1.0000, 0.6667,\n",
      "        1.0000, 0.6667, 1.0000, 1.0000, 1.0000, 1.0000, 1.0000, 1.0000],\n",
      "       device='cuda:0')\n",
      "tensor([ 0.4339, -1.0034,  0.4339,  0.4339, -2.4408,  0.4339,  0.4339,  0.4339,\n",
      "         0.4339,  0.4339,  0.4339, -1.0034, -2.4408,  0.4339,  0.4339,  0.4339,\n",
      "         0.4339,  0.4339,  0.4339, -2.4408,  0.4339, -2.4408,  0.4339,  0.4339,\n",
      "         0.4339,  0.4339,  0.4339,  0.4339, -3.8781,  0.4339, -1.0034,  0.4339,\n",
      "         0.4339,  0.4339,  0.4339,  0.4339,  0.4339,  0.4339,  0.4339,  0.4339,\n",
      "         0.4339,  0.4339,  0.4339,  0.4339, -1.0034,  0.4339, -1.0034,  0.4339,\n",
      "         0.4339,  0.4339,  0.4339,  0.4339,  0.4339], device='cuda:0')\n",
      "✅ Rewards: 0.8994\n",
      "✅ Loss: -0.0267\n",
      "-------Question---------\n",
      "Ken created a care package to send to his brother, who was away at boarding school.  Ken placed a box on a scale, and then he poured into the box enough jelly beans to bring the weight to 2 pounds.  Then, he added enough brownies to cause the weight to triple.  Next, he added another 2 pounds of jelly beans.  And finally, he added enough gummy worms to double the weight once again.  What was the final weight of the box of goodies, in pounds?\n",
      "\n",
      "🧠 Inference Index 7\n",
      "🔍 Top-K Indices: [60, 12, 211, 233, 162, 234, 26, 72, 48, 97, 204, 80, 21, 16, 83, 58, 111, 253, 70, 183, 138, 40, 23, 44, 224, 100, 79, 238, 207, 24, 143, 215, 192, 121, 123, 96, 9, 210, 248, 242, 71, 90, 10, 246, 15, 155, 36, 197, 193, 130, 30, 199, 102]\n",
      "[INFO] Launching 159 parallel inference tasks...\n"
     ]
    },
    {
     "name": "stderr",
     "output_type": "stream",
     "text": []
    },
    {
     "name": "stdout",
     "output_type": "stream",
     "text": [
      "tensor([1.0000, 0.0000, 0.0000, 0.0000, 0.6667, 0.3333, 0.0000, 0.0000, 1.0000,\n",
      "        0.3333, 0.3333, 0.0000, 0.3333, 0.3333, 0.3333, 0.6667, 0.0000, 0.6667,\n",
      "        0.6667, 0.3333, 0.0000, 0.3333, 1.0000, 0.3333, 0.0000, 0.0000, 0.0000,\n",
      "        0.6667, 0.0000, 0.0000, 0.6667, 0.0000, 1.0000, 0.6667, 0.3333, 0.0000,\n",
      "        0.0000, 1.0000, 0.3333, 0.0000, 0.0000, 0.0000, 0.0000, 0.0000, 0.3333,\n",
      "        1.0000, 0.6667, 0.6667, 0.0000, 0.6667, 0.6667, 0.0000, 0.0000],\n",
      "       device='cuda:0')\n",
      "tensor([ 1.8956, -0.9212, -0.9212, -0.9212,  0.9567,  0.0177, -0.9212, -0.9212,\n",
      "         1.8956,  0.0177,  0.0177, -0.9212,  0.0177,  0.0177,  0.0177,  0.9567,\n",
      "        -0.9212,  0.9567,  0.9567,  0.0177, -0.9212,  0.0177,  1.8956,  0.0177,\n",
      "        -0.9212, -0.9212, -0.9212,  0.9567, -0.9212, -0.9212,  0.9567, -0.9212,\n",
      "         1.8956,  0.9567,  0.0177, -0.9212, -0.9212,  1.8956,  0.0177, -0.9212,\n",
      "        -0.9212, -0.9212, -0.9212, -0.9212,  0.0177,  1.8956,  0.9567,  0.9567,\n",
      "        -0.9212,  0.9567,  0.9567, -0.9212, -0.9212], device='cuda:0')\n",
      "✅ Rewards: 0.3270\n",
      "✅ Loss: 0.0617\n",
      "-------Question---------\n",
      "Alexis is applying for a new job and bought a new set of business clothes to wear to the interview. She went to a department store with a budget of $200 and spent $30 on a button-up shirt, $46 on suit pants, $38 on a suit coat, $11 on socks, and $18 on a belt. She also purchased a pair of shoes, but lost the receipt for them. She has $16 left from her budget. How much did Alexis pay for the shoes?\n",
      "\n",
      "🧠 Inference Index 8\n",
      "🔍 Top-K Indices: [97, 100, 10, 44, 115, 204, 53, 226, 96, 7, 16, 193, 231, 177, 49, 60, 62, 12, 229, 165, 218, 166, 36, 236, 19, 230, 121, 106, 211, 15, 222, 23, 234, 138, 224, 90, 205, 57, 233, 58, 94, 92, 40, 43, 127, 181, 71, 248, 47, 102, 26, 246, 174]\n",
      "[INFO] Launching 159 parallel inference tasks...\n"
     ]
    },
    {
     "name": "stderr",
     "output_type": "stream",
     "text": []
    },
    {
     "name": "stdout",
     "output_type": "stream",
     "text": [
      "tensor([1.0000, 1.0000, 0.0000, 1.0000, 1.0000, 1.0000, 1.0000, 1.0000, 1.0000,\n",
      "        1.0000, 0.6667, 0.3333, 1.0000, 1.0000, 0.6667, 0.0000, 1.0000, 1.0000,\n",
      "        1.0000, 1.0000, 0.6667, 0.0000, 0.0000, 0.6667, 0.3333, 1.0000, 0.6667,\n",
      "        0.3333, 0.3333, 1.0000, 0.3333, 1.0000, 1.0000, 0.3333, 0.6667, 0.6667,\n",
      "        1.0000, 0.0000, 1.0000, 0.3333, 0.0000, 0.0000, 1.0000, 0.0000, 0.6667,\n",
      "        0.3333, 1.0000, 1.0000, 1.0000, 0.3333, 0.3333, 1.0000, 1.0000],\n",
      "       device='cuda:0')\n",
      "tensor([ 0.8519,  0.8519, -1.7528,  0.8519,  0.8519,  0.8519,  0.8519,  0.8519,\n",
      "         0.8519,  0.8519, -0.0164, -0.8846,  0.8519,  0.8519, -0.0164, -1.7528,\n",
      "         0.8519,  0.8519,  0.8519,  0.8519, -0.0164, -1.7528, -1.7528, -0.0164,\n",
      "        -0.8846,  0.8519, -0.0164, -0.8846, -0.8846,  0.8519, -0.8846,  0.8519,\n",
      "         0.8519, -0.8846, -0.0164, -0.0164,  0.8519, -1.7528,  0.8519, -0.8846,\n",
      "        -1.7528, -1.7528,  0.8519, -1.7528, -0.0164, -0.8846,  0.8519,  0.8519,\n",
      "         0.8519, -0.8846, -0.8846,  0.8519,  0.8519], device='cuda:0')\n",
      "✅ Rewards: 0.6730\n",
      "✅ Loss: -0.2627\n",
      "-------Question---------\n",
      "Tina makes $18.00 an hour.  If she works more than 8 hours per shift, she is eligible for overtime, which is paid by your hourly wage + 1/2 your hourly wage.  If she works 10 hours every day for 5 days, how much money does she make?\n",
      "\n",
      "🧠 Inference Index 9\n",
      "🔍 Top-K Indices: [179, 163, 197, 160, 21, 95, 117, 45, 150, 128, 75, 145, 157, 55, 112, 220, 109, 168, 212, 25, 93, 194, 6, 233, 119, 3, 81, 82, 64, 206, 92, 147, 142, 35, 221, 114, 135, 139, 49, 51, 14, 148, 18, 120, 149, 56, 15, 28, 188, 73, 184, 171, 251]\n",
      "[INFO] Launching 159 parallel inference tasks...\n"
     ]
    },
    {
     "name": "stderr",
     "output_type": "stream",
     "text": []
    },
    {
     "name": "stdout",
     "output_type": "stream",
     "text": [
      "tensor([0.0000, 0.0000, 0.0000, 0.0000, 0.0000, 0.0000, 0.0000, 0.0000, 0.0000,\n",
      "        0.0000, 0.0000, 0.0000, 0.0000, 0.0000, 0.0000, 0.0000, 0.0000, 0.0000,\n",
      "        0.0000, 0.0000, 0.0000, 0.0000, 0.0000, 0.0000, 0.0000, 0.0000, 0.0000,\n",
      "        0.0000, 0.0000, 0.0000, 0.0000, 0.0000, 0.0000, 0.0000, 0.0000, 0.0000,\n",
      "        0.0000, 0.0000, 0.0000, 0.0000, 0.0000, 0.0000, 0.0000, 0.3333, 0.0000,\n",
      "        0.0000, 0.0000, 0.0000, 0.0000, 0.0000, 0.0000, 0.0000, 0.0000],\n",
      "       device='cuda:0')\n",
      "tensor([-0.1374, -0.1374, -0.1374, -0.1374, -0.1374, -0.1374, -0.1374, -0.1374,\n",
      "        -0.1374, -0.1374, -0.1374, -0.1374, -0.1374, -0.1374, -0.1374, -0.1374,\n",
      "        -0.1374, -0.1374, -0.1374, -0.1374, -0.1374, -0.1374, -0.1374, -0.1374,\n",
      "        -0.1374, -0.1374, -0.1374, -0.1374, -0.1374, -0.1374, -0.1374, -0.1374,\n",
      "        -0.1374, -0.1374, -0.1374, -0.1374, -0.1374, -0.1374, -0.1374, -0.1374,\n",
      "        -0.1374, -0.1374, -0.1374,  7.1427, -0.1374, -0.1374, -0.1374, -0.1374,\n",
      "        -0.1374, -0.1374, -0.1374, -0.1374, -0.1374], device='cuda:0')\n",
      "✅ Rewards: 0.0063\n",
      "✅ Loss: -0.1077\n",
      "-------Question---------\n",
      "A deep-sea monster rises from the waters once every hundred years to feast on a ship and sate its hunger. Over three hundred years, it has consumed 847 people. Ships have been built larger over time, so each new ship has twice as many people as the last ship. How many people were on the ship the monster ate in the first hundred years?\n",
      "\n",
      "🧠 Inference Index 10\n",
      "🔍 Top-K Indices: [26, 174, 106, 143, 58, 7, 44, 138, 10, 8, 224, 230, 60, 121, 231, 246, 16, 236, 31, 248, 193, 62, 183, 162, 111, 98, 115, 100, 108, 136, 96, 19, 238, 252, 12, 40, 165, 70, 97, 204, 226, 240, 220, 130, 233, 80, 88, 21, 74, 116, 253, 181, 218]\n",
      "[INFO] Launching 159 parallel inference tasks...\n"
     ]
    },
    {
     "name": "stderr",
     "output_type": "stream",
     "text": []
    },
    {
     "name": "stdout",
     "output_type": "stream",
     "text": [
      "tensor([0.0000, 0.0000, 0.0000, 0.0000, 0.0000, 0.0000, 0.0000, 0.0000, 0.0000,\n",
      "        0.0000, 0.3333, 0.0000, 0.0000, 0.0000, 0.0000, 0.0000, 0.0000, 0.0000,\n",
      "        0.0000, 0.0000, 0.0000, 0.0000, 0.0000, 0.0000, 0.0000, 0.0000, 0.0000,\n",
      "        0.0000, 0.0000, 0.0000, 0.0000, 0.0000, 0.0000, 0.3333, 0.0000, 0.6667,\n",
      "        0.0000, 0.0000, 0.3333, 0.0000, 0.3333, 0.0000, 0.0000, 0.0000, 0.3333,\n",
      "        0.0000, 0.3333, 0.0000, 0.0000, 0.0000, 0.0000, 0.0000, 0.3333],\n",
      "       device='cuda:0')\n",
      "tensor([-0.3979, -0.3979, -0.3979, -0.3979, -0.3979, -0.3979, -0.3979, -0.3979,\n",
      "        -0.3979, -0.3979,  1.9452, -0.3979, -0.3979, -0.3979, -0.3979, -0.3979,\n",
      "        -0.3979, -0.3979, -0.3979, -0.3979, -0.3979, -0.3979, -0.3979, -0.3979,\n",
      "        -0.3979, -0.3979, -0.3979, -0.3979, -0.3979, -0.3979, -0.3979, -0.3979,\n",
      "        -0.3979,  1.9452, -0.3979,  4.2883, -0.3979, -0.3979,  1.9452, -0.3979,\n",
      "         1.9452, -0.3979, -0.3979, -0.3979,  1.9452, -0.3979,  1.9452, -0.3979,\n",
      "        -0.3979, -0.3979, -0.3979, -0.3979,  1.9452], device='cuda:0')\n",
      "✅ Rewards: 0.0566\n",
      "✅ Loss: 0.0438\n",
      "-------Question---------\n",
      "Tobias is buying a new pair of shoes that costs $95. He has been saving up his money each month for the past three months. He gets a $5 allowance a month. He also mows lawns and shovels driveways. He charges $15 to mow a lawn and $7 to shovel. After buying the shoes, he has $15 in change. If he mows 4 lawns, how many driveways did he shovel?\n",
      "\n",
      "🧠 Inference Index 11\n",
      "🔍 Top-K Indices: [8, 49, 121, 115, 96, 204, 60, 211, 224, 161, 253, 218, 237, 246, 100, 12, 252, 57, 44, 215, 143, 16, 162, 26, 138, 165, 210, 229, 234, 7, 19, 21, 236, 70, 122, 58, 97, 128, 186, 71, 90, 177, 38, 80, 127, 174, 109, 53, 240, 110, 32, 62, 102]\n",
      "[INFO] Launching 159 parallel inference tasks...\n"
     ]
    },
    {
     "name": "stderr",
     "output_type": "stream",
     "text": []
    },
    {
     "name": "stdout",
     "output_type": "stream",
     "text": [
      "tensor([0.0000, 0.0000, 0.0000, 0.0000, 0.0000, 0.3333, 0.0000, 0.0000, 0.0000,\n",
      "        0.0000, 0.0000, 0.0000, 0.0000, 0.0000, 0.0000, 0.0000, 0.0000, 0.0000,\n",
      "        0.0000, 0.0000, 0.0000, 0.0000, 0.0000, 0.0000, 0.0000, 0.0000, 0.0000,\n",
      "        0.0000, 0.0000, 0.0000, 0.0000, 0.0000, 0.0000, 0.0000, 0.0000, 0.0000,\n",
      "        0.0000, 0.0000, 0.0000, 0.0000, 0.0000, 0.0000, 0.0000, 0.0000, 0.0000,\n",
      "        0.0000, 0.0000, 0.0000, 0.0000, 0.0000, 0.0000, 0.0000, 0.0000],\n",
      "       device='cuda:0')\n",
      "tensor([-0.1374, -0.1374, -0.1374, -0.1374, -0.1374,  7.1427, -0.1374, -0.1374,\n",
      "        -0.1374, -0.1374, -0.1374, -0.1374, -0.1374, -0.1374, -0.1374, -0.1374,\n",
      "        -0.1374, -0.1374, -0.1374, -0.1374, -0.1374, -0.1374, -0.1374, -0.1374,\n",
      "        -0.1374, -0.1374, -0.1374, -0.1374, -0.1374, -0.1374, -0.1374, -0.1374,\n",
      "        -0.1374, -0.1374, -0.1374, -0.1374, -0.1374, -0.1374, -0.1374, -0.1374,\n",
      "        -0.1374, -0.1374, -0.1374, -0.1374, -0.1374, -0.1374, -0.1374, -0.1374,\n",
      "        -0.1374, -0.1374, -0.1374, -0.1374, -0.1374], device='cuda:0')\n",
      "✅ Rewards: 0.0063\n",
      "✅ Loss: -0.0186\n",
      "-------Question---------\n",
      "Randy has 60 mango trees on his farm. He also has 5 less than half as many coconut trees as mango trees. How many trees does Randy have in all on his farm?\n",
      "\n",
      "🧠 Inference Index 12\n",
      "🔍 Top-K Indices: [113, 2, 90, 152, 153, 82, 69, 19, 178, 104, 52, 1, 9, 18, 83, 135, 232, 219, 29, 154, 105, 149, 33, 3, 163, 184, 101, 244, 221, 108, 208, 160, 189, 161, 166, 147, 117, 63, 54, 50, 73, 110, 179, 55, 183, 140, 180, 56, 159, 207, 23, 124, 51]\n",
      "[INFO] Launching 159 parallel inference tasks...\n"
     ]
    },
    {
     "name": "stderr",
     "output_type": "stream",
     "text": []
    },
    {
     "name": "stdout",
     "output_type": "stream",
     "text": [
      "tensor([1.0000, 0.0000, 1.0000, 0.3333, 0.0000, 0.3333, 1.0000, 0.6667, 0.6667,\n",
      "        0.3333, 1.0000, 1.0000, 0.3333, 0.0000, 1.0000, 1.0000, 0.3333, 0.3333,\n",
      "        0.3333, 0.0000, 0.6667, 0.3333, 0.3333, 1.0000, 1.0000, 0.0000, 1.0000,\n",
      "        0.3333, 1.0000, 0.0000, 0.3333, 0.3333, 0.0000, 1.0000, 0.3333, 0.6667,\n",
      "        1.0000, 0.3333, 0.0000, 0.3333, 1.0000, 0.6667, 0.3333, 1.0000, 0.3333,\n",
      "        0.0000, 1.0000, 0.6667, 0.3333, 1.0000, 1.0000, 1.0000, 0.0000],\n",
      "       device='cuda:0')\n",
      "tensor([ 1.1693, -1.4129,  1.1693, -0.5522, -1.4129, -0.5522,  1.1693,  0.3086,\n",
      "         0.3086, -0.5522,  1.1693,  1.1693, -0.5522, -1.4129,  1.1693,  1.1693,\n",
      "        -0.5522, -0.5522, -0.5522, -1.4129,  0.3086, -0.5522, -0.5522,  1.1693,\n",
      "         1.1693, -1.4129,  1.1693, -0.5522,  1.1693, -1.4129, -0.5522, -0.5522,\n",
      "        -1.4129,  1.1693, -0.5522,  0.3086,  1.1693, -0.5522, -1.4129, -0.5522,\n",
      "         1.1693,  0.3086, -0.5522,  1.1693, -0.5522, -1.4129,  1.1693,  0.3086,\n",
      "        -0.5522,  1.1693,  1.1693,  1.1693, -1.4129], device='cuda:0')\n",
      "✅ Rewards: 0.5472\n",
      "✅ Loss: -0.0589\n",
      "-------Question---------\n",
      "Jasper will serve charcuterie at his dinner party. He buys 2 pounds of cheddar cheese for $10, a pound of cream cheese that cost half the price of the cheddar cheese, and a pack of cold cuts that cost twice the price of the cheddar cheese. How much does he spend on the ingredients?\n",
      "\n",
      "🧠 Inference Index 13\n",
      "🔍 Top-K Indices: [211, 204, 166, 226, 49, 155, 121, 111, 215, 90, 40, 65, 198, 60, 97, 238, 159, 57, 66, 53, 86, 183, 139, 72, 76, 32, 119, 153, 96, 187, 91, 19, 237, 247, 136, 55, 199, 135, 129, 38, 11, 251, 164, 253, 205, 115, 229, 117, 88, 37, 127, 30, 232]\n",
      "[INFO] Launching 159 parallel inference tasks...\n"
     ]
    },
    {
     "name": "stderr",
     "output_type": "stream",
     "text": []
    },
    {
     "name": "stdout",
     "output_type": "stream",
     "text": [
      "tensor([0.0000, 0.0000, 0.0000, 0.0000, 0.0000, 0.0000, 0.0000, 0.0000, 0.0000,\n",
      "        0.0000, 0.0000, 1.0000, 0.0000, 0.6667, 0.0000, 0.0000, 0.0000, 0.0000,\n",
      "        0.0000, 0.0000, 0.0000, 0.0000, 0.0000, 0.0000, 0.0000, 0.0000, 0.0000,\n",
      "        0.0000, 0.0000, 0.0000, 0.0000, 0.0000, 0.0000, 0.0000, 0.0000, 0.0000,\n",
      "        0.0000, 0.0000, 0.0000, 0.0000, 0.0000, 0.0000, 0.0000, 0.0000, 0.0000,\n",
      "        0.0000, 0.0000, 0.3333, 0.0000, 0.0000, 0.0000, 0.0000, 0.0000],\n",
      "       device='cuda:0')\n",
      "tensor([-0.2237, -0.2237, -0.2237, -0.2237, -0.2237, -0.2237, -0.2237, -0.2237,\n",
      "        -0.2237, -0.2237, -0.2237,  5.7036, -0.2237,  3.7279, -0.2237, -0.2237,\n",
      "        -0.2237, -0.2237, -0.2237, -0.2237, -0.2237, -0.2237, -0.2237, -0.2237,\n",
      "        -0.2237, -0.2237, -0.2237, -0.2237, -0.2237, -0.2237, -0.2237, -0.2237,\n",
      "        -0.2237, -0.2237, -0.2237, -0.2237, -0.2237, -0.2237, -0.2237, -0.2237,\n",
      "        -0.2237, -0.2237, -0.2237, -0.2237, -0.2237, -0.2237, -0.2237,  1.7521,\n",
      "        -0.2237, -0.2237, -0.2237, -0.2237, -0.2237], device='cuda:0')\n",
      "✅ Rewards: 0.0377\n",
      "✅ Loss: -0.0367\n",
      "-------Question---------\n",
      "Joy can read 8 pages of a book in 20 minutes. How many hours will it take her to read 120 pages?\n",
      "\n",
      "🧠 Inference Index 14\n",
      "🔍 Top-K Indices: [18, 3, 93, 249, 17, 119, 194, 206, 203, 9, 81, 157, 197, 114, 222, 225, 220, 63, 61, 69, 82, 51, 91, 163, 77, 240, 38, 201, 150, 40, 140, 112, 86, 50, 65, 4, 6, 103, 19, 117, 23, 55, 30, 104, 233, 147, 129, 2, 85, 83, 1, 176, 151]\n",
      "[INFO] Launching 159 parallel inference tasks...\n"
     ]
    },
    {
     "name": "stderr",
     "output_type": "stream",
     "text": []
    },
    {
     "name": "stdout",
     "output_type": "stream",
     "text": [
      "tensor([0.0000, 0.0000, 0.3333, 0.0000, 0.0000, 0.6667, 0.0000, 0.0000, 0.6667,\n",
      "        0.0000, 0.0000, 0.3333, 0.0000, 0.0000, 0.0000, 0.0000, 0.0000, 0.0000,\n",
      "        0.0000, 0.0000, 0.3333, 0.0000, 0.6667, 1.0000, 0.6667, 0.0000, 1.0000,\n",
      "        0.6667, 0.0000, 0.0000, 0.0000, 0.6667, 0.0000, 0.0000, 0.0000, 1.0000,\n",
      "        0.0000, 0.0000, 0.0000, 0.0000, 1.0000, 0.0000, 0.0000, 0.0000, 0.0000,\n",
      "        0.3333, 0.0000, 0.0000, 0.0000, 0.0000, 0.0000, 0.0000, 0.0000],\n",
      "       device='cuda:0')\n",
      "tensor([-0.5431, -0.5431,  0.4849, -0.5431, -0.5431,  1.5129, -0.5431, -0.5431,\n",
      "         1.5129, -0.5431, -0.5431,  0.4849, -0.5431, -0.5431, -0.5431, -0.5431,\n",
      "        -0.5431, -0.5431, -0.5431, -0.5431,  0.4849, -0.5431,  1.5129,  2.5409,\n",
      "         1.5129, -0.5431,  2.5409,  1.5129, -0.5431, -0.5431, -0.5431,  1.5129,\n",
      "        -0.5431, -0.5431, -0.5431,  2.5409, -0.5431, -0.5431, -0.5431, -0.5431,\n",
      "         2.5409, -0.5431, -0.5431, -0.5431, -0.5431,  0.4849, -0.5431, -0.5431,\n",
      "        -0.5431, -0.5431, -0.5431, -0.5431, -0.5431], device='cuda:0')\n",
      "✅ Rewards: 0.1761\n",
      "✅ Loss: 0.0392\n",
      "-------Question---------\n",
      "James creates a media empire.  He creates a movie for $2000.  Each DVD cost $6 to make.  He sells it for 2.5 times that much.  He sells 500 movies a day for 5 days a week.  How much profit does he make in 20 weeks?\n",
      "\n",
      "🧠 Inference Index 15\n",
      "🔍 Top-K Indices: [197, 244, 228, 63, 137, 81, 128, 25, 86, 159, 182, 95, 206, 157, 119, 50, 103, 60, 23, 194, 28, 3, 94, 92, 180, 202, 51, 71, 93, 201, 104, 189, 253, 136, 148, 154, 233, 188, 6, 1, 48, 156, 158, 72, 5, 64, 209, 9, 211, 74, 47, 99, 249]\n",
      "[INFO] Launching 159 parallel inference tasks...\n"
     ]
    },
    {
     "name": "stderr",
     "output_type": "stream",
     "text": []
    },
    {
     "name": "stdout",
     "output_type": "stream",
     "text": [
      "tensor([0., 0., 0., 0., 0., 0., 0., 0., 0., 0., 0., 0., 0., 0., 0., 0., 0., 0., 0., 0., 0., 0., 0., 0.,\n",
      "        0., 0., 0., 0., 0., 0., 0., 0., 0., 0., 0., 0., 0., 0., 0., 0., 0., 0., 0., 0., 0., 0., 0., 0.,\n",
      "        0., 0., 0., 0., 0.], device='cuda:0')\n",
      "tensor([0., 0., 0., 0., 0., 0., 0., 0., 0., 0., 0., 0., 0., 0., 0., 0., 0., 0., 0., 0., 0., 0., 0., 0.,\n",
      "        0., 0., 0., 0., 0., 0., 0., 0., 0., 0., 0., 0., 0., 0., 0., 0., 0., 0., 0., 0., 0., 0., 0., 0.,\n",
      "        0., 0., 0., 0., 0.], device='cuda:0')\n",
      "✅ Rewards: 0.0000\n",
      "✅ Loss: -0.0000\n",
      "-------Question---------\n",
      "The profit from a business transaction is shared among 2 business partners, Mike and Johnson in the ratio 2:5 respectively. If Johnson got $2500, how much will Mike have after spending some of his share on a shirt that costs $200?\n",
      "\n",
      "🧠 Inference Index 16\n",
      "🔍 Top-K Indices: [6, 56, 61, 50, 176, 94, 122, 101, 118, 237, 82, 64, 55, 197, 159, 240, 203, 105, 168, 128, 222, 147, 109, 194, 51, 73, 233, 232, 52, 212, 40, 88, 65, 180, 38, 157, 223, 158, 49, 228, 29, 5, 150, 200, 9, 156, 37, 191, 235, 0, 217, 99, 214]\n",
      "[INFO] Launching 159 parallel inference tasks...\n"
     ]
    },
    {
     "name": "stderr",
     "output_type": "stream",
     "text": []
    },
    {
     "name": "stdout",
     "output_type": "stream",
     "text": [
      "tensor([0.0000, 0.3333, 0.0000, 0.0000, 0.0000, 0.0000, 0.0000, 0.0000, 0.0000,\n",
      "        0.0000, 0.0000, 0.0000, 0.0000, 0.0000, 0.3333, 0.3333, 0.0000, 0.0000,\n",
      "        0.0000, 0.0000, 0.0000, 0.3333, 0.0000, 0.0000, 0.0000, 0.0000, 0.0000,\n",
      "        0.0000, 0.3333, 0.0000, 0.0000, 0.0000, 0.0000, 0.0000, 0.3333, 0.0000,\n",
      "        0.0000, 0.0000, 0.0000, 0.0000, 0.0000, 0.0000, 0.3333, 0.0000, 0.0000,\n",
      "        0.0000, 0.0000, 0.0000, 0.0000, 0.0000, 0.0000, 0.6667, 0.0000],\n",
      "       device='cuda:0')\n",
      "tensor([-0.3979,  1.9452, -0.3979, -0.3979, -0.3979, -0.3979, -0.3979, -0.3979,\n",
      "        -0.3979, -0.3979, -0.3979, -0.3979, -0.3979, -0.3979,  1.9452,  1.9452,\n",
      "        -0.3979, -0.3979, -0.3979, -0.3979, -0.3979,  1.9452, -0.3979, -0.3979,\n",
      "        -0.3979, -0.3979, -0.3979, -0.3979,  1.9452, -0.3979, -0.3979, -0.3979,\n",
      "        -0.3979, -0.3979,  1.9452, -0.3979, -0.3979, -0.3979, -0.3979, -0.3979,\n",
      "        -0.3979, -0.3979,  1.9452, -0.3979, -0.3979, -0.3979, -0.3979, -0.3979,\n",
      "        -0.3979, -0.3979, -0.3979,  4.2883, -0.3979], device='cuda:0')\n",
      "✅ Rewards: 0.0566\n",
      "✅ Loss: 0.1313\n",
      "-------Question---------\n",
      "In a truck, there are 26 pink hard hats, 15 green hard hats, and 24 yellow hard hats.  If Carl takes away 4 pink hard hats, and John takes away 6 pink hard hats and twice as many green hard hats as the number of pink hard hats that he removed, then calculate the total number of hard hats that remained in the truck.\n",
      "\n",
      "🧠 Inference Index 17\n",
      "🔍 Top-K Indices: [19, 253, 121, 96, 24, 236, 231, 11, 234, 7, 53, 58, 10, 23, 97, 26, 174, 66, 204, 38, 100, 224, 57, 70, 218, 102, 4, 8, 248, 238, 215, 143, 136, 37, 247, 115, 229, 240, 36, 181, 32, 126, 230, 159, 211, 153, 80, 241, 212, 60, 183, 90, 91]\n",
      "[INFO] Launching 159 parallel inference tasks...\n"
     ]
    },
    {
     "name": "stderr",
     "output_type": "stream",
     "text": []
    },
    {
     "name": "stdout",
     "output_type": "stream",
     "text": [
      "tensor([0.0000, 0.3333, 0.0000, 0.0000, 0.0000, 0.0000, 0.0000, 0.0000, 0.0000,\n",
      "        0.6667, 0.0000, 0.0000, 0.0000, 0.0000, 0.0000, 0.6667, 0.6667, 0.0000,\n",
      "        0.0000, 0.0000, 0.0000, 0.0000, 0.0000, 0.0000, 0.0000, 0.0000, 0.6667,\n",
      "        0.3333, 0.3333, 0.0000, 0.0000, 0.0000, 0.3333, 0.0000, 0.0000, 0.0000,\n",
      "        0.0000, 0.0000, 0.3333, 0.0000, 0.0000, 0.3333, 0.0000, 0.0000, 0.0000,\n",
      "        0.3333, 0.0000, 0.0000, 0.0000, 0.0000, 0.0000, 0.0000, 0.0000],\n",
      "       device='cuda:0')\n",
      "tensor([-0.4713,  1.1939, -0.4713, -0.4713, -0.4713, -0.4713, -0.4713, -0.4713,\n",
      "        -0.4713,  2.8590, -0.4713, -0.4713, -0.4713, -0.4713, -0.4713,  2.8590,\n",
      "         2.8590, -0.4713, -0.4713, -0.4713, -0.4713, -0.4713, -0.4713, -0.4713,\n",
      "        -0.4713, -0.4713,  2.8590,  1.1939,  1.1939, -0.4713, -0.4713, -0.4713,\n",
      "         1.1939, -0.4713, -0.4713, -0.4713, -0.4713, -0.4713,  1.1939, -0.4713,\n",
      "        -0.4713,  1.1939, -0.4713, -0.4713, -0.4713,  1.1939, -0.4713, -0.4713,\n",
      "        -0.4713, -0.4713, -0.4713, -0.4713, -0.4713], device='cuda:0')\n",
      "✅ Rewards: 0.0943\n",
      "✅ Loss: -0.2238\n",
      "-------Question---------\n",
      "It takes Roque two hours to walk to work and one hour to ride his bike to work. Roque walks to and from work three times a week and rides his bike to and from work twice a week. How many hours in total does he take to get to and from work a week with walking and biking?\n",
      "\n",
      "🧠 Inference Index 18\n",
      "🔍 Top-K Indices: [101, 207, 15, 68, 233, 142, 157, 29, 206, 75, 221, 155, 251, 212, 200, 128, 129, 25, 81, 6, 73, 89, 172, 40, 235, 117, 55, 244, 74, 147, 131, 82, 232, 204, 63, 181, 182, 179, 205, 18, 220, 66, 149, 156, 76, 47, 144, 19, 85, 41, 243, 64, 160]\n",
      "[INFO] Launching 159 parallel inference tasks...\n"
     ]
    },
    {
     "name": "stderr",
     "output_type": "stream",
     "text": []
    },
    {
     "name": "stdout",
     "output_type": "stream",
     "text": [
      "tensor([0.0000, 0.0000, 0.0000, 1.0000, 0.0000, 0.0000, 0.0000, 0.0000, 0.0000,\n",
      "        0.0000, 0.0000, 0.0000, 0.0000, 0.0000, 1.0000, 0.0000, 0.0000, 0.0000,\n",
      "        0.0000, 0.0000, 0.0000, 0.0000, 0.0000, 0.0000, 0.0000, 0.3333, 0.0000,\n",
      "        0.0000, 0.0000, 0.0000, 0.0000, 0.0000, 0.0000, 0.0000, 0.0000, 0.0000,\n",
      "        0.0000, 0.0000, 0.0000, 0.0000, 0.0000, 0.0000, 0.0000, 0.0000, 0.0000,\n",
      "        0.0000, 0.0000, 0.3333, 0.0000, 0.0000, 0.0000, 0.0000, 0.0000],\n",
      "       device='cuda:0')\n",
      "tensor([-0.2511, -0.2511, -0.2511,  4.7393, -0.2511, -0.2511, -0.2511, -0.2511,\n",
      "        -0.2511, -0.2511, -0.2511, -0.2511, -0.2511, -0.2511,  4.7393, -0.2511,\n",
      "        -0.2511, -0.2511, -0.2511, -0.2511, -0.2511, -0.2511, -0.2511, -0.2511,\n",
      "        -0.2511,  1.4124, -0.2511, -0.2511, -0.2511, -0.2511, -0.2511, -0.2511,\n",
      "        -0.2511, -0.2511, -0.2511, -0.2511, -0.2511, -0.2511, -0.2511, -0.2511,\n",
      "        -0.2511, -0.2511, -0.2511, -0.2511, -0.2511, -0.2511, -0.2511,  1.4124,\n",
      "        -0.2511, -0.2511, -0.2511, -0.2511, -0.2511], device='cuda:0')\n",
      "✅ Rewards: 0.0503\n",
      "✅ Loss: -0.0833\n",
      "-------Question---------\n",
      "Tim rides his bike back and forth to work for each of his 5 workdays.  His work is 20 miles away.  He also goes for a weekend bike ride of 200 miles.    If he can bike at 25 mph how much time does he spend biking a week?\n",
      "\n",
      "🧠 Inference Index 19\n",
      "🔍 Top-K Indices: [228, 93, 197, 25, 159, 238, 160, 235, 142, 232, 5, 9, 237, 171, 156, 194, 101, 6, 61, 233, 222, 59, 244, 225, 95, 86, 92, 243, 91, 203, 173, 40, 249, 45, 77, 85, 64, 63, 175, 110, 50, 135, 37, 202, 123, 3, 154, 239, 72, 74, 56, 66, 55]\n",
      "[INFO] Launching 159 parallel inference tasks...\n"
     ]
    },
    {
     "name": "stderr",
     "output_type": "stream",
     "text": [
      "Examples: 100%|██████████| 20/20 [02:42<00:00,  8.10s/it]\n",
      "Training Steps:  20%|██        | 2/10 [05:33<22:06, 165.85s/it]"
     ]
    },
    {
     "name": "stdout",
     "output_type": "stream",
     "text": [
      "tensor([0.3333, 0.6667, 0.0000, 1.0000, 0.0000, 0.0000, 0.3333, 1.0000, 0.0000,\n",
      "        0.0000, 0.0000, 0.3333, 1.0000, 0.0000, 0.0000, 0.0000, 0.3333, 0.3333,\n",
      "        0.0000, 0.0000, 1.0000, 0.3333, 0.3333, 0.0000, 0.3333, 0.0000, 0.3333,\n",
      "        0.0000, 1.0000, 0.0000, 0.6667, 0.0000, 0.3333, 0.0000, 0.3333, 0.3333,\n",
      "        0.0000, 0.3333, 0.0000, 0.3333, 0.3333, 0.0000, 0.3333, 0.6667, 0.3333,\n",
      "        0.0000, 0.0000, 0.0000, 0.0000, 1.0000, 0.0000, 0.3333, 0.0000],\n",
      "       device='cuda:0')\n",
      "tensor([ 0.2102,  1.2227, -0.8024,  2.2353, -0.8024, -0.8024,  0.2102,  2.2353,\n",
      "        -0.8024, -0.8024, -0.8024,  0.2102,  2.2353, -0.8024, -0.8024, -0.8024,\n",
      "         0.2102,  0.2102, -0.8024, -0.8024,  2.2353,  0.2102,  0.2102, -0.8024,\n",
      "         0.2102, -0.8024,  0.2102, -0.8024,  2.2353, -0.8024,  1.2227, -0.8024,\n",
      "         0.2102, -0.8024,  0.2102,  0.2102, -0.8024,  0.2102, -0.8024,  0.2102,\n",
      "         0.2102, -0.8024,  0.2102,  1.2227,  0.2102, -0.8024, -0.8024, -0.8024,\n",
      "        -0.8024,  2.2353, -0.8024,  0.2102, -0.8024], device='cuda:0')\n",
      "✅ Rewards: 0.2642\n",
      "✅ Loss: -0.0630\n",
      "\n",
      "=== Training Step 3 ===\n"
     ]
    },
    {
     "name": "stderr",
     "output_type": "stream",
     "text": []
    },
    {
     "name": "stdout",
     "output_type": "stream",
     "text": [
      "-------Question---------\n",
      "Natalia sold clips to 48 of her friends in April, and then she sold half as many clips in May. How many clips did Natalia sell altogether in April and May?\n",
      "\n",
      "🧠 Inference Index 0\n",
      "🔍 Top-K Indices: [88, 233, 240, 128, 228, 182, 49, 98, 136, 215, 149, 81, 161, 30, 83, 101, 45, 220, 154, 12, 90, 133, 163, 207, 8, 47, 115, 234, 242, 113, 241, 164, 60, 14, 142, 40, 19, 226, 77, 109, 85, 2, 186, 120, 15, 146, 139, 251, 57, 48, 160, 205, 69]\n",
      "[INFO] Launching 159 parallel inference tasks...\n"
     ]
    },
    {
     "name": "stderr",
     "output_type": "stream",
     "text": []
    },
    {
     "name": "stdout",
     "output_type": "stream",
     "text": [
      "tensor([1.0000, 1.0000, 0.0000, 1.0000, 1.0000, 1.0000, 1.0000, 1.0000, 1.0000,\n",
      "        1.0000, 1.0000, 1.0000, 1.0000, 0.6667, 0.0000, 0.6667, 1.0000, 1.0000,\n",
      "        1.0000, 0.0000, 1.0000, 1.0000, 0.6667, 0.3333, 1.0000, 0.6667, 1.0000,\n",
      "        1.0000, 1.0000, 1.0000, 1.0000, 1.0000, 1.0000, 1.0000, 1.0000, 1.0000,\n",
      "        1.0000, 1.0000, 1.0000, 0.0000, 0.0000, 1.0000, 0.0000, 0.3333, 1.0000,\n",
      "        1.0000, 1.0000, 0.3333, 1.0000, 1.0000, 0.3333, 1.0000, 1.0000],\n",
      "       device='cuda:0')\n",
      "tensor([ 0.5406,  0.5406, -2.3244,  0.5406,  0.5406,  0.5406,  0.5406,  0.5406,\n",
      "         0.5406,  0.5406,  0.5406,  0.5406,  0.5406, -0.4144, -2.3244, -0.4144,\n",
      "         0.5406,  0.5406,  0.5406, -2.3244,  0.5406,  0.5406, -0.4144, -1.3694,\n",
      "         0.5406, -0.4144,  0.5406,  0.5406,  0.5406,  0.5406,  0.5406,  0.5406,\n",
      "         0.5406,  0.5406,  0.5406,  0.5406,  0.5406,  0.5406,  0.5406, -2.3244,\n",
      "        -2.3244,  0.5406, -2.3244, -1.3694,  0.5406,  0.5406,  0.5406, -1.3694,\n",
      "         0.5406,  0.5406, -1.3694,  0.5406,  0.5406], device='cuda:0')\n",
      "✅ Rewards: 0.8113\n",
      "✅ Loss: -0.1549\n",
      "-------Question---------\n",
      "Weng earns $12 an hour for babysitting. Yesterday, she just did 50 minutes of babysitting. How much did she earn?\n",
      "\n",
      "🧠 Inference Index 1\n",
      "🔍 Top-K Indices: [85, 102, 152, 18, 233, 76, 254, 13, 199, 23, 201, 218, 160, 73, 0, 38, 81, 106, 65, 2, 55, 95, 198, 219, 90, 94, 25, 194, 86, 232, 103, 39, 56, 137, 220, 251, 250, 83, 221, 88, 109, 191, 14, 157, 84, 128, 36, 37, 75, 124, 222, 235, 29]\n",
      "[INFO] Launching 159 parallel inference tasks...\n"
     ]
    },
    {
     "name": "stderr",
     "output_type": "stream",
     "text": []
    },
    {
     "name": "stdout",
     "output_type": "stream",
     "text": [
      "tensor([1., 1., 1., 1., 1., 1., 1., 1., 1., 1., 1., 1., 1., 1., 1., 1., 1., 1.,\n",
      "        1., 1., 1., 1., 1., 1., 1., 1., 1., 1., 1., 1., 1., 1., 1., 1., 1., 1.,\n",
      "        1., 1., 1., 1., 1., 1., 1., 1., 1., 1., 1., 1., 1., 1., 1., 1., 1.],\n",
      "       device='cuda:0')\n",
      "tensor([0., 0., 0., 0., 0., 0., 0., 0., 0., 0., 0., 0., 0., 0., 0., 0., 0., 0., 0., 0., 0., 0., 0., 0.,\n",
      "        0., 0., 0., 0., 0., 0., 0., 0., 0., 0., 0., 0., 0., 0., 0., 0., 0., 0., 0., 0., 0., 0., 0., 0.,\n",
      "        0., 0., 0., 0., 0.], device='cuda:0')\n",
      "✅ Rewards: 1.0000\n",
      "✅ Loss: -0.0000\n",
      "-------Question---------\n",
      "Betty is saving money for a new wallet which costs $100. Betty has only half of the money she needs. Her parents decided to give her $15 for that purpose, and her grandparents twice as much as her parents. How much more money does Betty need to buy the wallet?\n",
      "\n",
      "🧠 Inference Index 2\n",
      "🔍 Top-K Indices: [25, 120, 63, 109, 22, 40, 233, 11, 228, 158, 112, 152, 219, 191, 4, 121, 99, 157, 243, 202, 235, 239, 159, 194, 167, 211, 207, 221, 166, 73, 250, 135, 86, 185, 150, 110, 75, 184, 180, 88, 245, 67, 52, 104, 90, 154, 23, 68, 79, 2, 48, 122, 153]\n",
      "[INFO] Launching 159 parallel inference tasks...\n"
     ]
    },
    {
     "name": "stderr",
     "output_type": "stream",
     "text": []
    },
    {
     "name": "stdout",
     "output_type": "stream",
     "text": [
      "tensor([1.0000, 0.6667, 1.0000, 0.6667, 1.0000, 1.0000, 1.0000, 1.0000, 1.0000,\n",
      "        0.6667, 1.0000, 1.0000, 1.0000, 0.6667, 1.0000, 0.6667, 1.0000, 0.6667,\n",
      "        1.0000, 0.3333, 1.0000, 0.6667, 1.0000, 0.6667, 1.0000, 1.0000, 1.0000,\n",
      "        1.0000, 1.0000, 1.0000, 0.6667, 1.0000, 1.0000, 1.0000, 0.6667, 1.0000,\n",
      "        1.0000, 1.0000, 0.3333, 1.0000, 1.0000, 1.0000, 1.0000, 1.0000, 0.3333,\n",
      "        1.0000, 1.0000, 0.0000, 1.0000, 1.0000, 1.0000, 1.0000, 1.0000],\n",
      "       device='cuda:0')\n",
      "tensor([ 0.5256, -0.9406,  0.5256, -0.9406,  0.5256,  0.5256,  0.5256,  0.5256,\n",
      "         0.5256, -0.9406,  0.5256,  0.5256,  0.5256, -0.9406,  0.5256, -0.9406,\n",
      "         0.5256, -0.9406,  0.5256, -2.4068,  0.5256, -0.9406,  0.5256, -0.9406,\n",
      "         0.5256,  0.5256,  0.5256,  0.5256,  0.5256,  0.5256, -0.9406,  0.5256,\n",
      "         0.5256,  0.5256, -0.9406,  0.5256,  0.5256,  0.5256, -2.4068,  0.5256,\n",
      "         0.5256,  0.5256,  0.5256,  0.5256, -2.4068,  0.5256,  0.5256, -3.8730,\n",
      "         0.5256,  0.5256,  0.5256,  0.5256,  0.5256], device='cuda:0')\n",
      "✅ Rewards: 0.8805\n",
      "✅ Loss: 0.0055\n",
      "-------Question---------\n",
      "Julie is reading a 120-page book. Yesterday, she was able to read 12 pages and today, she read twice as many pages as yesterday. If she wants to read half of the remaining pages tomorrow, how many pages should she read?\n",
      "\n",
      "🧠 Inference Index 3\n",
      "🔍 Top-K Indices: [139, 95, 38, 197, 88, 221, 66, 63, 89, 56, 166, 200, 82, 8, 156, 45, 97, 59, 35, 159, 94, 55, 5, 150, 109, 164, 40, 160, 223, 117, 149, 92, 25, 51, 220, 41, 13, 233, 186, 99, 129, 145, 96, 161, 72, 135, 18, 86, 75, 251, 3, 211, 204]\n",
      "[INFO] Launching 159 parallel inference tasks...\n"
     ]
    },
    {
     "name": "stderr",
     "output_type": "stream",
     "text": []
    },
    {
     "name": "stdout",
     "output_type": "stream",
     "text": [
      "tensor([0., 0., 0., 0., 0., 0., 0., 0., 0., 0., 0., 0., 0., 0., 0., 0., 0., 0., 0., 0., 0., 0., 0., 0.,\n",
      "        0., 0., 0., 0., 0., 0., 0., 0., 0., 0., 0., 0., 0., 0., 0., 0., 0., 0., 0., 0., 0., 0., 0., 0.,\n",
      "        0., 0., 0., 0., 0.], device='cuda:0')\n",
      "tensor([0., 0., 0., 0., 0., 0., 0., 0., 0., 0., 0., 0., 0., 0., 0., 0., 0., 0., 0., 0., 0., 0., 0., 0.,\n",
      "        0., 0., 0., 0., 0., 0., 0., 0., 0., 0., 0., 0., 0., 0., 0., 0., 0., 0., 0., 0., 0., 0., 0., 0.,\n",
      "        0., 0., 0., 0., 0.], device='cuda:0')\n",
      "✅ Rewards: 0.0000\n",
      "✅ Loss: -0.0000\n",
      "-------Question---------\n",
      "James writes a 3-page letter to 2 different friends twice a week.  How many pages does he write a year?\n",
      "\n",
      "🧠 Inference Index 4\n",
      "🔍 Top-K Indices: [232, 120, 207, 73, 93, 196, 253, 135, 159, 6, 171, 29, 199, 101, 145, 35, 40, 60, 38, 86, 210, 21, 218, 49, 84, 72, 36, 14, 87, 140, 51, 53, 117, 204, 23, 215, 173, 8, 19, 44, 89, 203, 24, 13, 230, 100, 211, 80, 22, 247, 115, 149, 129]\n",
      "[INFO] Launching 159 parallel inference tasks...\n"
     ]
    },
    {
     "name": "stderr",
     "output_type": "stream",
     "text": []
    },
    {
     "name": "stdout",
     "output_type": "stream",
     "text": [
      "tensor([0.0000, 0.6667, 0.0000, 0.0000, 0.0000, 0.0000, 0.0000, 0.0000, 1.0000,\n",
      "        0.0000, 0.0000, 0.0000, 0.3333, 0.0000, 0.6667, 0.0000, 0.0000, 0.0000,\n",
      "        0.0000, 0.0000, 0.0000, 0.3333, 0.3333, 0.0000, 0.0000, 0.0000, 0.6667,\n",
      "        0.0000, 1.0000, 0.0000, 0.0000, 0.0000, 0.0000, 0.6667, 0.0000, 0.3333,\n",
      "        0.0000, 0.0000, 0.0000, 0.0000, 0.0000, 0.0000, 0.0000, 0.0000, 0.0000,\n",
      "        1.0000, 0.0000, 0.6667, 0.0000, 0.0000, 0.0000, 0.0000, 0.0000],\n",
      "       device='cuda:0')\n",
      "tensor([-0.4886,  1.7632, -0.4886, -0.4886, -0.4886, -0.4886, -0.4886, -0.4886,\n",
      "         2.8892, -0.4886, -0.4886, -0.4886,  0.6373, -0.4886,  1.7632, -0.4886,\n",
      "        -0.4886, -0.4886, -0.4886, -0.4886, -0.4886,  0.6373,  0.6373, -0.4886,\n",
      "        -0.4886, -0.4886,  1.7632, -0.4886,  2.8892, -0.4886, -0.4886, -0.4886,\n",
      "        -0.4886,  1.7632, -0.4886,  0.6373, -0.4886, -0.4886, -0.4886, -0.4886,\n",
      "        -0.4886, -0.4886, -0.4886, -0.4886, -0.4886,  2.8892, -0.4886,  1.7632,\n",
      "        -0.4886, -0.4886, -0.4886, -0.4886, -0.4886], device='cuda:0')\n",
      "✅ Rewards: 0.1447\n",
      "✅ Loss: -0.0529\n",
      "-------Question---------\n",
      "Mark has a garden with flowers. He planted plants of three different colors in it. Ten of them are yellow, and there are 80% more of those in purple. There are only 25% as many green flowers as there are yellow and purple flowers. How many flowers does Mark have in his garden?\n",
      "\n",
      "🧠 Inference Index 5\n",
      "🔍 Top-K Indices: [244, 54, 228, 42, 110, 170, 139, 5, 3, 251, 113, 15, 158, 92, 131, 178, 69, 180, 194, 238, 56, 34, 171, 241, 41, 202, 104, 201, 233, 2, 207, 154, 112, 74, 76, 22, 156, 18, 95, 135, 50, 89, 77, 40, 163, 133, 145, 85, 169, 137, 75, 105, 122]\n",
      "[INFO] Launching 159 parallel inference tasks...\n"
     ]
    },
    {
     "name": "stderr",
     "output_type": "stream",
     "text": []
    },
    {
     "name": "stdout",
     "output_type": "stream",
     "text": [
      "tensor([0.0000, 0.0000, 0.6667, 0.0000, 0.3333, 0.0000, 0.0000, 0.0000, 1.0000,\n",
      "        0.0000, 0.6667, 0.0000, 0.0000, 0.0000, 0.0000, 0.3333, 1.0000, 0.0000,\n",
      "        0.0000, 0.6667, 0.0000, 0.6667, 0.0000, 0.0000, 0.0000, 0.0000, 0.0000,\n",
      "        0.0000, 1.0000, 0.0000, 0.3333, 0.3333, 1.0000, 1.0000, 0.3333, 0.0000,\n",
      "        1.0000, 0.0000, 1.0000, 0.0000, 1.0000, 0.0000, 0.0000, 0.0000, 0.0000,\n",
      "        0.0000, 0.3333, 0.6667, 0.0000, 0.3333, 1.0000, 0.0000, 0.0000],\n",
      "       device='cuda:0')\n",
      "tensor([-0.7081, -0.7081,  0.9978, -0.7081,  0.1448, -0.7081, -0.7081, -0.7081,\n",
      "         1.8508, -0.7081,  0.9978, -0.7081, -0.7081, -0.7081, -0.7081,  0.1448,\n",
      "         1.8508, -0.7081, -0.7081,  0.9978, -0.7081,  0.9978, -0.7081, -0.7081,\n",
      "        -0.7081, -0.7081, -0.7081, -0.7081,  1.8508, -0.7081,  0.1448,  0.1448,\n",
      "         1.8508,  1.8508,  0.1448, -0.7081,  1.8508, -0.7081,  1.8508, -0.7081,\n",
      "         1.8508, -0.7081, -0.7081, -0.7081, -0.7081, -0.7081,  0.1448,  0.9978,\n",
      "        -0.7081,  0.1448,  1.8508, -0.7081, -0.7081], device='cuda:0')\n",
      "✅ Rewards: 0.2767\n",
      "✅ Loss: -0.0125\n",
      "-------Question---------\n",
      "Albert is wondering how much pizza he can eat in one day. He buys 2 large pizzas and 2 small pizzas. A large pizza has 16 slices and a small pizza has 8 slices. If he eats it all, how many pieces does he eat that day?\n",
      "\n",
      "🧠 Inference Index 6\n",
      "🔍 Top-K Indices: [203, 206, 159, 117, 157, 86, 14, 250, 225, 137, 95, 92, 249, 133, 154, 75, 93, 8, 50, 29, 69, 3, 85, 103, 4, 149, 156, 237, 233, 68, 82, 217, 77, 99, 128, 81, 51, 49, 64, 238, 232, 167, 228, 173, 185, 188, 30, 45, 235, 38, 58, 221, 201]\n",
      "[INFO] Launching 159 parallel inference tasks...\n"
     ]
    },
    {
     "name": "stderr",
     "output_type": "stream",
     "text": []
    },
    {
     "name": "stdout",
     "output_type": "stream",
     "text": [
      "tensor([1.0000, 1.0000, 1.0000, 0.3333, 1.0000, 1.0000, 1.0000, 1.0000, 1.0000,\n",
      "        1.0000, 1.0000, 1.0000, 1.0000, 0.6667, 1.0000, 1.0000, 0.6667, 1.0000,\n",
      "        1.0000, 1.0000, 1.0000, 1.0000, 1.0000, 1.0000, 1.0000, 0.6667, 1.0000,\n",
      "        1.0000, 1.0000, 1.0000, 1.0000, 0.3333, 1.0000, 1.0000, 0.3333, 1.0000,\n",
      "        0.3333, 1.0000, 1.0000, 1.0000, 1.0000, 1.0000, 1.0000, 0.6667, 1.0000,\n",
      "        1.0000, 1.0000, 1.0000, 1.0000, 1.0000, 0.6667, 1.0000, 0.6667],\n",
      "       device='cuda:0')\n",
      "tensor([ 0.4453,  0.4453,  0.4453, -2.9259,  0.4453,  0.4453,  0.4453,  0.4453,\n",
      "         0.4453,  0.4453,  0.4453,  0.4453,  0.4453, -1.2403,  0.4453,  0.4453,\n",
      "        -1.2403,  0.4453,  0.4453,  0.4453,  0.4453,  0.4453,  0.4453,  0.4453,\n",
      "         0.4453, -1.2403,  0.4453,  0.4453,  0.4453,  0.4453,  0.4453, -2.9259,\n",
      "         0.4453,  0.4453, -2.9259,  0.4453, -2.9259,  0.4453,  0.4453,  0.4453,\n",
      "         0.4453,  0.4453,  0.4453, -1.2403,  0.4453,  0.4453,  0.4453,  0.4453,\n",
      "         0.4453,  0.4453, -1.2403,  0.4453, -1.2403], device='cuda:0')\n",
      "✅ Rewards: 0.9119\n",
      "✅ Loss: 0.0978\n",
      "-------Question---------\n",
      "Ken created a care package to send to his brother, who was away at boarding school.  Ken placed a box on a scale, and then he poured into the box enough jelly beans to bring the weight to 2 pounds.  Then, he added enough brownies to cause the weight to triple.  Next, he added another 2 pounds of jelly beans.  And finally, he added enough gummy worms to double the weight once again.  What was the final weight of the box of goodies, in pounds?\n",
      "\n",
      "🧠 Inference Index 7\n",
      "🔍 Top-K Indices: [53, 96, 97, 116, 66, 162, 19, 26, 181, 91, 70, 237, 204, 72, 244, 177, 155, 253, 236, 23, 218, 90, 60, 198, 230, 252, 199, 100, 226, 58, 111, 43, 183, 38, 210, 242, 143, 102, 59, 136, 121, 193, 57, 251, 16, 10, 224, 56, 55, 31, 117, 48, 238]\n",
      "[INFO] Launching 159 parallel inference tasks...\n"
     ]
    },
    {
     "name": "stderr",
     "output_type": "stream",
     "text": []
    },
    {
     "name": "stdout",
     "output_type": "stream",
     "text": [
      "tensor([0.6667, 0.0000, 0.0000, 0.3333, 0.3333, 0.0000, 0.3333, 0.0000, 1.0000,\n",
      "        0.0000, 0.0000, 0.0000, 0.0000, 0.0000, 0.0000, 1.0000, 0.0000, 0.0000,\n",
      "        0.6667, 0.0000, 0.0000, 0.0000, 0.0000, 0.0000, 0.3333, 0.0000, 0.0000,\n",
      "        1.0000, 0.0000, 0.0000, 0.0000, 0.3333, 0.3333, 1.0000, 0.0000, 0.3333,\n",
      "        0.0000, 0.6667, 1.0000, 1.0000, 0.0000, 0.6667, 1.0000, 0.0000, 0.6667,\n",
      "        0.0000, 0.0000, 0.0000, 0.6667, 0.0000, 0.0000, 0.0000, 0.0000],\n",
      "       device='cuda:0')\n",
      "tensor([ 1.1241, -0.6813, -0.6813,  0.2214,  0.2214, -0.6813,  0.2214, -0.6813,\n",
      "         2.0269, -0.6813, -0.6813, -0.6813, -0.6813, -0.6813, -0.6813,  2.0269,\n",
      "        -0.6813, -0.6813,  1.1241, -0.6813, -0.6813, -0.6813, -0.6813, -0.6813,\n",
      "         0.2214, -0.6813, -0.6813,  2.0269, -0.6813, -0.6813, -0.6813,  0.2214,\n",
      "         0.2214,  2.0269, -0.6813,  0.2214, -0.6813,  1.1241,  2.0269,  2.0269,\n",
      "        -0.6813,  1.1241,  2.0269, -0.6813,  1.1241, -0.6813, -0.6813, -0.6813,\n",
      "         1.1241, -0.6813, -0.6813, -0.6813, -0.6813], device='cuda:0')\n",
      "✅ Rewards: 0.2516\n",
      "✅ Loss: 0.0885\n",
      "-------Question---------\n",
      "Alexis is applying for a new job and bought a new set of business clothes to wear to the interview. She went to a department store with a budget of $200 and spent $30 on a button-up shirt, $46 on suit pants, $38 on a suit coat, $11 on socks, and $18 on a belt. She also purchased a pair of shoes, but lost the receipt for them. She has $16 left from her budget. How much did Alexis pay for the shoes?\n",
      "\n",
      "🧠 Inference Index 8\n",
      "🔍 Top-K Indices: [10, 115, 100, 226, 16, 62, 106, 26, 24, 248, 12, 177, 165, 96, 138, 116, 7, 183, 130, 193, 60, 97, 234, 174, 218, 229, 19, 246, 242, 215, 236, 31, 204, 70, 159, 143, 252, 44, 136, 211, 224, 71, 121, 43, 111, 23, 53, 66, 80, 237, 98, 32, 162]\n",
      "[INFO] Launching 159 parallel inference tasks...\n"
     ]
    },
    {
     "name": "stderr",
     "output_type": "stream",
     "text": []
    },
    {
     "name": "stdout",
     "output_type": "stream",
     "text": [
      "tensor([1.0000, 0.3333, 0.6667, 1.0000, 0.0000, 0.6667, 0.6667, 1.0000, 1.0000,\n",
      "        0.3333, 0.6667, 0.0000, 1.0000, 1.0000, 1.0000, 1.0000, 0.0000, 1.0000,\n",
      "        1.0000, 1.0000, 0.6667, 1.0000, 0.3333, 0.3333, 1.0000, 1.0000, 1.0000,\n",
      "        1.0000, 0.3333, 0.0000, 0.3333, 0.3333, 1.0000, 1.0000, 0.6667, 0.3333,\n",
      "        1.0000, 1.0000, 1.0000, 0.6667, 1.0000, 1.0000, 0.6667, 1.0000, 1.0000,\n",
      "        0.3333, 0.3333, 1.0000, 0.0000, 1.0000, 0.6667, 1.0000, 0.3333],\n",
      "       device='cuda:0')\n",
      "tensor([ 0.8213, -1.0712, -0.1250,  0.8213, -2.0175, -0.1250, -0.1250,  0.8213,\n",
      "         0.8213, -1.0712, -0.1250, -2.0175,  0.8213,  0.8213,  0.8213,  0.8213,\n",
      "        -2.0175,  0.8213,  0.8213,  0.8213, -0.1250,  0.8213, -1.0712, -1.0712,\n",
      "         0.8213,  0.8213,  0.8213,  0.8213, -1.0712, -2.0175, -1.0712, -1.0712,\n",
      "         0.8213,  0.8213, -0.1250, -1.0712,  0.8213,  0.8213,  0.8213, -0.1250,\n",
      "         0.8213,  0.8213, -0.1250,  0.8213,  0.8213, -1.0712, -1.0712,  0.8213,\n",
      "        -2.0175,  0.8213, -0.1250,  0.8213, -1.0712], device='cuda:0')\n",
      "✅ Rewards: 0.7107\n",
      "✅ Loss: -0.1028\n",
      "-------Question---------\n",
      "Tina makes $18.00 an hour.  If she works more than 8 hours per shift, she is eligible for overtime, which is paid by your hourly wage + 1/2 your hourly wage.  If she works 10 hours every day for 5 days, how much money does she make?\n",
      "\n",
      "🧠 Inference Index 9\n",
      "🔍 Top-K Indices: [159, 86, 6, 117, 204, 197, 88, 178, 37, 190, 48, 233, 210, 81, 194, 39, 152, 235, 219, 119, 38, 14, 69, 49, 188, 181, 35, 3, 102, 94, 241, 17, 76, 250, 52, 65, 238, 220, 200, 147, 40, 186, 110, 79, 89, 228, 103, 215, 73, 189, 121, 208, 1]\n",
      "[INFO] Launching 159 parallel inference tasks...\n"
     ]
    },
    {
     "name": "stderr",
     "output_type": "stream",
     "text": []
    },
    {
     "name": "stdout",
     "output_type": "stream",
     "text": [
      "tensor([0., 0., 0., 0., 0., 0., 0., 0., 0., 0., 0., 0., 0., 0., 0., 0., 0., 0., 0., 0., 0., 0., 0., 0.,\n",
      "        0., 0., 0., 0., 0., 0., 0., 0., 0., 0., 0., 0., 0., 0., 0., 0., 0., 0., 0., 0., 0., 0., 0., 0.,\n",
      "        0., 0., 0., 0., 0.], device='cuda:0')\n",
      "tensor([0., 0., 0., 0., 0., 0., 0., 0., 0., 0., 0., 0., 0., 0., 0., 0., 0., 0., 0., 0., 0., 0., 0., 0.,\n",
      "        0., 0., 0., 0., 0., 0., 0., 0., 0., 0., 0., 0., 0., 0., 0., 0., 0., 0., 0., 0., 0., 0., 0., 0.,\n",
      "        0., 0., 0., 0., 0.], device='cuda:0')\n",
      "✅ Rewards: 0.0000\n",
      "✅ Loss: -0.0000\n",
      "-------Question---------\n",
      "A deep-sea monster rises from the waters once every hundred years to feast on a ship and sate its hunger. Over three hundred years, it has consumed 847 people. Ships have been built larger over time, so each new ship has twice as many people as the last ship. How many people were on the ship the monster ate in the first hundred years?\n",
      "\n",
      "🧠 Inference Index 10\n",
      "🔍 Top-K Indices: [62, 16, 224, 246, 96, 174, 121, 31, 115, 138, 58, 7, 143, 210, 98, 231, 182, 111, 248, 19, 38, 165, 183, 187, 100, 66, 252, 166, 23, 8, 24, 141, 97, 177, 60, 198, 102, 204, 37, 234, 162, 72, 135, 130, 211, 91, 57, 139, 70, 106, 80, 45, 144]\n",
      "[INFO] Launching 159 parallel inference tasks...\n"
     ]
    },
    {
     "name": "stderr",
     "output_type": "stream",
     "text": []
    },
    {
     "name": "stdout",
     "output_type": "stream",
     "text": [
      "tensor([0.0000, 0.0000, 0.0000, 0.3333, 0.0000, 0.6667, 0.0000, 0.0000, 0.0000,\n",
      "        0.0000, 0.0000, 1.0000, 0.0000, 1.0000, 0.3333, 0.0000, 0.0000, 0.6667,\n",
      "        0.0000, 0.0000, 0.0000, 0.0000, 0.3333, 0.0000, 0.0000, 0.3333, 0.0000,\n",
      "        0.0000, 0.0000, 0.0000, 0.0000, 0.0000, 0.0000, 0.0000, 0.0000, 0.0000,\n",
      "        0.0000, 0.0000, 0.0000, 0.0000, 0.0000, 0.0000, 0.0000, 0.0000, 0.0000,\n",
      "        0.0000, 0.3333, 0.0000, 0.0000, 0.0000, 0.6667, 0.0000, 0.0000],\n",
      "       device='cuda:0')\n",
      "tensor([-0.4255, -0.4255, -0.4255,  0.9011, -0.4255,  2.2277, -0.4255, -0.4255,\n",
      "        -0.4255, -0.4255, -0.4255,  3.5543, -0.4255,  3.5543,  0.9011, -0.4255,\n",
      "        -0.4255,  2.2277, -0.4255, -0.4255, -0.4255, -0.4255,  0.9011, -0.4255,\n",
      "        -0.4255,  0.9011, -0.4255, -0.4255, -0.4255, -0.4255, -0.4255, -0.4255,\n",
      "        -0.4255, -0.4255, -0.4255, -0.4255, -0.4255, -0.4255, -0.4255, -0.4255,\n",
      "        -0.4255, -0.4255, -0.4255, -0.4255, -0.4255, -0.4255,  0.9011, -0.4255,\n",
      "        -0.4255, -0.4255,  2.2277, -0.4255, -0.4255], device='cuda:0')\n",
      "✅ Rewards: 0.1069\n",
      "✅ Loss: 0.0001\n",
      "-------Question---------\n",
      "Tobias is buying a new pair of shoes that costs $95. He has been saving up his money each month for the past three months. He gets a $5 allowance a month. He also mows lawns and shovels driveways. He charges $15 to mow a lawn and $7 to shovel. After buying the shoes, he has $15 in change. If he mows 4 lawns, how many driveways did he shovel?\n",
      "\n",
      "🧠 Inference Index 11\n",
      "🔍 Top-K Indices: [211, 12, 115, 49, 177, 23, 100, 9, 218, 186, 237, 98, 173, 106, 24, 7, 127, 130, 246, 224, 204, 62, 116, 193, 215, 60, 36, 53, 143, 234, 72, 229, 66, 198, 58, 233, 121, 80, 181, 248, 16, 31, 231, 14, 251, 168, 37, 138, 126, 65, 97, 38, 236]\n",
      "[INFO] Launching 159 parallel inference tasks...\n"
     ]
    },
    {
     "name": "stderr",
     "output_type": "stream",
     "text": []
    },
    {
     "name": "stdout",
     "output_type": "stream",
     "text": [
      "tensor([0.0000, 0.0000, 0.0000, 0.0000, 0.0000, 0.0000, 0.0000, 0.0000, 0.0000,\n",
      "        0.0000, 0.3333, 0.0000, 0.0000, 0.0000, 0.0000, 0.0000, 0.0000, 0.0000,\n",
      "        0.0000, 0.0000, 0.0000, 0.0000, 0.0000, 0.0000, 0.0000, 0.0000, 0.0000,\n",
      "        0.3333, 0.0000, 0.0000, 0.0000, 0.0000, 0.0000, 0.6667, 0.0000, 0.0000,\n",
      "        0.3333, 0.0000, 0.0000, 0.0000, 0.0000, 0.0000, 0.0000, 0.0000, 0.0000,\n",
      "        0.0000, 0.0000, 0.6667, 0.0000, 0.0000, 0.0000, 0.0000, 0.0000],\n",
      "       device='cuda:0')\n",
      "tensor([-0.3000, -0.3000, -0.3000, -0.3000, -0.3000, -0.3000, -0.3000, -0.3000,\n",
      "        -0.3000, -0.3000,  1.9717, -0.3000, -0.3000, -0.3000, -0.3000, -0.3000,\n",
      "        -0.3000, -0.3000, -0.3000, -0.3000, -0.3000, -0.3000, -0.3000, -0.3000,\n",
      "        -0.3000, -0.3000, -0.3000,  1.9717, -0.3000, -0.3000, -0.3000, -0.3000,\n",
      "        -0.3000,  4.2435, -0.3000, -0.3000,  1.9717, -0.3000, -0.3000, -0.3000,\n",
      "        -0.3000, -0.3000, -0.3000, -0.3000, -0.3000, -0.3000, -0.3000,  4.2435,\n",
      "        -0.3000, -0.3000, -0.3000, -0.3000, -0.3000], device='cuda:0')\n",
      "✅ Rewards: 0.0440\n",
      "✅ Loss: 0.0752\n",
      "-------Question---------\n",
      "Randy has 60 mango trees on his farm. He also has 5 less than half as many coconut trees as mango trees. How many trees does Randy have in all on his farm?\n",
      "\n",
      "🧠 Inference Index 12\n",
      "🔍 Top-K Indices: [145, 5, 40, 94, 247, 52, 166, 51, 171, 2, 82, 202, 204, 104, 233, 117, 19, 21, 159, 69, 81, 182, 83, 156, 64, 184, 232, 240, 131, 95, 38, 34, 29, 154, 178, 18, 97, 222, 70, 14, 185, 152, 241, 13, 112, 89, 55, 56, 61, 128, 124, 248, 68]\n",
      "[INFO] Launching 159 parallel inference tasks...\n"
     ]
    },
    {
     "name": "stderr",
     "output_type": "stream",
     "text": []
    },
    {
     "name": "stdout",
     "output_type": "stream",
     "text": [
      "tensor([0.0000, 1.0000, 1.0000, 0.0000, 1.0000, 1.0000, 0.0000, 0.0000, 0.0000,\n",
      "        0.3333, 0.6667, 1.0000, 1.0000, 0.6667, 0.6667, 0.0000, 0.6667, 1.0000,\n",
      "        0.6667, 1.0000, 0.3333, 1.0000, 0.0000, 0.0000, 0.3333, 0.3333, 0.6667,\n",
      "        0.0000, 0.6667, 1.0000, 1.0000, 1.0000, 1.0000, 0.3333, 0.0000, 0.0000,\n",
      "        0.0000, 0.6667, 1.0000, 0.6667, 1.0000, 1.0000, 0.6667, 0.6667, 1.0000,\n",
      "        1.0000, 1.0000, 1.0000, 0.3333, 1.0000, 0.6667, 1.0000, 1.0000],\n",
      "       device='cuda:0')\n",
      "tensor([-1.5443,  0.9360,  0.9360, -1.5443,  0.9360,  0.9360, -1.5443, -1.5443,\n",
      "        -1.5443, -0.7176,  0.1092,  0.9360,  0.9360,  0.1092,  0.1092, -1.5443,\n",
      "         0.1092,  0.9360,  0.1092,  0.9360, -0.7176,  0.9360, -1.5443, -1.5443,\n",
      "        -0.7176, -0.7176,  0.1092, -1.5443,  0.1092,  0.9360,  0.9360,  0.9360,\n",
      "         0.9360, -0.7176, -1.5443, -1.5443, -1.5443,  0.1092,  0.9360,  0.1092,\n",
      "         0.9360,  0.9360,  0.1092,  0.1092,  0.9360,  0.9360,  0.9360,  0.9360,\n",
      "        -0.7176,  0.9360,  0.1092,  0.9360,  0.9360], device='cuda:0')\n",
      "✅ Rewards: 0.6226\n",
      "✅ Loss: -0.0693\n",
      "-------Question---------\n",
      "Jasper will serve charcuterie at his dinner party. He buys 2 pounds of cheddar cheese for $10, a pound of cream cheese that cost half the price of the cheddar cheese, and a pack of cold cuts that cost twice the price of the cheddar cheese. How much does he spend on the ingredients?\n",
      "\n",
      "🧠 Inference Index 13\n",
      "🔍 Top-K Indices: [7, 177, 62, 58, 234, 253, 226, 204, 70, 215, 37, 123, 111, 211, 143, 238, 138, 26, 86, 121, 91, 90, 38, 242, 19, 72, 159, 165, 122, 236, 100, 82, 36, 48, 40, 53, 98, 224, 186, 74, 252, 43, 222, 21, 105, 44, 11, 133, 32, 79, 49, 96, 174]\n",
      "[INFO] Launching 159 parallel inference tasks...\n"
     ]
    },
    {
     "name": "stderr",
     "output_type": "stream",
     "text": []
    },
    {
     "name": "stdout",
     "output_type": "stream",
     "text": [
      "tensor([0.0000, 0.3333, 0.0000, 0.0000, 0.0000, 0.6667, 0.3333, 0.0000, 0.0000,\n",
      "        0.0000, 0.0000, 0.0000, 0.0000, 0.0000, 0.0000, 0.0000, 0.0000, 0.0000,\n",
      "        0.0000, 1.0000, 0.0000, 0.0000, 0.3333, 0.0000, 0.0000, 0.0000, 0.0000,\n",
      "        0.0000, 0.0000, 0.0000, 0.0000, 0.0000, 0.0000, 0.0000, 0.0000, 0.0000,\n",
      "        0.3333, 0.0000, 0.0000, 0.0000, 0.0000, 0.0000, 0.0000, 0.0000, 0.0000,\n",
      "        0.0000, 0.0000, 0.0000, 0.0000, 0.0000, 0.0000, 0.0000, 0.0000],\n",
      "       device='cuda:0')\n",
      "tensor([-0.3113,  1.5220, -0.3113, -0.3113, -0.3113,  3.3553,  1.5220, -0.3113,\n",
      "        -0.3113, -0.3113, -0.3113, -0.3113, -0.3113, -0.3113, -0.3113, -0.3113,\n",
      "        -0.3113, -0.3113, -0.3113,  5.1886, -0.3113, -0.3113,  1.5220, -0.3113,\n",
      "        -0.3113, -0.3113, -0.3113, -0.3113, -0.3113, -0.3113, -0.3113, -0.3113,\n",
      "        -0.3113, -0.3113, -0.3113, -0.3113,  1.5220, -0.3113, -0.3113, -0.3113,\n",
      "        -0.3113, -0.3113, -0.3113, -0.3113, -0.3113, -0.3113, -0.3113, -0.3113,\n",
      "        -0.3113, -0.3113, -0.3113, -0.3113, -0.3113], device='cuda:0')\n",
      "✅ Rewards: 0.0566\n",
      "✅ Loss: -0.0006\n",
      "-------Question---------\n",
      "Joy can read 8 pages of a book in 20 minutes. How many hours will it take her to read 120 pages?\n",
      "\n",
      "🧠 Inference Index 14\n",
      "🔍 Top-K Indices: [251, 254, 119, 29, 221, 3, 85, 161, 202, 194, 235, 55, 250, 137, 92, 197, 152, 120, 146, 140, 222, 71, 6, 94, 81, 168, 76, 68, 2, 201, 156, 86, 188, 91, 207, 83, 147, 228, 14, 82, 38, 212, 111, 142, 128, 47, 50, 182, 172, 247, 61, 109, 4]\n",
      "[INFO] Launching 159 parallel inference tasks...\n"
     ]
    },
    {
     "name": "stderr",
     "output_type": "stream",
     "text": []
    },
    {
     "name": "stdout",
     "output_type": "stream",
     "text": [
      "tensor([0.3333, 0.3333, 1.0000, 0.0000, 0.0000, 0.6667, 0.0000, 0.6667, 0.6667,\n",
      "        1.0000, 0.0000, 0.0000, 0.0000, 0.0000, 0.0000, 1.0000, 0.0000, 0.0000,\n",
      "        1.0000, 0.0000, 0.6667, 1.0000, 0.0000, 0.0000, 0.0000, 0.0000, 0.0000,\n",
      "        0.0000, 0.0000, 0.0000, 0.6667, 0.0000, 0.0000, 0.6667, 0.0000, 0.3333,\n",
      "        0.0000, 0.0000, 0.0000, 0.0000, 0.0000, 0.0000, 0.3333, 0.0000, 0.0000,\n",
      "        0.3333, 0.0000, 0.0000, 0.3333, 1.0000, 0.0000, 0.0000, 0.0000],\n",
      "       device='cuda:0')\n",
      "tensor([ 0.2997,  0.2997,  2.1687, -0.6347, -0.6347,  1.2342, -0.6347,  1.2342,\n",
      "         1.2342,  2.1687, -0.6347, -0.6347, -0.6347, -0.6347, -0.6347,  2.1687,\n",
      "        -0.6347, -0.6347,  2.1687, -0.6347,  1.2342,  2.1687, -0.6347, -0.6347,\n",
      "        -0.6347, -0.6347, -0.6347, -0.6347, -0.6347, -0.6347,  1.2342, -0.6347,\n",
      "        -0.6347,  1.2342, -0.6347,  0.2997, -0.6347, -0.6347, -0.6347, -0.6347,\n",
      "        -0.6347, -0.6347,  0.2997, -0.6347, -0.6347,  0.2997, -0.6347, -0.6347,\n",
      "         0.2997,  2.1687, -0.6347, -0.6347, -0.6347], device='cuda:0')\n",
      "✅ Rewards: 0.2264\n",
      "✅ Loss: 0.0372\n",
      "-------Question---------\n",
      "James creates a media empire.  He creates a movie for $2000.  Each DVD cost $6 to make.  He sells it for 2.5 times that much.  He sells 500 movies a day for 5 days a week.  How much profit does he make in 20 weeks?\n",
      "\n",
      "🧠 Inference Index 15\n",
      "🔍 Top-K Indices: [247, 194, 94, 28, 133, 205, 157, 49, 95, 3, 159, 99, 86, 81, 23, 161, 82, 160, 156, 70, 228, 30, 71, 226, 1, 129, 76, 204, 64, 59, 112, 79, 190, 65, 203, 44, 9, 15, 67, 179, 91, 117, 147, 29, 185, 56, 180, 154, 201, 149, 168, 151, 195]\n",
      "[INFO] Launching 159 parallel inference tasks...\n"
     ]
    },
    {
     "name": "stderr",
     "output_type": "stream",
     "text": []
    },
    {
     "name": "stdout",
     "output_type": "stream",
     "text": [
      "tensor([0., 0., 0., 0., 0., 0., 0., 0., 0., 0., 0., 0., 0., 0., 0., 0., 0., 0., 0., 0., 0., 0., 0., 0.,\n",
      "        0., 0., 0., 0., 0., 0., 0., 0., 0., 0., 0., 0., 0., 0., 0., 0., 0., 0., 0., 0., 0., 0., 0., 0.,\n",
      "        0., 0., 0., 0., 0.], device='cuda:0')\n",
      "tensor([0., 0., 0., 0., 0., 0., 0., 0., 0., 0., 0., 0., 0., 0., 0., 0., 0., 0., 0., 0., 0., 0., 0., 0.,\n",
      "        0., 0., 0., 0., 0., 0., 0., 0., 0., 0., 0., 0., 0., 0., 0., 0., 0., 0., 0., 0., 0., 0., 0., 0.,\n",
      "        0., 0., 0., 0., 0.], device='cuda:0')\n",
      "✅ Rewards: 0.0000\n",
      "✅ Loss: -0.0000\n",
      "-------Question---------\n",
      "The profit from a business transaction is shared among 2 business partners, Mike and Johnson in the ratio 2:5 respectively. If Johnson got $2500, how much will Mike have after spending some of his share on a shirt that costs $200?\n",
      "\n",
      "🧠 Inference Index 16\n",
      "🔍 Top-K Indices: [161, 159, 222, 207, 83, 119, 6, 245, 81, 86, 156, 55, 211, 105, 79, 64, 49, 118, 139, 203, 82, 244, 15, 37, 75, 228, 219, 51, 99, 3, 77, 225, 179, 147, 109, 72, 241, 53, 94, 199, 136, 184, 137, 151, 172, 58, 144, 88, 35, 170, 128, 233, 133]\n",
      "[INFO] Launching 159 parallel inference tasks...\n"
     ]
    },
    {
     "name": "stderr",
     "output_type": "stream",
     "text": []
    },
    {
     "name": "stdout",
     "output_type": "stream",
     "text": [
      "tensor([0.0000, 0.0000, 0.0000, 0.0000, 0.0000, 0.0000, 0.0000, 0.0000, 0.0000,\n",
      "        0.0000, 0.0000, 0.0000, 0.0000, 0.3333, 0.0000, 0.0000, 0.0000, 0.3333,\n",
      "        0.0000, 0.0000, 0.0000, 0.0000, 0.0000, 0.0000, 0.6667, 0.0000, 0.0000,\n",
      "        0.3333, 0.0000, 0.0000, 0.0000, 0.0000, 0.0000, 0.0000, 0.0000, 0.0000,\n",
      "        0.0000, 0.0000, 0.0000, 0.0000, 0.0000, 0.0000, 0.0000, 0.0000, 0.0000,\n",
      "        0.0000, 0.0000, 0.0000, 0.0000, 0.0000, 0.0000, 0.3333, 0.0000],\n",
      "       device='cuda:0')\n",
      "tensor([-0.3017, -0.3017, -0.3017, -0.3017, -0.3017, -0.3017, -0.3017, -0.3017,\n",
      "        -0.3017, -0.3017, -0.3017, -0.3017, -0.3017,  2.3634, -0.3017, -0.3017,\n",
      "        -0.3017,  2.3634, -0.3017, -0.3017, -0.3017, -0.3017, -0.3017, -0.3017,\n",
      "         5.0286, -0.3017, -0.3017,  2.3634, -0.3017, -0.3017, -0.3017, -0.3017,\n",
      "        -0.3017, -0.3017, -0.3017, -0.3017, -0.3017, -0.3017, -0.3017, -0.3017,\n",
      "        -0.3017, -0.3017, -0.3017, -0.3017, -0.3017, -0.3017, -0.3017, -0.3017,\n",
      "        -0.3017, -0.3017, -0.3017,  2.3634, -0.3017], device='cuda:0')\n",
      "✅ Rewards: 0.0377\n",
      "✅ Loss: -0.0321\n",
      "-------Question---------\n",
      "In a truck, there are 26 pink hard hats, 15 green hard hats, and 24 yellow hard hats.  If Carl takes away 4 pink hard hats, and John takes away 6 pink hard hats and twice as many green hard hats as the number of pink hard hats that he removed, then calculate the total number of hard hats that remained in the truck.\n",
      "\n",
      "🧠 Inference Index 17\n",
      "🔍 Top-K Indices: [23, 8, 248, 60, 252, 11, 182, 106, 115, 66, 174, 246, 253, 58, 116, 90, 165, 166, 96, 10, 24, 44, 100, 13, 130, 224, 31, 32, 38, 177, 211, 36, 57, 143, 62, 56, 53, 229, 45, 43, 138, 234, 7, 230, 99, 161, 19, 238, 204, 186, 193, 150, 102]\n",
      "[INFO] Launching 159 parallel inference tasks...\n"
     ]
    },
    {
     "name": "stderr",
     "output_type": "stream",
     "text": []
    },
    {
     "name": "stdout",
     "output_type": "stream",
     "text": [
      "tensor([0.0000, 0.0000, 0.0000, 0.3333, 0.0000, 0.6667, 0.0000, 0.0000, 0.0000,\n",
      "        0.0000, 0.0000, 0.0000, 0.3333, 0.0000, 0.3333, 0.0000, 0.0000, 0.0000,\n",
      "        0.0000, 0.0000, 1.0000, 0.0000, 0.0000, 0.6667, 0.0000, 0.0000, 0.0000,\n",
      "        0.0000, 0.6667, 0.0000, 0.6667, 0.0000, 0.0000, 0.0000, 0.0000, 0.0000,\n",
      "        0.0000, 0.3333, 0.0000, 0.0000, 0.0000, 0.0000, 0.0000, 0.0000, 0.0000,\n",
      "        0.3333, 1.0000, 0.0000, 0.0000, 0.0000, 0.0000, 0.0000, 0.0000],\n",
      "       device='cuda:0')\n",
      "tensor([-0.4556, -0.4556, -0.4556,  0.8154, -0.4556,  2.0864, -0.4556, -0.4556,\n",
      "        -0.4556, -0.4556, -0.4556, -0.4556,  0.8154, -0.4556,  0.8154, -0.4556,\n",
      "        -0.4556, -0.4556, -0.4556, -0.4556,  3.3574, -0.4556, -0.4556,  2.0864,\n",
      "        -0.4556, -0.4556, -0.4556, -0.4556,  2.0864, -0.4556,  2.0864, -0.4556,\n",
      "        -0.4556, -0.4556, -0.4556, -0.4556, -0.4556,  0.8154, -0.4556, -0.4556,\n",
      "        -0.4556, -0.4556, -0.4556, -0.4556, -0.4556,  0.8154,  3.3574, -0.4556,\n",
      "        -0.4556, -0.4556, -0.4556, -0.4556, -0.4556], device='cuda:0')\n",
      "✅ Rewards: 0.1195\n",
      "✅ Loss: 0.1372\n",
      "-------Question---------\n",
      "It takes Roque two hours to walk to work and one hour to ride his bike to work. Roque walks to and from work three times a week and rides his bike to and from work twice a week. How many hours in total does he take to get to and from work a week with walking and biking?\n",
      "\n",
      "🧠 Inference Index 18\n",
      "🔍 Top-K Indices: [18, 249, 207, 85, 78, 74, 55, 3, 110, 173, 145, 99, 128, 68, 48, 245, 243, 195, 222, 220, 180, 179, 61, 172, 75, 140, 253, 228, 83, 247, 56, 59, 7, 15, 64, 86, 248, 227, 156, 133, 164, 51, 153, 105, 152, 69, 181, 29, 88, 5, 157, 112, 91]\n",
      "[INFO] Launching 159 parallel inference tasks...\n"
     ]
    },
    {
     "name": "stderr",
     "output_type": "stream",
     "text": []
    },
    {
     "name": "stdout",
     "output_type": "stream",
     "text": [
      "tensor([0.0000, 0.0000, 0.0000, 0.0000, 0.0000, 0.0000, 0.0000, 0.0000, 0.0000,\n",
      "        0.0000, 0.0000, 0.0000, 0.0000, 0.0000, 0.3333, 0.0000, 0.0000, 0.0000,\n",
      "        0.0000, 0.0000, 0.0000, 0.0000, 0.0000, 0.0000, 0.0000, 0.0000, 0.0000,\n",
      "        0.0000, 1.0000, 0.0000, 0.0000, 0.0000, 0.0000, 0.0000, 1.0000, 0.3333,\n",
      "        0.0000, 0.0000, 0.3333, 0.0000, 0.0000, 0.0000, 0.0000, 0.0000, 0.0000,\n",
      "        0.0000, 0.0000, 0.0000, 0.0000, 0.0000, 0.0000, 0.0000, 0.0000],\n",
      "       device='cuda:0')\n",
      "tensor([-0.2775, -0.2775, -0.2775, -0.2775, -0.2775, -0.2775, -0.2775, -0.2775,\n",
      "        -0.2775, -0.2775, -0.2775, -0.2775, -0.2775, -0.2775,  1.3567, -0.2775,\n",
      "        -0.2775, -0.2775, -0.2775, -0.2775, -0.2775, -0.2775, -0.2775, -0.2775,\n",
      "        -0.2775, -0.2775, -0.2775, -0.2775,  4.6250, -0.2775, -0.2775, -0.2775,\n",
      "        -0.2775, -0.2775,  4.6250,  1.3567, -0.2775, -0.2775,  1.3567, -0.2775,\n",
      "        -0.2775, -0.2775, -0.2775, -0.2775, -0.2775, -0.2775, -0.2775, -0.2775,\n",
      "        -0.2775, -0.2775, -0.2775, -0.2775, -0.2775], device='cuda:0')\n",
      "✅ Rewards: 0.0566\n",
      "✅ Loss: -0.0110\n",
      "-------Question---------\n",
      "Tim rides his bike back and forth to work for each of his 5 workdays.  His work is 20 miles away.  He also goes for a weekend bike ride of 200 miles.    If he can bike at 25 mph how much time does he spend biking a week?\n",
      "\n",
      "🧠 Inference Index 19\n",
      "🔍 Top-K Indices: [9, 157, 70, 74, 25, 95, 252, 228, 55, 14, 147, 59, 93, 164, 61, 211, 219, 204, 6, 103, 18, 156, 89, 40, 91, 11, 209, 202, 244, 94, 19, 235, 198, 124, 72, 56, 197, 140, 220, 155, 233, 64, 232, 101, 86, 69, 221, 215, 203, 45, 137, 90, 3]\n",
      "[INFO] Launching 159 parallel inference tasks...\n"
     ]
    },
    {
     "name": "stderr",
     "output_type": "stream",
     "text": [
      "Examples: 100%|██████████| 20/20 [02:45<00:00,  8.27s/it]\n",
      "Training Steps:  30%|███       | 3/10 [08:18<19:19, 165.65s/it]"
     ]
    },
    {
     "name": "stdout",
     "output_type": "stream",
     "text": [
      "tensor([0.0000, 0.0000, 0.0000, 0.0000, 0.3333, 0.0000, 0.0000, 0.3333, 0.0000,\n",
      "        0.0000, 0.0000, 0.3333, 0.3333, 0.3333, 1.0000, 0.0000, 0.0000, 0.0000,\n",
      "        0.0000, 0.0000, 0.0000, 0.0000, 0.0000, 1.0000, 0.0000, 0.3333, 0.0000,\n",
      "        0.6667, 0.0000, 0.0000, 0.0000, 0.3333, 0.3333, 0.3333, 0.0000, 0.0000,\n",
      "        0.3333, 0.6667, 0.6667, 1.0000, 0.3333, 0.0000, 0.0000, 0.0000, 0.0000,\n",
      "        0.0000, 0.0000, 0.0000, 0.3333, 0.0000, 0.0000, 0.0000, 0.3333],\n",
      "       device='cuda:0')\n",
      "tensor([-0.6246, -0.6246, -0.6246, -0.6246,  0.5576, -0.6246, -0.6246,  0.5576,\n",
      "        -0.6246, -0.6246, -0.6246,  0.5576,  0.5576,  0.5576,  2.9220, -0.6246,\n",
      "        -0.6246, -0.6246, -0.6246, -0.6246, -0.6246, -0.6246, -0.6246,  2.9220,\n",
      "        -0.6246,  0.5576, -0.6246,  1.7398, -0.6246, -0.6246, -0.6246,  0.5576,\n",
      "         0.5576,  0.5576, -0.6246, -0.6246,  0.5576,  1.7398,  1.7398,  2.9220,\n",
      "         0.5576, -0.6246, -0.6246, -0.6246, -0.6246, -0.6246, -0.6246, -0.6246,\n",
      "         0.5576, -0.6246, -0.6246, -0.6246,  0.5576], device='cuda:0')\n",
      "✅ Rewards: 0.1761\n",
      "✅ Loss: -0.0011\n",
      "\n",
      "=== Training Step 4 ===\n"
     ]
    },
    {
     "name": "stderr",
     "output_type": "stream",
     "text": []
    },
    {
     "name": "stdout",
     "output_type": "stream",
     "text": [
      "-------Question---------\n",
      "Natalia sold clips to 48 of her friends in April, and then she sold half as many clips in May. How many clips did Natalia sell altogether in April and May?\n",
      "\n",
      "🧠 Inference Index 0\n",
      "🔍 Top-K Indices: [158, 160, 99, 228, 82, 4, 157, 233, 207, 50, 142, 122, 194, 201, 155, 197, 18, 109, 159, 19, 65, 69, 135, 218, 202, 30, 210, 81, 63, 85, 250, 164, 1, 83, 105, 101, 173, 52, 232, 127, 151, 15, 104, 219, 226, 48, 245, 76, 56, 168, 51, 75, 38]\n",
      "[INFO] Launching 159 parallel inference tasks...\n"
     ]
    },
    {
     "name": "stderr",
     "output_type": "stream",
     "text": []
    },
    {
     "name": "stdout",
     "output_type": "stream",
     "text": [
      "tensor([0.0000, 1.0000, 1.0000, 1.0000, 1.0000, 1.0000, 1.0000, 1.0000, 1.0000,\n",
      "        0.3333, 0.6667, 1.0000, 0.3333, 0.0000, 1.0000, 1.0000, 1.0000, 0.3333,\n",
      "        1.0000, 1.0000, 1.0000, 1.0000, 1.0000, 1.0000, 0.3333, 1.0000, 1.0000,\n",
      "        0.0000, 1.0000, 0.0000, 0.0000, 1.0000, 1.0000, 1.0000, 1.0000, 1.0000,\n",
      "        0.6667, 1.0000, 1.0000, 1.0000, 1.0000, 1.0000, 1.0000, 1.0000, 0.0000,\n",
      "        1.0000, 0.3333, 1.0000, 1.0000, 0.6667, 1.0000, 1.0000, 1.0000],\n",
      "       device='cuda:0')\n",
      "tensor([-2.2698,  0.5497,  0.5497,  0.5497,  0.5497,  0.5497,  0.5497,  0.5497,\n",
      "         0.5497, -1.3300, -0.3901,  0.5497, -1.3300, -2.2698,  0.5497,  0.5497,\n",
      "         0.5497, -1.3300,  0.5497,  0.5497,  0.5497,  0.5497,  0.5497,  0.5497,\n",
      "        -1.3300,  0.5497,  0.5497, -2.2698,  0.5497, -2.2698, -2.2698,  0.5497,\n",
      "         0.5497,  0.5497,  0.5497,  0.5497, -0.3901,  0.5497,  0.5497,  0.5497,\n",
      "         0.5497,  0.5497,  0.5497,  0.5497, -2.2698,  0.5497, -1.3300,  0.5497,\n",
      "         0.5497, -0.3901,  0.5497,  0.5497,  0.5497], device='cuda:0')\n",
      "✅ Rewards: 0.8050\n",
      "✅ Loss: -0.0504\n",
      "-------Question---------\n",
      "Weng earns $12 an hour for babysitting. Yesterday, she just did 50 minutes of babysitting. How much did she earn?\n",
      "\n",
      "🧠 Inference Index 1\n",
      "🔍 Top-K Indices: [235, 179, 128, 158, 140, 39, 52, 50, 69, 110, 244, 86, 213, 197, 18, 122, 81, 48, 8, 64, 1, 194, 228, 55, 63, 167, 124, 30, 139, 227, 201, 68, 160, 95, 109, 113, 243, 185, 112, 247, 105, 123, 84, 0, 5, 35, 180, 203, 173, 212, 51, 202, 206]\n",
      "[INFO] Launching 159 parallel inference tasks...\n"
     ]
    },
    {
     "name": "stderr",
     "output_type": "stream",
     "text": []
    },
    {
     "name": "stdout",
     "output_type": "stream",
     "text": [
      "tensor([1., 1., 1., 1., 1., 1., 1., 1., 1., 1., 1., 1., 1., 1., 1., 1., 1., 1.,\n",
      "        1., 1., 1., 1., 1., 1., 1., 1., 1., 1., 1., 1., 1., 1., 1., 1., 1., 1.,\n",
      "        1., 1., 1., 1., 1., 1., 1., 1., 1., 1., 1., 1., 1., 1., 1., 1., 1.],\n",
      "       device='cuda:0')\n",
      "tensor([0., 0., 0., 0., 0., 0., 0., 0., 0., 0., 0., 0., 0., 0., 0., 0., 0., 0., 0., 0., 0., 0., 0., 0.,\n",
      "        0., 0., 0., 0., 0., 0., 0., 0., 0., 0., 0., 0., 0., 0., 0., 0., 0., 0., 0., 0., 0., 0., 0., 0.,\n",
      "        0., 0., 0., 0., 0.], device='cuda:0')\n",
      "✅ Rewards: 1.0000\n",
      "✅ Loss: -0.0000\n",
      "-------Question---------\n",
      "Betty is saving money for a new wallet which costs $100. Betty has only half of the money she needs. Her parents decided to give her $15 for that purpose, and her grandparents twice as much as her parents. How much more money does Betty need to buy the wallet?\n",
      "\n",
      "🧠 Inference Index 2\n",
      "🔍 Top-K Indices: [119, 202, 220, 223, 110, 167, 154, 69, 5, 68, 201, 4, 99, 136, 86, 81, 41, 152, 63, 87, 39, 168, 128, 92, 56, 65, 103, 49, 83, 14, 176, 18, 93, 95, 28, 54, 34, 139, 235, 210, 104, 88, 191, 64, 113, 74, 187, 72, 240, 61, 76, 75, 135]\n",
      "[INFO] Launching 159 parallel inference tasks...\n"
     ]
    },
    {
     "name": "stderr",
     "output_type": "stream",
     "text": []
    },
    {
     "name": "stdout",
     "output_type": "stream",
     "text": [
      "tensor([0.6667, 1.0000, 0.3333, 1.0000, 1.0000, 0.6667, 1.0000, 0.0000, 1.0000,\n",
      "        1.0000, 1.0000, 1.0000, 1.0000, 1.0000, 1.0000, 1.0000, 1.0000, 1.0000,\n",
      "        1.0000, 1.0000, 0.3333, 1.0000, 1.0000, 0.3333, 0.0000, 1.0000, 1.0000,\n",
      "        1.0000, 1.0000, 1.0000, 1.0000, 0.6667, 1.0000, 1.0000, 1.0000, 1.0000,\n",
      "        1.0000, 1.0000, 1.0000, 1.0000, 1.0000, 1.0000, 0.6667, 1.0000, 0.6667,\n",
      "        1.0000, 0.3333, 1.0000, 1.0000, 0.0000, 1.0000, 0.6667, 0.6667],\n",
      "       device='cuda:0')\n",
      "tensor([-0.6308,  0.5220, -1.7835,  0.5220,  0.5220, -0.6308,  0.5220, -2.9363,\n",
      "         0.5220,  0.5220,  0.5220,  0.5220,  0.5220,  0.5220,  0.5220,  0.5220,\n",
      "         0.5220,  0.5220,  0.5220,  0.5220, -1.7835,  0.5220,  0.5220, -1.7835,\n",
      "        -2.9363,  0.5220,  0.5220,  0.5220,  0.5220,  0.5220,  0.5220, -0.6308,\n",
      "         0.5220,  0.5220,  0.5220,  0.5220,  0.5220,  0.5220,  0.5220,  0.5220,\n",
      "         0.5220,  0.5220, -0.6308,  0.5220, -0.6308,  0.5220, -1.7835,  0.5220,\n",
      "         0.5220, -2.9363,  0.5220, -0.6308, -0.6308], device='cuda:0')\n",
      "✅ Rewards: 0.8491\n",
      "✅ Loss: 0.1538\n",
      "-------Question---------\n",
      "Julie is reading a 120-page book. Yesterday, she was able to read 12 pages and today, she read twice as many pages as yesterday. If she wants to read half of the remaining pages tomorrow, how many pages should she read?\n",
      "\n",
      "🧠 Inference Index 3\n",
      "🔍 Top-K Indices: [13, 156, 72, 76, 140, 109, 73, 145, 122, 157, 64, 133, 80, 219, 218, 71, 41, 178, 238, 105, 1, 75, 85, 69, 94, 127, 167, 170, 253, 197, 222, 118, 86, 95, 241, 131, 194, 38, 202, 232, 201, 4, 214, 93, 104, 228, 221, 136, 88, 188, 181, 90, 55]\n",
      "[INFO] Launching 159 parallel inference tasks...\n"
     ]
    },
    {
     "name": "stderr",
     "output_type": "stream",
     "text": []
    },
    {
     "name": "stdout",
     "output_type": "stream",
     "text": [
      "tensor([0.0000, 0.0000, 0.0000, 0.0000, 0.0000, 0.0000, 0.0000, 0.0000, 0.0000,\n",
      "        0.0000, 0.0000, 0.0000, 0.0000, 0.0000, 0.0000, 0.0000, 0.0000, 0.0000,\n",
      "        0.0000, 0.0000, 0.0000, 0.0000, 0.0000, 0.0000, 0.0000, 0.0000, 0.0000,\n",
      "        0.0000, 0.0000, 0.0000, 0.0000, 0.0000, 0.0000, 0.0000, 0.0000, 0.0000,\n",
      "        0.0000, 0.0000, 0.0000, 0.0000, 0.0000, 0.3333, 0.0000, 0.0000, 0.0000,\n",
      "        0.0000, 0.0000, 0.0000, 0.0000, 0.0000, 0.0000, 0.0000, 0.0000],\n",
      "       device='cuda:0')\n",
      "tensor([-0.1374, -0.1374, -0.1374, -0.1374, -0.1374, -0.1374, -0.1374, -0.1374,\n",
      "        -0.1374, -0.1374, -0.1374, -0.1374, -0.1374, -0.1374, -0.1374, -0.1374,\n",
      "        -0.1374, -0.1374, -0.1374, -0.1374, -0.1374, -0.1374, -0.1374, -0.1374,\n",
      "        -0.1374, -0.1374, -0.1374, -0.1374, -0.1374, -0.1374, -0.1374, -0.1374,\n",
      "        -0.1374, -0.1374, -0.1374, -0.1374, -0.1374, -0.1374, -0.1374, -0.1374,\n",
      "        -0.1374,  7.1427, -0.1374, -0.1374, -0.1374, -0.1374, -0.1374, -0.1374,\n",
      "        -0.1374, -0.1374, -0.1374, -0.1374, -0.1374], device='cuda:0')\n",
      "✅ Rewards: 0.0063\n",
      "✅ Loss: 0.0049\n",
      "-------Question---------\n",
      "James writes a 3-page letter to 2 different friends twice a week.  How many pages does he write a year?\n",
      "\n",
      "🧠 Inference Index 4\n",
      "🔍 Top-K Indices: [8, 93, 178, 226, 69, 77, 13, 197, 228, 72, 175, 91, 140, 206, 244, 203, 55, 83, 233, 5, 3, 241, 87, 75, 11, 51, 200, 23, 232, 243, 207, 18, 253, 151, 68, 82, 56, 114, 149, 157, 177, 222, 104, 73, 249, 188, 202, 17, 76, 145, 250, 101, 128]\n",
      "[INFO] Launching 159 parallel inference tasks...\n"
     ]
    },
    {
     "name": "stderr",
     "output_type": "stream",
     "text": []
    },
    {
     "name": "stdout",
     "output_type": "stream",
     "text": [
      "tensor([0.0000, 0.0000, 0.0000, 0.0000, 1.0000, 0.0000, 0.3333, 0.6667, 0.0000,\n",
      "        0.0000, 0.0000, 1.0000, 0.0000, 0.0000, 0.0000, 0.0000, 0.0000, 0.0000,\n",
      "        0.0000, 0.0000, 0.0000, 0.0000, 0.0000, 0.3333, 0.0000, 0.0000, 0.0000,\n",
      "        0.0000, 1.0000, 0.0000, 0.0000, 0.0000, 0.0000, 0.0000, 0.0000, 0.0000,\n",
      "        0.6667, 0.6667, 0.0000, 0.3333, 0.0000, 0.0000, 0.3333, 0.0000, 0.0000,\n",
      "        0.3333, 0.0000, 0.0000, 1.0000, 0.0000, 0.0000, 0.0000, 0.0000],\n",
      "       device='cuda:0')\n",
      "tensor([-0.4771, -0.4771, -0.4771, -0.4771,  2.8212, -0.4771,  0.6223,  1.7218,\n",
      "        -0.4771, -0.4771, -0.4771,  2.8212, -0.4771, -0.4771, -0.4771, -0.4771,\n",
      "        -0.4771, -0.4771, -0.4771, -0.4771, -0.4771, -0.4771, -0.4771,  0.6223,\n",
      "        -0.4771, -0.4771, -0.4771, -0.4771,  2.8212, -0.4771, -0.4771, -0.4771,\n",
      "        -0.4771, -0.4771, -0.4771, -0.4771,  1.7218,  1.7218, -0.4771,  0.6223,\n",
      "        -0.4771, -0.4771,  0.6223, -0.4771, -0.4771,  0.6223, -0.4771, -0.4771,\n",
      "         2.8212, -0.4771, -0.4771, -0.4771, -0.4771], device='cuda:0')\n",
      "✅ Rewards: 0.1447\n",
      "✅ Loss: -0.0663\n",
      "-------Question---------\n",
      "Mark has a garden with flowers. He planted plants of three different colors in it. Ten of them are yellow, and there are 80% more of those in purple. There are only 25% as many green flowers as there are yellow and purple flowers. How many flowers does Mark have in his garden?\n",
      "\n",
      "🧠 Inference Index 5\n",
      "🔍 Top-K Indices: [232, 5, 166, 241, 104, 38, 245, 54, 208, 101, 30, 25, 160, 253, 152, 79, 210, 99, 20, 155, 209, 36, 57, 51, 167, 214, 248, 90, 217, 107, 187, 225, 204, 59, 3, 115, 50, 94, 61, 95, 125, 72, 2, 55, 243, 26, 249, 171, 240, 186, 219, 189, 42]\n",
      "[INFO] Launching 159 parallel inference tasks...\n"
     ]
    },
    {
     "name": "stderr",
     "output_type": "stream",
     "text": []
    },
    {
     "name": "stdout",
     "output_type": "stream",
     "text": [
      "tensor([0.0000, 0.3333, 0.6667, 0.6667, 0.0000, 0.0000, 0.0000, 0.0000, 0.0000,\n",
      "        0.3333, 0.6667, 0.0000, 0.0000, 0.3333, 1.0000, 0.0000, 0.3333, 1.0000,\n",
      "        0.0000, 0.0000, 1.0000, 0.0000, 0.0000, 0.0000, 0.0000, 0.0000, 0.6667,\n",
      "        0.0000, 0.0000, 0.0000, 0.6667, 0.0000, 0.0000, 0.0000, 0.0000, 0.3333,\n",
      "        0.0000, 1.0000, 0.0000, 0.6667, 1.0000, 0.0000, 0.3333, 0.0000, 0.3333,\n",
      "        0.0000, 0.6667, 0.0000, 0.0000, 1.0000, 0.0000, 0.0000, 0.0000],\n",
      "       device='cuda:0')\n",
      "tensor([-0.6833,  0.2453,  1.1739,  1.1739, -0.6833, -0.6833, -0.6833, -0.6833,\n",
      "        -0.6833,  0.2453,  1.1739, -0.6833, -0.6833,  0.2453,  2.1025, -0.6833,\n",
      "         0.2453,  2.1025, -0.6833, -0.6833,  2.1025, -0.6833, -0.6833, -0.6833,\n",
      "        -0.6833, -0.6833,  1.1739, -0.6833, -0.6833, -0.6833,  1.1739, -0.6833,\n",
      "        -0.6833, -0.6833, -0.6833,  0.2453, -0.6833,  2.1025, -0.6833,  1.1739,\n",
      "         2.1025, -0.6833,  0.2453, -0.6833,  0.2453, -0.6833,  1.1739, -0.6833,\n",
      "        -0.6833,  2.1025, -0.6833, -0.6833, -0.6833], device='cuda:0')\n",
      "✅ Rewards: 0.2453\n",
      "✅ Loss: -0.0603\n",
      "-------Question---------\n",
      "Albert is wondering how much pizza he can eat in one day. He buys 2 large pizzas and 2 small pizzas. A large pizza has 16 slices and a small pizza has 8 slices. If he eats it all, how many pieces does he eat that day?\n",
      "\n",
      "🧠 Inference Index 6\n",
      "🔍 Top-K Indices: [238, 93, 211, 204, 90, 155, 19, 154, 109, 49, 166, 106, 244, 77, 70, 247, 58, 96, 89, 234, 24, 251, 2, 30, 60, 170, 63, 222, 228, 203, 45, 91, 226, 157, 159, 56, 182, 97, 167, 22, 55, 140, 233, 197, 231, 82, 104, 36, 3, 161, 253, 83, 14]\n",
      "[INFO] Launching 159 parallel inference tasks...\n"
     ]
    },
    {
     "name": "stderr",
     "output_type": "stream",
     "text": []
    },
    {
     "name": "stdout",
     "output_type": "stream",
     "text": [
      "tensor([1.0000, 1.0000, 1.0000, 1.0000, 1.0000, 1.0000, 1.0000, 1.0000, 1.0000,\n",
      "        1.0000, 1.0000, 1.0000, 1.0000, 1.0000, 1.0000, 1.0000, 1.0000, 0.6667,\n",
      "        1.0000, 1.0000, 0.0000, 1.0000, 0.6667, 0.0000, 1.0000, 1.0000, 1.0000,\n",
      "        1.0000, 1.0000, 1.0000, 1.0000, 1.0000, 0.3333, 1.0000, 1.0000, 0.0000,\n",
      "        0.3333, 0.6667, 1.0000, 0.6667, 1.0000, 0.6667, 1.0000, 1.0000, 1.0000,\n",
      "        1.0000, 1.0000, 0.6667, 1.0000, 0.6667, 1.0000, 1.0000, 1.0000],\n",
      "       device='cuda:0')\n",
      "tensor([ 0.4636,  0.4636,  0.4636,  0.4636,  0.4636,  0.4636,  0.4636,  0.4636,\n",
      "         0.4636,  0.4636,  0.4636,  0.4636,  0.4636,  0.4636,  0.4636,  0.4636,\n",
      "         0.4636, -0.7649,  0.4636,  0.4636, -3.2220,  0.4636, -0.7649, -3.2220,\n",
      "         0.4636,  0.4636,  0.4636,  0.4636,  0.4636,  0.4636,  0.4636,  0.4636,\n",
      "        -1.9935,  0.4636,  0.4636, -3.2220, -1.9935, -0.7649,  0.4636, -0.7649,\n",
      "         0.4636, -0.7649,  0.4636,  0.4636,  0.4636,  0.4636,  0.4636, -0.7649,\n",
      "         0.4636, -0.7649,  0.4636,  0.4636,  0.4636], device='cuda:0')\n",
      "✅ Rewards: 0.8742\n",
      "✅ Loss: -0.0043\n",
      "-------Question---------\n",
      "Ken created a care package to send to his brother, who was away at boarding school.  Ken placed a box on a scale, and then he poured into the box enough jelly beans to bring the weight to 2 pounds.  Then, he added enough brownies to cause the weight to triple.  Next, he added another 2 pounds of jelly beans.  And finally, he added enough gummy worms to double the weight once again.  What was the final weight of the box of goodies, in pounds?\n",
      "\n",
      "🧠 Inference Index 7\n",
      "🔍 Top-K Indices: [253, 218, 62, 242, 58, 181, 204, 246, 60, 23, 215, 230, 74, 193, 97, 226, 100, 16, 82, 116, 70, 36, 121, 138, 96, 31, 143, 115, 140, 248, 71, 210, 29, 53, 177, 211, 136, 64, 19, 123, 162, 55, 222, 59, 57, 84, 234, 102, 12, 66, 186, 229, 30]\n",
      "[INFO] Launching 159 parallel inference tasks...\n"
     ]
    },
    {
     "name": "stderr",
     "output_type": "stream",
     "text": []
    },
    {
     "name": "stdout",
     "output_type": "stream",
     "text": [
      "tensor([0.3333, 0.0000, 0.6667, 1.0000, 0.6667, 0.0000, 0.6667, 0.3333, 0.3333,\n",
      "        0.3333, 0.0000, 0.0000, 0.0000, 0.0000, 0.6667, 0.3333, 0.0000, 0.6667,\n",
      "        0.3333, 0.0000, 0.3333, 0.3333, 0.0000, 0.3333, 0.0000, 0.3333, 0.0000,\n",
      "        0.0000, 0.0000, 0.0000, 0.6667, 1.0000, 1.0000, 0.0000, 1.0000, 0.3333,\n",
      "        0.0000, 0.0000, 0.0000, 0.0000, 0.0000, 0.6667, 0.0000, 0.0000, 0.0000,\n",
      "        0.0000, 1.0000, 0.0000, 0.0000, 1.0000, 0.6667, 0.0000, 0.6667],\n",
      "       device='cuda:0')\n",
      "tensor([ 0.1060, -0.8303,  1.0423,  1.9785,  1.0423, -0.8303,  1.0423,  0.1060,\n",
      "         0.1060,  0.1060, -0.8303, -0.8303, -0.8303, -0.8303,  1.0423,  0.1060,\n",
      "        -0.8303,  1.0423,  0.1060, -0.8303,  0.1060,  0.1060, -0.8303,  0.1060,\n",
      "        -0.8303,  0.1060, -0.8303, -0.8303, -0.8303, -0.8303,  1.0423,  1.9785,\n",
      "         1.9785, -0.8303,  1.9785,  0.1060, -0.8303, -0.8303, -0.8303, -0.8303,\n",
      "        -0.8303,  1.0423, -0.8303, -0.8303, -0.8303, -0.8303,  1.9785, -0.8303,\n",
      "        -0.8303,  1.9785,  1.0423, -0.8303,  1.0423], device='cuda:0')\n",
      "✅ Rewards: 0.2956\n",
      "✅ Loss: -0.0153\n",
      "-------Question---------\n",
      "Alexis is applying for a new job and bought a new set of business clothes to wear to the interview. She went to a department store with a budget of $200 and spent $30 on a button-up shirt, $46 on suit pants, $38 on a suit coat, $11 on socks, and $18 on a belt. She also purchased a pair of shoes, but lost the receipt for them. She has $16 left from her budget. How much did Alexis pay for the shoes?\n",
      "\n",
      "🧠 Inference Index 8\n",
      "🔍 Top-K Indices: [100, 96, 165, 44, 36, 224, 10, 7, 174, 53, 16, 58, 60, 62, 218, 230, 24, 115, 198, 199, 130, 242, 236, 12, 30, 155, 23, 215, 226, 138, 116, 234, 211, 183, 98, 19, 186, 106, 37, 188, 200, 162, 49, 177, 79, 210, 163, 71, 193, 45, 26, 90, 228]\n",
      "[INFO] Launching 159 parallel inference tasks...\n"
     ]
    },
    {
     "name": "stderr",
     "output_type": "stream",
     "text": []
    },
    {
     "name": "stdout",
     "output_type": "stream",
     "text": [
      "tensor([0.3333, 1.0000, 1.0000, 1.0000, 0.0000, 0.0000, 0.6667, 0.6667, 0.6667,\n",
      "        1.0000, 1.0000, 1.0000, 1.0000, 0.0000, 1.0000, 0.6667, 0.3333, 1.0000,\n",
      "        1.0000, 0.0000, 1.0000, 0.3333, 1.0000, 1.0000, 1.0000, 1.0000, 1.0000,\n",
      "        0.3333, 0.6667, 0.6667, 1.0000, 0.3333, 1.0000, 1.0000, 0.3333, 1.0000,\n",
      "        0.0000, 1.0000, 1.0000, 0.0000, 0.6667, 0.3333, 1.0000, 1.0000, 1.0000,\n",
      "        0.0000, 1.0000, 1.0000, 0.6667, 1.0000, 1.0000, 0.0000, 1.0000],\n",
      "       device='cuda:0')\n",
      "tensor([-0.9894,  0.7586,  0.7586,  0.7586, -1.8634, -1.8634, -0.1154, -0.1154,\n",
      "        -0.1154,  0.7586,  0.7586,  0.7586,  0.7586, -1.8634,  0.7586, -0.1154,\n",
      "        -0.9894,  0.7586,  0.7586, -1.8634,  0.7586, -0.9894,  0.7586,  0.7586,\n",
      "         0.7586,  0.7586,  0.7586, -0.9894, -0.1154, -0.1154,  0.7586, -0.9894,\n",
      "         0.7586,  0.7586, -0.9894,  0.7586, -1.8634,  0.7586,  0.7586, -1.8634,\n",
      "        -0.1154, -0.9894,  0.7586,  0.7586,  0.7586, -1.8634,  0.7586,  0.7586,\n",
      "        -0.1154,  0.7586,  0.7586, -1.8634,  0.7586], device='cuda:0')\n",
      "✅ Rewards: 0.7107\n",
      "✅ Loss: -0.1036\n",
      "-------Question---------\n",
      "Tina makes $18.00 an hour.  If she works more than 8 hours per shift, she is eligible for overtime, which is paid by your hourly wage + 1/2 your hourly wage.  If she works 10 hours every day for 5 days, how much money does she make?\n",
      "\n",
      "🧠 Inference Index 9\n",
      "🔍 Top-K Indices: [56, 5, 45, 79, 65, 4, 37, 128, 146, 180, 188, 77, 221, 81, 40, 55, 208, 144, 0, 92, 30, 61, 89, 110, 95, 149, 103, 109, 105, 181, 247, 18, 168, 93, 249, 157, 160, 250, 147, 2, 202, 192, 1, 156, 6, 122, 150, 222, 49, 214, 86, 112, 34]\n",
      "[INFO] Launching 159 parallel inference tasks...\n"
     ]
    },
    {
     "name": "stderr",
     "output_type": "stream",
     "text": []
    },
    {
     "name": "stdout",
     "output_type": "stream",
     "text": [
      "tensor([0.0000, 0.0000, 0.0000, 0.0000, 0.0000, 0.0000, 0.0000, 0.0000, 0.0000,\n",
      "        0.0000, 0.0000, 0.0000, 0.0000, 0.0000, 0.0000, 0.0000, 0.0000, 0.0000,\n",
      "        0.0000, 0.0000, 0.0000, 0.0000, 0.0000, 0.0000, 0.0000, 0.0000, 0.0000,\n",
      "        0.0000, 0.3333, 0.0000, 0.0000, 0.0000, 0.0000, 0.0000, 0.0000, 0.0000,\n",
      "        0.0000, 0.0000, 0.3333, 0.0000, 0.0000, 0.0000, 0.0000, 0.0000, 0.0000,\n",
      "        0.0000, 0.0000, 0.0000, 0.0000, 0.0000, 0.0000, 0.0000, 0.0000],\n",
      "       device='cuda:0')\n",
      "tensor([-0.1962, -0.1962, -0.1962, -0.1962, -0.1962, -0.1962, -0.1962, -0.1962,\n",
      "        -0.1962, -0.1962, -0.1962, -0.1962, -0.1962, -0.1962, -0.1962, -0.1962,\n",
      "        -0.1962, -0.1962, -0.1962, -0.1962, -0.1962, -0.1962, -0.1962, -0.1962,\n",
      "        -0.1962, -0.1962, -0.1962, -0.1962,  5.0019, -0.1962, -0.1962, -0.1962,\n",
      "        -0.1962, -0.1962, -0.1962, -0.1962, -0.1962, -0.1962,  5.0019, -0.1962,\n",
      "        -0.1962, -0.1962, -0.1962, -0.1962, -0.1962, -0.1962, -0.1962, -0.1962,\n",
      "        -0.1962, -0.1962, -0.1962, -0.1962, -0.1962], device='cuda:0')\n",
      "✅ Rewards: 0.0126\n",
      "✅ Loss: 0.1856\n",
      "-------Question---------\n",
      "A deep-sea monster rises from the waters once every hundred years to feast on a ship and sate its hunger. Over three hundred years, it has consumed 847 people. Ships have been built larger over time, so each new ship has twice as many people as the last ship. How many people were on the ship the monster ate in the first hundred years?\n",
      "\n",
      "🧠 Inference Index 10\n",
      "🔍 Top-K Indices: [16, 174, 231, 106, 96, 224, 162, 234, 8, 10, 183, 143, 70, 58, 248, 252, 60, 204, 215, 246, 97, 229, 242, 111, 31, 44, 218, 62, 165, 24, 100, 26, 72, 230, 211, 130, 126, 91, 7, 238, 102, 12, 37, 6, 132, 116, 141, 71, 121, 66, 49, 40, 57]\n",
      "[INFO] Launching 159 parallel inference tasks...\n"
     ]
    },
    {
     "name": "stderr",
     "output_type": "stream",
     "text": []
    },
    {
     "name": "stdout",
     "output_type": "stream",
     "text": [
      "tensor([0.0000, 0.0000, 0.3333, 0.0000, 0.0000, 0.0000, 0.0000, 0.0000, 0.0000,\n",
      "        0.6667, 0.0000, 0.0000, 0.0000, 0.3333, 0.0000, 0.0000, 0.0000, 0.0000,\n",
      "        0.0000, 0.0000, 0.0000, 0.0000, 0.0000, 0.6667, 0.6667, 0.3333, 0.0000,\n",
      "        0.0000, 0.0000, 0.0000, 0.3333, 0.0000, 0.0000, 0.0000, 0.0000, 0.0000,\n",
      "        0.0000, 0.0000, 0.0000, 0.0000, 0.0000, 0.0000, 0.0000, 0.0000, 0.0000,\n",
      "        0.0000, 0.0000, 0.0000, 0.0000, 0.3333, 0.0000, 0.3333, 0.0000],\n",
      "       device='cuda:0')\n",
      "tensor([-0.4176, -0.4176,  1.4269, -0.4176, -0.4176, -0.4176, -0.4176, -0.4176,\n",
      "        -0.4176,  3.2715, -0.4176, -0.4176, -0.4176,  1.4269, -0.4176, -0.4176,\n",
      "        -0.4176, -0.4176, -0.4176, -0.4176, -0.4176, -0.4176, -0.4176,  3.2715,\n",
      "         3.2715,  1.4269, -0.4176, -0.4176, -0.4176, -0.4176,  1.4269, -0.4176,\n",
      "        -0.4176, -0.4176, -0.4176, -0.4176, -0.4176, -0.4176, -0.4176, -0.4176,\n",
      "        -0.4176, -0.4176, -0.4176, -0.4176, -0.4176, -0.4176, -0.4176, -0.4176,\n",
      "        -0.4176,  1.4269, -0.4176,  1.4269, -0.4176], device='cuda:0')\n",
      "✅ Rewards: 0.0755\n",
      "✅ Loss: -0.2885\n",
      "-------Question---------\n",
      "Tobias is buying a new pair of shoes that costs $95. He has been saving up his money each month for the past three months. He gets a $5 allowance a month. He also mows lawns and shovels driveways. He charges $15 to mow a lawn and $7 to shovel. After buying the shoes, he has $15 in change. If he mows 4 lawns, how many driveways did he shovel?\n",
      "\n",
      "🧠 Inference Index 11\n",
      "🔍 Top-K Indices: [177, 60, 8, 224, 174, 96, 248, 100, 138, 44, 12, 130, 31, 58, 218, 121, 53, 97, 98, 90, 26, 16, 7, 211, 59, 246, 186, 183, 66, 49, 43, 102, 165, 253, 204, 40, 80, 24, 252, 62, 236, 45, 154, 126, 115, 161, 162, 234, 226, 149, 155, 83, 123]\n",
      "[INFO] Launching 159 parallel inference tasks...\n"
     ]
    },
    {
     "name": "stderr",
     "output_type": "stream",
     "text": []
    },
    {
     "name": "stdout",
     "output_type": "stream",
     "text": [
      "tensor([0.0000, 0.0000, 0.0000, 0.0000, 0.0000, 0.6667, 0.0000, 0.0000, 0.0000,\n",
      "        0.0000, 0.0000, 0.0000, 0.0000, 0.0000, 0.0000, 0.0000, 0.0000, 0.0000,\n",
      "        0.0000, 0.3333, 0.0000, 0.0000, 0.0000, 0.0000, 0.0000, 0.0000, 0.0000,\n",
      "        0.0000, 0.0000, 0.3333, 0.0000, 0.0000, 0.0000, 0.0000, 0.0000, 0.3333,\n",
      "        0.0000, 0.0000, 0.0000, 0.0000, 0.0000, 0.0000, 0.0000, 0.0000, 0.0000,\n",
      "        0.0000, 0.6667, 0.0000, 0.0000, 0.0000, 0.0000, 0.0000, 0.0000],\n",
      "       device='cuda:0')\n",
      "tensor([-0.3000, -0.3000, -0.3000, -0.3000, -0.3000,  4.2435, -0.3000, -0.3000,\n",
      "        -0.3000, -0.3000, -0.3000, -0.3000, -0.3000, -0.3000, -0.3000, -0.3000,\n",
      "        -0.3000, -0.3000, -0.3000,  1.9717, -0.3000, -0.3000, -0.3000, -0.3000,\n",
      "        -0.3000, -0.3000, -0.3000, -0.3000, -0.3000,  1.9717, -0.3000, -0.3000,\n",
      "        -0.3000, -0.3000, -0.3000,  1.9717, -0.3000, -0.3000, -0.3000, -0.3000,\n",
      "        -0.3000, -0.3000, -0.3000, -0.3000, -0.3000, -0.3000,  4.2435, -0.3000,\n",
      "        -0.3000, -0.3000, -0.3000, -0.3000, -0.3000], device='cuda:0')\n",
      "✅ Rewards: 0.0440\n",
      "✅ Loss: -0.2433\n",
      "-------Question---------\n",
      "Randy has 60 mango trees on his farm. He also has 5 less than half as many coconut trees as mango trees. How many trees does Randy have in all on his farm?\n",
      "\n",
      "🧠 Inference Index 12\n",
      "🔍 Top-K Indices: [112, 197, 6, 196, 223, 43, 220, 25, 69, 86, 154, 18, 211, 63, 64, 207, 113, 203, 233, 124, 232, 178, 128, 228, 158, 173, 164, 59, 0, 84, 167, 244, 19, 79, 156, 205, 42, 235, 28, 177, 163, 152, 67, 133, 5, 145, 204, 104, 221, 188, 245, 85, 129]\n",
      "[INFO] Launching 159 parallel inference tasks...\n"
     ]
    },
    {
     "name": "stderr",
     "output_type": "stream",
     "text": []
    },
    {
     "name": "stdout",
     "output_type": "stream",
     "text": [
      "tensor([1.0000, 0.0000, 0.0000, 0.0000, 0.3333, 0.0000, 0.0000, 0.0000, 0.0000,\n",
      "        1.0000, 0.6667, 0.3333, 0.6667, 1.0000, 0.6667, 0.3333, 1.0000, 0.0000,\n",
      "        0.0000, 0.0000, 0.6667, 0.0000, 1.0000, 1.0000, 0.0000, 0.3333, 0.0000,\n",
      "        0.3333, 1.0000, 1.0000, 0.0000, 0.3333, 0.0000, 0.0000, 0.0000, 0.0000,\n",
      "        0.6667, 0.6667, 1.0000, 0.3333, 0.6667, 0.6667, 0.3333, 0.3333, 1.0000,\n",
      "        0.6667, 0.0000, 0.0000, 0.6667, 1.0000, 0.0000, 0.0000, 1.0000],\n",
      "       device='cuda:0')\n",
      "tensor([ 1.4548, -1.0060, -1.0060, -1.0060, -0.1857, -1.0060, -1.0060, -1.0060,\n",
      "        -1.0060,  1.4548,  0.6346, -0.1857,  0.6346,  1.4548,  0.6346, -0.1857,\n",
      "         1.4548, -1.0060, -1.0060, -1.0060,  0.6346, -1.0060,  1.4548,  1.4548,\n",
      "        -1.0060, -0.1857, -1.0060, -0.1857,  1.4548,  1.4548, -1.0060, -0.1857,\n",
      "        -1.0060, -1.0060, -1.0060, -1.0060,  0.6346,  0.6346,  1.4548, -0.1857,\n",
      "         0.6346,  0.6346, -0.1857, -0.1857,  1.4548,  0.6346, -1.0060, -1.0060,\n",
      "         0.6346,  1.4548, -1.0060, -1.0060,  1.4548], device='cuda:0')\n",
      "✅ Rewards: 0.4088\n",
      "✅ Loss: 0.0463\n",
      "-------Question---------\n",
      "Jasper will serve charcuterie at his dinner party. He buys 2 pounds of cheddar cheese for $10, a pound of cream cheese that cost half the price of the cheddar cheese, and a pack of cold cuts that cost twice the price of the cheddar cheese. How much does he spend on the ingredients?\n",
      "\n",
      "🧠 Inference Index 13\n",
      "🔍 Top-K Indices: [205, 90, 49, 40, 237, 7, 193, 183, 155, 72, 36, 97, 253, 102, 190, 127, 9, 153, 56, 242, 218, 238, 91, 19, 222, 66, 240, 252, 236, 60, 53, 247, 38, 229, 122, 226, 82, 83, 152, 80, 159, 94, 76, 65, 109, 137, 119, 24, 173, 165, 5, 57, 79]\n",
      "[INFO] Launching 159 parallel inference tasks...\n"
     ]
    },
    {
     "name": "stderr",
     "output_type": "stream",
     "text": []
    },
    {
     "name": "stdout",
     "output_type": "stream",
     "text": [
      "tensor([0.6667, 0.0000, 0.0000, 0.0000, 0.0000, 0.0000, 0.0000, 0.0000, 0.0000,\n",
      "        0.0000, 0.0000, 0.0000, 0.0000, 0.0000, 0.0000, 0.0000, 0.0000, 0.0000,\n",
      "        0.0000, 0.0000, 0.0000, 0.0000, 0.0000, 0.0000, 0.0000, 0.0000, 0.0000,\n",
      "        0.0000, 0.0000, 0.0000, 0.0000, 0.0000, 0.0000, 0.0000, 0.0000, 0.0000,\n",
      "        0.0000, 0.0000, 0.0000, 0.0000, 0.0000, 1.0000, 0.6667, 0.0000, 0.0000,\n",
      "        0.0000, 0.0000, 0.0000, 0.0000, 0.0000, 0.0000, 0.0000, 0.0000],\n",
      "       device='cuda:0')\n",
      "tensor([ 3.3595, -0.2375, -0.2375, -0.2375, -0.2375, -0.2375, -0.2375, -0.2375,\n",
      "        -0.2375, -0.2375, -0.2375, -0.2375, -0.2375, -0.2375, -0.2375, -0.2375,\n",
      "        -0.2375, -0.2375, -0.2375, -0.2375, -0.2375, -0.2375, -0.2375, -0.2375,\n",
      "        -0.2375, -0.2375, -0.2375, -0.2375, -0.2375, -0.2375, -0.2375, -0.2375,\n",
      "        -0.2375, -0.2375, -0.2375, -0.2375, -0.2375, -0.2375, -0.2375, -0.2375,\n",
      "        -0.2375,  5.1581,  3.3595, -0.2375, -0.2375, -0.2375, -0.2375, -0.2375,\n",
      "        -0.2375, -0.2375, -0.2375, -0.2375, -0.2375], device='cuda:0')\n",
      "✅ Rewards: 0.0440\n",
      "✅ Loss: 0.0051\n",
      "-------Question---------\n",
      "Joy can read 8 pages of a book in 20 minutes. How many hours will it take her to read 120 pages?\n",
      "\n",
      "🧠 Inference Index 14\n",
      "🔍 Top-K Indices: [3, 221, 76, 63, 253, 81, 9, 64, 145, 6, 146, 228, 93, 18, 220, 179, 118, 226, 202, 95, 206, 99, 30, 129, 48, 4, 0, 2, 203, 87, 59, 157, 225, 201, 211, 213, 184, 50, 1, 107, 56, 245, 196, 159, 176, 57, 251, 88, 45, 131, 85, 175, 199]\n",
      "[INFO] Launching 159 parallel inference tasks...\n"
     ]
    },
    {
     "name": "stderr",
     "output_type": "stream",
     "text": []
    },
    {
     "name": "stdout",
     "output_type": "stream",
     "text": [
      "tensor([1.0000, 0.3333, 1.0000, 0.0000, 1.0000, 0.0000, 0.6667, 0.3333, 0.0000,\n",
      "        1.0000, 0.3333, 0.0000, 0.3333, 0.0000, 0.0000, 1.0000, 1.0000, 1.0000,\n",
      "        0.0000, 0.0000, 1.0000, 1.0000, 0.0000, 0.0000, 0.0000, 0.0000, 0.0000,\n",
      "        0.0000, 0.0000, 1.0000, 0.0000, 0.0000, 0.0000, 0.0000, 0.0000, 1.0000,\n",
      "        1.0000, 0.0000, 0.0000, 0.0000, 0.6667, 0.0000, 1.0000, 0.0000, 0.0000,\n",
      "        0.0000, 0.0000, 0.0000, 0.0000, 0.0000, 0.0000, 1.0000, 0.0000],\n",
      "       device='cuda:0')\n",
      "tensor([ 1.5561,  0.0428,  1.5561, -0.7138,  1.5561, -0.7138,  0.7995,  0.0428,\n",
      "        -0.7138,  1.5561,  0.0428, -0.7138,  0.0428, -0.7138, -0.7138,  1.5561,\n",
      "         1.5561,  1.5561, -0.7138, -0.7138,  1.5561,  1.5561, -0.7138, -0.7138,\n",
      "        -0.7138, -0.7138, -0.7138, -0.7138, -0.7138,  1.5561, -0.7138, -0.7138,\n",
      "        -0.7138, -0.7138, -0.7138,  1.5561,  1.5561, -0.7138, -0.7138, -0.7138,\n",
      "         0.7995, -0.7138,  1.5561, -0.7138, -0.7138, -0.7138, -0.7138, -0.7138,\n",
      "        -0.7138, -0.7138, -0.7138,  1.5561, -0.7138], device='cuda:0')\n",
      "✅ Rewards: 0.3145\n",
      "✅ Loss: 0.1821\n",
      "-------Question---------\n",
      "James creates a media empire.  He creates a movie for $2000.  Each DVD cost $6 to make.  He sells it for 2.5 times that much.  He sells 500 movies a day for 5 days a week.  How much profit does he make in 20 weeks?\n",
      "\n",
      "🧠 Inference Index 15\n",
      "🔍 Top-K Indices: [63, 228, 92, 247, 9, 163, 93, 207, 196, 221, 30, 206, 203, 15, 177, 112, 76, 77, 191, 6, 94, 59, 3, 40, 170, 137, 85, 117, 84, 220, 89, 101, 128, 39, 154, 55, 114, 156, 91, 233, 157, 222, 161, 240, 109, 18, 51, 83, 79, 197, 179, 140, 103]\n",
      "[INFO] Launching 159 parallel inference tasks...\n"
     ]
    },
    {
     "name": "stderr",
     "output_type": "stream",
     "text": []
    },
    {
     "name": "stdout",
     "output_type": "stream",
     "text": [
      "tensor([0.0000, 0.0000, 0.0000, 0.0000, 0.0000, 0.0000, 0.0000, 0.0000, 0.0000,\n",
      "        0.0000, 0.0000, 0.0000, 0.0000, 0.0000, 0.0000, 0.0000, 0.0000, 0.0000,\n",
      "        0.0000, 0.0000, 0.0000, 0.0000, 0.0000, 0.0000, 0.0000, 0.0000, 0.0000,\n",
      "        0.0000, 0.0000, 0.0000, 0.0000, 0.0000, 0.0000, 0.0000, 0.0000, 0.0000,\n",
      "        0.0000, 0.0000, 0.0000, 0.0000, 0.0000, 0.0000, 0.0000, 0.0000, 0.0000,\n",
      "        0.0000, 0.0000, 0.3333, 0.0000, 0.0000, 0.0000, 0.0000, 0.0000],\n",
      "       device='cuda:0')\n",
      "tensor([-0.1374, -0.1374, -0.1374, -0.1374, -0.1374, -0.1374, -0.1374, -0.1374,\n",
      "        -0.1374, -0.1374, -0.1374, -0.1374, -0.1374, -0.1374, -0.1374, -0.1374,\n",
      "        -0.1374, -0.1374, -0.1374, -0.1374, -0.1374, -0.1374, -0.1374, -0.1374,\n",
      "        -0.1374, -0.1374, -0.1374, -0.1374, -0.1374, -0.1374, -0.1374, -0.1374,\n",
      "        -0.1374, -0.1374, -0.1374, -0.1374, -0.1374, -0.1374, -0.1374, -0.1374,\n",
      "        -0.1374, -0.1374, -0.1374, -0.1374, -0.1374, -0.1374, -0.1374,  7.1427,\n",
      "        -0.1374, -0.1374, -0.1374, -0.1374, -0.1374], device='cuda:0')\n",
      "✅ Rewards: 0.0063\n",
      "✅ Loss: -0.0591\n",
      "-------Question---------\n",
      "The profit from a business transaction is shared among 2 business partners, Mike and Johnson in the ratio 2:5 respectively. If Johnson got $2500, how much will Mike have after spending some of his share on a shirt that costs $200?\n",
      "\n",
      "🧠 Inference Index 16\n",
      "🔍 Top-K Indices: [15, 52, 157, 99, 159, 0, 105, 128, 119, 136, 207, 18, 79, 6, 9, 147, 81, 61, 77, 51, 228, 139, 249, 65, 220, 235, 59, 161, 137, 84, 95, 34, 45, 133, 243, 55, 156, 73, 101, 254, 202, 158, 17, 113, 213, 221, 187, 92, 154, 150, 194, 195, 85]\n",
      "[INFO] Launching 159 parallel inference tasks...\n"
     ]
    },
    {
     "name": "stderr",
     "output_type": "stream",
     "text": []
    },
    {
     "name": "stdout",
     "output_type": "stream",
     "text": [
      "tensor([0.0000, 0.0000, 0.0000, 0.0000, 0.0000, 0.0000, 0.0000, 0.0000, 0.3333,\n",
      "        0.0000, 0.3333, 0.0000, 0.0000, 0.0000, 0.0000, 0.0000, 0.0000, 0.0000,\n",
      "        0.0000, 0.0000, 0.0000, 0.3333, 0.0000, 0.0000, 0.3333, 0.0000, 0.3333,\n",
      "        0.0000, 0.0000, 0.0000, 0.0000, 0.0000, 0.0000, 0.0000, 0.6667, 0.3333,\n",
      "        0.0000, 0.0000, 0.3333, 0.0000, 0.0000, 0.0000, 0.0000, 0.0000, 0.0000,\n",
      "        0.0000, 0.0000, 0.0000, 0.0000, 0.0000, 0.6667, 0.0000, 0.0000],\n",
      "       device='cuda:0')\n",
      "tensor([-0.4197, -0.4197, -0.4197, -0.4197, -0.4197, -0.4197, -0.4197, -0.4197,\n",
      "         1.6024, -0.4197,  1.6024, -0.4197, -0.4197, -0.4197, -0.4197, -0.4197,\n",
      "        -0.4197, -0.4197, -0.4197, -0.4197, -0.4197,  1.6024, -0.4197, -0.4197,\n",
      "         1.6024, -0.4197,  1.6024, -0.4197, -0.4197, -0.4197, -0.4197, -0.4197,\n",
      "        -0.4197, -0.4197,  3.6246,  1.6024, -0.4197, -0.4197,  1.6024, -0.4197,\n",
      "        -0.4197, -0.4197, -0.4197, -0.4197, -0.4197, -0.4197, -0.4197, -0.4197,\n",
      "        -0.4197, -0.4197,  3.6246, -0.4197, -0.4197], device='cuda:0')\n",
      "✅ Rewards: 0.0692\n",
      "✅ Loss: -0.0321\n",
      "-------Question---------\n",
      "In a truck, there are 26 pink hard hats, 15 green hard hats, and 24 yellow hard hats.  If Carl takes away 4 pink hard hats, and John takes away 6 pink hard hats and twice as many green hard hats as the number of pink hard hats that he removed, then calculate the total number of hard hats that remained in the truck.\n",
      "\n",
      "🧠 Inference Index 17\n",
      "🔍 Top-K Indices: [231, 211, 182, 111, 204, 19, 58, 236, 97, 60, 253, 164, 100, 181, 7, 234, 38, 26, 215, 24, 127, 226, 90, 83, 143, 91, 252, 177, 224, 57, 242, 13, 238, 241, 36, 96, 11, 121, 53, 20, 237, 74, 49, 165, 153, 229, 47, 75, 80, 218, 44, 220, 43]\n",
      "[INFO] Launching 159 parallel inference tasks...\n"
     ]
    },
    {
     "name": "stderr",
     "output_type": "stream",
     "text": []
    },
    {
     "name": "stdout",
     "output_type": "stream",
     "text": [
      "tensor([0.0000, 0.0000, 0.0000, 0.0000, 0.0000, 0.0000, 0.0000, 0.0000, 0.0000,\n",
      "        0.3333, 0.0000, 0.3333, 0.0000, 0.0000, 0.6667, 0.0000, 0.0000, 0.3333,\n",
      "        0.0000, 0.0000, 0.0000, 0.6667, 0.0000, 0.0000, 0.0000, 0.0000, 0.0000,\n",
      "        0.0000, 0.0000, 0.0000, 0.0000, 0.3333, 0.0000, 0.3333, 0.3333, 0.6667,\n",
      "        0.0000, 0.0000, 0.0000, 0.0000, 0.0000, 0.6667, 0.0000, 0.0000, 0.0000,\n",
      "        0.0000, 0.0000, 0.0000, 0.0000, 0.0000, 0.0000, 0.0000, 0.0000],\n",
      "       device='cuda:0')\n",
      "tensor([-0.4453, -0.4453, -0.4453, -0.4453, -0.4453, -0.4453, -0.4453, -0.4453,\n",
      "        -0.4453,  1.2403, -0.4453,  1.2403, -0.4453, -0.4453,  2.9259, -0.4453,\n",
      "        -0.4453,  1.2403, -0.4453, -0.4453, -0.4453,  2.9259, -0.4453, -0.4453,\n",
      "        -0.4453, -0.4453, -0.4453, -0.4453, -0.4453, -0.4453, -0.4453,  1.2403,\n",
      "        -0.4453,  1.2403,  1.2403,  2.9259, -0.4453, -0.4453, -0.4453, -0.4453,\n",
      "        -0.4453,  2.9259, -0.4453, -0.4453, -0.4453, -0.4453, -0.4453, -0.4453,\n",
      "        -0.4453, -0.4453, -0.4453, -0.4453, -0.4453], device='cuda:0')\n",
      "✅ Rewards: 0.0881\n",
      "✅ Loss: -0.1506\n",
      "-------Question---------\n",
      "It takes Roque two hours to walk to work and one hour to ride his bike to work. Roque walks to and from work three times a week and rides his bike to and from work twice a week. How many hours in total does he take to get to and from work a week with walking and biking?\n",
      "\n",
      "🧠 Inference Index 18\n",
      "🔍 Top-K Indices: [18, 222, 207, 101, 64, 147, 94, 140, 69, 157, 142, 68, 55, 110, 54, 228, 56, 15, 0, 16, 145, 30, 219, 149, 243, 73, 63, 5, 197, 195, 79, 6, 187, 184, 168, 136, 176, 1, 201, 172, 59, 131, 144, 88, 151, 41, 67, 209, 9, 139, 152, 179, 239]\n",
      "[INFO] Launching 159 parallel inference tasks...\n"
     ]
    },
    {
     "name": "stderr",
     "output_type": "stream",
     "text": []
    },
    {
     "name": "stdout",
     "output_type": "stream",
     "text": [
      "tensor([1., 0., 0., 0., 0., 0., 1., 0., 0., 0., 0., 0., 0., 0., 0., 0., 0., 0.,\n",
      "        0., 0., 1., 0., 0., 0., 0., 0., 0., 0., 0., 0., 0., 0., 0., 0., 0., 0.,\n",
      "        0., 0., 1., 1., 0., 0., 0., 0., 0., 0., 0., 0., 0., 0., 0., 0., 0.],\n",
      "       device='cuda:0')\n",
      "tensor([ 3.0690, -0.3197, -0.3197, -0.3197, -0.3197, -0.3197,  3.0690, -0.3197,\n",
      "        -0.3197, -0.3197, -0.3197, -0.3197, -0.3197, -0.3197, -0.3197, -0.3197,\n",
      "        -0.3197, -0.3197, -0.3197, -0.3197,  3.0690, -0.3197, -0.3197, -0.3197,\n",
      "        -0.3197, -0.3197, -0.3197, -0.3197, -0.3197, -0.3197, -0.3197, -0.3197,\n",
      "        -0.3197, -0.3197, -0.3197, -0.3197, -0.3197, -0.3197,  3.0690,  3.0690,\n",
      "        -0.3197, -0.3197, -0.3197, -0.3197, -0.3197, -0.3197, -0.3197, -0.3197,\n",
      "        -0.3197, -0.3197, -0.3197, -0.3197, -0.3197], device='cuda:0')\n",
      "✅ Rewards: 0.0943\n",
      "✅ Loss: -0.1019\n",
      "-------Question---------\n",
      "Tim rides his bike back and forth to work for each of his 5 workdays.  His work is 20 miles away.  He also goes for a weekend bike ride of 200 miles.    If he can bike at 25 mph how much time does he spend biking a week?\n",
      "\n",
      "🧠 Inference Index 19\n",
      "🔍 Top-K Indices: [110, 207, 18, 128, 14, 179, 144, 163, 0, 59, 142, 93, 73, 124, 208, 1, 221, 139, 254, 157, 29, 109, 119, 245, 51, 243, 202, 175, 112, 131, 63, 145, 235, 220, 94, 9, 201, 28, 64, 195, 156, 34, 6, 147, 55, 69, 48, 209, 176, 247, 158, 250, 169]\n",
      "[INFO] Launching 159 parallel inference tasks...\n"
     ]
    },
    {
     "name": "stderr",
     "output_type": "stream",
     "text": [
      "Examples: 100%|██████████| 20/20 [02:51<00:00,  8.58s/it]\n",
      "Training Steps:  40%|████      | 4/10 [11:10<16:47, 167.99s/it]"
     ]
    },
    {
     "name": "stdout",
     "output_type": "stream",
     "text": [
      "tensor([0.0000, 0.0000, 0.6667, 0.0000, 0.3333, 0.3333, 0.3333, 0.3333, 0.0000,\n",
      "        0.3333, 0.3333, 0.0000, 0.0000, 0.0000, 0.0000, 0.0000, 0.0000, 1.0000,\n",
      "        0.0000, 0.0000, 0.3333, 0.0000, 1.0000, 0.0000, 0.0000, 0.0000, 0.0000,\n",
      "        0.0000, 0.3333, 0.0000, 0.6667, 0.0000, 0.0000, 0.3333, 0.0000, 1.0000,\n",
      "        0.0000, 0.3333, 0.0000, 0.0000, 0.0000, 0.0000, 0.3333, 0.0000, 0.3333,\n",
      "        0.0000, 0.6667, 0.0000, 1.0000, 0.6667, 0.6667, 0.0000, 0.0000],\n",
      "       device='cuda:0')\n",
      "tensor([-0.6807, -0.6807,  1.4414, -0.6807,  0.3804,  0.3804,  0.3804,  0.3804,\n",
      "        -0.6807,  0.3804,  0.3804, -0.6807, -0.6807, -0.6807, -0.6807, -0.6807,\n",
      "        -0.6807,  2.5025, -0.6807, -0.6807,  0.3804, -0.6807,  2.5025, -0.6807,\n",
      "        -0.6807, -0.6807, -0.6807, -0.6807,  0.3804, -0.6807,  1.4414, -0.6807,\n",
      "        -0.6807,  0.3804, -0.6807,  2.5025, -0.6807,  0.3804, -0.6807, -0.6807,\n",
      "        -0.6807, -0.6807,  0.3804, -0.6807,  0.3804, -0.6807,  1.4414, -0.6807,\n",
      "         2.5025,  1.4414,  1.4414, -0.6807, -0.6807], device='cuda:0')\n",
      "✅ Rewards: 0.2138\n",
      "✅ Loss: -0.1491\n",
      "\n",
      "=== Training Step 5 ===\n"
     ]
    },
    {
     "name": "stderr",
     "output_type": "stream",
     "text": []
    },
    {
     "name": "stdout",
     "output_type": "stream",
     "text": [
      "-------Question---------\n",
      "Natalia sold clips to 48 of her friends in April, and then she sold half as many clips in May. How many clips did Natalia sell altogether in April and May?\n",
      "\n",
      "🧠 Inference Index 0\n",
      "🔍 Top-K Indices: [179, 228, 81, 56, 175, 17, 104, 139, 15, 4, 18, 76, 201, 0, 105, 14, 85, 150, 64, 79, 101, 195, 203, 144, 8, 171, 69, 77, 112, 45, 74, 197, 1, 243, 189, 146, 109, 194, 232, 239, 82, 35, 142, 135, 33, 93, 202, 250, 157, 86, 185, 136, 161]\n",
      "[INFO] Launching 159 parallel inference tasks...\n"
     ]
    },
    {
     "name": "stderr",
     "output_type": "stream",
     "text": []
    },
    {
     "name": "stdout",
     "output_type": "stream",
     "text": [
      "tensor([0.3333, 1.0000, 1.0000, 1.0000, 0.6667, 1.0000, 1.0000, 0.3333, 1.0000,\n",
      "        1.0000, 1.0000, 0.0000, 1.0000, 1.0000, 1.0000, 1.0000, 1.0000, 1.0000,\n",
      "        0.0000, 1.0000, 1.0000, 1.0000, 0.3333, 1.0000, 1.0000, 1.0000, 1.0000,\n",
      "        1.0000, 1.0000, 0.6667, 1.0000, 1.0000, 1.0000, 1.0000, 1.0000, 1.0000,\n",
      "        1.0000, 1.0000, 1.0000, 1.0000, 1.0000, 1.0000, 1.0000, 1.0000, 1.0000,\n",
      "        1.0000, 0.0000, 1.0000, 0.3333, 1.0000, 1.0000, 1.0000, 1.0000],\n",
      "       device='cuda:0')\n",
      "tensor([-1.9155,  0.4183,  0.4183,  0.4183, -0.7486,  0.4183,  0.4183, -1.9155,\n",
      "         0.4183,  0.4183,  0.4183, -3.0824,  0.4183,  0.4183,  0.4183,  0.4183,\n",
      "         0.4183,  0.4183, -3.0824,  0.4183,  0.4183,  0.4183, -1.9155,  0.4183,\n",
      "         0.4183,  0.4183,  0.4183,  0.4183,  0.4183, -0.7486,  0.4183,  0.4183,\n",
      "         0.4183,  0.4183,  0.4183,  0.4183,  0.4183,  0.4183,  0.4183,  0.4183,\n",
      "         0.4183,  0.4183,  0.4183,  0.4183,  0.4183,  0.4183, -3.0824,  0.4183,\n",
      "        -1.9155,  0.4183,  0.4183,  0.4183,  0.4183], device='cuda:0')\n",
      "✅ Rewards: 0.8805\n",
      "✅ Loss: 0.0024\n",
      "-------Question---------\n",
      "Weng earns $12 an hour for babysitting. Yesterday, she just did 50 minutes of babysitting. How much did she earn?\n",
      "\n",
      "🧠 Inference Index 1\n",
      "🔍 Top-K Indices: [112, 232, 64, 69, 235, 228, 245, 157, 158, 18, 219, 142, 1, 95, 208, 118, 113, 124, 68, 250, 201, 56, 189, 25, 150, 61, 88, 243, 119, 202, 103, 180, 220, 176, 197, 28, 33, 77, 13, 194, 85, 86, 244, 128, 178, 203, 187, 73, 131, 249, 227, 148, 211]\n",
      "[INFO] Launching 159 parallel inference tasks...\n"
     ]
    },
    {
     "name": "stderr",
     "output_type": "stream",
     "text": []
    },
    {
     "name": "stdout",
     "output_type": "stream",
     "text": [
      "tensor([1., 1., 1., 1., 1., 1., 1., 1., 1., 1., 1., 1., 1., 1., 1., 1., 1., 1.,\n",
      "        1., 1., 1., 1., 1., 1., 1., 1., 1., 1., 1., 1., 1., 1., 1., 1., 1., 1.,\n",
      "        1., 1., 1., 1., 1., 1., 1., 1., 1., 1., 1., 1., 1., 1., 1., 1., 1.],\n",
      "       device='cuda:0')\n",
      "tensor([0., 0., 0., 0., 0., 0., 0., 0., 0., 0., 0., 0., 0., 0., 0., 0., 0., 0., 0., 0., 0., 0., 0., 0.,\n",
      "        0., 0., 0., 0., 0., 0., 0., 0., 0., 0., 0., 0., 0., 0., 0., 0., 0., 0., 0., 0., 0., 0., 0., 0.,\n",
      "        0., 0., 0., 0., 0.], device='cuda:0')\n",
      "✅ Rewards: 1.0000\n",
      "✅ Loss: -0.0000\n",
      "-------Question---------\n",
      "Betty is saving money for a new wallet which costs $100. Betty has only half of the money she needs. Her parents decided to give her $15 for that purpose, and her grandparents twice as much as her parents. How much more money does Betty need to buy the wallet?\n",
      "\n",
      "🧠 Inference Index 2\n",
      "🔍 Top-K Indices: [113, 74, 228, 207, 112, 14, 82, 63, 144, 75, 157, 225, 77, 2, 73, 56, 239, 178, 129, 221, 154, 194, 145, 161, 160, 68, 94, 95, 136, 64, 124, 79, 222, 18, 245, 232, 206, 110, 76, 11, 235, 101, 55, 137, 135, 203, 13, 88, 139, 51, 25, 117, 81]\n",
      "[INFO] Launching 159 parallel inference tasks...\n"
     ]
    },
    {
     "name": "stderr",
     "output_type": "stream",
     "text": []
    },
    {
     "name": "stdout",
     "output_type": "stream",
     "text": [
      "tensor([0.0000, 0.3333, 1.0000, 1.0000, 1.0000, 1.0000, 0.6667, 1.0000, 1.0000,\n",
      "        0.0000, 1.0000, 1.0000, 0.6667, 0.6667, 1.0000, 1.0000, 1.0000, 1.0000,\n",
      "        1.0000, 1.0000, 1.0000, 1.0000, 0.3333, 1.0000, 1.0000, 1.0000, 1.0000,\n",
      "        0.3333, 1.0000, 1.0000, 1.0000, 1.0000, 1.0000, 1.0000, 1.0000, 1.0000,\n",
      "        1.0000, 1.0000, 1.0000, 1.0000, 1.0000, 1.0000, 1.0000, 1.0000, 0.0000,\n",
      "        1.0000, 1.0000, 1.0000, 1.0000, 1.0000, 1.0000, 1.0000, 1.0000],\n",
      "       device='cuda:0')\n",
      "tensor([-3.2024, -1.9987,  0.4088,  0.4088,  0.4088,  0.4088, -0.7949,  0.4088,\n",
      "         0.4088, -3.2024,  0.4088,  0.4088, -0.7949, -0.7949,  0.4088,  0.4088,\n",
      "         0.4088,  0.4088,  0.4088,  0.4088,  0.4088,  0.4088, -1.9987,  0.4088,\n",
      "         0.4088,  0.4088,  0.4088, -1.9987,  0.4088,  0.4088,  0.4088,  0.4088,\n",
      "         0.4088,  0.4088,  0.4088,  0.4088,  0.4088,  0.4088,  0.4088,  0.4088,\n",
      "         0.4088,  0.4088,  0.4088,  0.4088, -3.2024,  0.4088,  0.4088,  0.4088,\n",
      "         0.4088,  0.4088,  0.4088,  0.4088,  0.4088], device='cuda:0')\n",
      "✅ Rewards: 0.8868\n",
      "✅ Loss: 0.0509\n",
      "-------Question---------\n",
      "Julie is reading a 120-page book. Yesterday, she was able to read 12 pages and today, she read twice as many pages as yesterday. If she wants to read half of the remaining pages tomorrow, how many pages should she read?\n",
      "\n",
      "🧠 Inference Index 3\n",
      "🔍 Top-K Indices: [13, 232, 251, 112, 203, 221, 18, 228, 220, 118, 74, 64, 1, 77, 175, 139, 94, 223, 185, 28, 176, 212, 160, 244, 2, 233, 51, 120, 93, 159, 194, 81, 156, 5, 73, 249, 69, 145, 3, 202, 50, 158, 63, 4, 148, 117, 88, 61, 149, 179, 207, 131, 144]\n",
      "[INFO] Launching 159 parallel inference tasks...\n"
     ]
    },
    {
     "name": "stderr",
     "output_type": "stream",
     "text": []
    },
    {
     "name": "stdout",
     "output_type": "stream",
     "text": [
      "tensor([0.0000, 0.0000, 0.0000, 0.0000, 0.0000, 0.0000, 0.0000, 0.0000, 0.0000,\n",
      "        0.0000, 0.0000, 0.0000, 0.0000, 0.3333, 0.0000, 0.0000, 0.0000, 0.0000,\n",
      "        0.0000, 0.0000, 0.0000, 0.0000, 0.0000, 0.0000, 0.0000, 0.0000, 0.0000,\n",
      "        0.0000, 0.0000, 0.0000, 0.0000, 0.0000, 0.0000, 0.0000, 0.0000, 0.0000,\n",
      "        0.0000, 0.0000, 0.0000, 0.0000, 0.0000, 0.0000, 0.0000, 0.0000, 0.0000,\n",
      "        0.0000, 0.0000, 0.0000, 0.0000, 0.0000, 0.0000, 0.0000, 0.0000],\n",
      "       device='cuda:0')\n",
      "tensor([-0.1374, -0.1374, -0.1374, -0.1374, -0.1374, -0.1374, -0.1374, -0.1374,\n",
      "        -0.1374, -0.1374, -0.1374, -0.1374, -0.1374,  7.1427, -0.1374, -0.1374,\n",
      "        -0.1374, -0.1374, -0.1374, -0.1374, -0.1374, -0.1374, -0.1374, -0.1374,\n",
      "        -0.1374, -0.1374, -0.1374, -0.1374, -0.1374, -0.1374, -0.1374, -0.1374,\n",
      "        -0.1374, -0.1374, -0.1374, -0.1374, -0.1374, -0.1374, -0.1374, -0.1374,\n",
      "        -0.1374, -0.1374, -0.1374, -0.1374, -0.1374, -0.1374, -0.1374, -0.1374,\n",
      "        -0.1374, -0.1374, -0.1374, -0.1374, -0.1374], device='cuda:0')\n",
      "✅ Rewards: 0.0063\n",
      "✅ Loss: -0.0039\n",
      "-------Question---------\n",
      "James writes a 3-page letter to 2 different friends twice a week.  How many pages does he write a year?\n",
      "\n",
      "🧠 Inference Index 4\n",
      "🔍 Top-K Indices: [93, 145, 128, 13, 3, 17, 178, 254, 206, 184, 220, 179, 77, 55, 150, 156, 232, 217, 18, 5, 50, 196, 75, 253, 63, 1, 94, 2, 74, 112, 149, 200, 197, 221, 29, 171, 140, 187, 68, 45, 88, 185, 113, 103, 157, 8, 64, 99, 159, 110, 48, 194, 118]\n",
      "[INFO] Launching 159 parallel inference tasks...\n"
     ]
    },
    {
     "name": "stderr",
     "output_type": "stream",
     "text": []
    },
    {
     "name": "stdout",
     "output_type": "stream",
     "text": [
      "tensor([0.0000, 0.0000, 0.0000, 0.0000, 0.0000, 0.6667, 0.0000, 0.0000, 0.0000,\n",
      "        1.0000, 0.0000, 0.0000, 0.3333, 1.0000, 0.0000, 0.6667, 0.6667, 1.0000,\n",
      "        1.0000, 0.0000, 0.0000, 0.0000, 0.0000, 0.0000, 0.0000, 0.6667, 1.0000,\n",
      "        0.6667, 0.0000, 0.0000, 0.0000, 0.0000, 0.0000, 0.0000, 0.3333, 0.0000,\n",
      "        0.0000, 0.0000, 0.0000, 0.0000, 0.3333, 0.6667, 0.3333, 0.0000, 0.3333,\n",
      "        0.0000, 0.0000, 0.0000, 1.0000, 0.0000, 0.0000, 0.6667, 0.0000],\n",
      "       device='cuda:0')\n",
      "tensor([-0.6437, -0.6437, -0.6437, -0.6437, -0.6437,  1.2003, -0.6437, -0.6437,\n",
      "        -0.6437,  2.1224, -0.6437, -0.6437,  0.2783,  2.1224, -0.6437,  1.2003,\n",
      "         1.2003,  2.1224,  2.1224, -0.6437, -0.6437, -0.6437, -0.6437, -0.6437,\n",
      "        -0.6437,  1.2003,  2.1224,  1.2003, -0.6437, -0.6437, -0.6437, -0.6437,\n",
      "        -0.6437, -0.6437,  0.2783, -0.6437, -0.6437, -0.6437, -0.6437, -0.6437,\n",
      "         0.2783,  1.2003,  0.2783, -0.6437,  0.2783, -0.6437, -0.6437, -0.6437,\n",
      "         2.1224, -0.6437, -0.6437,  1.2003, -0.6437], device='cuda:0')\n",
      "✅ Rewards: 0.2327\n",
      "✅ Loss: -0.2246\n",
      "-------Question---------\n",
      "Mark has a garden with flowers. He planted plants of three different colors in it. Ten of them are yellow, and there are 80% more of those in purple. There are only 25% as many green flowers as there are yellow and purple flowers. How many flowers does Mark have in his garden?\n",
      "\n",
      "🧠 Inference Index 5\n",
      "🔍 Top-K Indices: [40, 135, 51, 30, 2, 161, 194, 82, 15, 166, 29, 55, 159, 240, 17, 156, 77, 61, 73, 79, 21, 145, 178, 176, 104, 0, 123, 137, 48, 110, 163, 112, 109, 120, 233, 3, 170, 56, 129, 69, 8, 212, 38, 93, 101, 95, 118, 222, 219, 119, 91, 228, 142]\n",
      "[INFO] Launching 159 parallel inference tasks...\n"
     ]
    },
    {
     "name": "stderr",
     "output_type": "stream",
     "text": []
    },
    {
     "name": "stdout",
     "output_type": "stream",
     "text": [
      "tensor([0.0000, 0.0000, 0.0000, 1.0000, 0.0000, 1.0000, 0.0000, 0.0000, 0.0000,\n",
      "        0.0000, 0.6667, 0.0000, 0.3333, 0.0000, 1.0000, 0.0000, 0.0000, 0.0000,\n",
      "        0.0000, 0.3333, 1.0000, 0.0000, 0.3333, 0.3333, 0.0000, 0.0000, 0.0000,\n",
      "        0.0000, 0.3333, 0.0000, 0.0000, 0.6667, 0.0000, 0.0000, 1.0000, 0.6667,\n",
      "        0.0000, 0.0000, 1.0000, 0.0000, 0.0000, 1.0000, 0.6667, 1.0000, 0.0000,\n",
      "        0.0000, 0.0000, 0.0000, 0.0000, 0.3333, 1.0000, 0.0000, 0.0000],\n",
      "       device='cuda:0')\n",
      "tensor([-0.6607, -0.6607, -0.6607,  1.9016, -0.6607,  1.9016, -0.6607, -0.6607,\n",
      "        -0.6607, -0.6607,  1.0475, -0.6607,  0.1934, -0.6607,  1.9016, -0.6607,\n",
      "        -0.6607, -0.6607, -0.6607,  0.1934,  1.9016, -0.6607,  0.1934,  0.1934,\n",
      "        -0.6607, -0.6607, -0.6607, -0.6607,  0.1934, -0.6607, -0.6607,  1.0475,\n",
      "        -0.6607, -0.6607,  1.9016,  1.0475, -0.6607, -0.6607,  1.9016, -0.6607,\n",
      "        -0.6607,  1.9016,  1.0475,  1.9016, -0.6607, -0.6607, -0.6607, -0.6607,\n",
      "        -0.6607,  0.1934,  1.9016, -0.6607, -0.6607], device='cuda:0')\n",
      "✅ Rewards: 0.2579\n",
      "✅ Loss: -0.1049\n",
      "-------Question---------\n",
      "Albert is wondering how much pizza he can eat in one day. He buys 2 large pizzas and 2 small pizzas. A large pizza has 16 slices and a small pizza has 8 slices. If he eats it all, how many pieces does he eat that day?\n",
      "\n",
      "🧠 Inference Index 6\n",
      "🔍 Top-K Indices: [112, 149, 64, 197, 14, 203, 95, 8, 145, 13, 88, 226, 56, 228, 178, 156, 77, 110, 105, 253, 152, 29, 161, 86, 93, 185, 140, 119, 171, 109, 3, 170, 232, 150, 51, 94, 207, 25, 50, 117, 222, 85, 244, 157, 139, 82, 63, 59, 103, 147, 158, 79, 184]\n",
      "[INFO] Launching 159 parallel inference tasks...\n"
     ]
    },
    {
     "name": "stderr",
     "output_type": "stream",
     "text": []
    },
    {
     "name": "stdout",
     "output_type": "stream",
     "text": [
      "tensor([1.0000, 1.0000, 1.0000, 1.0000, 0.6667, 1.0000, 1.0000, 1.0000, 1.0000,\n",
      "        1.0000, 1.0000, 1.0000, 0.6667, 1.0000, 1.0000, 0.0000, 1.0000, 1.0000,\n",
      "        1.0000, 1.0000, 1.0000, 1.0000, 1.0000, 1.0000, 1.0000, 1.0000, 1.0000,\n",
      "        1.0000, 1.0000, 0.6667, 1.0000, 0.3333, 1.0000, 0.6667, 1.0000, 0.6667,\n",
      "        1.0000, 0.3333, 1.0000, 1.0000, 1.0000, 1.0000, 1.0000, 1.0000, 1.0000,\n",
      "        1.0000, 1.0000, 1.0000, 1.0000, 0.3333, 1.0000, 1.0000, 1.0000],\n",
      "       device='cuda:0')\n",
      "tensor([ 0.4034,  0.4034,  0.4034,  0.4034, -1.1236,  0.4034,  0.4034,  0.4034,\n",
      "         0.4034,  0.4034,  0.4034,  0.4034, -1.1236,  0.4034,  0.4034, -4.1776,\n",
      "         0.4034,  0.4034,  0.4034,  0.4034,  0.4034,  0.4034,  0.4034,  0.4034,\n",
      "         0.4034,  0.4034,  0.4034,  0.4034,  0.4034, -1.1236,  0.4034, -2.6506,\n",
      "         0.4034, -1.1236,  0.4034, -1.1236,  0.4034, -2.6506,  0.4034,  0.4034,\n",
      "         0.4034,  0.4034,  0.4034,  0.4034,  0.4034,  0.4034,  0.4034,  0.4034,\n",
      "         0.4034, -2.6506,  0.4034,  0.4034,  0.4034], device='cuda:0')\n",
      "✅ Rewards: 0.9119\n",
      "✅ Loss: -0.0910\n",
      "-------Question---------\n",
      "Ken created a care package to send to his brother, who was away at boarding school.  Ken placed a box on a scale, and then he poured into the box enough jelly beans to bring the weight to 2 pounds.  Then, he added enough brownies to cause the weight to triple.  Next, he added another 2 pounds of jelly beans.  And finally, he added enough gummy worms to double the weight once again.  What was the final weight of the box of goodies, in pounds?\n",
      "\n",
      "🧠 Inference Index 7\n",
      "🔍 Top-K Indices: [238, 226, 24, 204, 253, 57, 19, 74, 12, 14, 70, 76, 92, 17, 60, 153, 48, 30, 215, 211, 231, 36, 152, 100, 72, 40, 65, 197, 23, 232, 49, 159, 84, 61, 167, 200, 154, 184, 82, 63, 10, 181, 237, 141, 236, 116, 233, 205, 43, 138, 240, 101, 102]\n",
      "[INFO] Launching 159 parallel inference tasks...\n"
     ]
    },
    {
     "name": "stderr",
     "output_type": "stream",
     "text": []
    },
    {
     "name": "stdout",
     "output_type": "stream",
     "text": [
      "tensor([0.0000, 0.0000, 0.0000, 0.3333, 1.0000, 0.0000, 0.3333, 0.0000, 0.3333,\n",
      "        0.0000, 0.0000, 1.0000, 1.0000, 0.0000, 0.6667, 0.0000, 1.0000, 0.0000,\n",
      "        0.3333, 0.6667, 0.3333, 0.0000, 0.0000, 1.0000, 0.6667, 1.0000, 0.6667,\n",
      "        0.3333, 0.0000, 1.0000, 0.6667, 0.0000, 0.0000, 1.0000, 0.6667, 0.6667,\n",
      "        0.3333, 0.6667, 0.0000, 0.3333, 0.0000, 0.3333, 0.0000, 0.6667, 0.0000,\n",
      "        0.0000, 0.0000, 0.0000, 0.6667, 0.0000, 0.3333, 0.0000, 0.3333],\n",
      "       device='cuda:0')\n",
      "tensor([-0.9216, -0.9216, -0.9216, -0.0335,  1.7428, -0.9216, -0.0335, -0.9216,\n",
      "        -0.0335, -0.9216, -0.9216,  1.7428,  1.7428, -0.9216,  0.8546, -0.9216,\n",
      "         1.7428, -0.9216, -0.0335,  0.8546, -0.0335, -0.9216, -0.9216,  1.7428,\n",
      "         0.8546,  1.7428,  0.8546, -0.0335, -0.9216,  1.7428,  0.8546, -0.9216,\n",
      "        -0.9216,  1.7428,  0.8546,  0.8546, -0.0335,  0.8546, -0.9216, -0.0335,\n",
      "        -0.9216, -0.0335, -0.9216,  0.8546, -0.9216, -0.9216, -0.9216, -0.9216,\n",
      "         0.8546, -0.9216, -0.0335, -0.9216, -0.0335], device='cuda:0')\n",
      "✅ Rewards: 0.3459\n",
      "✅ Loss: -0.0530\n",
      "-------Question---------\n",
      "Alexis is applying for a new job and bought a new set of business clothes to wear to the interview. She went to a department store with a budget of $200 and spent $30 on a button-up shirt, $46 on suit pants, $38 on a suit coat, $11 on socks, and $18 on a belt. She also purchased a pair of shoes, but lost the receipt for them. She has $16 left from her budget. How much did Alexis pay for the shoes?\n",
      "\n",
      "🧠 Inference Index 8\n",
      "🔍 Top-K Indices: [10, 218, 226, 97, 115, 204, 224, 40, 23, 190, 130, 12, 24, 43, 100, 238, 19, 103, 7, 89, 96, 236, 45, 177, 60, 53, 44, 62, 98, 127, 121, 233, 26, 106, 49, 241, 129, 234, 31, 193, 210, 181, 58, 229, 9, 252, 248, 167, 254, 108, 198, 126, 8]\n",
      "[INFO] Launching 159 parallel inference tasks...\n"
     ]
    },
    {
     "name": "stderr",
     "output_type": "stream",
     "text": []
    },
    {
     "name": "stdout",
     "output_type": "stream",
     "text": [
      "tensor([1.0000, 0.3333, 1.0000, 1.0000, 0.6667, 1.0000, 0.0000, 1.0000, 1.0000,\n",
      "        1.0000, 1.0000, 0.0000, 1.0000, 0.6667, 0.0000, 0.0000, 1.0000, 0.6667,\n",
      "        0.3333, 1.0000, 1.0000, 1.0000, 0.3333, 1.0000, 1.0000, 1.0000, 1.0000,\n",
      "        1.0000, 0.0000, 1.0000, 1.0000, 1.0000, 1.0000, 1.0000, 0.3333, 0.3333,\n",
      "        1.0000, 0.0000, 1.0000, 1.0000, 0.6667, 0.6667, 1.0000, 0.6667, 0.3333,\n",
      "        1.0000, 1.0000, 1.0000, 0.0000, 1.0000, 0.6667, 1.0000, 1.0000],\n",
      "       device='cuda:0')\n",
      "tensor([ 0.6813, -1.1241,  0.6813,  0.6813, -0.2214,  0.6813, -2.0269,  0.6813,\n",
      "         0.6813,  0.6813,  0.6813, -2.0269,  0.6813, -0.2214, -2.0269, -2.0269,\n",
      "         0.6813, -0.2214, -1.1241,  0.6813,  0.6813,  0.6813, -1.1241,  0.6813,\n",
      "         0.6813,  0.6813,  0.6813,  0.6813, -2.0269,  0.6813,  0.6813,  0.6813,\n",
      "         0.6813,  0.6813, -1.1241, -1.1241,  0.6813, -2.0269,  0.6813,  0.6813,\n",
      "        -0.2214, -0.2214,  0.6813, -0.2214, -1.1241,  0.6813,  0.6813,  0.6813,\n",
      "        -2.0269,  0.6813, -0.2214,  0.6813,  0.6813], device='cuda:0')\n",
      "✅ Rewards: 0.7484\n",
      "✅ Loss: -0.0141\n",
      "-------Question---------\n",
      "Tina makes $18.00 an hour.  If she works more than 8 hours per shift, she is eligible for overtime, which is paid by your hourly wage + 1/2 your hourly wage.  If she works 10 hours every day for 5 days, how much money does she make?\n",
      "\n",
      "🧠 Inference Index 9\n",
      "🔍 Top-K Indices: [109, 30, 233, 188, 13, 119, 79, 14, 159, 94, 81, 140, 112, 171, 201, 145, 45, 74, 228, 91, 146, 101, 139, 55, 2, 51, 122, 196, 207, 15, 136, 210, 178, 117, 82, 120, 254, 242, 36, 86, 64, 182, 247, 197, 77, 65, 152, 56, 232, 95, 135, 39, 17]\n",
      "[INFO] Launching 159 parallel inference tasks...\n"
     ]
    },
    {
     "name": "stderr",
     "output_type": "stream",
     "text": []
    },
    {
     "name": "stdout",
     "output_type": "stream",
     "text": [
      "tensor([0.0000, 0.0000, 0.3333, 0.0000, 0.0000, 0.0000, 0.0000, 0.0000, 0.0000,\n",
      "        0.0000, 0.0000, 0.0000, 0.0000, 0.0000, 0.0000, 0.0000, 0.0000, 0.0000,\n",
      "        0.0000, 0.0000, 0.0000, 0.0000, 0.0000, 0.0000, 0.0000, 0.0000, 0.0000,\n",
      "        0.0000, 0.0000, 0.0000, 0.0000, 0.0000, 0.0000, 0.0000, 0.0000, 0.0000,\n",
      "        0.0000, 0.0000, 0.0000, 0.0000, 0.0000, 0.0000, 0.0000, 0.0000, 0.0000,\n",
      "        0.0000, 0.0000, 0.0000, 0.0000, 0.0000, 0.0000, 0.0000, 0.0000],\n",
      "       device='cuda:0')\n",
      "tensor([-0.1374, -0.1374,  7.1427, -0.1374, -0.1374, -0.1374, -0.1374, -0.1374,\n",
      "        -0.1374, -0.1374, -0.1374, -0.1374, -0.1374, -0.1374, -0.1374, -0.1374,\n",
      "        -0.1374, -0.1374, -0.1374, -0.1374, -0.1374, -0.1374, -0.1374, -0.1374,\n",
      "        -0.1374, -0.1374, -0.1374, -0.1374, -0.1374, -0.1374, -0.1374, -0.1374,\n",
      "        -0.1374, -0.1374, -0.1374, -0.1374, -0.1374, -0.1374, -0.1374, -0.1374,\n",
      "        -0.1374, -0.1374, -0.1374, -0.1374, -0.1374, -0.1374, -0.1374, -0.1374,\n",
      "        -0.1374, -0.1374, -0.1374, -0.1374, -0.1374], device='cuda:0')\n",
      "✅ Rewards: 0.0063\n",
      "✅ Loss: -0.0101\n",
      "-------Question---------\n",
      "A deep-sea monster rises from the waters once every hundred years to feast on a ship and sate its hunger. Over three hundred years, it has consumed 847 people. Ships have been built larger over time, so each new ship has twice as many people as the last ship. How many people were on the ship the monster ate in the first hundred years?\n",
      "\n",
      "🧠 Inference Index 10\n",
      "🔍 Top-K Indices: [234, 26, 210, 231, 16, 143, 44, 162, 72, 248, 66, 60, 246, 58, 182, 19, 96, 100, 204, 53, 12, 229, 62, 23, 165, 21, 138, 174, 238, 181, 111, 38, 90, 126, 177, 98, 49, 57, 224, 36, 7, 37, 236, 102, 199, 230, 116, 91, 106, 215, 121, 193, 70]\n",
      "[INFO] Launching 159 parallel inference tasks...\n"
     ]
    },
    {
     "name": "stderr",
     "output_type": "stream",
     "text": []
    },
    {
     "name": "stdout",
     "output_type": "stream",
     "text": [
      "tensor([0.0000, 0.0000, 0.0000, 0.3333, 0.0000, 0.0000, 0.3333, 0.0000, 0.0000,\n",
      "        0.0000, 0.0000, 0.0000, 0.0000, 0.3333, 0.0000, 0.0000, 0.3333, 0.0000,\n",
      "        0.0000, 0.0000, 0.0000, 0.0000, 0.0000, 0.3333, 0.0000, 0.3333, 0.0000,\n",
      "        0.0000, 0.0000, 0.0000, 0.0000, 0.0000, 0.0000, 0.0000, 0.0000, 0.0000,\n",
      "        0.0000, 0.0000, 0.0000, 0.0000, 0.0000, 0.0000, 0.0000, 0.0000, 0.6667,\n",
      "        0.0000, 0.0000, 0.0000, 0.6667, 0.0000, 0.0000, 0.0000, 1.0000],\n",
      "       device='cuda:0')\n",
      "tensor([-0.3974, -0.3974, -0.3974,  1.2227, -0.3974, -0.3974,  1.2227, -0.3974,\n",
      "        -0.3974, -0.3974, -0.3974, -0.3974, -0.3974,  1.2227, -0.3974, -0.3974,\n",
      "         1.2227, -0.3974, -0.3974, -0.3974, -0.3974, -0.3974, -0.3974,  1.2227,\n",
      "        -0.3974,  1.2227, -0.3974, -0.3974, -0.3974, -0.3974, -0.3974, -0.3974,\n",
      "        -0.3974, -0.3974, -0.3974, -0.3974, -0.3974, -0.3974, -0.3974, -0.3974,\n",
      "        -0.3974, -0.3974, -0.3974, -0.3974,  2.8428, -0.3974, -0.3974, -0.3974,\n",
      "         2.8428, -0.3974, -0.3974, -0.3974,  4.4629], device='cuda:0')\n",
      "✅ Rewards: 0.0818\n",
      "✅ Loss: 0.0536\n",
      "-------Question---------\n",
      "Tobias is buying a new pair of shoes that costs $95. He has been saving up his money each month for the past three months. He gets a $5 allowance a month. He also mows lawns and shovels driveways. He charges $15 to mow a lawn and $7 to shovel. After buying the shoes, he has $15 in change. If he mows 4 lawns, how many driveways did he shovel?\n",
      "\n",
      "🧠 Inference Index 11\n",
      "🔍 Top-K Indices: [19, 100, 204, 238, 215, 226, 36, 60, 7, 253, 49, 72, 177, 198, 90, 248, 218, 12, 23, 70, 236, 62, 231, 230, 16, 143, 153, 164, 229, 234, 242, 210, 53, 74, 237, 162, 252, 57, 224, 24, 80, 102, 38, 190, 32, 40, 8, 211, 117, 111, 181, 91, 76]\n",
      "[INFO] Launching 159 parallel inference tasks...\n"
     ]
    },
    {
     "name": "stderr",
     "output_type": "stream",
     "text": []
    },
    {
     "name": "stdout",
     "output_type": "stream",
     "text": [
      "tensor([0.0000, 0.0000, 0.0000, 0.6667, 0.0000, 0.0000, 0.0000, 0.0000, 0.0000,\n",
      "        0.0000, 0.0000, 0.0000, 0.0000, 0.0000, 0.0000, 0.0000, 0.0000, 0.0000,\n",
      "        0.0000, 0.0000, 0.0000, 0.0000, 0.0000, 0.0000, 0.0000, 0.0000, 0.0000,\n",
      "        0.0000, 0.6667, 0.0000, 0.3333, 0.0000, 0.0000, 0.0000, 0.0000, 0.0000,\n",
      "        0.0000, 0.3333, 0.0000, 0.0000, 0.0000, 0.0000, 0.6667, 0.0000, 0.0000,\n",
      "        0.0000, 0.0000, 0.0000, 0.0000, 0.0000, 0.0000, 0.0000, 0.0000],\n",
      "       device='cuda:0')\n",
      "tensor([-0.3043, -0.3043, -0.3043,  3.7280, -0.3043, -0.3043, -0.3043, -0.3043,\n",
      "        -0.3043, -0.3043, -0.3043, -0.3043, -0.3043, -0.3043, -0.3043, -0.3043,\n",
      "        -0.3043, -0.3043, -0.3043, -0.3043, -0.3043, -0.3043, -0.3043, -0.3043,\n",
      "        -0.3043, -0.3043, -0.3043, -0.3043,  3.7280, -0.3043,  1.7118, -0.3043,\n",
      "        -0.3043, -0.3043, -0.3043, -0.3043, -0.3043,  1.7118, -0.3043, -0.3043,\n",
      "        -0.3043, -0.3043,  3.7280, -0.3043, -0.3043, -0.3043, -0.3043, -0.3043,\n",
      "        -0.3043, -0.3043, -0.3043, -0.3043, -0.3043], device='cuda:0')\n",
      "✅ Rewards: 0.0503\n",
      "✅ Loss: 0.0181\n",
      "-------Question---------\n",
      "Randy has 60 mango trees on his farm. He also has 5 less than half as many coconut trees as mango trees. How many trees does Randy have in all on his farm?\n",
      "\n",
      "🧠 Inference Index 12\n",
      "🔍 Top-K Indices: [2, 84, 154, 75, 139, 77, 3, 29, 188, 113, 140, 6, 232, 120, 178, 182, 249, 109, 171, 245, 173, 203, 172, 197, 114, 74, 56, 35, 63, 223, 42, 76, 85, 196, 184, 55, 14, 86, 176, 163, 190, 144, 117, 212, 69, 247, 152, 88, 87, 104, 52, 73, 105]\n",
      "[INFO] Launching 159 parallel inference tasks...\n"
     ]
    },
    {
     "name": "stderr",
     "output_type": "stream",
     "text": []
    },
    {
     "name": "stdout",
     "output_type": "stream",
     "text": [
      "tensor([1.0000, 0.0000, 0.0000, 0.3333, 0.0000, 1.0000, 1.0000, 0.0000, 0.3333,\n",
      "        1.0000, 0.6667, 0.3333, 0.0000, 0.0000, 0.0000, 1.0000, 0.6667, 0.0000,\n",
      "        1.0000, 0.0000, 1.0000, 0.0000, 1.0000, 1.0000, 0.6667, 0.0000, 0.6667,\n",
      "        0.6667, 1.0000, 0.0000, 0.0000, 1.0000, 0.6667, 1.0000, 0.3333, 0.3333,\n",
      "        0.0000, 0.0000, 0.6667, 0.3333, 1.0000, 0.0000, 0.6667, 1.0000, 0.0000,\n",
      "        0.6667, 1.0000, 0.6667, 1.0000, 0.3333, 1.0000, 0.0000, 0.3333],\n",
      "       device='cuda:0')\n",
      "tensor([ 1.1930, -1.1781, -1.1781, -0.3877, -1.1781,  1.1930,  1.1930, -1.1781,\n",
      "        -0.3877,  1.1930,  0.4026, -0.3877, -1.1781, -1.1781, -1.1781,  1.1930,\n",
      "         0.4026, -1.1781,  1.1930, -1.1781,  1.1930, -1.1781,  1.1930,  1.1930,\n",
      "         0.4026, -1.1781,  0.4026,  0.4026,  1.1930, -1.1781, -1.1781,  1.1930,\n",
      "         0.4026,  1.1930, -0.3877, -0.3877, -1.1781, -1.1781,  0.4026, -0.3877,\n",
      "         1.1930, -1.1781,  0.4026,  1.1930, -1.1781,  0.4026,  1.1930,  0.4026,\n",
      "         1.1930, -0.3877,  1.1930, -1.1781, -0.3877], device='cuda:0')\n",
      "✅ Rewards: 0.4969\n",
      "✅ Loss: 0.0164\n",
      "-------Question---------\n",
      "Jasper will serve charcuterie at his dinner party. He buys 2 pounds of cheddar cheese for $10, a pound of cream cheese that cost half the price of the cheddar cheese, and a pack of cold cuts that cost twice the price of the cheddar cheese. How much does he spend on the ingredients?\n",
      "\n",
      "🧠 Inference Index 13\n",
      "🔍 Top-K Indices: [210, 60, 226, 155, 204, 174, 90, 181, 19, 23, 234, 242, 32, 198, 230, 238, 121, 57, 40, 253, 49, 36, 211, 237, 53, 72, 164, 66, 127, 138, 91, 24, 100, 162, 215, 98, 240, 153, 38, 31, 231, 115, 65, 177, 224, 7, 218, 97, 248, 11, 62, 166, 70]\n",
      "[INFO] Launching 159 parallel inference tasks...\n"
     ]
    },
    {
     "name": "stderr",
     "output_type": "stream",
     "text": []
    },
    {
     "name": "stdout",
     "output_type": "stream",
     "text": [
      "tensor([0.0000, 0.0000, 0.0000, 0.0000, 0.0000, 0.3333, 0.0000, 0.0000, 0.0000,\n",
      "        0.0000, 0.0000, 0.0000, 1.0000, 0.0000, 0.0000, 0.0000, 0.0000, 0.0000,\n",
      "        0.0000, 0.0000, 0.0000, 0.0000, 0.0000, 0.0000, 0.0000, 0.0000, 0.0000,\n",
      "        0.0000, 0.0000, 0.3333, 0.0000, 0.0000, 0.0000, 0.0000, 0.0000, 0.3333,\n",
      "        0.0000, 0.0000, 0.0000, 0.0000, 0.0000, 0.0000, 0.0000, 0.0000, 0.0000,\n",
      "        0.0000, 0.0000, 0.0000, 0.0000, 0.0000, 0.0000, 0.0000, 0.0000],\n",
      "       device='cuda:0')\n",
      "tensor([-0.2426, -0.2426, -0.2426, -0.2426, -0.2426,  1.9006, -0.2426, -0.2426,\n",
      "        -0.2426, -0.2426, -0.2426, -0.2426,  6.1870, -0.2426, -0.2426, -0.2426,\n",
      "        -0.2426, -0.2426, -0.2426, -0.2426, -0.2426, -0.2426, -0.2426, -0.2426,\n",
      "        -0.2426, -0.2426, -0.2426, -0.2426, -0.2426,  1.9006, -0.2426, -0.2426,\n",
      "        -0.2426, -0.2426, -0.2426,  1.9006, -0.2426, -0.2426, -0.2426, -0.2426,\n",
      "        -0.2426, -0.2426, -0.2426, -0.2426, -0.2426, -0.2426, -0.2426, -0.2426,\n",
      "        -0.2426, -0.2426, -0.2426, -0.2426, -0.2426], device='cuda:0')\n",
      "✅ Rewards: 0.0377\n",
      "✅ Loss: -0.1543\n",
      "-------Question---------\n",
      "Joy can read 8 pages of a book in 20 minutes. How many hours will it take her to read 120 pages?\n",
      "\n",
      "🧠 Inference Index 14\n",
      "🔍 Top-K Indices: [93, 3, 4, 221, 140, 145, 76, 253, 117, 159, 29, 220, 135, 9, 149, 50, 157, 182, 83, 240, 82, 150, 197, 136, 2, 228, 156, 185, 63, 88, 196, 195, 55, 152, 90, 128, 64, 161, 14, 84, 142, 45, 216, 213, 194, 233, 188, 119, 251, 179, 94, 206, 77]\n",
      "[INFO] Launching 159 parallel inference tasks...\n"
     ]
    },
    {
     "name": "stderr",
     "output_type": "stream",
     "text": []
    },
    {
     "name": "stdout",
     "output_type": "stream",
     "text": [
      "tensor([0.0000, 0.0000, 0.3333, 0.0000, 0.3333, 0.0000, 0.0000, 1.0000, 0.0000,\n",
      "        0.0000, 0.0000, 0.0000, 0.0000, 1.0000, 0.3333, 0.0000, 0.6667, 0.0000,\n",
      "        0.6667, 0.0000, 0.0000, 0.0000, 0.3333, 1.0000, 0.0000, 0.0000, 0.0000,\n",
      "        0.0000, 0.6667, 1.0000, 0.6667, 0.3333, 0.6667, 0.0000, 0.0000, 0.0000,\n",
      "        0.3333, 0.0000, 1.0000, 0.6667, 0.3333, 0.3333, 1.0000, 0.0000, 0.0000,\n",
      "        0.0000, 0.3333, 0.0000, 0.0000, 0.0000, 0.0000, 0.6667, 1.0000],\n",
      "       device='cuda:0')\n",
      "tensor([-0.7514, -0.7514,  0.1537, -0.7514,  0.1537, -0.7514, -0.7514,  1.9640,\n",
      "        -0.7514, -0.7514, -0.7514, -0.7514, -0.7514,  1.9640,  0.1537, -0.7514,\n",
      "         1.0588, -0.7514,  1.0588, -0.7514, -0.7514, -0.7514,  0.1537,  1.9640,\n",
      "        -0.7514, -0.7514, -0.7514, -0.7514,  1.0588,  1.9640,  1.0588,  0.1537,\n",
      "         1.0588, -0.7514, -0.7514, -0.7514,  0.1537, -0.7514,  1.9640,  1.0588,\n",
      "         0.1537,  0.1537,  1.9640, -0.7514, -0.7514, -0.7514,  0.1537, -0.7514,\n",
      "        -0.7514, -0.7514, -0.7514,  1.0588,  1.9640], device='cuda:0')\n",
      "✅ Rewards: 0.2767\n",
      "✅ Loss: -0.0941\n",
      "-------Question---------\n",
      "James creates a media empire.  He creates a movie for $2000.  Each DVD cost $6 to make.  He sells it for 2.5 times that much.  He sells 500 movies a day for 5 days a week.  How much profit does he make in 20 weeks?\n",
      "\n",
      "🧠 Inference Index 15\n",
      "🔍 Top-K Indices: [59, 6, 128, 232, 95, 228, 207, 195, 86, 157, 110, 158, 145, 82, 159, 151, 69, 203, 221, 150, 50, 9, 2, 89, 88, 179, 64, 137, 175, 147, 4, 196, 206, 93, 105, 223, 94, 25, 139, 212, 39, 101, 178, 63, 112, 197, 85, 99, 163, 189, 109, 77, 222]\n",
      "[INFO] Launching 159 parallel inference tasks...\n"
     ]
    },
    {
     "name": "stderr",
     "output_type": "stream",
     "text": []
    },
    {
     "name": "stdout",
     "output_type": "stream",
     "text": [
      "tensor([0., 0., 0., 0., 0., 0., 0., 0., 0., 0., 0., 0., 0., 0., 0., 0., 0., 0., 0., 0., 0., 0., 0., 0.,\n",
      "        0., 0., 0., 0., 0., 0., 0., 0., 0., 0., 0., 0., 0., 0., 0., 0., 0., 0., 0., 0., 0., 0., 0., 0.,\n",
      "        0., 0., 0., 0., 0.], device='cuda:0')\n",
      "tensor([0., 0., 0., 0., 0., 0., 0., 0., 0., 0., 0., 0., 0., 0., 0., 0., 0., 0., 0., 0., 0., 0., 0., 0.,\n",
      "        0., 0., 0., 0., 0., 0., 0., 0., 0., 0., 0., 0., 0., 0., 0., 0., 0., 0., 0., 0., 0., 0., 0., 0.,\n",
      "        0., 0., 0., 0., 0.], device='cuda:0')\n",
      "✅ Rewards: 0.0000\n",
      "✅ Loss: -0.0000\n",
      "-------Question---------\n",
      "The profit from a business transaction is shared among 2 business partners, Mike and Johnson in the ratio 2:5 respectively. If Johnson got $2500, how much will Mike have after spending some of his share on a shirt that costs $200?\n",
      "\n",
      "🧠 Inference Index 16\n",
      "🔍 Top-K Indices: [254, 48, 122, 147, 136, 94, 233, 0, 228, 195, 51, 25, 79, 59, 251, 112, 52, 3, 128, 81, 72, 15, 166, 244, 64, 86, 176, 56, 163, 75, 239, 2, 202, 109, 83, 104, 50, 39, 9, 65, 149, 250, 63, 221, 118, 28, 145, 137, 93, 179, 158, 207, 69]\n",
      "[INFO] Launching 159 parallel inference tasks...\n"
     ]
    },
    {
     "name": "stderr",
     "output_type": "stream",
     "text": []
    },
    {
     "name": "stdout",
     "output_type": "stream",
     "text": [
      "tensor([0.0000, 0.0000, 0.0000, 0.0000, 0.0000, 0.0000, 0.0000, 1.0000, 0.0000,\n",
      "        0.0000, 0.0000, 0.0000, 0.0000, 0.0000, 0.0000, 0.0000, 0.0000, 0.0000,\n",
      "        0.0000, 0.0000, 0.0000, 0.0000, 0.0000, 0.3333, 0.0000, 0.0000, 0.0000,\n",
      "        0.0000, 0.0000, 0.3333, 0.0000, 0.0000, 0.0000, 0.0000, 0.0000, 0.0000,\n",
      "        0.6667, 0.0000, 0.0000, 0.0000, 0.0000, 0.0000, 0.0000, 0.0000, 0.0000,\n",
      "        0.0000, 0.0000, 0.0000, 0.0000, 0.0000, 0.0000, 1.0000, 0.3333],\n",
      "       device='cuda:0')\n",
      "tensor([-0.3140, -0.3140, -0.3140, -0.3140, -0.3140, -0.3140, -0.3140,  4.2249,\n",
      "        -0.3140, -0.3140, -0.3140, -0.3140, -0.3140, -0.3140, -0.3140, -0.3140,\n",
      "        -0.3140, -0.3140, -0.3140, -0.3140, -0.3140, -0.3140, -0.3140,  1.1989,\n",
      "        -0.3140, -0.3140, -0.3140, -0.3140, -0.3140,  1.1989, -0.3140, -0.3140,\n",
      "        -0.3140, -0.3140, -0.3140, -0.3140,  2.7119, -0.3140, -0.3140, -0.3140,\n",
      "        -0.3140, -0.3140, -0.3140, -0.3140, -0.3140, -0.3140, -0.3140, -0.3140,\n",
      "        -0.3140, -0.3140, -0.3140,  4.2249,  1.1989], device='cuda:0')\n",
      "✅ Rewards: 0.0692\n",
      "✅ Loss: -0.0636\n",
      "-------Question---------\n",
      "In a truck, there are 26 pink hard hats, 15 green hard hats, and 24 yellow hard hats.  If Carl takes away 4 pink hard hats, and John takes away 6 pink hard hats and twice as many green hard hats as the number of pink hard hats that he removed, then calculate the total number of hard hats that remained in the truck.\n",
      "\n",
      "🧠 Inference Index 17\n",
      "🔍 Top-K Indices: [234, 58, 204, 24, 231, 96, 19, 7, 60, 11, 10, 23, 143, 40, 111, 127, 211, 26, 97, 70, 236, 226, 242, 248, 38, 36, 246, 229, 130, 136, 181, 80, 62, 162, 252, 102, 82, 32, 53, 238, 157, 100, 66, 138, 215, 193, 37, 210, 218, 116, 199, 237, 57]\n",
      "[INFO] Launching 159 parallel inference tasks...\n"
     ]
    },
    {
     "name": "stderr",
     "output_type": "stream",
     "text": []
    },
    {
     "name": "stdout",
     "output_type": "stream",
     "text": [
      "tensor([0.0000, 0.0000, 0.0000, 0.0000, 0.0000, 0.0000, 0.0000, 0.0000, 0.3333,\n",
      "        0.0000, 0.0000, 1.0000, 0.0000, 0.0000, 0.0000, 0.0000, 0.3333, 0.0000,\n",
      "        0.0000, 0.6667, 0.0000, 0.0000, 0.0000, 0.0000, 0.0000, 0.3333, 0.3333,\n",
      "        0.0000, 0.0000, 0.0000, 0.0000, 0.3333, 0.0000, 0.0000, 0.0000, 0.0000,\n",
      "        0.0000, 0.0000, 0.0000, 0.3333, 0.3333, 0.0000, 0.0000, 0.0000, 0.0000,\n",
      "        0.0000, 0.0000, 0.0000, 0.3333, 0.3333, 0.0000, 0.0000, 0.0000],\n",
      "       device='cuda:0')\n",
      "tensor([-0.4453, -0.4453, -0.4453, -0.4453, -0.4453, -0.4453, -0.4453, -0.4453,\n",
      "         1.2403, -0.4453, -0.4453,  4.6115, -0.4453, -0.4453, -0.4453, -0.4453,\n",
      "         1.2403, -0.4453, -0.4453,  2.9259, -0.4453, -0.4453, -0.4453, -0.4453,\n",
      "        -0.4453,  1.2403,  1.2403, -0.4453, -0.4453, -0.4453, -0.4453,  1.2403,\n",
      "        -0.4453, -0.4453, -0.4453, -0.4453, -0.4453, -0.4453, -0.4453,  1.2403,\n",
      "         1.2403, -0.4453, -0.4453, -0.4453, -0.4453, -0.4453, -0.4453, -0.4453,\n",
      "         1.2403,  1.2403, -0.4453, -0.4453, -0.4453], device='cuda:0')\n",
      "✅ Rewards: 0.0881\n",
      "✅ Loss: -0.2717\n",
      "-------Question---------\n",
      "It takes Roque two hours to walk to work and one hour to ride his bike to work. Roque walks to and from work three times a week and rides his bike to and from work twice a week. How many hours in total does he take to get to and from work a week with walking and biking?\n",
      "\n",
      "🧠 Inference Index 18\n",
      "🔍 Top-K Indices: [18, 48, 221, 207, 45, 0, 228, 201, 1, 51, 64, 81, 78, 28, 206, 30, 119, 254, 175, 209, 5, 171, 185, 3, 117, 243, 140, 94, 2, 245, 220, 131, 158, 55, 4, 145, 194, 95, 6, 112, 22, 227, 9, 113, 56, 232, 92, 103, 147, 63, 208, 133, 202]\n",
      "[INFO] Launching 159 parallel inference tasks...\n"
     ]
    },
    {
     "name": "stderr",
     "output_type": "stream",
     "text": []
    },
    {
     "name": "stdout",
     "output_type": "stream",
     "text": [
      "tensor([0.3333, 0.0000, 0.0000, 0.0000, 0.0000, 0.3333, 0.0000, 0.3333, 0.0000,\n",
      "        0.0000, 0.0000, 0.0000, 0.0000, 0.0000, 0.0000, 0.0000, 0.0000, 1.0000,\n",
      "        0.0000, 0.0000, 0.0000, 0.0000, 1.0000, 0.0000, 0.0000, 0.0000, 0.0000,\n",
      "        0.0000, 0.0000, 0.0000, 1.0000, 0.0000, 0.0000, 0.3333, 0.0000, 0.0000,\n",
      "        0.0000, 0.0000, 0.0000, 0.3333, 0.0000, 0.0000, 0.0000, 0.0000, 0.0000,\n",
      "        0.0000, 0.3333, 0.3333, 0.0000, 0.6667, 0.0000, 0.0000, 0.0000],\n",
      "       device='cuda:0')\n",
      "tensor([ 0.8433, -0.4337, -0.4337, -0.4337, -0.4337,  0.8433, -0.4337,  0.8433,\n",
      "        -0.4337, -0.4337, -0.4337, -0.4337, -0.4337, -0.4337, -0.4337, -0.4337,\n",
      "        -0.4337,  3.3973, -0.4337, -0.4337, -0.4337, -0.4337,  3.3973, -0.4337,\n",
      "        -0.4337, -0.4337, -0.4337, -0.4337, -0.4337, -0.4337,  3.3973, -0.4337,\n",
      "        -0.4337,  0.8433, -0.4337, -0.4337, -0.4337, -0.4337, -0.4337,  0.8433,\n",
      "        -0.4337, -0.4337, -0.4337, -0.4337, -0.4337, -0.4337,  0.8433,  0.8433,\n",
      "        -0.4337,  2.1203, -0.4337, -0.4337, -0.4337], device='cuda:0')\n",
      "✅ Rewards: 0.1132\n",
      "✅ Loss: -0.1163\n",
      "-------Question---------\n",
      "Tim rides his bike back and forth to work for each of his 5 workdays.  His work is 20 miles away.  He also goes for a weekend bike ride of 200 miles.    If he can bike at 25 mph how much time does he spend biking a week?\n",
      "\n",
      "🧠 Inference Index 19\n",
      "🔍 Top-K Indices: [63, 235, 103, 0, 55, 171, 18, 219, 142, 101, 233, 232, 254, 158, 1, 201, 168, 227, 221, 16, 163, 228, 122, 28, 61, 51, 150, 244, 35, 206, 59, 48, 207, 217, 112, 5, 6, 82, 151, 85, 208, 25, 15, 93, 145, 69, 187, 14, 110, 79, 245, 179, 9]\n",
      "[INFO] Launching 159 parallel inference tasks...\n"
     ]
    },
    {
     "name": "stderr",
     "output_type": "stream",
     "text": [
      "Examples: 100%|██████████| 20/20 [02:52<00:00,  8.63s/it]\n",
      "Training Steps:  50%|█████     | 5/10 [14:02<14:08, 169.65s/it]"
     ]
    },
    {
     "name": "stdout",
     "output_type": "stream",
     "text": [
      "tensor([0.0000, 0.0000, 0.3333, 0.0000, 0.0000, 0.3333, 0.3333, 0.0000, 0.6667,\n",
      "        0.0000, 0.0000, 1.0000, 0.6667, 0.3333, 0.0000, 0.0000, 0.0000, 0.3333,\n",
      "        0.0000, 0.6667, 0.3333, 0.6667, 0.6667, 0.0000, 0.6667, 0.0000, 0.3333,\n",
      "        0.0000, 0.0000, 0.0000, 0.3333, 0.0000, 0.0000, 0.0000, 0.0000, 0.3333,\n",
      "        1.0000, 0.0000, 0.3333, 0.3333, 0.0000, 0.0000, 0.3333, 0.3333, 0.0000,\n",
      "        0.0000, 0.3333, 0.0000, 0.0000, 0.0000, 0.3333, 1.0000, 0.0000],\n",
      "       device='cuda:0')\n",
      "tensor([-0.7599, -0.7599,  0.3588, -0.7599, -0.7599,  0.3588,  0.3588, -0.7599,\n",
      "         1.4776, -0.7599, -0.7599,  2.5963,  1.4776,  0.3588, -0.7599, -0.7599,\n",
      "        -0.7599,  0.3588, -0.7599,  1.4776,  0.3588,  1.4776,  1.4776, -0.7599,\n",
      "         1.4776, -0.7599,  0.3588, -0.7599, -0.7599, -0.7599,  0.3588, -0.7599,\n",
      "        -0.7599, -0.7599, -0.7599,  0.3588,  2.5963, -0.7599,  0.3588,  0.3588,\n",
      "        -0.7599, -0.7599,  0.3588,  0.3588, -0.7599, -0.7599,  0.3588, -0.7599,\n",
      "        -0.7599, -0.7599,  0.3588,  2.5963, -0.7599], device='cuda:0')\n",
      "✅ Rewards: 0.2264\n",
      "✅ Loss: -0.0196\n",
      "\n",
      "=== Training Step 6 ===\n"
     ]
    },
    {
     "name": "stderr",
     "output_type": "stream",
     "text": []
    },
    {
     "name": "stdout",
     "output_type": "stream",
     "text": [
      "-------Question---------\n",
      "Natalia sold clips to 48 of her friends in April, and then she sold half as many clips in May. How many clips did Natalia sell altogether in April and May?\n",
      "\n",
      "🧠 Inference Index 0\n",
      "🔍 Top-K Indices: [0, 202, 124, 228, 93, 17, 8, 221, 194, 173, 185, 195, 2, 48, 34, 160, 22, 219, 18, 112, 142, 50, 158, 148, 208, 75, 239, 254, 212, 144, 113, 197, 15, 220, 152, 81, 4, 157, 213, 118, 68, 78, 232, 69, 147, 137, 25, 33, 56, 45, 76, 146, 175]\n",
      "[INFO] Launching 159 parallel inference tasks...\n"
     ]
    },
    {
     "name": "stderr",
     "output_type": "stream",
     "text": []
    },
    {
     "name": "stdout",
     "output_type": "stream",
     "text": [
      "tensor([1.0000, 1.0000, 1.0000, 0.0000, 0.0000, 1.0000, 1.0000, 0.0000, 1.0000,\n",
      "        1.0000, 1.0000, 1.0000, 1.0000, 1.0000, 1.0000, 1.0000, 1.0000, 1.0000,\n",
      "        1.0000, 1.0000, 0.3333, 1.0000, 0.0000, 1.0000, 1.0000, 1.0000, 0.6667,\n",
      "        1.0000, 1.0000, 1.0000, 1.0000, 0.3333, 1.0000, 1.0000, 0.6667, 0.0000,\n",
      "        1.0000, 1.0000, 0.0000, 1.0000, 1.0000, 1.0000, 1.0000, 1.0000, 1.0000,\n",
      "        1.0000, 1.0000, 1.0000, 1.0000, 1.0000, 1.0000, 1.0000, 0.0000],\n",
      "       device='cuda:0')\n",
      "tensor([ 0.4773,  0.4773,  0.4773, -2.3333, -2.3333,  0.4773,  0.4773, -2.3333,\n",
      "         0.4773,  0.4773,  0.4773,  0.4773,  0.4773,  0.4773,  0.4773,  0.4773,\n",
      "         0.4773,  0.4773,  0.4773,  0.4773, -1.3965,  0.4773, -2.3333,  0.4773,\n",
      "         0.4773,  0.4773, -0.4596,  0.4773,  0.4773,  0.4773,  0.4773, -1.3965,\n",
      "         0.4773,  0.4773, -0.4596, -2.3333,  0.4773,  0.4773, -2.3333,  0.4773,\n",
      "         0.4773,  0.4773,  0.4773,  0.4773,  0.4773,  0.4773,  0.4773,  0.4773,\n",
      "         0.4773,  0.4773,  0.4773,  0.4773, -2.3333], device='cuda:0')\n",
      "✅ Rewards: 0.8302\n",
      "✅ Loss: -0.0912\n",
      "-------Question---------\n",
      "Weng earns $12 an hour for babysitting. Yesterday, she just did 50 minutes of babysitting. How much did she earn?\n",
      "\n",
      "🧠 Inference Index 1\n",
      "🔍 Top-K Indices: [101, 55, 161, 237, 166, 81, 124, 109, 147, 221, 91, 157, 158, 179, 235, 33, 67, 142, 105, 76, 22, 232, 112, 14, 93, 233, 131, 70, 135, 228, 155, 50, 64, 43, 139, 65, 178, 163, 61, 153, 136, 253, 211, 88, 104, 75, 54, 152, 8, 68, 202, 63, 159]\n",
      "[INFO] Launching 159 parallel inference tasks...\n"
     ]
    },
    {
     "name": "stderr",
     "output_type": "stream",
     "text": []
    },
    {
     "name": "stdout",
     "output_type": "stream",
     "text": [
      "tensor([1., 1., 1., 1., 1., 1., 1., 1., 1., 1., 1., 1., 1., 1., 1., 1., 1., 1.,\n",
      "        1., 1., 1., 1., 1., 1., 1., 1., 1., 1., 1., 1., 1., 1., 1., 1., 1., 1.,\n",
      "        1., 1., 1., 1., 1., 1., 1., 1., 1., 1., 1., 1., 1., 1., 1., 1., 1.],\n",
      "       device='cuda:0')\n",
      "tensor([0., 0., 0., 0., 0., 0., 0., 0., 0., 0., 0., 0., 0., 0., 0., 0., 0., 0., 0., 0., 0., 0., 0., 0.,\n",
      "        0., 0., 0., 0., 0., 0., 0., 0., 0., 0., 0., 0., 0., 0., 0., 0., 0., 0., 0., 0., 0., 0., 0., 0.,\n",
      "        0., 0., 0., 0., 0.], device='cuda:0')\n",
      "✅ Rewards: 1.0000\n",
      "✅ Loss: -0.0000\n",
      "-------Question---------\n",
      "Betty is saving money for a new wallet which costs $100. Betty has only half of the money she needs. Her parents decided to give her $15 for that purpose, and her grandparents twice as much as her parents. How much more money does Betty need to buy the wallet?\n",
      "\n",
      "🧠 Inference Index 2\n",
      "🔍 Top-K Indices: [83, 76, 175, 228, 77, 149, 232, 202, 221, 4, 222, 120, 201, 129, 124, 251, 2, 161, 93, 30, 196, 112, 8, 28, 176, 110, 225, 29, 156, 14, 73, 184, 245, 59, 253, 208, 99, 5, 203, 79, 136, 167, 3, 128, 45, 50, 18, 51, 158, 15, 56, 182, 181]\n",
      "[INFO] Launching 159 parallel inference tasks...\n"
     ]
    },
    {
     "name": "stderr",
     "output_type": "stream",
     "text": []
    },
    {
     "name": "stdout",
     "output_type": "stream",
     "text": [
      "tensor([1.0000, 1.0000, 1.0000, 1.0000, 1.0000, 1.0000, 1.0000, 1.0000, 1.0000,\n",
      "        1.0000, 1.0000, 1.0000, 0.6667, 1.0000, 1.0000, 1.0000, 0.6667, 1.0000,\n",
      "        0.6667, 1.0000, 1.0000, 1.0000, 1.0000, 1.0000, 1.0000, 1.0000, 0.0000,\n",
      "        1.0000, 1.0000, 1.0000, 0.3333, 1.0000, 1.0000, 1.0000, 1.0000, 1.0000,\n",
      "        1.0000, 0.6667, 1.0000, 1.0000, 1.0000, 1.0000, 0.0000, 1.0000, 0.6667,\n",
      "        1.0000, 1.0000, 1.0000, 0.6667, 1.0000, 0.6667, 1.0000, 1.0000],\n",
      "       device='cuda:0')\n",
      "tensor([ 0.4102,  0.4102,  0.4102,  0.4102,  0.4102,  0.4102,  0.4102,  0.4102,\n",
      "         0.4102,  0.4102,  0.4102,  0.4102, -1.0392,  0.4102,  0.4102,  0.4102,\n",
      "        -1.0392,  0.4102, -1.0392,  0.4102,  0.4102,  0.4102,  0.4102,  0.4102,\n",
      "         0.4102,  0.4102, -3.9379,  0.4102,  0.4102,  0.4102, -2.4885,  0.4102,\n",
      "         0.4102,  0.4102,  0.4102,  0.4102,  0.4102, -1.0392,  0.4102,  0.4102,\n",
      "         0.4102,  0.4102, -3.9379,  0.4102, -1.0392,  0.4102,  0.4102,  0.4102,\n",
      "        -1.0392,  0.4102, -1.0392,  0.4102,  0.4102], device='cuda:0')\n",
      "✅ Rewards: 0.9057\n",
      "✅ Loss: 0.0126\n",
      "-------Question---------\n",
      "Julie is reading a 120-page book. Yesterday, she was able to read 12 pages and today, she read twice as many pages as yesterday. If she wants to read half of the remaining pages tomorrow, how many pages should she read?\n",
      "\n",
      "🧠 Inference Index 3\n",
      "🔍 Top-K Indices: [5, 2, 50, 145, 59, 3, 203, 77, 112, 120, 228, 137, 8, 139, 55, 64, 13, 157, 251, 11, 95, 56, 221, 128, 140, 82, 117, 94, 85, 232, 76, 48, 222, 148, 213, 40, 161, 178, 61, 51, 197, 110, 242, 185, 99, 105, 135, 240, 136, 101, 93, 206, 220]\n",
      "[INFO] Launching 159 parallel inference tasks...\n"
     ]
    },
    {
     "name": "stderr",
     "output_type": "stream",
     "text": []
    },
    {
     "name": "stdout",
     "output_type": "stream",
     "text": [
      "tensor([0.0000, 0.0000, 0.0000, 0.0000, 0.0000, 0.0000, 0.0000, 0.0000, 0.0000,\n",
      "        0.0000, 0.0000, 0.0000, 0.0000, 0.0000, 0.0000, 0.0000, 0.0000, 0.0000,\n",
      "        0.0000, 0.0000, 0.0000, 0.3333, 0.0000, 0.0000, 0.0000, 0.0000, 0.0000,\n",
      "        0.0000, 0.0000, 0.0000, 0.0000, 0.0000, 0.0000, 0.0000, 0.0000, 0.0000,\n",
      "        0.0000, 0.0000, 0.0000, 0.0000, 0.0000, 0.0000, 0.0000, 0.0000, 0.0000,\n",
      "        0.0000, 0.0000, 0.0000, 0.0000, 0.0000, 0.0000, 0.0000, 0.0000],\n",
      "       device='cuda:0')\n",
      "tensor([-0.1374, -0.1374, -0.1374, -0.1374, -0.1374, -0.1374, -0.1374, -0.1374,\n",
      "        -0.1374, -0.1374, -0.1374, -0.1374, -0.1374, -0.1374, -0.1374, -0.1374,\n",
      "        -0.1374, -0.1374, -0.1374, -0.1374, -0.1374,  7.1427, -0.1374, -0.1374,\n",
      "        -0.1374, -0.1374, -0.1374, -0.1374, -0.1374, -0.1374, -0.1374, -0.1374,\n",
      "        -0.1374, -0.1374, -0.1374, -0.1374, -0.1374, -0.1374, -0.1374, -0.1374,\n",
      "        -0.1374, -0.1374, -0.1374, -0.1374, -0.1374, -0.1374, -0.1374, -0.1374,\n",
      "        -0.1374, -0.1374, -0.1374, -0.1374, -0.1374], device='cuda:0')\n",
      "✅ Rewards: 0.0063\n",
      "✅ Loss: -0.0409\n",
      "-------Question---------\n",
      "James writes a 3-page letter to 2 different friends twice a week.  How many pages does he write a year?\n",
      "\n",
      "🧠 Inference Index 4\n",
      "🔍 Top-K Indices: [93, 13, 221, 145, 207, 3, 152, 203, 140, 25, 48, 43, 87, 206, 220, 64, 103, 5, 95, 117, 55, 157, 92, 45, 249, 217, 197, 196, 82, 59, 209, 109, 232, 235, 188, 8, 154, 131, 240, 194, 88, 18, 75, 61, 63, 94, 110, 210, 101, 56, 133, 151, 68]\n",
      "[INFO] Launching 159 parallel inference tasks...\n"
     ]
    },
    {
     "name": "stderr",
     "output_type": "stream",
     "text": []
    },
    {
     "name": "stdout",
     "output_type": "stream",
     "text": [
      "tensor([0.0000, 0.3333, 0.0000, 0.0000, 0.0000, 0.0000, 0.0000, 0.0000, 0.0000,\n",
      "        0.0000, 1.0000, 0.0000, 0.0000, 0.0000, 0.0000, 0.6667, 0.0000, 0.0000,\n",
      "        0.0000, 0.0000, 0.0000, 0.0000, 0.0000, 0.0000, 0.0000, 0.0000, 0.0000,\n",
      "        0.0000, 0.0000, 1.0000, 0.0000, 0.0000, 0.0000, 0.0000, 0.0000, 0.0000,\n",
      "        0.0000, 0.0000, 0.0000, 0.0000, 0.0000, 0.0000, 0.0000, 0.0000, 0.6667,\n",
      "        0.0000, 0.0000, 0.0000, 0.3333, 0.0000, 0.0000, 0.0000, 0.6667],\n",
      "       device='cuda:0')\n",
      "tensor([-0.3581,  0.9974, -0.3581, -0.3581, -0.3581, -0.3581, -0.3581, -0.3581,\n",
      "        -0.3581, -0.3581,  3.7084, -0.3581, -0.3581, -0.3581, -0.3581,  2.3529,\n",
      "        -0.3581, -0.3581, -0.3581, -0.3581, -0.3581, -0.3581, -0.3581, -0.3581,\n",
      "        -0.3581, -0.3581, -0.3581, -0.3581, -0.3581,  3.7084, -0.3581, -0.3581,\n",
      "        -0.3581, -0.3581, -0.3581, -0.3581, -0.3581, -0.3581, -0.3581, -0.3581,\n",
      "        -0.3581, -0.3581, -0.3581, -0.3581,  2.3529, -0.3581, -0.3581, -0.3581,\n",
      "         0.9974, -0.3581, -0.3581, -0.3581,  2.3529], device='cuda:0')\n",
      "✅ Rewards: 0.0881\n",
      "✅ Loss: -0.0821\n",
      "-------Question---------\n",
      "Mark has a garden with flowers. He planted plants of three different colors in it. Ten of them are yellow, and there are 80% more of those in purple. There are only 25% as many green flowers as there are yellow and purple flowers. How many flowers does Mark have in his garden?\n",
      "\n",
      "🧠 Inference Index 5\n",
      "🔍 Top-K Indices: [5, 56, 194, 225, 30, 142, 147, 120, 203, 209, 171, 73, 25, 250, 81, 35, 95, 104, 41, 93, 77, 54, 129, 59, 217, 114, 131, 156, 245, 51, 202, 239, 22, 88, 228, 244, 201, 64, 67, 152, 29, 240, 219, 75, 68, 45, 159, 50, 161, 17, 123, 136, 105]\n",
      "[INFO] Launching 159 parallel inference tasks...\n"
     ]
    },
    {
     "name": "stderr",
     "output_type": "stream",
     "text": []
    },
    {
     "name": "stdout",
     "output_type": "stream",
     "text": [
      "tensor([0.0000, 0.0000, 0.3333, 0.0000, 0.0000, 0.3333, 0.0000, 0.0000, 0.3333,\n",
      "        0.0000, 0.6667, 0.3333, 0.0000, 1.0000, 0.0000, 0.0000, 0.0000, 1.0000,\n",
      "        0.6667, 1.0000, 0.6667, 0.6667, 0.6667, 0.0000, 0.3333, 0.0000, 0.6667,\n",
      "        0.0000, 1.0000, 1.0000, 0.0000, 0.0000, 1.0000, 0.0000, 0.0000, 0.0000,\n",
      "        0.0000, 0.3333, 0.0000, 0.0000, 0.0000, 1.0000, 1.0000, 0.0000, 1.0000,\n",
      "        0.0000, 0.6667, 0.0000, 0.0000, 0.6667, 0.3333, 0.0000, 0.6667],\n",
      "       device='cuda:0')\n",
      "tensor([-0.8282, -0.8282,  0.0159, -0.8282, -0.8282,  0.0159, -0.8282, -0.8282,\n",
      "         0.0159, -0.8282,  0.8600,  0.0159, -0.8282,  1.7041, -0.8282, -0.8282,\n",
      "        -0.8282,  1.7041,  0.8600,  1.7041,  0.8600,  0.8600,  0.8600, -0.8282,\n",
      "         0.0159, -0.8282,  0.8600, -0.8282,  1.7041,  1.7041, -0.8282, -0.8282,\n",
      "         1.7041, -0.8282, -0.8282, -0.8282, -0.8282,  0.0159, -0.8282, -0.8282,\n",
      "        -0.8282,  1.7041,  1.7041, -0.8282,  1.7041, -0.8282,  0.8600, -0.8282,\n",
      "        -0.8282,  0.8600,  0.0159, -0.8282,  0.8600], device='cuda:0')\n",
      "✅ Rewards: 0.3270\n",
      "✅ Loss: 0.0252\n",
      "-------Question---------\n",
      "Albert is wondering how much pizza he can eat in one day. He buys 2 large pizzas and 2 small pizzas. A large pizza has 16 slices and a small pizza has 8 slices. If he eats it all, how many pieces does he eat that day?\n",
      "\n",
      "🧠 Inference Index 6\n",
      "🔍 Top-K Indices: [140, 156, 103, 11, 197, 112, 225, 201, 4, 93, 203, 46, 51, 170, 194, 202, 95, 88, 135, 29, 83, 109, 172, 114, 196, 86, 105, 1, 179, 150, 158, 113, 161, 245, 8, 63, 250, 152, 56, 3, 232, 35, 125, 251, 84, 188, 244, 72, 171, 190, 209, 184, 149]\n",
      "[INFO] Launching 159 parallel inference tasks...\n"
     ]
    },
    {
     "name": "stderr",
     "output_type": "stream",
     "text": []
    },
    {
     "name": "stdout",
     "output_type": "stream",
     "text": [
      "tensor([1.0000, 1.0000, 1.0000, 1.0000, 1.0000, 0.6667, 1.0000, 0.3333, 1.0000,\n",
      "        1.0000, 0.3333, 1.0000, 1.0000, 1.0000, 1.0000, 1.0000, 1.0000, 1.0000,\n",
      "        1.0000, 0.6667, 1.0000, 0.6667, 1.0000, 1.0000, 1.0000, 1.0000, 1.0000,\n",
      "        1.0000, 1.0000, 1.0000, 1.0000, 1.0000, 1.0000, 1.0000, 1.0000, 1.0000,\n",
      "        0.6667, 0.6667, 1.0000, 1.0000, 1.0000, 1.0000, 1.0000, 1.0000, 1.0000,\n",
      "        1.0000, 1.0000, 1.0000, 1.0000, 1.0000, 1.0000, 1.0000, 1.0000],\n",
      "       device='cuda:0')\n",
      "tensor([ 0.3615,  0.3615,  0.3615,  0.3615,  0.3615, -1.7675,  0.3615, -3.8966,\n",
      "         0.3615,  0.3615, -3.8966,  0.3615,  0.3615,  0.3615,  0.3615,  0.3615,\n",
      "         0.3615,  0.3615,  0.3615, -1.7675,  0.3615, -1.7675,  0.3615,  0.3615,\n",
      "         0.3615,  0.3615,  0.3615,  0.3615,  0.3615,  0.3615,  0.3615,  0.3615,\n",
      "         0.3615,  0.3615,  0.3615,  0.3615, -1.7675, -1.7675,  0.3615,  0.3615,\n",
      "         0.3615,  0.3615,  0.3615,  0.3615,  0.3615,  0.3615,  0.3615,  0.3615,\n",
      "         0.3615,  0.3615,  0.3615,  0.3615,  0.3615], device='cuda:0')\n",
      "✅ Rewards: 0.9434\n",
      "✅ Loss: 0.0146\n",
      "-------Question---------\n",
      "Ken created a care package to send to his brother, who was away at boarding school.  Ken placed a box on a scale, and then he poured into the box enough jelly beans to bring the weight to 2 pounds.  Then, he added enough brownies to cause the weight to triple.  Next, he added another 2 pounds of jelly beans.  And finally, he added enough gummy worms to double the weight once again.  What was the final weight of the box of goodies, in pounds?\n",
      "\n",
      "🧠 Inference Index 7\n",
      "🔍 Top-K Indices: [238, 44, 248, 224, 16, 58, 174, 96, 193, 72, 143, 60, 204, 234, 100, 97, 31, 236, 62, 91, 165, 10, 177, 115, 106, 138, 130, 241, 218, 66, 32, 7, 24, 26, 9, 226, 198, 111, 126, 252, 162, 102, 231, 38, 36, 210, 40, 127, 116, 183, 216, 121, 135]\n",
      "[INFO] Launching 159 parallel inference tasks...\n"
     ]
    },
    {
     "name": "stderr",
     "output_type": "stream",
     "text": []
    },
    {
     "name": "stdout",
     "output_type": "stream",
     "text": [
      "tensor([0.0000, 1.0000, 0.3333, 0.3333, 0.0000, 0.6667, 0.0000, 0.0000, 0.0000,\n",
      "        0.0000, 0.0000, 0.0000, 0.6667, 0.0000, 0.0000, 0.0000, 0.3333, 0.3333,\n",
      "        0.0000, 0.3333, 0.0000, 0.3333, 1.0000, 1.0000, 0.0000, 0.0000, 0.0000,\n",
      "        0.0000, 0.0000, 0.0000, 0.0000, 0.6667, 0.6667, 0.3333, 0.0000, 0.0000,\n",
      "        0.3333, 0.0000, 0.6667, 0.6667, 0.3333, 0.0000, 0.0000, 0.0000, 0.0000,\n",
      "        0.3333, 0.0000, 0.0000, 0.0000, 1.0000, 0.0000, 0.0000, 0.0000],\n",
      "       device='cuda:0')\n",
      "tensor([-0.6664,  2.4500,  0.3724,  0.3724, -0.6664,  1.4112, -0.6664, -0.6664,\n",
      "        -0.6664, -0.6664, -0.6664, -0.6664,  1.4112, -0.6664, -0.6664, -0.6664,\n",
      "         0.3724,  0.3724, -0.6664,  0.3724, -0.6664,  0.3724,  2.4500,  2.4500,\n",
      "        -0.6664, -0.6664, -0.6664, -0.6664, -0.6664, -0.6664, -0.6664,  1.4112,\n",
      "         1.4112,  0.3724, -0.6664, -0.6664,  0.3724, -0.6664,  1.4112,  1.4112,\n",
      "         0.3724, -0.6664, -0.6664, -0.6664, -0.6664,  0.3724, -0.6664, -0.6664,\n",
      "        -0.6664,  2.4500, -0.6664, -0.6664, -0.6664], device='cuda:0')\n",
      "✅ Rewards: 0.2138\n",
      "✅ Loss: 0.0225\n",
      "-------Question---------\n",
      "Alexis is applying for a new job and bought a new set of business clothes to wear to the interview. She went to a department store with a budget of $200 and spent $30 on a button-up shirt, $46 on suit pants, $38 on a suit coat, $11 on socks, and $18 on a belt. She also purchased a pair of shoes, but lost the receipt for them. She has $16 left from her budget. How much did Alexis pay for the shoes?\n",
      "\n",
      "🧠 Inference Index 8\n",
      "🔍 Top-K Indices: [10, 60, 96, 7, 100, 115, 16, 97, 248, 230, 106, 226, 224, 246, 12, 229, 31, 204, 174, 130, 44, 26, 193, 58, 53, 90, 121, 138, 98, 236, 126, 102, 234, 253, 71, 72, 80, 231, 218, 143, 181, 116, 183, 211, 237, 66, 252, 23, 141, 182, 241, 9, 111]\n",
      "[INFO] Launching 159 parallel inference tasks...\n"
     ]
    },
    {
     "name": "stderr",
     "output_type": "stream",
     "text": []
    },
    {
     "name": "stdout",
     "output_type": "stream",
     "text": [
      "tensor([0.6667, 1.0000, 1.0000, 1.0000, 1.0000, 0.6667, 1.0000, 1.0000, 0.0000,\n",
      "        0.3333, 0.6667, 0.0000, 1.0000, 1.0000, 1.0000, 0.6667, 0.3333, 0.0000,\n",
      "        1.0000, 1.0000, 1.0000, 1.0000, 1.0000, 0.3333, 0.0000, 0.6667, 0.3333,\n",
      "        1.0000, 0.0000, 1.0000, 1.0000, 0.0000, 1.0000, 1.0000, 1.0000, 1.0000,\n",
      "        0.3333, 1.0000, 1.0000, 1.0000, 0.6667, 1.0000, 0.0000, 0.0000, 0.0000,\n",
      "        0.3333, 0.0000, 1.0000, 1.0000, 1.0000, 0.0000, 0.3333, 0.6667],\n",
      "       device='cuda:0')\n",
      "tensor([ 0.0153,  0.8267,  0.8267,  0.8267,  0.8267,  0.0153,  0.8267,  0.8267,\n",
      "        -1.6075, -0.7961,  0.0153, -1.6075,  0.8267,  0.8267,  0.8267,  0.0153,\n",
      "        -0.7961, -1.6075,  0.8267,  0.8267,  0.8267,  0.8267,  0.8267, -0.7961,\n",
      "        -1.6075,  0.0153, -0.7961,  0.8267, -1.6075,  0.8267,  0.8267, -1.6075,\n",
      "         0.8267,  0.8267,  0.8267,  0.8267, -0.7961,  0.8267,  0.8267,  0.8267,\n",
      "         0.0153,  0.8267, -1.6075, -1.6075, -1.6075, -0.7961, -1.6075,  0.8267,\n",
      "         0.8267,  0.8267, -1.6075, -0.7961,  0.0153], device='cuda:0')\n",
      "✅ Rewards: 0.6604\n",
      "✅ Loss: 0.0194\n",
      "-------Question---------\n",
      "Tina makes $18.00 an hour.  If she works more than 8 hours per shift, she is eligible for overtime, which is paid by your hourly wage + 1/2 your hourly wage.  If she works 10 hours every day for 5 days, how much money does she make?\n",
      "\n",
      "🧠 Inference Index 9\n",
      "🔍 Top-K Indices: [233, 109, 139, 81, 91, 228, 94, 210, 179, 73, 40, 49, 92, 221, 147, 76, 110, 14, 36, 201, 82, 39, 164, 122, 155, 15, 120, 101, 50, 128, 55, 220, 197, 225, 160, 199, 168, 187, 90, 175, 105, 235, 2, 98, 23, 30, 203, 217, 242, 212, 163, 21, 178]\n",
      "[INFO] Launching 159 parallel inference tasks...\n"
     ]
    },
    {
     "name": "stderr",
     "output_type": "stream",
     "text": []
    },
    {
     "name": "stdout",
     "output_type": "stream",
     "text": [
      "tensor([0.0000, 0.0000, 0.0000, 0.0000, 0.0000, 0.0000, 0.0000, 0.0000, 0.0000,\n",
      "        0.0000, 0.0000, 0.0000, 0.0000, 0.0000, 0.0000, 0.0000, 0.0000, 0.0000,\n",
      "        0.0000, 0.0000, 0.0000, 0.0000, 0.0000, 0.0000, 0.0000, 0.0000, 0.0000,\n",
      "        0.0000, 0.0000, 0.0000, 0.0000, 0.0000, 0.0000, 0.0000, 0.0000, 0.0000,\n",
      "        0.0000, 0.0000, 0.0000, 0.0000, 0.0000, 0.0000, 0.0000, 0.3333, 0.3333,\n",
      "        0.0000, 0.0000, 0.0000, 0.0000, 0.0000, 0.0000, 0.0000, 0.3333],\n",
      "       device='cuda:0')\n",
      "tensor([-0.2426, -0.2426, -0.2426, -0.2426, -0.2426, -0.2426, -0.2426, -0.2426,\n",
      "        -0.2426, -0.2426, -0.2426, -0.2426, -0.2426, -0.2426, -0.2426, -0.2426,\n",
      "        -0.2426, -0.2426, -0.2426, -0.2426, -0.2426, -0.2426, -0.2426, -0.2426,\n",
      "        -0.2426, -0.2426, -0.2426, -0.2426, -0.2426, -0.2426, -0.2426, -0.2426,\n",
      "        -0.2426, -0.2426, -0.2426, -0.2426, -0.2426, -0.2426, -0.2426, -0.2426,\n",
      "        -0.2426, -0.2426, -0.2426,  4.0438,  4.0438, -0.2426, -0.2426, -0.2426,\n",
      "        -0.2426, -0.2426, -0.2426, -0.2426,  4.0438], device='cuda:0')\n",
      "✅ Rewards: 0.0189\n",
      "✅ Loss: -0.0360\n",
      "-------Question---------\n",
      "A deep-sea monster rises from the waters once every hundred years to feast on a ship and sate its hunger. Over three hundred years, it has consumed 847 people. Ships have been built larger over time, so each new ship has twice as many people as the last ship. How many people were on the ship the monster ate in the first hundred years?\n",
      "\n",
      "🧠 Inference Index 10\n",
      "🔍 Top-K Indices: [224, 10, 31, 8, 60, 7, 230, 234, 96, 100, 130, 181, 248, 62, 111, 193, 16, 174, 90, 57, 183, 204, 231, 138, 44, 19, 229, 127, 121, 126, 165, 58, 115, 23, 246, 162, 26, 80, 97, 226, 12, 216, 236, 211, 143, 252, 27, 106, 238, 242, 218, 177, 102]\n",
      "[INFO] Launching 159 parallel inference tasks...\n"
     ]
    },
    {
     "name": "stderr",
     "output_type": "stream",
     "text": []
    },
    {
     "name": "stdout",
     "output_type": "stream",
     "text": [
      "tensor([0.3333, 0.0000, 0.3333, 0.3333, 0.0000, 0.0000, 0.6667, 0.0000, 0.3333,\n",
      "        0.0000, 0.0000, 0.6667, 0.0000, 0.0000, 0.0000, 0.0000, 0.0000, 0.0000,\n",
      "        0.0000, 0.0000, 0.0000, 0.0000, 0.0000, 0.0000, 0.0000, 0.0000, 0.0000,\n",
      "        0.0000, 0.0000, 0.0000, 0.0000, 0.0000, 0.0000, 0.3333, 0.0000, 0.0000,\n",
      "        0.0000, 0.3333, 0.0000, 0.0000, 0.0000, 0.0000, 0.0000, 0.0000, 0.0000,\n",
      "        0.3333, 0.6667, 0.0000, 0.0000, 0.0000, 1.0000, 0.0000, 0.3333],\n",
      "       device='cuda:0')\n",
      "tensor([ 1.0094, -0.4767,  1.0094,  1.0094, -0.4767, -0.4767,  2.4954, -0.4767,\n",
      "         1.0094, -0.4767, -0.4767,  2.4954, -0.4767, -0.4767, -0.4767, -0.4767,\n",
      "        -0.4767, -0.4767, -0.4767, -0.4767, -0.4767, -0.4767, -0.4767, -0.4767,\n",
      "        -0.4767, -0.4767, -0.4767, -0.4767, -0.4767, -0.4767, -0.4767, -0.4767,\n",
      "        -0.4767,  1.0094, -0.4767, -0.4767, -0.4767,  1.0094, -0.4767, -0.4767,\n",
      "        -0.4767, -0.4767, -0.4767, -0.4767, -0.4767,  1.0094,  2.4954, -0.4767,\n",
      "        -0.4767, -0.4767,  3.9815, -0.4767,  1.0094], device='cuda:0')\n",
      "✅ Rewards: 0.1069\n",
      "✅ Loss: -0.0684\n",
      "-------Question---------\n",
      "Tobias is buying a new pair of shoes that costs $95. He has been saving up his money each month for the past three months. He gets a $5 allowance a month. He also mows lawns and shovels driveways. He charges $15 to mow a lawn and $7 to shovel. After buying the shoes, he has $15 in change. If he mows 4 lawns, how many driveways did he shovel?\n",
      "\n",
      "🧠 Inference Index 11\n",
      "🔍 Top-K Indices: [31, 248, 60, 246, 96, 44, 198, 90, 218, 26, 115, 177, 211, 102, 49, 174, 204, 100, 224, 234, 226, 58, 71, 143, 237, 215, 38, 97, 193, 138, 238, 230, 62, 231, 165, 162, 116, 184, 7, 23, 80, 19, 126, 57, 36, 181, 84, 123, 12, 139, 65, 16, 24]\n",
      "[INFO] Launching 159 parallel inference tasks...\n"
     ]
    },
    {
     "name": "stderr",
     "output_type": "stream",
     "text": []
    },
    {
     "name": "stdout",
     "output_type": "stream",
     "text": [
      "tensor([0.0000, 0.0000, 0.0000, 0.0000, 0.0000, 0.6667, 0.3333, 0.0000, 0.0000,\n",
      "        0.0000, 0.0000, 0.0000, 0.3333, 0.0000, 0.0000, 0.0000, 0.0000, 0.0000,\n",
      "        0.0000, 0.0000, 0.0000, 0.0000, 0.0000, 0.0000, 0.0000, 0.0000, 0.0000,\n",
      "        0.0000, 0.0000, 0.0000, 0.0000, 0.0000, 0.0000, 0.0000, 0.0000, 0.0000,\n",
      "        0.0000, 0.0000, 0.0000, 0.0000, 0.0000, 0.0000, 0.0000, 0.0000, 0.0000,\n",
      "        0.3333, 0.0000, 0.0000, 1.0000, 0.0000, 0.0000, 0.0000, 0.0000],\n",
      "       device='cuda:0')\n",
      "tensor([-0.2830, -0.2830, -0.2830, -0.2830, -0.2830,  3.4668,  1.5919, -0.2830,\n",
      "        -0.2830, -0.2830, -0.2830, -0.2830,  1.5919, -0.2830, -0.2830, -0.2830,\n",
      "        -0.2830, -0.2830, -0.2830, -0.2830, -0.2830, -0.2830, -0.2830, -0.2830,\n",
      "        -0.2830, -0.2830, -0.2830, -0.2830, -0.2830, -0.2830, -0.2830, -0.2830,\n",
      "        -0.2830, -0.2830, -0.2830, -0.2830, -0.2830, -0.2830, -0.2830, -0.2830,\n",
      "        -0.2830, -0.2830, -0.2830, -0.2830, -0.2830,  1.5919, -0.2830, -0.2830,\n",
      "         5.3417, -0.2830, -0.2830, -0.2830, -0.2830], device='cuda:0')\n",
      "✅ Rewards: 0.0503\n",
      "✅ Loss: 0.0252\n",
      "-------Question---------\n",
      "Randy has 60 mango trees on his farm. He also has 5 less than half as many coconut trees as mango trees. How many trees does Randy have in all on his farm?\n",
      "\n",
      "🧠 Inference Index 12\n",
      "🔍 Top-K Indices: [77, 6, 232, 113, 93, 140, 203, 13, 156, 163, 227, 59, 102, 51, 105, 211, 164, 25, 14, 244, 9, 72, 205, 195, 88, 94, 184, 178, 86, 177, 4, 97, 125, 158, 226, 182, 106, 68, 176, 112, 233, 37, 40, 38, 129, 217, 157, 55, 109, 223, 152, 95, 49]\n",
      "[INFO] Launching 159 parallel inference tasks...\n"
     ]
    },
    {
     "name": "stderr",
     "output_type": "stream",
     "text": []
    },
    {
     "name": "stdout",
     "output_type": "stream",
     "text": [
      "tensor([0.0000, 0.3333, 0.0000, 0.6667, 0.0000, 1.0000, 0.3333, 0.6667, 0.3333,\n",
      "        0.6667, 1.0000, 0.3333, 0.6667, 0.6667, 0.6667, 0.6667, 1.0000, 0.6667,\n",
      "        0.0000, 0.0000, 0.0000, 0.3333, 0.3333, 0.3333, 0.3333, 0.0000, 0.0000,\n",
      "        1.0000, 0.0000, 0.6667, 0.3333, 0.0000, 0.6667, 0.0000, 0.3333, 1.0000,\n",
      "        1.0000, 1.0000, 0.0000, 0.3333, 0.0000, 0.0000, 0.3333, 0.0000, 0.3333,\n",
      "        0.0000, 0.6667, 1.0000, 1.0000, 1.0000, 0.3333, 1.0000, 0.0000],\n",
      "       device='cuda:0')\n",
      "tensor([-1.1455, -0.2656, -1.1455,  0.6142, -1.1455,  1.4941, -0.2656,  0.6142,\n",
      "        -0.2656,  0.6142,  1.4941, -0.2656,  0.6142,  0.6142,  0.6142,  0.6142,\n",
      "         1.4941,  0.6142, -1.1455, -1.1455, -1.1455, -0.2656, -0.2656, -0.2656,\n",
      "        -0.2656, -1.1455, -1.1455,  1.4941, -1.1455,  0.6142, -0.2656, -1.1455,\n",
      "         0.6142, -1.1455, -0.2656,  1.4941,  1.4941,  1.4941, -1.1455, -0.2656,\n",
      "        -1.1455, -1.1455, -0.2656, -1.1455, -0.2656, -1.1455,  0.6142,  1.4941,\n",
      "         1.4941,  1.4941, -0.2656,  1.4941, -1.1455], device='cuda:0')\n",
      "✅ Rewards: 0.4340\n",
      "✅ Loss: -0.0260\n",
      "-------Question---------\n",
      "Jasper will serve charcuterie at his dinner party. He buys 2 pounds of cheddar cheese for $10, a pound of cream cheese that cost half the price of the cheddar cheese, and a pack of cold cuts that cost twice the price of the cheddar cheese. How much does he spend on the ingredients?\n",
      "\n",
      "🧠 Inference Index 13\n",
      "🔍 Top-K Indices: [210, 90, 153, 64, 211, 82, 181, 228, 177, 164, 13, 247, 163, 138, 205, 37, 65, 198, 222, 99, 89, 204, 127, 190, 155, 128, 197, 38, 168, 253, 121, 63, 111, 252, 109, 199, 59, 238, 44, 40, 78, 22, 202, 48, 166, 57, 242, 182, 14, 119, 18, 92, 105]\n",
      "[INFO] Launching 159 parallel inference tasks...\n"
     ]
    },
    {
     "name": "stderr",
     "output_type": "stream",
     "text": []
    },
    {
     "name": "stdout",
     "output_type": "stream",
     "text": [
      "tensor([0.0000, 0.0000, 0.0000, 0.0000, 0.0000, 0.0000, 0.0000, 0.0000, 0.0000,\n",
      "        0.0000, 0.0000, 0.0000, 0.0000, 0.0000, 1.0000, 0.0000, 0.0000, 0.0000,\n",
      "        0.0000, 0.0000, 0.0000, 0.0000, 0.6667, 0.0000, 0.0000, 0.0000, 0.0000,\n",
      "        0.0000, 0.0000, 0.0000, 0.0000, 0.0000, 0.0000, 0.0000, 0.0000, 0.0000,\n",
      "        0.0000, 0.0000, 0.0000, 0.0000, 0.0000, 0.0000, 0.0000, 0.0000, 0.0000,\n",
      "        0.3333, 0.0000, 0.0000, 0.0000, 0.0000, 0.0000, 0.0000, 0.0000],\n",
      "       device='cuda:0')\n",
      "tensor([-0.2237, -0.2237, -0.2237, -0.2237, -0.2237, -0.2237, -0.2237, -0.2237,\n",
      "        -0.2237, -0.2237, -0.2237, -0.2237, -0.2237, -0.2237,  5.7036, -0.2237,\n",
      "        -0.2237, -0.2237, -0.2237, -0.2237, -0.2237, -0.2237,  3.7279, -0.2237,\n",
      "        -0.2237, -0.2237, -0.2237, -0.2237, -0.2237, -0.2237, -0.2237, -0.2237,\n",
      "        -0.2237, -0.2237, -0.2237, -0.2237, -0.2237, -0.2237, -0.2237, -0.2237,\n",
      "        -0.2237, -0.2237, -0.2237, -0.2237, -0.2237,  1.7521, -0.2237, -0.2237,\n",
      "        -0.2237, -0.2237, -0.2237, -0.2237, -0.2237], device='cuda:0')\n",
      "✅ Rewards: 0.0377\n",
      "✅ Loss: -0.0516\n",
      "-------Question---------\n",
      "Joy can read 8 pages of a book in 20 minutes. How many hours will it take her to read 120 pages?\n",
      "\n",
      "🧠 Inference Index 14\n",
      "🔍 Top-K Indices: [151, 72, 86, 39, 210, 197, 48, 218, 119, 152, 134, 59, 3, 157, 55, 221, 217, 254, 88, 241, 63, 103, 207, 112, 79, 159, 120, 27, 211, 240, 225, 45, 203, 77, 101, 158, 56, 93, 36, 161, 140, 50, 46, 202, 164, 113, 227, 145, 14, 30, 22, 247, 153]\n",
      "[INFO] Launching 159 parallel inference tasks...\n"
     ]
    },
    {
     "name": "stderr",
     "output_type": "stream",
     "text": []
    },
    {
     "name": "stdout",
     "output_type": "stream",
     "text": [
      "tensor([0.0000, 0.0000, 0.0000, 1.0000, 0.3333, 0.3333, 0.0000, 1.0000, 0.0000,\n",
      "        0.0000, 0.0000, 0.0000, 0.0000, 0.0000, 1.0000, 0.0000, 0.0000, 1.0000,\n",
      "        0.0000, 0.6667, 0.0000, 0.0000, 1.0000, 0.0000, 1.0000, 0.0000, 0.0000,\n",
      "        0.0000, 0.3333, 0.0000, 0.3333, 0.0000, 0.0000, 0.0000, 0.3333, 0.3333,\n",
      "        0.0000, 0.0000, 0.6667, 0.3333, 0.0000, 0.0000, 0.0000, 1.0000, 0.0000,\n",
      "        0.0000, 0.0000, 1.0000, 0.0000, 0.0000, 0.0000, 0.0000, 1.0000],\n",
      "       device='cuda:0')\n",
      "tensor([-0.6235, -0.6235, -0.6235,  1.9855,  0.2461,  0.2461, -0.6235,  1.9855,\n",
      "        -0.6235, -0.6235, -0.6235, -0.6235, -0.6235, -0.6235,  1.9855, -0.6235,\n",
      "        -0.6235,  1.9855, -0.6235,  1.1158, -0.6235, -0.6235,  1.9855, -0.6235,\n",
      "         1.9855, -0.6235, -0.6235, -0.6235,  0.2461, -0.6235,  0.2461, -0.6235,\n",
      "        -0.6235, -0.6235,  0.2461,  0.2461, -0.6235, -0.6235,  1.1158,  0.2461,\n",
      "        -0.6235, -0.6235, -0.6235,  1.9855, -0.6235, -0.6235, -0.6235,  1.9855,\n",
      "        -0.6235, -0.6235, -0.6235, -0.6235,  1.9855], device='cuda:0')\n",
      "✅ Rewards: 0.2390\n",
      "✅ Loss: -0.0188\n",
      "-------Question---------\n",
      "James creates a media empire.  He creates a movie for $2000.  Each DVD cost $6 to make.  He sells it for 2.5 times that much.  He sells 500 movies a day for 5 days a week.  How much profit does he make in 20 weeks?\n",
      "\n",
      "🧠 Inference Index 15\n",
      "🔍 Top-K Indices: [119, 2, 161, 23, 88, 3, 95, 179, 9, 64, 217, 19, 233, 152, 128, 87, 129, 37, 157, 91, 220, 228, 28, 71, 235, 65, 94, 86, 82, 162, 140, 225, 200, 232, 6, 79, 30, 133, 18, 110, 148, 22, 173, 48, 198, 154, 206, 213, 26, 21, 73, 67, 253]\n",
      "[INFO] Launching 159 parallel inference tasks...\n"
     ]
    },
    {
     "name": "stderr",
     "output_type": "stream",
     "text": []
    },
    {
     "name": "stdout",
     "output_type": "stream",
     "text": [
      "tensor([0.0000, 0.0000, 0.0000, 0.0000, 0.0000, 0.0000, 0.0000, 0.0000, 0.0000,\n",
      "        0.0000, 0.0000, 0.0000, 0.0000, 0.0000, 0.0000, 0.0000, 0.0000, 0.0000,\n",
      "        0.0000, 0.0000, 0.0000, 0.0000, 0.0000, 0.0000, 0.0000, 0.0000, 0.0000,\n",
      "        0.0000, 0.0000, 0.0000, 0.3333, 0.0000, 0.0000, 0.0000, 0.0000, 0.0000,\n",
      "        0.0000, 0.3333, 0.0000, 0.0000, 0.0000, 0.0000, 0.0000, 0.0000, 0.0000,\n",
      "        0.0000, 0.0000, 0.0000, 0.0000, 0.0000, 0.0000, 0.0000, 0.0000],\n",
      "       device='cuda:0')\n",
      "tensor([-0.1962, -0.1962, -0.1962, -0.1962, -0.1962, -0.1962, -0.1962, -0.1962,\n",
      "        -0.1962, -0.1962, -0.1962, -0.1962, -0.1962, -0.1962, -0.1962, -0.1962,\n",
      "        -0.1962, -0.1962, -0.1962, -0.1962, -0.1962, -0.1962, -0.1962, -0.1962,\n",
      "        -0.1962, -0.1962, -0.1962, -0.1962, -0.1962, -0.1962,  5.0019, -0.1962,\n",
      "        -0.1962, -0.1962, -0.1962, -0.1962, -0.1962,  5.0019, -0.1962, -0.1962,\n",
      "        -0.1962, -0.1962, -0.1962, -0.1962, -0.1962, -0.1962, -0.1962, -0.1962,\n",
      "        -0.1962, -0.1962, -0.1962, -0.1962, -0.1962], device='cuda:0')\n",
      "✅ Rewards: 0.0126\n",
      "✅ Loss: 0.0430\n",
      "-------Question---------\n",
      "The profit from a business transaction is shared among 2 business partners, Mike and Johnson in the ratio 2:5 respectively. If Johnson got $2500, how much will Mike have after spending some of his share on a shirt that costs $200?\n",
      "\n",
      "🧠 Inference Index 16\n",
      "🔍 Top-K Indices: [99, 76, 202, 139, 48, 107, 233, 201, 90, 52, 143, 153, 176, 198, 136, 159, 19, 26, 6, 29, 245, 35, 244, 117, 155, 79, 158, 81, 160, 9, 0, 50, 30, 144, 67, 168, 181, 199, 212, 105, 150, 232, 88, 239, 169, 142, 173, 208, 190, 112, 166, 36, 148]\n",
      "[INFO] Launching 159 parallel inference tasks...\n"
     ]
    },
    {
     "name": "stderr",
     "output_type": "stream",
     "text": []
    },
    {
     "name": "stdout",
     "output_type": "stream",
     "text": [
      "tensor([0.0000, 0.0000, 0.0000, 0.0000, 0.3333, 0.0000, 0.6667, 0.0000, 0.0000,\n",
      "        0.0000, 0.6667, 0.0000, 0.0000, 0.0000, 0.0000, 0.0000, 0.0000, 0.0000,\n",
      "        0.0000, 0.0000, 0.0000, 0.0000, 0.0000, 0.0000, 0.0000, 0.0000, 0.0000,\n",
      "        0.3333, 0.0000, 0.6667, 0.0000, 0.0000, 0.0000, 0.0000, 0.3333, 0.0000,\n",
      "        0.0000, 0.0000, 0.0000, 0.0000, 0.0000, 0.0000, 0.0000, 0.0000, 0.0000,\n",
      "        0.0000, 0.0000, 0.0000, 0.3333, 0.0000, 0.0000, 0.0000, 0.0000],\n",
      "       device='cuda:0')\n",
      "tensor([-0.3622, -0.3622, -0.3622, -0.3622,  1.5573, -0.3622,  3.4768, -0.3622,\n",
      "        -0.3622, -0.3622,  3.4768, -0.3622, -0.3622, -0.3622, -0.3622, -0.3622,\n",
      "        -0.3622, -0.3622, -0.3622, -0.3622, -0.3622, -0.3622, -0.3622, -0.3622,\n",
      "        -0.3622, -0.3622, -0.3622,  1.5573, -0.3622,  3.4768, -0.3622, -0.3622,\n",
      "        -0.3622, -0.3622,  1.5573, -0.3622, -0.3622, -0.3622, -0.3622, -0.3622,\n",
      "        -0.3622, -0.3622, -0.3622, -0.3622, -0.3622, -0.3622, -0.3622, -0.3622,\n",
      "         1.5573, -0.3622, -0.3622, -0.3622, -0.3622], device='cuda:0')\n",
      "✅ Rewards: 0.0629\n",
      "✅ Loss: -0.0305\n",
      "-------Question---------\n",
      "In a truck, there are 26 pink hard hats, 15 green hard hats, and 24 yellow hard hats.  If Carl takes away 4 pink hard hats, and John takes away 6 pink hard hats and twice as many green hard hats as the number of pink hard hats that he removed, then calculate the total number of hard hats that remained in the truck.\n",
      "\n",
      "🧠 Inference Index 17\n",
      "🔍 Top-K Indices: [121, 116, 230, 26, 102, 190, 100, 143, 236, 58, 66, 97, 130, 204, 31, 38, 231, 23, 24, 186, 196, 44, 198, 70, 60, 234, 239, 174, 162, 164, 252, 139, 57, 211, 19, 226, 165, 13, 222, 22, 30, 98, 111, 96, 224, 41, 218, 11, 82, 229, 49, 135, 62]\n",
      "[INFO] Launching 159 parallel inference tasks...\n"
     ]
    },
    {
     "name": "stderr",
     "output_type": "stream",
     "text": []
    },
    {
     "name": "stdout",
     "output_type": "stream",
     "text": [
      "tensor([0.0000, 0.6667, 0.0000, 0.0000, 0.0000, 0.0000, 0.3333, 0.0000, 0.0000,\n",
      "        0.0000, 0.0000, 0.0000, 0.6667, 0.0000, 0.0000, 0.0000, 0.3333, 0.3333,\n",
      "        0.0000, 0.0000, 0.0000, 0.0000, 0.0000, 0.0000, 0.0000, 0.0000, 0.0000,\n",
      "        0.3333, 0.3333, 0.0000, 0.0000, 0.0000, 0.0000, 0.0000, 0.0000, 0.0000,\n",
      "        0.0000, 0.0000, 0.0000, 0.0000, 0.0000, 0.0000, 0.0000, 0.0000, 0.0000,\n",
      "        0.0000, 0.3333, 0.0000, 0.0000, 0.0000, 0.0000, 0.3333, 0.0000],\n",
      "       device='cuda:0')\n",
      "tensor([-0.4197,  3.6246, -0.4197, -0.4197, -0.4197, -0.4197,  1.6024, -0.4197,\n",
      "        -0.4197, -0.4197, -0.4197, -0.4197,  3.6246, -0.4197, -0.4197, -0.4197,\n",
      "         1.6024,  1.6024, -0.4197, -0.4197, -0.4197, -0.4197, -0.4197, -0.4197,\n",
      "        -0.4197, -0.4197, -0.4197,  1.6024,  1.6024, -0.4197, -0.4197, -0.4197,\n",
      "        -0.4197, -0.4197, -0.4197, -0.4197, -0.4197, -0.4197, -0.4197, -0.4197,\n",
      "        -0.4197, -0.4197, -0.4197, -0.4197, -0.4197, -0.4197,  1.6024, -0.4197,\n",
      "        -0.4197, -0.4197, -0.4197,  1.6024, -0.4197], device='cuda:0')\n",
      "✅ Rewards: 0.0692\n",
      "✅ Loss: 0.0204\n",
      "-------Question---------\n",
      "It takes Roque two hours to walk to work and one hour to ride his bike to work. Roque walks to and from work three times a week and rides his bike to and from work twice a week. How many hours in total does he take to get to and from work a week with walking and biking?\n",
      "\n",
      "🧠 Inference Index 18\n",
      "🔍 Top-K Indices: [82, 140, 18, 253, 139, 0, 173, 164, 101, 103, 157, 85, 33, 176, 244, 220, 64, 56, 145, 2, 144, 13, 77, 222, 172, 182, 242, 81, 16, 162, 91, 206, 226, 15, 86, 95, 4, 99, 39, 93, 203, 120, 171, 194, 235, 215, 128, 232, 158, 25, 50, 204, 127]\n",
      "[INFO] Launching 159 parallel inference tasks...\n"
     ]
    },
    {
     "name": "stderr",
     "output_type": "stream",
     "text": []
    },
    {
     "name": "stdout",
     "output_type": "stream",
     "text": [
      "tensor([0.0000, 0.0000, 0.0000, 0.0000, 0.0000, 0.0000, 0.3333, 0.0000, 0.0000,\n",
      "        1.0000, 0.0000, 0.3333, 0.0000, 0.0000, 0.0000, 0.0000, 0.0000, 0.0000,\n",
      "        0.0000, 0.0000, 0.6667, 0.0000, 0.0000, 0.0000, 0.0000, 0.0000, 0.0000,\n",
      "        0.0000, 0.0000, 0.0000, 0.0000, 0.0000, 0.0000, 0.0000, 0.0000, 1.0000,\n",
      "        0.0000, 0.0000, 0.0000, 0.0000, 0.0000, 0.0000, 0.0000, 0.0000, 0.0000,\n",
      "        0.0000, 0.0000, 0.0000, 0.0000, 0.0000, 0.0000, 0.0000, 0.0000],\n",
      "       device='cuda:0')\n",
      "tensor([-0.2893, -0.2893, -0.2893, -0.2893, -0.2893, -0.2893,  1.2441, -0.2893,\n",
      "        -0.2893,  4.3111, -0.2893,  1.2441, -0.2893, -0.2893, -0.2893, -0.2893,\n",
      "        -0.2893, -0.2893, -0.2893, -0.2893,  2.7776, -0.2893, -0.2893, -0.2893,\n",
      "        -0.2893, -0.2893, -0.2893, -0.2893, -0.2893, -0.2893, -0.2893, -0.2893,\n",
      "        -0.2893, -0.2893, -0.2893,  4.3111, -0.2893, -0.2893, -0.2893, -0.2893,\n",
      "        -0.2893, -0.2893, -0.2893, -0.2893, -0.2893, -0.2893, -0.2893, -0.2893,\n",
      "        -0.2893, -0.2893, -0.2893, -0.2893, -0.2893], device='cuda:0')\n",
      "✅ Rewards: 0.0629\n",
      "✅ Loss: 0.0261\n",
      "-------Question---------\n",
      "Tim rides his bike back and forth to work for each of his 5 workdays.  His work is 20 miles away.  He also goes for a weekend bike ride of 200 miles.    If he can bike at 25 mph how much time does he spend biking a week?\n",
      "\n",
      "🧠 Inference Index 19\n",
      "🔍 Top-K Indices: [51, 211, 119, 101, 82, 34, 63, 78, 198, 90, 159, 139, 194, 23, 245, 85, 45, 253, 157, 237, 64, 49, 228, 248, 172, 56, 48, 87, 88, 171, 156, 72, 137, 74, 163, 95, 133, 109, 29, 164, 145, 43, 128, 217, 38, 254, 161, 197, 207, 142, 219, 83, 152]\n",
      "[INFO] Launching 159 parallel inference tasks...\n"
     ]
    },
    {
     "name": "stderr",
     "output_type": "stream",
     "text": [
      "Examples: 100%|██████████| 20/20 [02:50<00:00,  8.51s/it]\n",
      "Training Steps:  60%|██████    | 6/10 [16:53<11:19, 169.86s/it]"
     ]
    },
    {
     "name": "stdout",
     "output_type": "stream",
     "text": [
      "tensor([0.0000, 0.0000, 0.3333, 0.0000, 0.0000, 1.0000, 0.0000, 0.6667, 0.0000,\n",
      "        0.0000, 0.0000, 0.0000, 0.0000, 1.0000, 0.3333, 0.3333, 0.3333, 0.3333,\n",
      "        1.0000, 1.0000, 0.3333, 0.0000, 0.3333, 0.3333, 0.3333, 0.3333, 0.3333,\n",
      "        0.0000, 0.0000, 0.3333, 0.6667, 0.0000, 0.6667, 0.3333, 0.0000, 0.0000,\n",
      "        0.3333, 0.0000, 1.0000, 0.0000, 1.0000, 0.6667, 0.0000, 0.6667, 0.0000,\n",
      "        0.0000, 0.0000, 0.0000, 0.0000, 0.0000, 0.0000, 0.0000, 0.6667],\n",
      "       device='cuda:0')\n",
      "tensor([-0.8038, -0.8038,  0.1644, -0.8038, -0.8038,  2.1008, -0.8038,  1.1326,\n",
      "        -0.8038, -0.8038, -0.8038, -0.8038, -0.8038,  2.1008,  0.1644,  0.1644,\n",
      "         0.1644,  0.1644,  2.1008,  2.1008,  0.1644, -0.8038,  0.1644,  0.1644,\n",
      "         0.1644,  0.1644,  0.1644, -0.8038, -0.8038,  0.1644,  1.1326, -0.8038,\n",
      "         1.1326,  0.1644, -0.8038, -0.8038,  0.1644, -0.8038,  2.1008, -0.8038,\n",
      "         2.1008,  1.1326, -0.8038,  1.1326, -0.8038, -0.8038, -0.8038, -0.8038,\n",
      "        -0.8038, -0.8038, -0.8038, -0.8038,  1.1326], device='cuda:0')\n",
      "✅ Rewards: 0.2767\n",
      "✅ Loss: 0.0274\n",
      "\n",
      "=== Training Step 7 ===\n"
     ]
    },
    {
     "name": "stderr",
     "output_type": "stream",
     "text": []
    },
    {
     "name": "stdout",
     "output_type": "stream",
     "text": [
      "-------Question---------\n",
      "Natalia sold clips to 48 of her friends in April, and then she sold half as many clips in May. How many clips did Natalia sell altogether in April and May?\n",
      "\n",
      "🧠 Inference Index 0\n",
      "🔍 Top-K Indices: [64, 72, 158, 26, 153, 140, 148, 93, 235, 133, 12, 119, 209, 201, 48, 77, 172, 151, 47, 128, 33, 79, 232, 83, 104, 97, 23, 1, 15, 90, 53, 69, 150, 160, 182, 29, 181, 146, 16, 2, 135, 206, 205, 91, 228, 65, 105, 38, 103, 142, 40, 124, 88]\n",
      "[INFO] Launching 159 parallel inference tasks...\n"
     ]
    },
    {
     "name": "stderr",
     "output_type": "stream",
     "text": []
    },
    {
     "name": "stdout",
     "output_type": "stream",
     "text": [
      "tensor([1.0000, 1.0000, 1.0000, 0.6667, 0.0000, 1.0000, 1.0000, 1.0000, 1.0000,\n",
      "        1.0000, 0.0000, 1.0000, 1.0000, 1.0000, 1.0000, 1.0000, 1.0000, 1.0000,\n",
      "        1.0000, 0.0000, 1.0000, 1.0000, 1.0000, 1.0000, 1.0000, 1.0000, 1.0000,\n",
      "        1.0000, 1.0000, 1.0000, 1.0000, 1.0000, 1.0000, 1.0000, 1.0000, 1.0000,\n",
      "        1.0000, 1.0000, 1.0000, 1.0000, 1.0000, 1.0000, 0.6667, 0.0000, 1.0000,\n",
      "        1.0000, 1.0000, 1.0000, 1.0000, 1.0000, 0.0000, 0.0000, 0.0000],\n",
      "       device='cuda:0')\n",
      "tensor([ 0.4219,  0.4219,  0.4219, -0.5503, -2.4946,  0.4219,  0.4219,  0.4219,\n",
      "         0.4219,  0.4219, -2.4946,  0.4219,  0.4219,  0.4219,  0.4219,  0.4219,\n",
      "         0.4219,  0.4219,  0.4219, -2.4946,  0.4219,  0.4219,  0.4219,  0.4219,\n",
      "         0.4219,  0.4219,  0.4219,  0.4219,  0.4219,  0.4219,  0.4219,  0.4219,\n",
      "         0.4219,  0.4219,  0.4219,  0.4219,  0.4219,  0.4219,  0.4219,  0.4219,\n",
      "         0.4219,  0.4219, -0.5503, -2.4946,  0.4219,  0.4219,  0.4219,  0.4219,\n",
      "         0.4219,  0.4219, -2.4946, -2.4946, -2.4946], device='cuda:0')\n",
      "✅ Rewards: 0.8553\n",
      "✅ Loss: -0.0518\n",
      "-------Question---------\n",
      "Weng earns $12 an hour for babysitting. Yesterday, she just did 50 minutes of babysitting. How much did she earn?\n",
      "\n",
      "🧠 Inference Index 1\n",
      "🔍 Top-K Indices: [0, 91, 65, 66, 198, 199, 128, 157, 110, 47, 213, 81, 172, 232, 55, 176, 233, 120, 204, 4, 33, 56, 5, 101, 205, 37, 121, 76, 218, 165, 83, 23, 253, 131, 21, 186, 39, 18, 42, 144, 71, 14, 72, 29, 106, 182, 134, 201, 117, 243, 135, 17, 95]\n",
      "[INFO] Launching 159 parallel inference tasks...\n"
     ]
    },
    {
     "name": "stderr",
     "output_type": "stream",
     "text": []
    },
    {
     "name": "stdout",
     "output_type": "stream",
     "text": [
      "tensor([1., 1., 1., 1., 1., 1., 1., 1., 1., 1., 1., 1., 1., 1., 1., 1., 1., 1.,\n",
      "        1., 1., 1., 1., 1., 1., 1., 1., 1., 1., 1., 1., 1., 1., 1., 1., 1., 1.,\n",
      "        1., 1., 1., 1., 1., 1., 1., 1., 1., 1., 1., 1., 1., 1., 1., 1., 1.],\n",
      "       device='cuda:0')\n",
      "tensor([0., 0., 0., 0., 0., 0., 0., 0., 0., 0., 0., 0., 0., 0., 0., 0., 0., 0., 0., 0., 0., 0., 0., 0.,\n",
      "        0., 0., 0., 0., 0., 0., 0., 0., 0., 0., 0., 0., 0., 0., 0., 0., 0., 0., 0., 0., 0., 0., 0., 0.,\n",
      "        0., 0., 0., 0., 0.], device='cuda:0')\n",
      "✅ Rewards: 1.0000\n",
      "✅ Loss: -0.0000\n",
      "-------Question---------\n",
      "Betty is saving money for a new wallet which costs $100. Betty has only half of the money she needs. Her parents decided to give her $15 for that purpose, and her grandparents twice as much as her parents. How much more money does Betty need to buy the wallet?\n",
      "\n",
      "🧠 Inference Index 2\n",
      "🔍 Top-K Indices: [2, 98, 12, 91, 163, 144, 29, 167, 84, 18, 117, 248, 120, 227, 112, 95, 199, 79, 8, 196, 78, 207, 205, 242, 182, 191, 176, 212, 231, 160, 23, 240, 158, 40, 71, 136, 170, 219, 88, 54, 157, 172, 156, 1, 110, 68, 154, 30, 38, 93, 43, 85, 244]\n",
      "[INFO] Launching 159 parallel inference tasks...\n"
     ]
    },
    {
     "name": "stderr",
     "output_type": "stream",
     "text": []
    },
    {
     "name": "stdout",
     "output_type": "stream",
     "text": [
      "tensor([1.0000, 0.0000, 1.0000, 1.0000, 1.0000, 1.0000, 1.0000, 1.0000, 0.6667,\n",
      "        1.0000, 1.0000, 1.0000, 1.0000, 1.0000, 1.0000, 1.0000, 1.0000, 1.0000,\n",
      "        1.0000, 1.0000, 1.0000, 1.0000, 1.0000, 0.6667, 1.0000, 1.0000, 0.3333,\n",
      "        0.0000, 1.0000, 0.6667, 1.0000, 1.0000, 1.0000, 1.0000, 1.0000, 1.0000,\n",
      "        0.0000, 1.0000, 1.0000, 1.0000, 0.3333, 1.0000, 1.0000, 1.0000, 1.0000,\n",
      "        0.6667, 1.0000, 1.0000, 1.0000, 1.0000, 1.0000, 1.0000, 1.0000],\n",
      "       device='cuda:0')\n",
      "tensor([ 0.3993, -3.3357,  0.3993,  0.3993,  0.3993,  0.3993,  0.3993,  0.3993,\n",
      "        -0.8457,  0.3993,  0.3993,  0.3993,  0.3993,  0.3993,  0.3993,  0.3993,\n",
      "         0.3993,  0.3993,  0.3993,  0.3993,  0.3993,  0.3993,  0.3993, -0.8457,\n",
      "         0.3993,  0.3993, -2.0907, -3.3357,  0.3993, -0.8457,  0.3993,  0.3993,\n",
      "         0.3993,  0.3993,  0.3993,  0.3993, -3.3357,  0.3993,  0.3993,  0.3993,\n",
      "        -2.0907,  0.3993,  0.3993,  0.3993,  0.3993, -0.8457,  0.3993,  0.3993,\n",
      "         0.3993,  0.3993,  0.3993,  0.3993,  0.3993], device='cuda:0')\n",
      "✅ Rewards: 0.8931\n",
      "✅ Loss: 0.0383\n",
      "-------Question---------\n",
      "Julie is reading a 120-page book. Yesterday, she was able to read 12 pages and today, she read twice as many pages as yesterday. If she wants to read half of the remaining pages tomorrow, how many pages should she read?\n",
      "\n",
      "🧠 Inference Index 3\n",
      "🔍 Top-K Indices: [82, 64, 200, 94, 253, 76, 204, 90, 54, 181, 174, 81, 102, 188, 199, 211, 23, 130, 139, 197, 18, 149, 19, 196, 203, 70, 50, 59, 143, 167, 146, 98, 125, 66, 242, 151, 123, 157, 95, 215, 145, 240, 15, 88, 13, 176, 49, 228, 73, 248, 160, 183, 84]\n",
      "[INFO] Launching 159 parallel inference tasks...\n"
     ]
    },
    {
     "name": "stderr",
     "output_type": "stream",
     "text": []
    },
    {
     "name": "stdout",
     "output_type": "stream",
     "text": [
      "tensor([0.0000, 0.0000, 0.0000, 0.0000, 0.0000, 0.0000, 0.0000, 0.0000, 0.0000,\n",
      "        0.0000, 0.0000, 0.0000, 0.0000, 0.0000, 0.0000, 0.0000, 0.0000, 0.0000,\n",
      "        0.0000, 0.0000, 0.0000, 0.0000, 0.0000, 0.0000, 0.0000, 0.3333, 0.0000,\n",
      "        0.0000, 0.0000, 0.0000, 0.0000, 0.0000, 0.0000, 0.0000, 0.0000, 0.0000,\n",
      "        0.0000, 0.0000, 0.0000, 0.0000, 0.0000, 0.0000, 0.0000, 0.0000, 0.0000,\n",
      "        0.0000, 0.0000, 0.0000, 0.0000, 0.0000, 0.0000, 0.0000, 0.0000],\n",
      "       device='cuda:0')\n",
      "tensor([-0.1374, -0.1374, -0.1374, -0.1374, -0.1374, -0.1374, -0.1374, -0.1374,\n",
      "        -0.1374, -0.1374, -0.1374, -0.1374, -0.1374, -0.1374, -0.1374, -0.1374,\n",
      "        -0.1374, -0.1374, -0.1374, -0.1374, -0.1374, -0.1374, -0.1374, -0.1374,\n",
      "        -0.1374,  7.1427, -0.1374, -0.1374, -0.1374, -0.1374, -0.1374, -0.1374,\n",
      "        -0.1374, -0.1374, -0.1374, -0.1374, -0.1374, -0.1374, -0.1374, -0.1374,\n",
      "        -0.1374, -0.1374, -0.1374, -0.1374, -0.1374, -0.1374, -0.1374, -0.1374,\n",
      "        -0.1374, -0.1374, -0.1374, -0.1374, -0.1374], device='cuda:0')\n",
      "✅ Rewards: 0.0063\n",
      "✅ Loss: -0.0235\n",
      "-------Question---------\n",
      "James writes a 3-page letter to 2 different friends twice a week.  How many pages does he write a year?\n",
      "\n",
      "🧠 Inference Index 4\n",
      "🔍 Top-K Indices: [188, 206, 223, 228, 221, 8, 112, 145, 235, 117, 1, 13, 23, 197, 122, 88, 149, 242, 240, 49, 5, 56, 219, 195, 220, 119, 161, 3, 103, 135, 156, 59, 67, 130, 252, 95, 204, 110, 104, 81, 209, 178, 175, 203, 157, 187, 248, 72, 202, 84, 93, 136, 150]\n",
      "[INFO] Launching 159 parallel inference tasks...\n"
     ]
    },
    {
     "name": "stderr",
     "output_type": "stream",
     "text": []
    },
    {
     "name": "stdout",
     "output_type": "stream",
     "text": [
      "tensor([0.0000, 0.0000, 0.3333, 0.0000, 0.3333, 0.0000, 0.0000, 0.0000, 0.0000,\n",
      "        0.0000, 0.0000, 0.0000, 0.0000, 0.0000, 1.0000, 0.0000, 0.0000, 0.0000,\n",
      "        0.0000, 0.0000, 0.0000, 0.0000, 0.0000, 0.3333, 0.0000, 0.6667, 0.0000,\n",
      "        0.0000, 0.0000, 1.0000, 0.0000, 0.3333, 0.0000, 0.3333, 0.0000, 1.0000,\n",
      "        0.3333, 0.0000, 0.0000, 0.0000, 0.0000, 0.0000, 1.0000, 0.0000, 0.3333,\n",
      "        0.0000, 0.0000, 0.0000, 1.0000, 0.0000, 0.0000, 0.0000, 0.6667],\n",
      "       device='cuda:0')\n",
      "tensor([-0.5147, -0.5147,  0.5345, -0.5147,  0.5345, -0.5147, -0.5147, -0.5147,\n",
      "        -0.5147, -0.5147, -0.5147, -0.5147, -0.5147, -0.5147,  2.6327, -0.5147,\n",
      "        -0.5147, -0.5147, -0.5147, -0.5147, -0.5147, -0.5147, -0.5147,  0.5345,\n",
      "        -0.5147,  1.5836, -0.5147, -0.5147, -0.5147,  2.6327, -0.5147,  0.5345,\n",
      "        -0.5147,  0.5345, -0.5147,  2.6327,  0.5345, -0.5147, -0.5147, -0.5147,\n",
      "        -0.5147, -0.5147,  2.6327, -0.5147,  0.5345, -0.5147, -0.5147, -0.5147,\n",
      "         2.6327, -0.5147, -0.5147, -0.5147,  1.5836], device='cuda:0')\n",
      "✅ Rewards: 0.1635\n",
      "✅ Loss: 0.0406\n",
      "-------Question---------\n",
      "Mark has a garden with flowers. He planted plants of three different colors in it. Ten of them are yellow, and there are 80% more of those in purple. There are only 25% as many green flowers as there are yellow and purple flowers. How many flowers does Mark have in his garden?\n",
      "\n",
      "🧠 Inference Index 5\n",
      "🔍 Top-K Indices: [179, 51, 113, 57, 40, 82, 245, 2, 54, 194, 29, 18, 112, 142, 7, 15, 5, 14, 43, 232, 156, 222, 213, 182, 147, 1, 237, 59, 41, 203, 150, 121, 248, 217, 230, 219, 180, 87, 94, 73, 37, 247, 120, 86, 215, 149, 96, 71, 49, 23, 3, 118, 157]\n",
      "[INFO] Launching 159 parallel inference tasks...\n"
     ]
    },
    {
     "name": "stderr",
     "output_type": "stream",
     "text": []
    },
    {
     "name": "stdout",
     "output_type": "stream",
     "text": [
      "tensor([0.0000, 0.0000, 0.0000, 0.0000, 0.3333, 0.0000, 0.0000, 0.0000, 0.0000,\n",
      "        0.0000, 0.0000, 0.6667, 0.0000, 0.0000, 0.6667, 0.0000, 0.0000, 0.3333,\n",
      "        0.0000, 0.6667, 0.0000, 0.0000, 0.3333, 0.0000, 0.3333, 0.0000, 0.6667,\n",
      "        0.0000, 0.0000, 0.0000, 0.0000, 1.0000, 0.0000, 0.0000, 0.3333, 1.0000,\n",
      "        1.0000, 0.0000, 0.0000, 0.0000, 0.0000, 0.0000, 0.6667, 0.3333, 0.0000,\n",
      "        0.0000, 0.0000, 0.6667, 0.6667, 0.0000, 1.0000, 1.0000, 0.3333],\n",
      "       device='cuda:0')\n",
      "tensor([-0.6572, -0.6572, -0.6572, -0.6572,  0.3103, -0.6572, -0.6572, -0.6572,\n",
      "        -0.6572, -0.6572, -0.6572,  1.2779, -0.6572, -0.6572,  1.2779, -0.6572,\n",
      "        -0.6572,  0.3103, -0.6572,  1.2779, -0.6572, -0.6572,  0.3103, -0.6572,\n",
      "         0.3103, -0.6572,  1.2779, -0.6572, -0.6572, -0.6572, -0.6572,  2.2454,\n",
      "        -0.6572, -0.6572,  0.3103,  2.2454,  2.2454, -0.6572, -0.6572, -0.6572,\n",
      "        -0.6572, -0.6572,  1.2779,  0.3103, -0.6572, -0.6572, -0.6572,  1.2779,\n",
      "         1.2779, -0.6572,  2.2454,  2.2454,  0.3103], device='cuda:0')\n",
      "✅ Rewards: 0.2264\n",
      "✅ Loss: -0.0045\n",
      "-------Question---------\n",
      "Albert is wondering how much pizza he can eat in one day. He buys 2 large pizzas and 2 small pizzas. A large pizza has 16 slices and a small pizza has 8 slices. If he eats it all, how many pieces does he eat that day?\n",
      "\n",
      "🧠 Inference Index 6\n",
      "🔍 Top-K Indices: [159, 149, 77, 242, 86, 101, 23, 79, 93, 202, 68, 51, 31, 221, 122, 252, 55, 11, 217, 63, 197, 94, 158, 171, 59, 157, 170, 58, 30, 180, 96, 232, 13, 103, 50, 73, 105, 84, 45, 177, 76, 95, 176, 133, 49, 26, 234, 152, 145, 106, 88, 167, 178]\n",
      "[INFO] Launching 159 parallel inference tasks...\n"
     ]
    },
    {
     "name": "stderr",
     "output_type": "stream",
     "text": []
    },
    {
     "name": "stdout",
     "output_type": "stream",
     "text": [
      "tensor([1.0000, 0.6667, 0.6667, 0.0000, 0.6667, 1.0000, 0.6667, 0.6667, 0.3333,\n",
      "        1.0000, 1.0000, 1.0000, 1.0000, 1.0000, 1.0000, 1.0000, 1.0000, 1.0000,\n",
      "        0.6667, 1.0000, 1.0000, 1.0000, 1.0000, 1.0000, 1.0000, 1.0000, 0.6667,\n",
      "        1.0000, 1.0000, 1.0000, 1.0000, 0.6667, 1.0000, 0.6667, 1.0000, 1.0000,\n",
      "        1.0000, 1.0000, 0.6667, 1.0000, 1.0000, 1.0000, 1.0000, 0.3333, 1.0000,\n",
      "        1.0000, 1.0000, 1.0000, 1.0000, 1.0000, 1.0000, 1.0000, 1.0000],\n",
      "       device='cuda:0')\n",
      "tensor([ 0.4983, -1.0552, -1.0552, -4.1622, -1.0552,  0.4983, -1.0552, -1.0552,\n",
      "        -2.6087,  0.4983,  0.4983,  0.4983,  0.4983,  0.4983,  0.4983,  0.4983,\n",
      "         0.4983,  0.4983, -1.0552,  0.4983,  0.4983,  0.4983,  0.4983,  0.4983,\n",
      "         0.4983,  0.4983, -1.0552,  0.4983,  0.4983,  0.4983,  0.4983, -1.0552,\n",
      "         0.4983, -1.0552,  0.4983,  0.4983,  0.4983,  0.4983, -1.0552,  0.4983,\n",
      "         0.4983,  0.4983,  0.4983, -2.6087,  0.4983,  0.4983,  0.4983,  0.4983,\n",
      "         0.4983,  0.4983,  0.4983,  0.4983,  0.4983], device='cuda:0')\n",
      "✅ Rewards: 0.8931\n",
      "✅ Loss: -0.0473\n",
      "-------Question---------\n",
      "Ken created a care package to send to his brother, who was away at boarding school.  Ken placed a box on a scale, and then he poured into the box enough jelly beans to bring the weight to 2 pounds.  Then, he added enough brownies to cause the weight to triple.  Next, he added another 2 pounds of jelly beans.  And finally, he added enough gummy worms to double the weight once again.  What was the final weight of the box of goodies, in pounds?\n",
      "\n",
      "🧠 Inference Index 7\n",
      "🔍 Top-K Indices: [60, 97, 62, 193, 115, 26, 58, 7, 218, 130, 59, 224, 215, 204, 174, 24, 231, 10, 32, 246, 102, 248, 9, 66, 181, 186, 236, 111, 100, 96, 177, 226, 53, 71, 121, 141, 235, 127, 183, 173, 162, 192, 23, 12, 241, 165, 198, 211, 149, 16, 172, 164, 247]\n",
      "[INFO] Launching 159 parallel inference tasks...\n"
     ]
    },
    {
     "name": "stderr",
     "output_type": "stream",
     "text": []
    },
    {
     "name": "stdout",
     "output_type": "stream",
     "text": [
      "tensor([0.0000, 0.0000, 0.0000, 0.6667, 0.6667, 0.0000, 0.0000, 0.3333, 0.0000,\n",
      "        0.0000, 0.0000, 0.6667, 1.0000, 0.3333, 0.3333, 0.0000, 0.3333, 0.0000,\n",
      "        0.6667, 0.0000, 0.3333, 0.3333, 0.0000, 0.0000, 0.0000, 0.0000, 0.6667,\n",
      "        0.0000, 0.3333, 0.6667, 0.3333, 0.3333, 0.0000, 1.0000, 0.0000, 0.0000,\n",
      "        0.0000, 0.0000, 0.0000, 0.6667, 0.0000, 0.0000, 0.0000, 0.0000, 0.6667,\n",
      "        1.0000, 0.3333, 0.0000, 0.0000, 0.6667, 1.0000, 0.6667, 1.0000],\n",
      "       device='cuda:0')\n",
      "tensor([-0.8124, -0.8124, -0.8124,  1.1013,  1.1013, -0.8124, -0.8124,  0.1444,\n",
      "        -0.8124, -0.8124, -0.8124,  1.1013,  2.0582,  0.1444,  0.1444, -0.8124,\n",
      "         0.1444, -0.8124,  1.1013, -0.8124,  0.1444,  0.1444, -0.8124, -0.8124,\n",
      "        -0.8124, -0.8124,  1.1013, -0.8124,  0.1444,  1.1013,  0.1444,  0.1444,\n",
      "        -0.8124,  2.0582, -0.8124, -0.8124, -0.8124, -0.8124, -0.8124,  1.1013,\n",
      "        -0.8124, -0.8124, -0.8124, -0.8124,  1.1013,  2.0582,  0.1444, -0.8124,\n",
      "        -0.8124,  1.1013,  2.0582,  1.1013,  2.0582], device='cuda:0')\n",
      "✅ Rewards: 0.2830\n",
      "✅ Loss: 0.0213\n",
      "-------Question---------\n",
      "Alexis is applying for a new job and bought a new set of business clothes to wear to the interview. She went to a department store with a budget of $200 and spent $30 on a button-up shirt, $46 on suit pants, $38 on a suit coat, $11 on socks, and $18 on a belt. She also purchased a pair of shoes, but lost the receipt for them. She has $16 left from her budget. How much did Alexis pay for the shoes?\n",
      "\n",
      "🧠 Inference Index 8\n",
      "🔍 Top-K Indices: [96, 7, 16, 115, 174, 237, 226, 10, 26, 181, 62, 100, 81, 242, 101, 193, 58, 198, 12, 197, 161, 83, 40, 102, 136, 127, 57, 218, 131, 44, 60, 177, 234, 36, 89, 204, 9, 152, 154, 143, 153, 229, 213, 19, 211, 238, 116, 163, 98, 190, 112, 66, 3]\n",
      "[INFO] Launching 159 parallel inference tasks...\n"
     ]
    },
    {
     "name": "stderr",
     "output_type": "stream",
     "text": []
    },
    {
     "name": "stdout",
     "output_type": "stream",
     "text": [
      "tensor([0.0000, 1.0000, 1.0000, 0.0000, 1.0000, 1.0000, 0.3333, 1.0000, 1.0000,\n",
      "        0.6667, 0.6667, 1.0000, 1.0000, 1.0000, 1.0000, 1.0000, 1.0000, 0.6667,\n",
      "        1.0000, 1.0000, 1.0000, 1.0000, 1.0000, 1.0000, 1.0000, 0.0000, 0.3333,\n",
      "        0.6667, 1.0000, 1.0000, 1.0000, 0.6667, 0.6667, 0.0000, 1.0000, 1.0000,\n",
      "        0.3333, 0.3333, 0.0000, 0.6667, 1.0000, 1.0000, 1.0000, 1.0000, 0.6667,\n",
      "        1.0000, 0.6667, 0.6667, 1.0000, 0.3333, 0.0000, 1.0000, 1.0000],\n",
      "       device='cuda:0')\n",
      "tensor([-2.1853,  0.6863,  0.6863, -2.1853,  0.6863,  0.6863, -1.2281,  0.6863,\n",
      "         0.6863, -0.2709, -0.2709,  0.6863,  0.6863,  0.6863,  0.6863,  0.6863,\n",
      "         0.6863, -0.2709,  0.6863,  0.6863,  0.6863,  0.6863,  0.6863,  0.6863,\n",
      "         0.6863, -2.1853, -1.2281, -0.2709,  0.6863,  0.6863,  0.6863, -0.2709,\n",
      "        -0.2709, -2.1853,  0.6863,  0.6863, -1.2281, -1.2281, -2.1853, -0.2709,\n",
      "         0.6863,  0.6863,  0.6863,  0.6863, -0.2709,  0.6863, -0.2709, -0.2709,\n",
      "         0.6863, -1.2281, -2.1853,  0.6863,  0.6863], device='cuda:0')\n",
      "✅ Rewards: 0.7610\n",
      "✅ Loss: -0.0145\n",
      "-------Question---------\n",
      "Tina makes $18.00 an hour.  If she works more than 8 hours per shift, she is eligible for overtime, which is paid by your hourly wage + 1/2 your hourly wage.  If she works 10 hours every day for 5 days, how much money does she make?\n",
      "\n",
      "🧠 Inference Index 9\n",
      "🔍 Top-K Indices: [81, 14, 194, 163, 45, 23, 197, 64, 157, 210, 83, 119, 35, 109, 206, 212, 156, 203, 172, 207, 150, 112, 161, 228, 106, 94, 60, 145, 30, 209, 82, 162, 49, 169, 199, 142, 211, 159, 201, 152, 200, 84, 175, 29, 50, 235, 13, 220, 244, 59, 227, 252, 4]\n",
      "[INFO] Launching 159 parallel inference tasks...\n"
     ]
    },
    {
     "name": "stderr",
     "output_type": "stream",
     "text": []
    },
    {
     "name": "stdout",
     "output_type": "stream",
     "text": [
      "tensor([0.0000, 0.0000, 0.0000, 0.0000, 0.0000, 0.0000, 0.0000, 0.0000, 0.0000,\n",
      "        0.0000, 0.0000, 0.0000, 0.0000, 0.0000, 0.0000, 0.0000, 0.0000, 0.0000,\n",
      "        0.0000, 0.0000, 0.0000, 0.0000, 0.0000, 0.0000, 0.0000, 0.6667, 0.0000,\n",
      "        0.0000, 0.0000, 0.0000, 0.0000, 0.0000, 0.0000, 0.0000, 0.0000, 0.0000,\n",
      "        0.0000, 0.0000, 0.0000, 0.0000, 1.0000, 0.0000, 0.0000, 0.0000, 0.0000,\n",
      "        0.0000, 0.0000, 0.0000, 0.0000, 0.0000, 0.0000, 0.0000, 0.3333],\n",
      "       device='cuda:0')\n",
      "tensor([-0.2237, -0.2237, -0.2237, -0.2237, -0.2237, -0.2237, -0.2237, -0.2237,\n",
      "        -0.2237, -0.2237, -0.2237, -0.2237, -0.2237, -0.2237, -0.2237, -0.2237,\n",
      "        -0.2237, -0.2237, -0.2237, -0.2237, -0.2237, -0.2237, -0.2237, -0.2237,\n",
      "        -0.2237,  3.7279, -0.2237, -0.2237, -0.2237, -0.2237, -0.2237, -0.2237,\n",
      "        -0.2237, -0.2237, -0.2237, -0.2237, -0.2237, -0.2237, -0.2237, -0.2237,\n",
      "         5.7036, -0.2237, -0.2237, -0.2237, -0.2237, -0.2237, -0.2237, -0.2237,\n",
      "        -0.2237, -0.2237, -0.2237, -0.2237,  1.7521], device='cuda:0')\n",
      "✅ Rewards: 0.0377\n",
      "✅ Loss: -0.0274\n",
      "-------Question---------\n",
      "A deep-sea monster rises from the waters once every hundred years to feast on a ship and sate its hunger. Over three hundred years, it has consumed 847 people. Ships have been built larger over time, so each new ship has twice as many people as the last ship. How many people were on the ship the monster ate in the first hundred years?\n",
      "\n",
      "🧠 Inference Index 10\n",
      "🔍 Top-K Indices: [246, 7, 31, 234, 143, 115, 96, 8, 16, 182, 138, 229, 174, 60, 204, 216, 181, 75, 10, 90, 248, 3, 122, 72, 130, 210, 158, 226, 224, 184, 42, 56, 116, 231, 193, 220, 152, 62, 97, 88, 156, 136, 149, 23, 197, 151, 11, 242, 211, 141, 157, 80, 78]\n",
      "[INFO] Launching 159 parallel inference tasks...\n"
     ]
    },
    {
     "name": "stderr",
     "output_type": "stream",
     "text": []
    },
    {
     "name": "stdout",
     "output_type": "stream",
     "text": [
      "tensor([0.0000, 0.0000, 0.0000, 0.0000, 0.0000, 0.0000, 1.0000, 0.0000, 0.0000,\n",
      "        0.0000, 0.0000, 0.0000, 0.3333, 0.6667, 0.0000, 0.0000, 0.0000, 0.0000,\n",
      "        0.0000, 1.0000, 0.0000, 0.0000, 0.0000, 0.0000, 0.0000, 0.0000, 0.0000,\n",
      "        0.3333, 0.0000, 0.0000, 0.0000, 0.0000, 0.0000, 0.0000, 0.0000, 0.0000,\n",
      "        0.0000, 0.0000, 0.0000, 0.0000, 0.0000, 0.0000, 0.0000, 0.0000, 0.0000,\n",
      "        0.0000, 0.0000, 0.0000, 0.0000, 0.3333, 0.0000, 0.0000, 0.0000],\n",
      "       device='cuda:0')\n",
      "tensor([-0.3140, -0.3140, -0.3140, -0.3140, -0.3140, -0.3140,  4.2249, -0.3140,\n",
      "        -0.3140, -0.3140, -0.3140, -0.3140,  1.1989,  2.7119, -0.3140, -0.3140,\n",
      "        -0.3140, -0.3140, -0.3140,  4.2249, -0.3140, -0.3140, -0.3140, -0.3140,\n",
      "        -0.3140, -0.3140, -0.3140,  1.1989, -0.3140, -0.3140, -0.3140, -0.3140,\n",
      "        -0.3140, -0.3140, -0.3140, -0.3140, -0.3140, -0.3140, -0.3140, -0.3140,\n",
      "        -0.3140, -0.3140, -0.3140, -0.3140, -0.3140, -0.3140, -0.3140, -0.3140,\n",
      "        -0.3140,  1.1989, -0.3140, -0.3140, -0.3140], device='cuda:0')\n",
      "✅ Rewards: 0.0692\n",
      "✅ Loss: -0.0327\n",
      "-------Question---------\n",
      "Tobias is buying a new pair of shoes that costs $95. He has been saving up his money each month for the past three months. He gets a $5 allowance a month. He also mows lawns and shovels driveways. He charges $15 to mow a lawn and $7 to shovel. After buying the shoes, he has $15 in change. If he mows 4 lawns, how many driveways did he shovel?\n",
      "\n",
      "🧠 Inference Index 11\n",
      "🔍 Top-K Indices: [25, 145, 64, 220, 49, 102, 154, 178, 6, 50, 217, 242, 238, 171, 82, 182, 8, 177, 246, 162, 152, 130, 226, 71, 19, 117, 4, 30, 59, 186, 251, 222, 72, 60, 140, 86, 207, 196, 143, 128, 51, 168, 156, 136, 247, 241, 235, 81, 149, 101, 218, 40, 125]\n",
      "[INFO] Launching 159 parallel inference tasks...\n"
     ]
    },
    {
     "name": "stderr",
     "output_type": "stream",
     "text": []
    },
    {
     "name": "stdout",
     "output_type": "stream",
     "text": [
      "tensor([0.0000, 0.3333, 0.0000, 0.0000, 0.0000, 0.0000, 0.0000, 0.0000, 0.0000,\n",
      "        0.0000, 0.0000, 0.0000, 0.0000, 0.0000, 0.0000, 0.0000, 0.3333, 0.0000,\n",
      "        0.0000, 0.0000, 0.3333, 0.0000, 0.0000, 0.0000, 0.0000, 0.0000, 0.0000,\n",
      "        0.0000, 0.0000, 0.0000, 0.0000, 0.0000, 0.0000, 0.0000, 0.0000, 0.0000,\n",
      "        0.0000, 0.0000, 0.0000, 0.0000, 0.0000, 0.0000, 0.0000, 0.0000, 0.0000,\n",
      "        0.0000, 0.0000, 0.0000, 0.0000, 0.0000, 0.0000, 0.0000, 0.0000],\n",
      "       device='cuda:0')\n",
      "tensor([-0.2426,  4.0438, -0.2426, -0.2426, -0.2426, -0.2426, -0.2426, -0.2426,\n",
      "        -0.2426, -0.2426, -0.2426, -0.2426, -0.2426, -0.2426, -0.2426, -0.2426,\n",
      "         4.0438, -0.2426, -0.2426, -0.2426,  4.0438, -0.2426, -0.2426, -0.2426,\n",
      "        -0.2426, -0.2426, -0.2426, -0.2426, -0.2426, -0.2426, -0.2426, -0.2426,\n",
      "        -0.2426, -0.2426, -0.2426, -0.2426, -0.2426, -0.2426, -0.2426, -0.2426,\n",
      "        -0.2426, -0.2426, -0.2426, -0.2426, -0.2426, -0.2426, -0.2426, -0.2426,\n",
      "        -0.2426, -0.2426, -0.2426, -0.2426, -0.2426], device='cuda:0')\n",
      "✅ Rewards: 0.0189\n",
      "✅ Loss: -0.0300\n",
      "-------Question---------\n",
      "Randy has 60 mango trees on his farm. He also has 5 less than half as many coconut trees as mango trees. How many trees does Randy have in all on his farm?\n",
      "\n",
      "🧠 Inference Index 12\n",
      "🔍 Top-K Indices: [188, 82, 204, 113, 13, 6, 72, 48, 49, 135, 138, 52, 209, 218, 232, 184, 103, 196, 240, 80, 228, 9, 210, 249, 79, 199, 142, 156, 182, 242, 197, 24, 136, 230, 25, 179, 64, 75, 154, 181, 121, 68, 157, 203, 248, 253, 244, 95, 169, 86, 44, 212, 19]\n",
      "[INFO] Launching 159 parallel inference tasks...\n"
     ]
    },
    {
     "name": "stderr",
     "output_type": "stream",
     "text": []
    },
    {
     "name": "stdout",
     "output_type": "stream",
     "text": [
      "tensor([0.0000, 0.0000, 0.6667, 0.0000, 0.0000, 1.0000, 0.0000, 0.6667, 1.0000,\n",
      "        0.3333, 1.0000, 1.0000, 0.3333, 0.0000, 0.6667, 0.0000, 0.0000, 0.3333,\n",
      "        0.0000, 1.0000, 1.0000, 1.0000, 0.0000, 1.0000, 1.0000, 0.6667, 0.0000,\n",
      "        0.0000, 0.3333, 0.0000, 0.0000, 1.0000, 0.6667, 0.3333, 0.0000, 0.3333,\n",
      "        0.6667, 0.6667, 0.6667, 1.0000, 1.0000, 0.0000, 1.0000, 1.0000, 0.3333,\n",
      "        1.0000, 0.3333, 0.0000, 0.6667, 0.0000, 0.6667, 1.0000, 1.0000],\n",
      "       device='cuda:0')\n",
      "tensor([-1.1781, -1.1781,  0.4026, -1.1781, -1.1781,  1.1930, -1.1781,  0.4026,\n",
      "         1.1930, -0.3877,  1.1930,  1.1930, -0.3877, -1.1781,  0.4026, -1.1781,\n",
      "        -1.1781, -0.3877, -1.1781,  1.1930,  1.1930,  1.1930, -1.1781,  1.1930,\n",
      "         1.1930,  0.4026, -1.1781, -1.1781, -0.3877, -1.1781, -1.1781,  1.1930,\n",
      "         0.4026, -0.3877, -1.1781, -0.3877,  0.4026,  0.4026,  0.4026,  1.1930,\n",
      "         1.1930, -1.1781,  1.1930,  1.1930, -0.3877,  1.1930, -0.3877, -1.1781,\n",
      "         0.4026, -1.1781,  0.4026,  1.1930,  1.1930], device='cuda:0')\n",
      "✅ Rewards: 0.4969\n",
      "✅ Loss: -0.0307\n",
      "-------Question---------\n",
      "Jasper will serve charcuterie at his dinner party. He buys 2 pounds of cheddar cheese for $10, a pound of cream cheese that cost half the price of the cheddar cheese, and a pack of cold cuts that cost twice the price of the cheddar cheese. How much does he spend on the ingredients?\n",
      "\n",
      "🧠 Inference Index 13\n",
      "🔍 Top-K Indices: [96, 190, 8, 115, 44, 210, 161, 140, 7, 55, 233, 186, 248, 235, 155, 197, 52, 88, 238, 48, 144, 64, 47, 159, 21, 218, 185, 127, 112, 254, 198, 148, 234, 60, 109, 67, 122, 23, 164, 100, 70, 136, 18, 72, 59, 145, 227, 68, 129, 32, 79, 246, 31]\n",
      "[INFO] Launching 159 parallel inference tasks...\n"
     ]
    },
    {
     "name": "stderr",
     "output_type": "stream",
     "text": []
    },
    {
     "name": "stdout",
     "output_type": "stream",
     "text": [
      "tensor([0., 0., 0., 0., 0., 0., 0., 0., 0., 0., 0., 0., 0., 0., 0., 0., 0., 0., 0., 0., 0., 0., 0., 0.,\n",
      "        0., 0., 0., 0., 0., 0., 0., 0., 0., 0., 0., 0., 0., 0., 0., 0., 0., 0., 0., 0., 0., 0., 0., 0.,\n",
      "        0., 0., 0., 0., 0.], device='cuda:0')\n",
      "tensor([0., 0., 0., 0., 0., 0., 0., 0., 0., 0., 0., 0., 0., 0., 0., 0., 0., 0., 0., 0., 0., 0., 0., 0.,\n",
      "        0., 0., 0., 0., 0., 0., 0., 0., 0., 0., 0., 0., 0., 0., 0., 0., 0., 0., 0., 0., 0., 0., 0., 0.,\n",
      "        0., 0., 0., 0., 0.], device='cuda:0')\n",
      "✅ Rewards: 0.0000\n",
      "✅ Loss: -0.0000\n",
      "-------Question---------\n",
      "Joy can read 8 pages of a book in 20 minutes. How many hours will it take her to read 120 pages?\n",
      "\n",
      "🧠 Inference Index 14\n",
      "🔍 Top-K Indices: [3, 93, 221, 157, 105, 23, 251, 130, 113, 117, 109, 6, 226, 64, 225, 4, 254, 101, 195, 211, 234, 142, 220, 53, 197, 139, 86, 227, 72, 124, 202, 51, 45, 213, 8, 204, 242, 210, 201, 171, 149, 158, 196, 96, 46, 29, 240, 194, 166, 38, 176, 248, 127]\n",
      "[INFO] Launching 159 parallel inference tasks...\n"
     ]
    },
    {
     "name": "stderr",
     "output_type": "stream",
     "text": []
    },
    {
     "name": "stdout",
     "output_type": "stream",
     "text": [
      "tensor([1.0000, 0.0000, 1.0000, 1.0000, 0.3333, 0.0000, 0.0000, 0.0000, 0.0000,\n",
      "        0.0000, 0.0000, 0.0000, 1.0000, 0.0000, 0.0000, 1.0000, 0.0000, 0.0000,\n",
      "        0.3333, 0.0000, 1.0000, 0.0000, 0.0000, 0.0000, 0.6667, 0.6667, 0.0000,\n",
      "        0.0000, 1.0000, 1.0000, 0.3333, 0.0000, 0.0000, 1.0000, 0.0000, 0.0000,\n",
      "        0.0000, 0.0000, 0.0000, 0.6667, 0.6667, 0.0000, 0.0000, 0.3333, 0.0000,\n",
      "        0.0000, 0.0000, 0.0000, 0.0000, 0.0000, 0.0000, 0.6667, 0.3333],\n",
      "       device='cuda:0')\n",
      "tensor([ 1.8668, -0.6701,  1.8668,  1.8668,  0.1755, -0.6701, -0.6701, -0.6701,\n",
      "        -0.6701, -0.6701, -0.6701, -0.6701,  1.8668, -0.6701, -0.6701,  1.8668,\n",
      "        -0.6701, -0.6701,  0.1755, -0.6701,  1.8668, -0.6701, -0.6701, -0.6701,\n",
      "         1.0211,  1.0211, -0.6701, -0.6701,  1.8668,  1.8668,  0.1755, -0.6701,\n",
      "        -0.6701,  1.8668, -0.6701, -0.6701, -0.6701, -0.6701, -0.6701,  1.0211,\n",
      "         1.0211, -0.6701, -0.6701,  0.1755, -0.6701, -0.6701, -0.6701, -0.6701,\n",
      "        -0.6701, -0.6701, -0.6701,  1.0211,  0.1755], device='cuda:0')\n",
      "✅ Rewards: 0.2642\n",
      "✅ Loss: -0.0701\n",
      "-------Question---------\n",
      "James creates a media empire.  He creates a movie for $2000.  Each DVD cost $6 to make.  He sells it for 2.5 times that much.  He sells 500 movies a day for 5 days a week.  How much profit does he make in 20 weeks?\n",
      "\n",
      "🧠 Inference Index 15\n",
      "🔍 Top-K Indices: [237, 206, 247, 95, 156, 204, 109, 18, 188, 82, 235, 138, 40, 168, 190, 152, 77, 218, 122, 178, 159, 91, 1, 65, 50, 76, 222, 177, 94, 60, 242, 3, 96, 37, 234, 119, 4, 183, 149, 179, 203, 163, 69, 210, 219, 211, 30, 198, 200, 49, 238, 165, 56]\n",
      "[INFO] Launching 159 parallel inference tasks...\n"
     ]
    },
    {
     "name": "stderr",
     "output_type": "stream",
     "text": []
    },
    {
     "name": "stdout",
     "output_type": "stream",
     "text": [
      "tensor([0.0000, 0.0000, 0.0000, 0.0000, 0.0000, 0.0000, 0.0000, 0.0000, 0.0000,\n",
      "        0.0000, 0.0000, 0.0000, 0.0000, 0.0000, 0.0000, 0.0000, 0.0000, 0.0000,\n",
      "        0.0000, 0.0000, 0.0000, 0.0000, 0.0000, 0.3333, 0.3333, 0.0000, 0.0000,\n",
      "        0.0000, 0.0000, 0.0000, 0.0000, 0.0000, 0.0000, 0.0000, 0.0000, 0.0000,\n",
      "        0.0000, 0.0000, 0.0000, 0.0000, 0.0000, 0.0000, 0.0000, 0.0000, 0.0000,\n",
      "        0.3333, 0.0000, 0.0000, 0.0000, 0.0000, 0.0000, 0.0000, 0.0000],\n",
      "       device='cuda:0')\n",
      "tensor([-0.2426, -0.2426, -0.2426, -0.2426, -0.2426, -0.2426, -0.2426, -0.2426,\n",
      "        -0.2426, -0.2426, -0.2426, -0.2426, -0.2426, -0.2426, -0.2426, -0.2426,\n",
      "        -0.2426, -0.2426, -0.2426, -0.2426, -0.2426, -0.2426, -0.2426,  4.0438,\n",
      "         4.0438, -0.2426, -0.2426, -0.2426, -0.2426, -0.2426, -0.2426, -0.2426,\n",
      "        -0.2426, -0.2426, -0.2426, -0.2426, -0.2426, -0.2426, -0.2426, -0.2426,\n",
      "        -0.2426, -0.2426, -0.2426, -0.2426, -0.2426,  4.0438, -0.2426, -0.2426,\n",
      "        -0.2426, -0.2426, -0.2426, -0.2426, -0.2426], device='cuda:0')\n",
      "✅ Rewards: 0.0189\n",
      "✅ Loss: 0.0084\n",
      "-------Question---------\n",
      "The profit from a business transaction is shared among 2 business partners, Mike and Johnson in the ratio 2:5 respectively. If Johnson got $2500, how much will Mike have after spending some of his share on a shirt that costs $200?\n",
      "\n",
      "🧠 Inference Index 16\n",
      "🔍 Top-K Indices: [86, 101, 91, 21, 206, 125, 161, 167, 95, 147, 186, 232, 128, 253, 177, 198, 23, 51, 57, 92, 34, 5, 65, 33, 26, 163, 251, 250, 81, 245, 154, 80, 72, 155, 247, 174, 223, 90, 165, 129, 139, 94, 111, 58, 112, 102, 134, 136, 200, 105, 38, 47, 63]\n",
      "[INFO] Launching 159 parallel inference tasks...\n"
     ]
    },
    {
     "name": "stderr",
     "output_type": "stream",
     "text": []
    },
    {
     "name": "stdout",
     "output_type": "stream",
     "text": [
      "tensor([0.0000, 0.0000, 0.0000, 0.6667, 0.0000, 0.0000, 0.3333, 0.0000, 0.0000,\n",
      "        0.0000, 0.0000, 0.3333, 0.0000, 0.3333, 0.0000, 0.3333, 0.0000, 0.0000,\n",
      "        0.3333, 0.0000, 0.0000, 0.0000, 0.0000, 0.0000, 0.0000, 0.0000, 0.0000,\n",
      "        0.0000, 0.0000, 0.0000, 0.0000, 0.3333, 0.0000, 0.3333, 0.6667, 0.0000,\n",
      "        0.0000, 0.0000, 0.0000, 0.0000, 0.0000, 0.0000, 0.0000, 0.0000, 0.0000,\n",
      "        0.3333, 0.3333, 0.0000, 0.0000, 0.0000, 0.6667, 0.0000, 0.0000],\n",
      "       device='cuda:0')\n",
      "tensor([-0.4986, -0.4986, -0.4986,  3.0248, -0.4986, -0.4986,  1.2631, -0.4986,\n",
      "        -0.4986, -0.4986, -0.4986,  1.2631, -0.4986,  1.2631, -0.4986,  1.2631,\n",
      "        -0.4986, -0.4986,  1.2631, -0.4986, -0.4986, -0.4986, -0.4986, -0.4986,\n",
      "        -0.4986, -0.4986, -0.4986, -0.4986, -0.4986, -0.4986, -0.4986,  1.2631,\n",
      "        -0.4986,  1.2631,  3.0248, -0.4986, -0.4986, -0.4986, -0.4986, -0.4986,\n",
      "        -0.4986, -0.4986, -0.4986, -0.4986, -0.4986,  1.2631,  1.2631, -0.4986,\n",
      "        -0.4986, -0.4986,  3.0248, -0.4986, -0.4986], device='cuda:0')\n",
      "✅ Rewards: 0.0943\n",
      "✅ Loss: -0.0121\n",
      "-------Question---------\n",
      "In a truck, there are 26 pink hard hats, 15 green hard hats, and 24 yellow hard hats.  If Carl takes away 4 pink hard hats, and John takes away 6 pink hard hats and twice as many green hard hats as the number of pink hard hats that he removed, then calculate the total number of hard hats that remained in the truck.\n",
      "\n",
      "🧠 Inference Index 17\n",
      "🔍 Top-K Indices: [82, 66, 92, 3, 59, 83, 130, 196, 72, 204, 198, 157, 231, 19, 166, 187, 121, 240, 223, 101, 253, 154, 217, 80, 228, 152, 194, 145, 94, 20, 211, 230, 95, 179, 24, 8, 26, 56, 64, 128, 135, 124, 248, 91, 188, 243, 209, 86, 193, 246, 61, 158, 57]\n",
      "[INFO] Launching 159 parallel inference tasks...\n"
     ]
    },
    {
     "name": "stderr",
     "output_type": "stream",
     "text": []
    },
    {
     "name": "stdout",
     "output_type": "stream",
     "text": [
      "tensor([0.0000, 0.0000, 0.3333, 0.0000, 1.0000, 0.0000, 0.6667, 0.0000, 0.3333,\n",
      "        0.0000, 0.0000, 0.3333, 0.0000, 0.6667, 0.0000, 0.0000, 0.0000, 0.0000,\n",
      "        0.0000, 0.0000, 0.0000, 0.0000, 0.0000, 0.0000, 0.3333, 0.0000, 0.0000,\n",
      "        0.3333, 0.0000, 0.3333, 0.0000, 1.0000, 0.0000, 0.0000, 0.0000, 0.0000,\n",
      "        0.0000, 0.0000, 0.0000, 0.0000, 0.0000, 0.0000, 0.0000, 0.6667, 0.0000,\n",
      "        0.0000, 0.0000, 0.0000, 0.0000, 0.0000, 0.0000, 0.0000, 0.0000],\n",
      "       device='cuda:0')\n",
      "tensor([-0.4480, -0.4480,  0.8711, -0.4480,  3.5092, -0.4480,  2.1901, -0.4480,\n",
      "         0.8711, -0.4480, -0.4480,  0.8711, -0.4480,  2.1901, -0.4480, -0.4480,\n",
      "        -0.4480, -0.4480, -0.4480, -0.4480, -0.4480, -0.4480, -0.4480, -0.4480,\n",
      "         0.8711, -0.4480, -0.4480,  0.8711, -0.4480,  0.8711, -0.4480,  3.5092,\n",
      "        -0.4480, -0.4480, -0.4480, -0.4480, -0.4480, -0.4480, -0.4480, -0.4480,\n",
      "        -0.4480, -0.4480, -0.4480,  2.1901, -0.4480, -0.4480, -0.4480, -0.4480,\n",
      "        -0.4480, -0.4480, -0.4480, -0.4480, -0.4480], device='cuda:0')\n",
      "✅ Rewards: 0.1132\n",
      "✅ Loss: 0.0220\n",
      "-------Question---------\n",
      "It takes Roque two hours to walk to work and one hour to ride his bike to work. Roque walks to and from work three times a week and rides his bike to and from work twice a week. How many hours in total does he take to get to and from work a week with walking and biking?\n",
      "\n",
      "🧠 Inference Index 18\n",
      "🔍 Top-K Indices: [101, 200, 15, 111, 50, 0, 43, 72, 145, 207, 161, 94, 138, 102, 251, 118, 137, 18, 62, 91, 51, 55, 122, 181, 119, 150, 58, 237, 25, 130, 28, 159, 30, 198, 221, 142, 112, 215, 217, 151, 169, 9, 166, 85, 68, 163, 127, 133, 229, 230, 69, 147, 120]\n",
      "[INFO] Launching 159 parallel inference tasks...\n"
     ]
    },
    {
     "name": "stderr",
     "output_type": "stream",
     "text": []
    },
    {
     "name": "stdout",
     "output_type": "stream",
     "text": [
      "tensor([0.0000, 0.0000, 0.0000, 0.0000, 0.0000, 0.0000, 0.0000, 0.0000, 0.0000,\n",
      "        0.0000, 0.0000, 0.0000, 0.0000, 0.0000, 0.0000, 1.0000, 0.0000, 0.0000,\n",
      "        0.0000, 0.0000, 0.0000, 0.0000, 0.0000, 0.0000, 0.0000, 0.0000, 0.0000,\n",
      "        0.0000, 0.0000, 0.0000, 0.0000, 0.0000, 0.0000, 0.0000, 0.0000, 0.0000,\n",
      "        0.3333, 1.0000, 0.0000, 0.0000, 0.3333, 0.0000, 1.0000, 0.0000, 0.0000,\n",
      "        0.0000, 0.0000, 0.0000, 0.0000, 0.3333, 0.0000, 0.0000, 0.0000],\n",
      "       device='cuda:0')\n",
      "tensor([-0.3126, -0.3126, -0.3126, -0.3126, -0.3126, -0.3126, -0.3126, -0.3126,\n",
      "        -0.3126, -0.3126, -0.3126, -0.3126, -0.3126, -0.3126, -0.3126,  3.8291,\n",
      "        -0.3126, -0.3126, -0.3126, -0.3126, -0.3126, -0.3126, -0.3126, -0.3126,\n",
      "        -0.3126, -0.3126, -0.3126, -0.3126, -0.3126, -0.3126, -0.3126, -0.3126,\n",
      "        -0.3126, -0.3126, -0.3126, -0.3126,  1.0680,  3.8291, -0.3126, -0.3126,\n",
      "         1.0680, -0.3126,  3.8291, -0.3126, -0.3126, -0.3126, -0.3126, -0.3126,\n",
      "        -0.3126,  1.0680, -0.3126, -0.3126, -0.3126], device='cuda:0')\n",
      "✅ Rewards: 0.0755\n",
      "✅ Loss: -0.0520\n",
      "-------Question---------\n",
      "Tim rides his bike back and forth to work for each of his 5 workdays.  His work is 20 miles away.  He also goes for a weekend bike ride of 200 miles.    If he can bike at 25 mph how much time does he spend biking a week?\n",
      "\n",
      "🧠 Inference Index 19\n",
      "🔍 Top-K Indices: [197, 218, 101, 232, 91, 92, 25, 55, 2, 119, 198, 59, 3, 117, 237, 233, 228, 86, 159, 66, 81, 79, 32, 49, 253, 21, 77, 0, 172, 51, 93, 6, 235, 61, 226, 40, 206, 118, 56, 178, 137, 28, 224, 105, 157, 5, 37, 212, 156, 144, 140, 120, 175]\n",
      "[INFO] Launching 159 parallel inference tasks...\n"
     ]
    },
    {
     "name": "stderr",
     "output_type": "stream",
     "text": [
      "Examples: 100%|██████████| 20/20 [02:49<00:00,  8.49s/it]\n",
      "Training Steps:  70%|███████   | 7/10 [19:42<08:29, 169.85s/it]"
     ]
    },
    {
     "name": "stdout",
     "output_type": "stream",
     "text": [
      "tensor([0.0000, 0.0000, 0.0000, 0.0000, 0.0000, 1.0000, 0.6667, 0.0000, 0.3333,\n",
      "        0.3333, 0.3333, 0.0000, 1.0000, 0.0000, 0.3333, 0.0000, 0.3333, 0.0000,\n",
      "        1.0000, 0.3333, 0.6667, 0.0000, 1.0000, 0.3333, 0.6667, 0.3333, 0.0000,\n",
      "        0.3333, 0.0000, 0.0000, 0.0000, 0.3333, 0.3333, 0.0000, 0.0000, 1.0000,\n",
      "        0.6667, 0.3333, 0.3333, 0.0000, 0.6667, 1.0000, 0.0000, 0.3333, 0.0000,\n",
      "        0.0000, 0.6667, 0.3333, 0.0000, 0.0000, 0.3333, 0.0000, 0.6667],\n",
      "       device='cuda:0')\n",
      "tensor([-0.8844, -0.8844, -0.8844, -0.8844, -0.8844,  2.0452,  1.0687, -0.8844,\n",
      "         0.0921,  0.0921,  0.0921, -0.8844,  2.0452, -0.8844,  0.0921, -0.8844,\n",
      "         0.0921, -0.8844,  2.0452,  0.0921,  1.0687, -0.8844,  2.0452,  0.0921,\n",
      "         1.0687,  0.0921, -0.8844,  0.0921, -0.8844, -0.8844, -0.8844,  0.0921,\n",
      "         0.0921, -0.8844, -0.8844,  2.0452,  1.0687,  0.0921,  0.0921, -0.8844,\n",
      "         1.0687,  2.0452, -0.8844,  0.0921, -0.8844, -0.8844,  1.0687,  0.0921,\n",
      "        -0.8844, -0.8844,  0.0921, -0.8844,  1.0687], device='cuda:0')\n",
      "✅ Rewards: 0.3019\n",
      "✅ Loss: 0.0091\n",
      "\n",
      "=== Training Step 8 ===\n"
     ]
    },
    {
     "name": "stderr",
     "output_type": "stream",
     "text": []
    },
    {
     "name": "stdout",
     "output_type": "stream",
     "text": [
      "-------Question---------\n",
      "Natalia sold clips to 48 of her friends in April, and then she sold half as many clips in May. How many clips did Natalia sell altogether in April and May?\n",
      "\n",
      "🧠 Inference Index 0\n",
      "🔍 Top-K Indices: [85, 93, 40, 64, 147, 201, 156, 48, 145, 194, 136, 235, 227, 81, 232, 23, 153, 45, 204, 58, 224, 198, 65, 191, 91, 68, 159, 119, 210, 163, 135, 140, 0, 17, 109, 92, 215, 6, 221, 149, 213, 226, 7, 134, 75, 76, 172, 15, 139, 57, 105, 127, 95]\n",
      "[INFO] Launching 159 parallel inference tasks...\n"
     ]
    },
    {
     "name": "stderr",
     "output_type": "stream",
     "text": []
    },
    {
     "name": "stdout",
     "output_type": "stream",
     "text": [
      "tensor([1.0000, 1.0000, 1.0000, 1.0000, 1.0000, 1.0000, 1.0000, 0.6667, 1.0000,\n",
      "        0.3333, 0.3333, 1.0000, 1.0000, 1.0000, 1.0000, 0.3333, 1.0000, 1.0000,\n",
      "        1.0000, 1.0000, 1.0000, 1.0000, 1.0000, 1.0000, 0.6667, 1.0000, 1.0000,\n",
      "        1.0000, 0.6667, 1.0000, 0.6667, 1.0000, 1.0000, 1.0000, 1.0000, 1.0000,\n",
      "        1.0000, 1.0000, 1.0000, 1.0000, 1.0000, 0.6667, 1.0000, 1.0000, 1.0000,\n",
      "        1.0000, 0.3333, 1.0000, 1.0000, 0.0000, 1.0000, 1.0000, 0.0000],\n",
      "       device='cuda:0')\n",
      "tensor([ 0.4556,  0.4556,  0.4556,  0.4556,  0.4556,  0.4556,  0.4556, -0.8154,\n",
      "         0.4556, -2.0864, -2.0864,  0.4556,  0.4556,  0.4556,  0.4556, -2.0864,\n",
      "         0.4556,  0.4556,  0.4556,  0.4556,  0.4556,  0.4556,  0.4556,  0.4556,\n",
      "        -0.8154,  0.4556,  0.4556,  0.4556, -0.8154,  0.4556, -0.8154,  0.4556,\n",
      "         0.4556,  0.4556,  0.4556,  0.4556,  0.4556,  0.4556,  0.4556,  0.4556,\n",
      "         0.4556, -0.8154,  0.4556,  0.4556,  0.4556,  0.4556, -2.0864,  0.4556,\n",
      "         0.4556, -3.3574,  0.4556,  0.4556, -3.3574], device='cuda:0')\n",
      "✅ Rewards: 0.8805\n",
      "✅ Loss: -0.0489\n",
      "-------Question---------\n",
      "Weng earns $12 an hour for babysitting. Yesterday, she just did 50 minutes of babysitting. How much did she earn?\n",
      "\n",
      "🧠 Inference Index 1\n",
      "🔍 Top-K Indices: [157, 5, 232, 101, 64, 226, 151, 221, 18, 131, 145, 63, 152, 28, 119, 178, 147, 144, 85, 81, 95, 70, 156, 215, 71, 187, 1, 237, 80, 25, 112, 68, 105, 241, 251, 39, 213, 199, 220, 118, 57, 120, 219, 158, 86, 17, 84, 61, 51, 245, 235, 94, 55]\n",
      "[INFO] Launching 159 parallel inference tasks...\n"
     ]
    },
    {
     "name": "stderr",
     "output_type": "stream",
     "text": []
    },
    {
     "name": "stdout",
     "output_type": "stream",
     "text": [
      "tensor([1., 1., 1., 1., 1., 1., 1., 1., 1., 1., 1., 1., 1., 1., 1., 1., 1., 1.,\n",
      "        1., 1., 1., 1., 1., 1., 1., 1., 1., 1., 1., 1., 1., 1., 1., 1., 1., 1.,\n",
      "        1., 1., 1., 1., 1., 1., 1., 1., 1., 1., 1., 1., 1., 1., 1., 1., 1.],\n",
      "       device='cuda:0')\n",
      "tensor([0., 0., 0., 0., 0., 0., 0., 0., 0., 0., 0., 0., 0., 0., 0., 0., 0., 0., 0., 0., 0., 0., 0., 0.,\n",
      "        0., 0., 0., 0., 0., 0., 0., 0., 0., 0., 0., 0., 0., 0., 0., 0., 0., 0., 0., 0., 0., 0., 0., 0.,\n",
      "        0., 0., 0., 0., 0.], device='cuda:0')\n",
      "✅ Rewards: 1.0000\n",
      "✅ Loss: -0.0000\n",
      "-------Question---------\n",
      "Betty is saving money for a new wallet which costs $100. Betty has only half of the money she needs. Her parents decided to give her $15 for that purpose, and her grandparents twice as much as her parents. How much more money does Betty need to buy the wallet?\n",
      "\n",
      "🧠 Inference Index 2\n",
      "🔍 Top-K Indices: [112, 105, 156, 38, 67, 77, 198, 5, 25, 110, 73, 187, 59, 71, 232, 231, 70, 222, 72, 43, 91, 237, 2, 248, 211, 8, 23, 136, 40, 64, 14, 159, 228, 203, 30, 103, 145, 242, 61, 221, 16, 200, 130, 178, 119, 80, 157, 163, 235, 94, 108, 204, 104]\n",
      "[INFO] Launching 159 parallel inference tasks...\n"
     ]
    },
    {
     "name": "stderr",
     "output_type": "stream",
     "text": []
    },
    {
     "name": "stdout",
     "output_type": "stream",
     "text": [
      "tensor([1.0000, 1.0000, 1.0000, 1.0000, 1.0000, 0.3333, 1.0000, 1.0000, 0.3333,\n",
      "        1.0000, 1.0000, 1.0000, 1.0000, 0.0000, 0.0000, 1.0000, 1.0000, 1.0000,\n",
      "        1.0000, 1.0000, 0.6667, 0.0000, 0.3333, 1.0000, 1.0000, 1.0000, 1.0000,\n",
      "        0.6667, 1.0000, 1.0000, 0.0000, 1.0000, 1.0000, 1.0000, 0.3333, 1.0000,\n",
      "        1.0000, 1.0000, 1.0000, 1.0000, 0.6667, 0.3333, 0.3333, 1.0000, 1.0000,\n",
      "        1.0000, 1.0000, 1.0000, 1.0000, 1.0000, 1.0000, 0.6667, 0.3333],\n",
      "       device='cuda:0')\n",
      "tensor([ 0.5715,  0.5715,  0.5715,  0.5715,  0.5715, -1.4477,  0.5715,  0.5715,\n",
      "        -1.4477,  0.5715,  0.5715,  0.5715,  0.5715, -2.4573, -2.4573,  0.5715,\n",
      "         0.5715,  0.5715,  0.5715,  0.5715, -0.4381, -2.4573, -1.4477,  0.5715,\n",
      "         0.5715,  0.5715,  0.5715, -0.4381,  0.5715,  0.5715, -2.4573,  0.5715,\n",
      "         0.5715,  0.5715, -1.4477,  0.5715,  0.5715,  0.5715,  0.5715,  0.5715,\n",
      "        -0.4381, -1.4477, -1.4477,  0.5715,  0.5715,  0.5715,  0.5715,  0.5715,\n",
      "         0.5715,  0.5715,  0.5715, -0.4381, -1.4477], device='cuda:0')\n",
      "✅ Rewards: 0.8113\n",
      "✅ Loss: 0.0201\n",
      "-------Question---------\n",
      "Julie is reading a 120-page book. Yesterday, she was able to read 12 pages and today, she read twice as many pages as yesterday. If she wants to read half of the remaining pages tomorrow, how many pages should she read?\n",
      "\n",
      "🧠 Inference Index 3\n",
      "🔍 Top-K Indices: [228, 23, 16, 253, 204, 238, 102, 43, 197, 145, 5, 90, 140, 95, 233, 26, 81, 14, 59, 161, 188, 55, 237, 61, 40, 13, 48, 86, 85, 36, 121, 72, 53, 64, 187, 50, 155, 7, 91, 147, 156, 159, 229, 219, 152, 93, 82, 28, 109, 119, 211, 22, 92]\n",
      "[INFO] Launching 159 parallel inference tasks...\n"
     ]
    },
    {
     "name": "stderr",
     "output_type": "stream",
     "text": []
    },
    {
     "name": "stdout",
     "output_type": "stream",
     "text": [
      "tensor([0.0000, 0.0000, 0.0000, 0.0000, 0.0000, 0.0000, 0.0000, 0.0000, 0.0000,\n",
      "        0.0000, 0.0000, 0.0000, 0.0000, 0.0000, 0.0000, 0.0000, 0.0000, 0.0000,\n",
      "        0.0000, 0.0000, 0.0000, 0.0000, 0.0000, 0.0000, 0.0000, 0.0000, 0.0000,\n",
      "        0.0000, 0.0000, 0.0000, 0.0000, 0.0000, 0.0000, 0.0000, 0.0000, 0.3333,\n",
      "        0.0000, 0.0000, 0.0000, 0.0000, 0.0000, 0.0000, 0.0000, 0.0000, 0.0000,\n",
      "        0.0000, 0.0000, 0.0000, 0.0000, 0.3333, 0.0000, 0.0000, 0.0000],\n",
      "       device='cuda:0')\n",
      "tensor([-0.1962, -0.1962, -0.1962, -0.1962, -0.1962, -0.1962, -0.1962, -0.1962,\n",
      "        -0.1962, -0.1962, -0.1962, -0.1962, -0.1962, -0.1962, -0.1962, -0.1962,\n",
      "        -0.1962, -0.1962, -0.1962, -0.1962, -0.1962, -0.1962, -0.1962, -0.1962,\n",
      "        -0.1962, -0.1962, -0.1962, -0.1962, -0.1962, -0.1962, -0.1962, -0.1962,\n",
      "        -0.1962, -0.1962, -0.1962,  5.0019, -0.1962, -0.1962, -0.1962, -0.1962,\n",
      "        -0.1962, -0.1962, -0.1962, -0.1962, -0.1962, -0.1962, -0.1962, -0.1962,\n",
      "        -0.1962,  5.0019, -0.1962, -0.1962, -0.1962], device='cuda:0')\n",
      "✅ Rewards: 0.0126\n",
      "✅ Loss: 0.0473\n",
      "-------Question---------\n",
      "James writes a 3-page letter to 2 different friends twice a week.  How many pages does he write a year?\n",
      "\n",
      "🧠 Inference Index 4\n",
      "🔍 Top-K Indices: [93, 13, 103, 249, 145, 88, 162, 182, 64, 221, 30, 76, 3, 117, 196, 134, 5, 19, 206, 188, 63, 253, 99, 149, 225, 14, 112, 164, 119, 66, 194, 81, 173, 77, 18, 169, 69, 200, 75, 222, 110, 8, 151, 159, 140, 208, 72, 25, 172, 24, 184, 12, 244]\n",
      "[INFO] Launching 159 parallel inference tasks...\n"
     ]
    },
    {
     "name": "stderr",
     "output_type": "stream",
     "text": []
    },
    {
     "name": "stdout",
     "output_type": "stream",
     "text": [
      "tensor([0.3333, 0.0000, 0.0000, 0.0000, 1.0000, 0.0000, 0.0000, 0.6667, 0.0000,\n",
      "        0.0000, 0.0000, 0.3333, 0.3333, 0.0000, 0.0000, 0.3333, 0.0000, 0.0000,\n",
      "        0.0000, 0.0000, 0.0000, 0.3333, 1.0000, 0.6667, 0.0000, 0.0000, 0.0000,\n",
      "        0.0000, 0.0000, 1.0000, 1.0000, 0.0000, 0.0000, 0.0000, 0.0000, 0.0000,\n",
      "        0.0000, 0.3333, 0.6667, 0.0000, 0.0000, 0.0000, 0.0000, 0.0000, 0.0000,\n",
      "        0.0000, 0.0000, 0.0000, 0.0000, 1.0000, 0.0000, 0.0000, 0.0000],\n",
      "       device='cuda:0')\n",
      "tensor([ 0.5041, -0.5235, -0.5235, -0.5235,  2.5593, -0.5235, -0.5235,  1.5317,\n",
      "        -0.5235, -0.5235, -0.5235,  0.5041,  0.5041, -0.5235, -0.5235,  0.5041,\n",
      "        -0.5235, -0.5235, -0.5235, -0.5235, -0.5235,  0.5041,  2.5593,  1.5317,\n",
      "        -0.5235, -0.5235, -0.5235, -0.5235, -0.5235,  2.5593,  2.5593, -0.5235,\n",
      "        -0.5235, -0.5235, -0.5235, -0.5235, -0.5235,  0.5041,  1.5317, -0.5235,\n",
      "        -0.5235, -0.5235, -0.5235, -0.5235, -0.5235, -0.5235, -0.5235, -0.5235,\n",
      "        -0.5235,  2.5593, -0.5235, -0.5235, -0.5235], device='cuda:0')\n",
      "✅ Rewards: 0.1698\n",
      "✅ Loss: 0.0079\n",
      "-------Question---------\n",
      "Mark has a garden with flowers. He planted plants of three different colors in it. Ten of them are yellow, and there are 80% more of those in purple. There are only 25% as many green flowers as there are yellow and purple flowers. How many flowers does Mark have in his garden?\n",
      "\n",
      "🧠 Inference Index 5\n",
      "🔍 Top-K Indices: [98, 235, 204, 218, 176, 2, 239, 254, 178, 96, 188, 15, 0, 203, 219, 240, 234, 207, 120, 105, 186, 139, 129, 51, 127, 82, 209, 141, 253, 30, 194, 102, 67, 180, 215, 84, 233, 135, 52, 35, 92, 246, 137, 37, 166, 153, 170, 158, 181, 91, 133, 247, 72]\n",
      "[INFO] Launching 159 parallel inference tasks...\n"
     ]
    },
    {
     "name": "stderr",
     "output_type": "stream",
     "text": []
    },
    {
     "name": "stdout",
     "output_type": "stream",
     "text": [
      "tensor([0.0000, 0.3333, 0.0000, 1.0000, 1.0000, 0.0000, 1.0000, 0.0000, 0.3333,\n",
      "        1.0000, 0.0000, 0.0000, 1.0000, 0.3333, 0.0000, 0.0000, 1.0000, 0.0000,\n",
      "        0.0000, 0.0000, 0.0000, 0.3333, 0.0000, 0.0000, 1.0000, 0.0000, 0.0000,\n",
      "        0.3333, 1.0000, 0.0000, 0.3333, 0.0000, 0.0000, 0.0000, 0.0000, 1.0000,\n",
      "        0.0000, 0.3333, 0.6667, 0.3333, 0.0000, 0.0000, 0.0000, 0.0000, 0.0000,\n",
      "        0.0000, 0.0000, 0.0000, 0.0000, 0.0000, 0.0000, 0.0000, 0.0000],\n",
      "       device='cuda:0')\n",
      "tensor([-0.6142,  0.2656, -0.6142,  2.0253,  2.0253, -0.6142,  2.0253, -0.6142,\n",
      "         0.2656,  2.0253, -0.6142, -0.6142,  2.0253,  0.2656, -0.6142, -0.6142,\n",
      "         2.0253, -0.6142, -0.6142, -0.6142, -0.6142,  0.2656, -0.6142, -0.6142,\n",
      "         2.0253, -0.6142, -0.6142,  0.2656,  2.0253, -0.6142,  0.2656, -0.6142,\n",
      "        -0.6142, -0.6142, -0.6142,  2.0253, -0.6142,  0.2656,  1.1455,  0.2656,\n",
      "        -0.6142, -0.6142, -0.6142, -0.6142, -0.6142, -0.6142, -0.6142, -0.6142,\n",
      "        -0.6142, -0.6142, -0.6142, -0.6142, -0.6142], device='cuda:0')\n",
      "✅ Rewards: 0.2327\n",
      "✅ Loss: -0.0137\n",
      "-------Question---------\n",
      "Albert is wondering how much pizza he can eat in one day. He buys 2 large pizzas and 2 small pizzas. A large pizza has 16 slices and a small pizza has 8 slices. If he eats it all, how many pieces does he eat that day?\n",
      "\n",
      "🧠 Inference Index 6\n",
      "🔍 Top-K Indices: [76, 30, 144, 115, 29, 196, 13, 228, 69, 149, 101, 103, 82, 109, 151, 251, 159, 181, 208, 64, 93, 96, 97, 25, 217, 250, 201, 98, 55, 203, 161, 215, 65, 136, 146, 118, 42, 134, 43, 232, 163, 117, 230, 51, 90, 77, 45, 188, 235, 204, 14, 50, 219]\n",
      "[INFO] Launching 159 parallel inference tasks...\n"
     ]
    },
    {
     "name": "stderr",
     "output_type": "stream",
     "text": []
    },
    {
     "name": "stdout",
     "output_type": "stream",
     "text": [
      "tensor([1.0000, 1.0000, 1.0000, 0.6667, 0.6667, 0.6667, 1.0000, 0.6667, 1.0000,\n",
      "        1.0000, 1.0000, 1.0000, 1.0000, 1.0000, 1.0000, 1.0000, 1.0000, 0.3333,\n",
      "        1.0000, 1.0000, 0.3333, 1.0000, 1.0000, 1.0000, 0.3333, 1.0000, 0.6667,\n",
      "        0.0000, 1.0000, 1.0000, 1.0000, 1.0000, 1.0000, 1.0000, 1.0000, 1.0000,\n",
      "        0.6667, 1.0000, 1.0000, 1.0000, 0.3333, 1.0000, 0.0000, 1.0000, 0.3333,\n",
      "        1.0000, 1.0000, 1.0000, 1.0000, 1.0000, 1.0000, 1.0000, 0.6667],\n",
      "       device='cuda:0')\n",
      "tensor([ 0.5288,  0.5288,  0.5288, -0.6898, -0.6898, -0.6898,  0.5288, -0.6898,\n",
      "         0.5288,  0.5288,  0.5288,  0.5288,  0.5288,  0.5288,  0.5288,  0.5288,\n",
      "         0.5288, -1.9083,  0.5288,  0.5288, -1.9083,  0.5288,  0.5288,  0.5288,\n",
      "        -1.9083,  0.5288, -0.6898, -3.1269,  0.5288,  0.5288,  0.5288,  0.5288,\n",
      "         0.5288,  0.5288,  0.5288,  0.5288, -0.6898,  0.5288,  0.5288,  0.5288,\n",
      "        -1.9083,  0.5288, -3.1269,  0.5288, -1.9083,  0.5288,  0.5288,  0.5288,\n",
      "         0.5288,  0.5288,  0.5288,  0.5288, -0.6898], device='cuda:0')\n",
      "✅ Rewards: 0.8553\n",
      "✅ Loss: 0.0147\n",
      "-------Question---------\n",
      "Ken created a care package to send to his brother, who was away at boarding school.  Ken placed a box on a scale, and then he poured into the box enough jelly beans to bring the weight to 2 pounds.  Then, he added enough brownies to cause the weight to triple.  Next, he added another 2 pounds of jelly beans.  And finally, he added enough gummy worms to double the weight once again.  What was the final weight of the box of goodies, in pounds?\n",
      "\n",
      "🧠 Inference Index 7\n",
      "🔍 Top-K Indices: [60, 234, 7, 226, 24, 26, 100, 171, 174, 230, 204, 138, 116, 142, 193, 115, 238, 89, 98, 23, 246, 66, 130, 58, 90, 248, 218, 96, 72, 152, 79, 229, 11, 94, 80, 76, 97, 233, 135, 117, 114, 211, 16, 30, 236, 36, 133, 108, 232, 39, 53, 237, 207]\n",
      "[INFO] Launching 159 parallel inference tasks...\n"
     ]
    },
    {
     "name": "stderr",
     "output_type": "stream",
     "text": []
    },
    {
     "name": "stdout",
     "output_type": "stream",
     "text": [
      "tensor([0.0000, 0.0000, 0.0000, 0.6667, 0.0000, 0.3333, 0.0000, 0.3333, 0.3333,\n",
      "        0.3333, 0.0000, 0.0000, 0.0000, 0.3333, 0.0000, 0.0000, 0.3333, 0.0000,\n",
      "        0.0000, 0.0000, 0.0000, 0.3333, 0.3333, 0.0000, 0.0000, 1.0000, 0.0000,\n",
      "        0.6667, 0.6667, 0.0000, 0.3333, 0.3333, 0.0000, 0.6667, 0.3333, 0.3333,\n",
      "        0.0000, 0.6667, 1.0000, 0.3333, 0.6667, 0.0000, 0.3333, 0.0000, 0.0000,\n",
      "        0.0000, 0.0000, 0.3333, 0.0000, 0.3333, 0.0000, 0.0000, 0.0000],\n",
      "       device='cuda:0')\n",
      "tensor([-0.7690, -0.7690, -0.7690,  1.6284, -0.7690,  0.4297, -0.7690,  0.4297,\n",
      "         0.4297,  0.4297, -0.7690, -0.7690, -0.7690,  0.4297, -0.7690, -0.7690,\n",
      "         0.4297, -0.7690, -0.7690, -0.7690, -0.7690,  0.4297,  0.4297, -0.7690,\n",
      "        -0.7690,  2.8272, -0.7690,  1.6284,  1.6284, -0.7690,  0.4297,  0.4297,\n",
      "        -0.7690,  1.6284,  0.4297,  0.4297, -0.7690,  1.6284,  2.8272,  0.4297,\n",
      "         1.6284, -0.7690,  0.4297, -0.7690, -0.7690, -0.7690, -0.7690,  0.4297,\n",
      "        -0.7690,  0.4297, -0.7690, -0.7690, -0.7690], device='cuda:0')\n",
      "✅ Rewards: 0.2138\n",
      "✅ Loss: 0.0461\n",
      "-------Question---------\n",
      "Alexis is applying for a new job and bought a new set of business clothes to wear to the interview. She went to a department store with a budget of $200 and spent $30 on a button-up shirt, $46 on suit pants, $38 on a suit coat, $11 on socks, and $18 on a belt. She also purchased a pair of shoes, but lost the receipt for them. She has $16 left from her budget. How much did Alexis pay for the shoes?\n",
      "\n",
      "🧠 Inference Index 8\n",
      "🔍 Top-K Indices: [233, 98, 58, 12, 193, 115, 152, 8, 218, 161, 215, 147, 251, 23, 130, 76, 141, 75, 43, 97, 207, 40, 44, 128, 194, 96, 94, 144, 139, 53, 30, 79, 155, 160, 230, 39, 116, 6, 26, 36, 56, 73, 235, 92, 65, 181, 252, 136, 95, 72, 197, 182, 249]\n",
      "[INFO] Launching 159 parallel inference tasks...\n"
     ]
    },
    {
     "name": "stderr",
     "output_type": "stream",
     "text": []
    },
    {
     "name": "stdout",
     "output_type": "stream",
     "text": [
      "tensor([1.0000, 1.0000, 1.0000, 0.0000, 1.0000, 1.0000, 1.0000, 0.6667, 0.6667,\n",
      "        0.3333, 0.6667, 1.0000, 1.0000, 1.0000, 1.0000, 1.0000, 1.0000, 0.0000,\n",
      "        1.0000, 1.0000, 0.3333, 1.0000, 0.3333, 0.3333, 1.0000, 0.0000, 0.0000,\n",
      "        0.0000, 0.6667, 1.0000, 0.6667, 1.0000, 1.0000, 0.0000, 1.0000, 0.6667,\n",
      "        1.0000, 1.0000, 0.3333, 1.0000, 1.0000, 0.6667, 1.0000, 0.0000, 0.0000,\n",
      "        1.0000, 0.6667, 0.6667, 1.0000, 1.0000, 1.0000, 0.0000, 1.0000],\n",
      "       device='cuda:0')\n",
      "tensor([ 0.7477,  0.7477,  0.7477, -1.8366,  0.7477,  0.7477,  0.7477, -0.1138,\n",
      "        -0.1138, -0.9752, -0.1138,  0.7477,  0.7477,  0.7477,  0.7477,  0.7477,\n",
      "         0.7477, -1.8366,  0.7477,  0.7477, -0.9752,  0.7477, -0.9752, -0.9752,\n",
      "         0.7477, -1.8366, -1.8366, -1.8366, -0.1138,  0.7477, -0.1138,  0.7477,\n",
      "         0.7477, -1.8366,  0.7477, -0.1138,  0.7477,  0.7477, -0.9752,  0.7477,\n",
      "         0.7477, -0.1138,  0.7477, -1.8366, -1.8366,  0.7477, -0.1138, -0.1138,\n",
      "         0.7477,  0.7477,  0.7477, -1.8366,  0.7477], device='cuda:0')\n",
      "✅ Rewards: 0.7107\n",
      "✅ Loss: -0.0288\n",
      "-------Question---------\n",
      "Tina makes $18.00 an hour.  If she works more than 8 hours per shift, she is eligible for overtime, which is paid by your hourly wage + 1/2 your hourly wage.  If she works 10 hours every day for 5 days, how much money does she make?\n",
      "\n",
      "🧠 Inference Index 9\n",
      "🔍 Top-K Indices: [203, 235, 206, 23, 228, 210, 222, 122, 158, 69, 56, 152, 88, 204, 211, 217, 63, 201, 30, 254, 58, 38, 4, 202, 218, 246, 145, 55, 161, 212, 18, 177, 149, 59, 6, 100, 226, 92, 87, 175, 120, 164, 101, 196, 167, 248, 207, 86, 80, 10, 36, 11, 77]\n",
      "[INFO] Launching 159 parallel inference tasks...\n"
     ]
    },
    {
     "name": "stderr",
     "output_type": "stream",
     "text": []
    },
    {
     "name": "stdout",
     "output_type": "stream",
     "text": [
      "tensor([0., 0., 0., 0., 0., 0., 0., 0., 0., 0., 0., 0., 0., 0., 0., 0., 0., 0., 0., 0., 0., 0., 0., 0.,\n",
      "        0., 0., 0., 0., 0., 0., 0., 0., 0., 0., 0., 0., 0., 0., 0., 0., 0., 0., 0., 0., 0., 0., 0., 0.,\n",
      "        0., 0., 0., 0., 0.], device='cuda:0')\n",
      "tensor([0., 0., 0., 0., 0., 0., 0., 0., 0., 0., 0., 0., 0., 0., 0., 0., 0., 0., 0., 0., 0., 0., 0., 0.,\n",
      "        0., 0., 0., 0., 0., 0., 0., 0., 0., 0., 0., 0., 0., 0., 0., 0., 0., 0., 0., 0., 0., 0., 0., 0.,\n",
      "        0., 0., 0., 0., 0.], device='cuda:0')\n",
      "✅ Rewards: 0.0000\n",
      "✅ Loss: -0.0000\n",
      "-------Question---------\n",
      "A deep-sea monster rises from the waters once every hundred years to feast on a ship and sate its hunger. Over three hundred years, it has consumed 847 people. Ships have been built larger over time, so each new ship has twice as many people as the last ship. How many people were on the ship the monster ate in the first hundred years?\n",
      "\n",
      "🧠 Inference Index 10\n",
      "🔍 Top-K Indices: [115, 234, 138, 60, 218, 7, 165, 204, 216, 11, 211, 246, 96, 228, 230, 139, 226, 130, 3, 224, 143, 236, 100, 174, 178, 80, 70, 77, 31, 148, 16, 53, 195, 210, 8, 27, 160, 13, 190, 242, 66, 58, 229, 231, 135, 193, 43, 184, 2, 222, 106, 126, 149]\n",
      "[INFO] Launching 159 parallel inference tasks...\n"
     ]
    },
    {
     "name": "stderr",
     "output_type": "stream",
     "text": []
    },
    {
     "name": "stdout",
     "output_type": "stream",
     "text": [
      "tensor([0.0000, 0.0000, 0.0000, 0.0000, 0.0000, 0.3333, 0.0000, 0.0000, 0.0000,\n",
      "        0.0000, 0.0000, 0.0000, 0.0000, 0.0000, 0.0000, 0.0000, 0.0000, 0.0000,\n",
      "        0.0000, 0.0000, 0.0000, 0.0000, 0.3333, 0.0000, 0.0000, 0.0000, 0.0000,\n",
      "        0.3333, 0.0000, 0.0000, 0.0000, 0.0000, 0.0000, 0.0000, 0.0000, 0.0000,\n",
      "        0.3333, 0.0000, 0.0000, 0.0000, 0.0000, 0.0000, 0.0000, 0.0000, 0.0000,\n",
      "        0.0000, 0.0000, 0.0000, 0.0000, 0.0000, 0.0000, 0.0000, 0.0000],\n",
      "       device='cuda:0')\n",
      "tensor([-0.2830, -0.2830, -0.2830, -0.2830, -0.2830,  3.4668, -0.2830, -0.2830,\n",
      "        -0.2830, -0.2830, -0.2830, -0.2830, -0.2830, -0.2830, -0.2830, -0.2830,\n",
      "        -0.2830, -0.2830, -0.2830, -0.2830, -0.2830, -0.2830,  3.4668, -0.2830,\n",
      "        -0.2830, -0.2830, -0.2830,  3.4668, -0.2830, -0.2830, -0.2830, -0.2830,\n",
      "        -0.2830, -0.2830, -0.2830, -0.2830,  3.4668, -0.2830, -0.2830, -0.2830,\n",
      "        -0.2830, -0.2830, -0.2830, -0.2830, -0.2830, -0.2830, -0.2830, -0.2830,\n",
      "        -0.2830, -0.2830, -0.2830, -0.2830, -0.2830], device='cuda:0')\n",
      "✅ Rewards: 0.0252\n",
      "✅ Loss: -0.0252\n",
      "-------Question---------\n",
      "Tobias is buying a new pair of shoes that costs $95. He has been saving up his money each month for the past three months. He gets a $5 allowance a month. He also mows lawns and shovels driveways. He charges $15 to mow a lawn and $7 to shovel. After buying the shoes, he has $15 in change. If he mows 4 lawns, how many driveways did he shovel?\n",
      "\n",
      "🧠 Inference Index 11\n",
      "🔍 Top-K Indices: [253, 91, 198, 127, 8, 248, 170, 163, 49, 238, 30, 58, 205, 95, 105, 59, 243, 143, 177, 77, 186, 53, 23, 64, 102, 6, 237, 240, 55, 65, 162, 9, 38, 15, 161, 138, 235, 171, 7, 85, 97, 26, 73, 89, 210, 66, 14, 234, 254, 82, 122, 22, 75]\n",
      "[INFO] Launching 159 parallel inference tasks...\n"
     ]
    },
    {
     "name": "stderr",
     "output_type": "stream",
     "text": []
    },
    {
     "name": "stdout",
     "output_type": "stream",
     "text": [
      "tensor([0.0000, 0.0000, 0.0000, 0.0000, 0.0000, 0.0000, 0.0000, 0.0000, 0.0000,\n",
      "        0.0000, 0.0000, 0.0000, 0.0000, 0.0000, 0.0000, 0.0000, 0.0000, 0.0000,\n",
      "        0.0000, 0.0000, 0.0000, 0.0000, 0.0000, 0.0000, 0.0000, 0.0000, 0.0000,\n",
      "        0.0000, 0.0000, 0.3333, 0.0000, 0.0000, 0.0000, 0.0000, 0.0000, 0.0000,\n",
      "        0.0000, 0.0000, 0.0000, 0.3333, 0.0000, 1.0000, 0.0000, 0.0000, 0.0000,\n",
      "        0.0000, 0.0000, 0.0000, 0.0000, 0.0000, 0.0000, 0.0000, 0.0000],\n",
      "       device='cuda:0')\n",
      "tensor([-0.2097, -0.2097, -0.2097, -0.2097, -0.2097, -0.2097, -0.2097, -0.2097,\n",
      "        -0.2097, -0.2097, -0.2097, -0.2097, -0.2097, -0.2097, -0.2097, -0.2097,\n",
      "        -0.2097, -0.2097, -0.2097, -0.2097, -0.2097, -0.2097, -0.2097, -0.2097,\n",
      "        -0.2097, -0.2097, -0.2097, -0.2097, -0.2097,  2.0127, -0.2097, -0.2097,\n",
      "        -0.2097, -0.2097, -0.2097, -0.2097, -0.2097, -0.2097, -0.2097,  2.0127,\n",
      "        -0.2097,  6.4575, -0.2097, -0.2097, -0.2097, -0.2097, -0.2097, -0.2097,\n",
      "        -0.2097, -0.2097, -0.2097, -0.2097, -0.2097], device='cuda:0')\n",
      "✅ Rewards: 0.0314\n",
      "✅ Loss: 0.0035\n",
      "-------Question---------\n",
      "Randy has 60 mango trees on his farm. He also has 5 less than half as many coconut trees as mango trees. How many trees does Randy have in all on his farm?\n",
      "\n",
      "🧠 Inference Index 12\n",
      "🔍 Top-K Indices: [64, 213, 112, 228, 39, 184, 154, 2, 171, 211, 18, 145, 49, 136, 231, 198, 195, 139, 169, 134, 248, 206, 223, 148, 57, 75, 218, 29, 115, 232, 180, 105, 219, 23, 51, 68, 19, 50, 142, 196, 88, 162, 25, 38, 253, 3, 141, 63, 135, 161, 54, 203, 121]\n",
      "[INFO] Launching 159 parallel inference tasks...\n"
     ]
    },
    {
     "name": "stderr",
     "output_type": "stream",
     "text": []
    },
    {
     "name": "stdout",
     "output_type": "stream",
     "text": [
      "tensor([0.0000, 1.0000, 1.0000, 0.0000, 0.0000, 1.0000, 0.0000, 0.0000, 1.0000,\n",
      "        0.3333, 0.3333, 1.0000, 0.6667, 0.3333, 0.3333, 0.0000, 1.0000, 0.0000,\n",
      "        0.0000, 0.6667, 0.0000, 0.3333, 1.0000, 1.0000, 0.0000, 0.0000, 0.6667,\n",
      "        0.0000, 1.0000, 1.0000, 0.6667, 0.3333, 0.6667, 0.0000, 0.6667, 0.6667,\n",
      "        0.0000, 1.0000, 0.3333, 0.0000, 0.0000, 0.0000, 1.0000, 1.0000, 0.6667,\n",
      "        1.0000, 1.0000, 1.0000, 0.0000, 1.0000, 1.0000, 0.3333, 0.3333],\n",
      "       device='cuda:0')\n",
      "tensor([-1.1642,  1.1789,  1.1789, -1.1642, -1.1642,  1.1789, -1.1642, -1.1642,\n",
      "         1.1789, -0.3831, -0.3831,  1.1789,  0.3979, -0.3831, -0.3831, -1.1642,\n",
      "         1.1789, -1.1642, -1.1642,  0.3979, -1.1642, -0.3831,  1.1789,  1.1789,\n",
      "        -1.1642, -1.1642,  0.3979, -1.1642,  1.1789,  1.1789,  0.3979, -0.3831,\n",
      "         0.3979, -1.1642,  0.3979,  0.3979, -1.1642,  1.1789, -0.3831, -1.1642,\n",
      "        -1.1642, -1.1642,  1.1789,  1.1789,  0.3979,  1.1789,  1.1789,  1.1789,\n",
      "        -1.1642,  1.1789,  1.1789, -0.3831, -0.3831], device='cuda:0')\n",
      "✅ Rewards: 0.4969\n",
      "✅ Loss: -0.0253\n",
      "-------Question---------\n",
      "Jasper will serve charcuterie at his dinner party. He buys 2 pounds of cheddar cheese for $10, a pound of cream cheese that cost half the price of the cheddar cheese, and a pack of cold cuts that cost twice the price of the cheddar cheese. How much does he spend on the ingredients?\n",
      "\n",
      "🧠 Inference Index 13\n",
      "🔍 Top-K Indices: [60, 23, 205, 8, 198, 234, 76, 53, 94, 43, 59, 226, 65, 84, 66, 2, 40, 152, 165, 74, 241, 233, 157, 237, 159, 6, 253, 118, 155, 57, 236, 178, 71, 185, 73, 210, 207, 28, 97, 116, 136, 211, 54, 247, 121, 58, 69, 151, 86, 110, 26, 230, 191]\n",
      "[INFO] Launching 159 parallel inference tasks...\n"
     ]
    },
    {
     "name": "stderr",
     "output_type": "stream",
     "text": []
    },
    {
     "name": "stdout",
     "output_type": "stream",
     "text": [
      "tensor([0.0000, 0.0000, 0.0000, 0.6667, 0.0000, 0.0000, 0.0000, 0.0000, 0.3333,\n",
      "        0.0000, 0.0000, 0.0000, 0.0000, 0.0000, 0.0000, 0.0000, 0.0000, 0.0000,\n",
      "        0.0000, 0.0000, 0.0000, 0.0000, 0.0000, 0.0000, 0.0000, 0.0000, 0.0000,\n",
      "        0.0000, 0.0000, 0.0000, 0.0000, 0.0000, 0.0000, 0.0000, 1.0000, 0.0000,\n",
      "        0.0000, 0.0000, 0.0000, 0.0000, 0.0000, 0.0000, 0.0000, 0.0000, 0.0000,\n",
      "        0.0000, 0.0000, 0.0000, 0.0000, 0.0000, 1.0000, 0.0000, 0.0000],\n",
      "       device='cuda:0')\n",
      "tensor([-0.2643, -0.2643, -0.2643,  2.8482, -0.2643, -0.2643, -0.2643, -0.2643,\n",
      "         1.2919, -0.2643, -0.2643, -0.2643, -0.2643, -0.2643, -0.2643, -0.2643,\n",
      "        -0.2643, -0.2643, -0.2643, -0.2643, -0.2643, -0.2643, -0.2643, -0.2643,\n",
      "        -0.2643, -0.2643, -0.2643, -0.2643, -0.2643, -0.2643, -0.2643, -0.2643,\n",
      "        -0.2643, -0.2643,  4.4044, -0.2643, -0.2643, -0.2643, -0.2643, -0.2643,\n",
      "        -0.2643, -0.2643, -0.2643, -0.2643, -0.2643, -0.2643, -0.2643, -0.2643,\n",
      "        -0.2643, -0.2643,  4.4044, -0.2643, -0.2643], device='cuda:0')\n",
      "✅ Rewards: 0.0566\n",
      "✅ Loss: 0.0282\n",
      "-------Question---------\n",
      "Joy can read 8 pages of a book in 20 minutes. How many hours will it take her to read 120 pages?\n",
      "\n",
      "🧠 Inference Index 14\n",
      "🔍 Top-K Indices: [93, 3, 59, 112, 228, 105, 221, 77, 86, 2, 204, 120, 157, 4, 140, 232, 6, 102, 129, 237, 91, 94, 92, 87, 238, 223, 149, 161, 160, 88, 25, 99, 76, 162, 211, 182, 48, 118, 83, 156, 130, 153, 51, 145, 220, 55, 1, 101, 50, 179, 64, 104, 89]\n",
      "[INFO] Launching 159 parallel inference tasks...\n"
     ]
    },
    {
     "name": "stderr",
     "output_type": "stream",
     "text": []
    },
    {
     "name": "stdout",
     "output_type": "stream",
     "text": [
      "tensor([0.0000, 1.0000, 0.3333, 0.0000, 1.0000, 0.6667, 0.6667, 1.0000, 0.0000,\n",
      "        0.0000, 0.6667, 1.0000, 0.0000, 0.6667, 0.0000, 0.0000, 0.0000, 0.6667,\n",
      "        0.0000, 0.0000, 0.0000, 0.0000, 0.0000, 0.0000, 0.0000, 0.0000, 0.0000,\n",
      "        0.6667, 0.6667, 0.0000, 0.0000, 0.0000, 0.0000, 0.0000, 0.0000, 0.0000,\n",
      "        0.0000, 0.0000, 0.0000, 0.0000, 1.0000, 0.0000, 0.0000, 0.3333, 0.0000,\n",
      "        0.0000, 0.3333, 1.0000, 0.6667, 0.0000, 1.0000, 0.6667, 1.0000],\n",
      "       device='cuda:0')\n",
      "tensor([-0.7176,  1.8180,  0.1276, -0.7176,  1.8180,  0.9728,  0.9728,  1.8180,\n",
      "        -0.7176, -0.7176,  0.9728,  1.8180, -0.7176,  0.9728, -0.7176, -0.7176,\n",
      "        -0.7176,  0.9728, -0.7176, -0.7176, -0.7176, -0.7176, -0.7176, -0.7176,\n",
      "        -0.7176, -0.7176, -0.7176,  0.9728,  0.9728, -0.7176, -0.7176, -0.7176,\n",
      "        -0.7176, -0.7176, -0.7176, -0.7176, -0.7176, -0.7176, -0.7176, -0.7176,\n",
      "         1.8180, -0.7176, -0.7176,  0.1276, -0.7176, -0.7176,  0.1276,  1.8180,\n",
      "         0.9728, -0.7176,  1.8180,  0.9728,  1.8180], device='cuda:0')\n",
      "✅ Rewards: 0.2830\n",
      "✅ Loss: 0.0009\n",
      "-------Question---------\n",
      "James creates a media empire.  He creates a movie for $2000.  Each DVD cost $6 to make.  He sells it for 2.5 times that much.  He sells 500 movies a day for 5 days a week.  How much profit does he make in 20 weeks?\n",
      "\n",
      "🧠 Inference Index 15\n",
      "🔍 Top-K Indices: [88, 92, 25, 218, 85, 110, 77, 144, 30, 75, 207, 177, 6, 233, 235, 93, 118, 159, 188, 84, 22, 115, 249, 197, 237, 53, 119, 161, 17, 157, 3, 128, 70, 60, 206, 64, 162, 149, 202, 101, 49, 40, 122, 241, 79, 176, 156, 228, 63, 11, 55, 76, 221]\n",
      "[INFO] Launching 159 parallel inference tasks...\n"
     ]
    },
    {
     "name": "stderr",
     "output_type": "stream",
     "text": []
    },
    {
     "name": "stdout",
     "output_type": "stream",
     "text": [
      "tensor([0.0000, 0.0000, 0.0000, 0.0000, 0.0000, 0.0000, 0.0000, 0.0000, 0.0000,\n",
      "        0.0000, 0.0000, 0.0000, 0.0000, 0.0000, 0.0000, 0.0000, 0.0000, 0.0000,\n",
      "        0.0000, 0.0000, 0.0000, 0.0000, 0.0000, 0.0000, 0.0000, 0.0000, 0.0000,\n",
      "        0.0000, 0.0000, 0.0000, 0.0000, 0.0000, 0.0000, 0.3333, 0.0000, 0.0000,\n",
      "        0.0000, 0.0000, 0.0000, 0.0000, 0.3333, 0.0000, 0.0000, 0.0000, 0.0000,\n",
      "        0.0000, 0.0000, 0.0000, 0.0000, 0.0000, 0.0000, 0.0000, 0.0000],\n",
      "       device='cuda:0')\n",
      "tensor([-0.1962, -0.1962, -0.1962, -0.1962, -0.1962, -0.1962, -0.1962, -0.1962,\n",
      "        -0.1962, -0.1962, -0.1962, -0.1962, -0.1962, -0.1962, -0.1962, -0.1962,\n",
      "        -0.1962, -0.1962, -0.1962, -0.1962, -0.1962, -0.1962, -0.1962, -0.1962,\n",
      "        -0.1962, -0.1962, -0.1962, -0.1962, -0.1962, -0.1962, -0.1962, -0.1962,\n",
      "        -0.1962,  5.0019, -0.1962, -0.1962, -0.1962, -0.1962, -0.1962, -0.1962,\n",
      "         5.0019, -0.1962, -0.1962, -0.1962, -0.1962, -0.1962, -0.1962, -0.1962,\n",
      "        -0.1962, -0.1962, -0.1962, -0.1962, -0.1962], device='cuda:0')\n",
      "✅ Rewards: 0.0126\n",
      "✅ Loss: 0.0063\n",
      "-------Question---------\n",
      "The profit from a business transaction is shared among 2 business partners, Mike and Johnson in the ratio 2:5 respectively. If Johnson got $2500, how much will Mike have after spending some of his share on a shirt that costs $200?\n",
      "\n",
      "🧠 Inference Index 16\n",
      "🔍 Top-K Indices: [0, 176, 23, 85, 110, 209, 194, 208, 34, 159, 92, 49, 38, 50, 152, 142, 29, 18, 147, 37, 181, 215, 121, 210, 112, 167, 67, 59, 213, 201, 237, 218, 169, 63, 94, 55, 33, 28, 253, 160, 219, 195, 107, 117, 133, 233, 101, 184, 40, 228, 137, 9, 1]\n",
      "[INFO] Launching 159 parallel inference tasks...\n"
     ]
    },
    {
     "name": "stderr",
     "output_type": "stream",
     "text": []
    },
    {
     "name": "stdout",
     "output_type": "stream",
     "text": [
      "tensor([0.0000, 0.0000, 0.0000, 0.0000, 0.0000, 0.0000, 0.0000, 0.0000, 0.0000,\n",
      "        0.0000, 0.3333, 0.0000, 0.0000, 0.0000, 0.3333, 0.0000, 0.0000, 0.0000,\n",
      "        0.0000, 0.0000, 0.0000, 0.0000, 0.0000, 0.0000, 0.0000, 0.0000, 0.0000,\n",
      "        0.0000, 0.0000, 0.0000, 0.0000, 0.0000, 0.0000, 0.6667, 0.3333, 0.3333,\n",
      "        0.0000, 0.0000, 0.0000, 0.0000, 0.0000, 0.0000, 0.0000, 0.3333, 0.0000,\n",
      "        0.0000, 0.0000, 0.3333, 0.0000, 0.0000, 0.0000, 0.0000, 0.0000],\n",
      "       device='cuda:0')\n",
      "tensor([-0.3671, -0.3671, -0.3671, -0.3671, -0.3671, -0.3671, -0.3671, -0.3671,\n",
      "        -0.3671, -0.3671,  2.0648, -0.3671, -0.3671, -0.3671,  2.0648, -0.3671,\n",
      "        -0.3671, -0.3671, -0.3671, -0.3671, -0.3671, -0.3671, -0.3671, -0.3671,\n",
      "        -0.3671, -0.3671, -0.3671, -0.3671, -0.3671, -0.3671, -0.3671, -0.3671,\n",
      "        -0.3671,  4.4967,  2.0648,  2.0648, -0.3671, -0.3671, -0.3671, -0.3671,\n",
      "        -0.3671, -0.3671, -0.3671,  2.0648, -0.3671, -0.3671, -0.3671,  2.0648,\n",
      "        -0.3671, -0.3671, -0.3671, -0.3671, -0.3671], device='cuda:0')\n",
      "✅ Rewards: 0.0503\n",
      "✅ Loss: -0.0022\n",
      "-------Question---------\n",
      "In a truck, there are 26 pink hard hats, 15 green hard hats, and 24 yellow hard hats.  If Carl takes away 4 pink hard hats, and John takes away 6 pink hard hats and twice as many green hard hats as the number of pink hard hats that he removed, then calculate the total number of hard hats that remained in the truck.\n",
      "\n",
      "🧠 Inference Index 17\n",
      "🔍 Top-K Indices: [56, 26, 94, 24, 57, 60, 50, 116, 19, 105, 135, 157, 142, 49, 48, 178, 202, 127, 37, 224, 79, 241, 156, 253, 236, 121, 187, 217, 152, 82, 123, 117, 139, 204, 229, 247, 165, 28, 110, 231, 84, 7, 8, 151, 199, 248, 219, 164, 70, 67, 83, 62, 193]\n",
      "[INFO] Launching 159 parallel inference tasks...\n"
     ]
    },
    {
     "name": "stderr",
     "output_type": "stream",
     "text": []
    },
    {
     "name": "stdout",
     "output_type": "stream",
     "text": [
      "tensor([0.0000, 0.0000, 0.0000, 0.0000, 0.0000, 0.0000, 0.0000, 0.0000, 0.0000,\n",
      "        0.0000, 0.0000, 0.0000, 0.0000, 0.0000, 0.0000, 0.0000, 0.0000, 0.0000,\n",
      "        0.0000, 0.0000, 0.0000, 0.0000, 0.0000, 0.0000, 0.0000, 0.0000, 0.0000,\n",
      "        0.0000, 1.0000, 1.0000, 0.0000, 0.3333, 0.3333, 0.0000, 0.6667, 0.0000,\n",
      "        0.0000, 0.0000, 0.3333, 0.0000, 0.0000, 0.0000, 0.0000, 0.0000, 0.0000,\n",
      "        0.0000, 0.3333, 0.0000, 0.0000, 0.0000, 0.0000, 0.0000, 0.0000],\n",
      "       device='cuda:0')\n",
      "tensor([-0.3384, -0.3384, -0.3384, -0.3384, -0.3384, -0.3384, -0.3384, -0.3384,\n",
      "        -0.3384, -0.3384, -0.3384, -0.3384, -0.3384, -0.3384, -0.3384, -0.3384,\n",
      "        -0.3384, -0.3384, -0.3384, -0.3384, -0.3384, -0.3384, -0.3384, -0.3384,\n",
      "        -0.3384, -0.3384, -0.3384, -0.3384,  4.1450,  4.1450, -0.3384,  1.1561,\n",
      "         1.1561, -0.3384,  2.6505, -0.3384, -0.3384, -0.3384,  1.1561, -0.3384,\n",
      "        -0.3384, -0.3384, -0.3384, -0.3384, -0.3384, -0.3384,  1.1561, -0.3384,\n",
      "        -0.3384, -0.3384, -0.3384, -0.3384, -0.3384], device='cuda:0')\n",
      "✅ Rewards: 0.0755\n",
      "✅ Loss: 0.0095\n",
      "-------Question---------\n",
      "It takes Roque two hours to walk to work and one hour to ride his bike to work. Roque walks to and from work three times a week and rides his bike to and from work twice a week. How many hours in total does he take to get to and from work a week with walking and biking?\n",
      "\n",
      "🧠 Inference Index 18\n",
      "🔍 Top-K Indices: [40, 18, 164, 226, 119, 55, 50, 127, 155, 23, 176, 101, 237, 157, 16, 84, 88, 221, 235, 198, 73, 218, 219, 238, 48, 144, 92, 172, 113, 142, 197, 228, 242, 232, 159, 173, 94, 63, 181, 57, 195, 145, 22, 35, 93, 109, 170, 37, 51, 186, 2, 199, 76]\n",
      "[INFO] Launching 159 parallel inference tasks...\n"
     ]
    },
    {
     "name": "stderr",
     "output_type": "stream",
     "text": []
    },
    {
     "name": "stdout",
     "output_type": "stream",
     "text": [
      "tensor([0.0000, 0.0000, 0.0000, 0.0000, 0.0000, 0.0000, 0.0000, 0.0000, 0.0000,\n",
      "        0.0000, 0.3333, 0.0000, 0.0000, 0.0000, 1.0000, 0.0000, 0.0000, 0.6667,\n",
      "        0.0000, 0.3333, 0.0000, 0.0000, 0.0000, 0.0000, 0.0000, 0.0000, 1.0000,\n",
      "        0.0000, 0.0000, 0.0000, 0.0000, 0.0000, 0.0000, 0.3333, 0.0000, 0.0000,\n",
      "        0.0000, 0.0000, 0.0000, 0.0000, 0.0000, 0.0000, 0.0000, 0.0000, 0.0000,\n",
      "        0.0000, 0.0000, 0.0000, 0.0000, 0.0000, 0.0000, 0.0000, 0.0000],\n",
      "       device='cuda:0')\n",
      "tensor([-0.3140, -0.3140, -0.3140, -0.3140, -0.3140, -0.3140, -0.3140, -0.3140,\n",
      "        -0.3140, -0.3140,  1.1989, -0.3140, -0.3140, -0.3140,  4.2249, -0.3140,\n",
      "        -0.3140,  2.7119, -0.3140,  1.1989, -0.3140, -0.3140, -0.3140, -0.3140,\n",
      "        -0.3140, -0.3140,  4.2249, -0.3140, -0.3140, -0.3140, -0.3140, -0.3140,\n",
      "        -0.3140,  1.1989, -0.3140, -0.3140, -0.3140, -0.3140, -0.3140, -0.3140,\n",
      "        -0.3140, -0.3140, -0.3140, -0.3140, -0.3140, -0.3140, -0.3140, -0.3140,\n",
      "        -0.3140, -0.3140, -0.3140, -0.3140, -0.3140], device='cuda:0')\n",
      "✅ Rewards: 0.0692\n",
      "✅ Loss: 0.0218\n",
      "-------Question---------\n",
      "Tim rides his bike back and forth to work for each of his 5 workdays.  His work is 20 miles away.  He also goes for a weekend bike ride of 200 miles.    If he can bike at 25 mph how much time does he spend biking a week?\n",
      "\n",
      "🧠 Inference Index 19\n",
      "🔍 Top-K Indices: [140, 18, 235, 101, 45, 128, 207, 242, 94, 93, 133, 119, 135, 9, 30, 198, 23, 122, 92, 2, 79, 219, 253, 228, 91, 179, 81, 71, 29, 15, 95, 110, 63, 158, 145, 159, 172, 118, 85, 112, 155, 82, 5, 136, 43, 157, 184, 1, 181, 16, 169, 75, 210]\n",
      "[INFO] Launching 159 parallel inference tasks...\n"
     ]
    },
    {
     "name": "stderr",
     "output_type": "stream",
     "text": [
      "Examples: 100%|██████████| 20/20 [02:48<00:00,  8.45s/it]\n",
      "Training Steps:  80%|████████  | 8/10 [22:31<05:39, 169.57s/it]"
     ]
    },
    {
     "name": "stdout",
     "output_type": "stream",
     "text": [
      "tensor([0.0000, 0.0000, 1.0000, 0.0000, 0.0000, 0.0000, 0.3333, 0.0000, 0.0000,\n",
      "        0.0000, 0.0000, 0.0000, 0.0000, 0.0000, 0.0000, 0.0000, 1.0000, 0.6667,\n",
      "        1.0000, 0.0000, 0.3333, 0.0000, 0.3333, 0.0000, 0.0000, 0.3333, 1.0000,\n",
      "        0.0000, 0.3333, 0.3333, 0.0000, 0.0000, 0.3333, 0.0000, 0.0000, 0.0000,\n",
      "        0.6667, 0.6667, 0.3333, 1.0000, 0.0000, 1.0000, 0.3333, 0.6667, 0.0000,\n",
      "        0.3333, 0.0000, 0.6667, 0.0000, 0.3333, 0.3333, 1.0000, 0.3333],\n",
      "       device='cuda:0')\n",
      "tensor([-0.7763, -0.7763,  2.0289, -0.7763, -0.7763, -0.7763,  0.1588, -0.7763,\n",
      "        -0.7763, -0.7763, -0.7763, -0.7763, -0.7763, -0.7763, -0.7763, -0.7763,\n",
      "         2.0289,  1.0939,  2.0289, -0.7763,  0.1588, -0.7763,  0.1588, -0.7763,\n",
      "        -0.7763,  0.1588,  2.0289, -0.7763,  0.1588,  0.1588, -0.7763, -0.7763,\n",
      "         0.1588, -0.7763, -0.7763, -0.7763,  1.0939,  1.0939,  0.1588,  2.0289,\n",
      "        -0.7763,  2.0289,  0.1588,  1.0939, -0.7763,  0.1588, -0.7763,  1.0939,\n",
      "        -0.7763,  0.1588,  0.1588,  2.0289,  0.1588], device='cuda:0')\n",
      "✅ Rewards: 0.2767\n",
      "✅ Loss: -0.0128\n",
      "\n",
      "=== Training Step 9 ===\n"
     ]
    },
    {
     "name": "stderr",
     "output_type": "stream",
     "text": []
    },
    {
     "name": "stdout",
     "output_type": "stream",
     "text": [
      "-------Question---------\n",
      "Natalia sold clips to 48 of her friends in April, and then she sold half as many clips in May. How many clips did Natalia sell altogether in April and May?\n",
      "\n",
      "🧠 Inference Index 0\n",
      "🔍 Top-K Indices: [48, 35, 210, 181, 45, 64, 91, 158, 178, 74, 179, 237, 140, 194, 163, 204, 75, 232, 49, 201, 104, 56, 59, 220, 160, 153, 18, 81, 208, 22, 248, 197, 188, 119, 47, 240, 82, 207, 109, 216, 76, 110, 1, 187, 43, 198, 8, 120, 57, 97, 162, 51, 92]\n",
      "[INFO] Launching 159 parallel inference tasks...\n"
     ]
    },
    {
     "name": "stderr",
     "output_type": "stream",
     "text": []
    },
    {
     "name": "stdout",
     "output_type": "stream",
     "text": [
      "tensor([0.6667, 1.0000, 1.0000, 0.0000, 1.0000, 1.0000, 1.0000, 1.0000, 1.0000,\n",
      "        0.3333, 1.0000, 1.0000, 1.0000, 1.0000, 1.0000, 1.0000, 0.0000, 1.0000,\n",
      "        1.0000, 1.0000, 1.0000, 1.0000, 1.0000, 1.0000, 1.0000, 1.0000, 0.6667,\n",
      "        1.0000, 1.0000, 1.0000, 1.0000, 1.0000, 0.6667, 1.0000, 1.0000, 1.0000,\n",
      "        1.0000, 0.0000, 1.0000, 1.0000, 1.0000, 0.3333, 0.0000, 1.0000, 1.0000,\n",
      "        0.0000, 1.0000, 1.0000, 1.0000, 1.0000, 0.6667, 1.0000, 1.0000],\n",
      "       device='cuda:0')\n",
      "tensor([-0.5953,  0.4564,  0.4564, -2.6985,  0.4564,  0.4564,  0.4564,  0.4564,\n",
      "         0.4564, -1.6469,  0.4564,  0.4564,  0.4564,  0.4564,  0.4564,  0.4564,\n",
      "        -2.6985,  0.4564,  0.4564,  0.4564,  0.4564,  0.4564,  0.4564,  0.4564,\n",
      "         0.4564,  0.4564, -0.5953,  0.4564,  0.4564,  0.4564,  0.4564,  0.4564,\n",
      "        -0.5953,  0.4564,  0.4564,  0.4564,  0.4564, -2.6985,  0.4564,  0.4564,\n",
      "         0.4564, -1.6469, -2.6985,  0.4564,  0.4564, -2.6985,  0.4564,  0.4564,\n",
      "         0.4564,  0.4564, -0.5953,  0.4564,  0.4564], device='cuda:0')\n",
      "✅ Rewards: 0.8553\n",
      "✅ Loss: -0.0115\n",
      "-------Question---------\n",
      "Weng earns $12 an hour for babysitting. Yesterday, she just did 50 minutes of babysitting. How much did she earn?\n",
      "\n",
      "🧠 Inference Index 1\n",
      "🔍 Top-K Indices: [235, 57, 110, 17, 18, 210, 63, 140, 85, 228, 55, 8, 105, 94, 119, 254, 152, 23, 198, 195, 62, 237, 253, 145, 101, 247, 204, 213, 29, 206, 179, 129, 162, 157, 58, 158, 48, 45, 43, 163, 104, 196, 91, 92, 35, 79, 112, 75, 36, 56, 232, 103, 59]\n",
      "[INFO] Launching 159 parallel inference tasks...\n"
     ]
    },
    {
     "name": "stderr",
     "output_type": "stream",
     "text": []
    },
    {
     "name": "stdout",
     "output_type": "stream",
     "text": [
      "tensor([1., 1., 1., 1., 1., 1., 1., 1., 1., 1., 1., 1., 1., 1., 1., 1., 1., 1.,\n",
      "        1., 1., 1., 1., 1., 1., 1., 1., 1., 1., 1., 1., 1., 1., 1., 1., 1., 1.,\n",
      "        1., 1., 1., 1., 1., 1., 1., 1., 1., 1., 1., 1., 1., 1., 1., 1., 1.],\n",
      "       device='cuda:0')\n",
      "tensor([0., 0., 0., 0., 0., 0., 0., 0., 0., 0., 0., 0., 0., 0., 0., 0., 0., 0., 0., 0., 0., 0., 0., 0.,\n",
      "        0., 0., 0., 0., 0., 0., 0., 0., 0., 0., 0., 0., 0., 0., 0., 0., 0., 0., 0., 0., 0., 0., 0., 0.,\n",
      "        0., 0., 0., 0., 0.], device='cuda:0')\n",
      "✅ Rewards: 1.0000\n",
      "✅ Loss: -0.0000\n",
      "-------Question---------\n",
      "Betty is saving money for a new wallet which costs $100. Betty has only half of the money she needs. Her parents decided to give her $15 for that purpose, and her grandparents twice as much as her parents. How much more money does Betty need to buy the wallet?\n",
      "\n",
      "🧠 Inference Index 2\n",
      "🔍 Top-K Indices: [44, 178, 50, 232, 161, 104, 51, 88, 172, 253, 76, 105, 204, 48, 29, 194, 219, 90, 237, 244, 235, 124, 63, 120, 36, 156, 149, 118, 65, 175, 18, 158, 38, 176, 75, 163, 140, 69, 81, 15, 210, 83, 102, 8, 166, 228, 234, 121, 82, 112, 153, 1, 14]\n",
      "[INFO] Launching 159 parallel inference tasks...\n"
     ]
    },
    {
     "name": "stderr",
     "output_type": "stream",
     "text": []
    },
    {
     "name": "stdout",
     "output_type": "stream",
     "text": [
      "tensor([1.0000, 1.0000, 1.0000, 1.0000, 1.0000, 1.0000, 1.0000, 0.3333, 1.0000,\n",
      "        1.0000, 1.0000, 1.0000, 1.0000, 0.6667, 1.0000, 0.3333, 1.0000, 1.0000,\n",
      "        1.0000, 1.0000, 1.0000, 1.0000, 0.6667, 1.0000, 1.0000, 1.0000, 1.0000,\n",
      "        1.0000, 1.0000, 1.0000, 1.0000, 1.0000, 0.3333, 0.3333, 1.0000, 0.6667,\n",
      "        0.6667, 1.0000, 1.0000, 1.0000, 1.0000, 1.0000, 1.0000, 0.6667, 1.0000,\n",
      "        1.0000, 1.0000, 0.0000, 1.0000, 1.0000, 1.0000, 1.0000, 1.0000],\n",
      "       device='cuda:0')\n",
      "tensor([ 0.4339,  0.4339,  0.4339,  0.4339,  0.4339,  0.4339,  0.4339, -2.4408,\n",
      "         0.4339,  0.4339,  0.4339,  0.4339,  0.4339, -1.0034,  0.4339, -2.4408,\n",
      "         0.4339,  0.4339,  0.4339,  0.4339,  0.4339,  0.4339, -1.0034,  0.4339,\n",
      "         0.4339,  0.4339,  0.4339,  0.4339,  0.4339,  0.4339,  0.4339,  0.4339,\n",
      "        -2.4408, -2.4408,  0.4339, -1.0034, -1.0034,  0.4339,  0.4339,  0.4339,\n",
      "         0.4339,  0.4339,  0.4339, -1.0034,  0.4339,  0.4339,  0.4339, -3.8781,\n",
      "         0.4339,  0.4339,  0.4339,  0.4339,  0.4339], device='cuda:0')\n",
      "✅ Rewards: 0.8994\n",
      "✅ Loss: 0.0066\n",
      "-------Question---------\n",
      "Julie is reading a 120-page book. Yesterday, she was able to read 12 pages and today, she read twice as many pages as yesterday. If she wants to read half of the remaining pages tomorrow, how many pages should she read?\n",
      "\n",
      "🧠 Inference Index 3\n",
      "🔍 Top-K Indices: [13, 196, 221, 128, 24, 72, 203, 123, 145, 82, 197, 77, 55, 249, 130, 74, 232, 45, 121, 16, 43, 204, 48, 206, 94, 163, 92, 140, 63, 185, 181, 228, 117, 139, 8, 49, 184, 211, 143, 135, 119, 50, 109, 118, 182, 220, 235, 112, 247, 157, 51, 4, 208]\n",
      "[INFO] Launching 159 parallel inference tasks...\n"
     ]
    },
    {
     "name": "stderr",
     "output_type": "stream",
     "text": []
    },
    {
     "name": "stdout",
     "output_type": "stream",
     "text": [
      "tensor([0.0000, 0.0000, 0.0000, 0.0000, 0.0000, 0.0000, 0.0000, 0.0000, 0.0000,\n",
      "        0.0000, 0.0000, 0.0000, 0.0000, 0.0000, 0.0000, 0.0000, 0.0000, 0.0000,\n",
      "        0.0000, 0.0000, 0.0000, 0.0000, 0.0000, 0.3333, 0.0000, 0.0000, 0.0000,\n",
      "        0.0000, 0.0000, 0.0000, 0.0000, 0.0000, 0.0000, 0.0000, 0.0000, 0.0000,\n",
      "        0.0000, 0.0000, 0.0000, 0.0000, 0.0000, 0.0000, 0.0000, 0.0000, 0.0000,\n",
      "        0.0000, 0.0000, 0.0000, 0.0000, 0.0000, 0.0000, 0.0000, 0.0000],\n",
      "       device='cuda:0')\n",
      "tensor([-0.1374, -0.1374, -0.1374, -0.1374, -0.1374, -0.1374, -0.1374, -0.1374,\n",
      "        -0.1374, -0.1374, -0.1374, -0.1374, -0.1374, -0.1374, -0.1374, -0.1374,\n",
      "        -0.1374, -0.1374, -0.1374, -0.1374, -0.1374, -0.1374, -0.1374,  7.1427,\n",
      "        -0.1374, -0.1374, -0.1374, -0.1374, -0.1374, -0.1374, -0.1374, -0.1374,\n",
      "        -0.1374, -0.1374, -0.1374, -0.1374, -0.1374, -0.1374, -0.1374, -0.1374,\n",
      "        -0.1374, -0.1374, -0.1374, -0.1374, -0.1374, -0.1374, -0.1374, -0.1374,\n",
      "        -0.1374, -0.1374, -0.1374, -0.1374, -0.1374], device='cuda:0')\n",
      "✅ Rewards: 0.0063\n",
      "✅ Loss: 0.0259\n",
      "-------Question---------\n",
      "James writes a 3-page letter to 2 different friends twice a week.  How many pages does he write a year?\n",
      "\n",
      "🧠 Inference Index 4\n",
      "🔍 Top-K Indices: [64, 187, 51, 217, 13, 93, 112, 211, 171, 228, 145, 18, 172, 139, 207, 140, 175, 105, 8, 30, 117, 5, 63, 95, 166, 103, 59, 157, 184, 49, 185, 14, 45, 254, 2, 235, 204, 253, 128, 99, 161, 163, 68, 101, 159, 197, 77, 194, 249, 15, 221, 36, 91]\n",
      "[INFO] Launching 159 parallel inference tasks...\n"
     ]
    },
    {
     "name": "stderr",
     "output_type": "stream",
     "text": []
    },
    {
     "name": "stdout",
     "output_type": "stream",
     "text": [
      "tensor([0.3333, 0.3333, 0.0000, 0.0000, 0.0000, 0.0000, 1.0000, 0.0000, 1.0000,\n",
      "        0.0000, 0.0000, 0.0000, 0.6667, 0.0000, 0.0000, 0.6667, 0.0000, 0.0000,\n",
      "        0.0000, 0.0000, 0.0000, 0.0000, 0.0000, 0.0000, 0.6667, 0.0000, 0.0000,\n",
      "        0.0000, 0.0000, 0.0000, 0.0000, 0.0000, 0.0000, 0.0000, 0.0000, 0.0000,\n",
      "        0.6667, 0.0000, 0.0000, 0.0000, 0.0000, 0.0000, 0.0000, 0.6667, 0.0000,\n",
      "        0.0000, 0.0000, 0.0000, 0.0000, 1.0000, 0.0000, 0.0000, 0.0000],\n",
      "       device='cuda:0')\n",
      "tensor([ 0.6826,  0.6826, -0.4480, -0.4480, -0.4480, -0.4480,  2.9439, -0.4480,\n",
      "         2.9439, -0.4480, -0.4480, -0.4480,  1.8133, -0.4480, -0.4480,  1.8133,\n",
      "        -0.4480, -0.4480, -0.4480, -0.4480, -0.4480, -0.4480, -0.4480, -0.4480,\n",
      "         1.8133, -0.4480, -0.4480, -0.4480, -0.4480, -0.4480, -0.4480, -0.4480,\n",
      "        -0.4480, -0.4480, -0.4480, -0.4480,  1.8133, -0.4480, -0.4480, -0.4480,\n",
      "        -0.4480, -0.4480, -0.4480,  1.8133, -0.4480, -0.4480, -0.4480, -0.4480,\n",
      "        -0.4480,  2.9439, -0.4480, -0.4480, -0.4480], device='cuda:0')\n",
      "✅ Rewards: 0.1321\n",
      "✅ Loss: 0.0311\n",
      "-------Question---------\n",
      "Mark has a garden with flowers. He planted plants of three different colors in it. Ten of them are yellow, and there are 80% more of those in purple. There are only 25% as many green flowers as there are yellow and purple flowers. How many flowers does Mark have in his garden?\n",
      "\n",
      "🧠 Inference Index 5\n",
      "🔍 Top-K Indices: [142, 170, 18, 121, 194, 56, 161, 92, 140, 51, 25, 73, 15, 38, 91, 219, 105, 253, 182, 101, 78, 125, 65, 94, 85, 171, 21, 127, 29, 48, 103, 197, 75, 112, 176, 207, 1, 50, 145, 208, 59, 87, 164, 14, 129, 89, 239, 69, 235, 16, 181, 68, 86]\n",
      "[INFO] Launching 159 parallel inference tasks...\n"
     ]
    },
    {
     "name": "stderr",
     "output_type": "stream",
     "text": []
    },
    {
     "name": "stdout",
     "output_type": "stream",
     "text": [
      "tensor([1.0000, 1.0000, 0.0000, 0.0000, 0.0000, 0.0000, 0.0000, 0.0000, 0.0000,\n",
      "        0.6667, 1.0000, 1.0000, 0.3333, 0.6667, 0.0000, 0.0000, 0.0000, 0.0000,\n",
      "        0.3333, 1.0000, 0.0000, 1.0000, 0.0000, 0.0000, 0.0000, 0.6667, 0.0000,\n",
      "        0.6667, 0.3333, 0.0000, 0.0000, 0.3333, 0.0000, 0.0000, 0.6667, 0.0000,\n",
      "        1.0000, 0.0000, 0.0000, 1.0000, 1.0000, 0.0000, 0.3333, 1.0000, 0.0000,\n",
      "        0.6667, 0.3333, 0.0000, 0.0000, 0.3333, 0.0000, 0.0000, 0.0000],\n",
      "       device='cuda:0')\n",
      "tensor([ 1.7202,  1.7202, -0.7663, -0.7663, -0.7663, -0.7663, -0.7663, -0.7663,\n",
      "        -0.7663,  0.8914,  1.7202,  1.7202,  0.0626,  0.8914, -0.7663, -0.7663,\n",
      "        -0.7663, -0.7663,  0.0626,  1.7202, -0.7663,  1.7202, -0.7663, -0.7663,\n",
      "        -0.7663,  0.8914, -0.7663,  0.8914,  0.0626, -0.7663, -0.7663,  0.0626,\n",
      "        -0.7663, -0.7663,  0.8914, -0.7663,  1.7202, -0.7663, -0.7663,  1.7202,\n",
      "         1.7202, -0.7663,  0.0626,  1.7202, -0.7663,  0.8914,  0.0626, -0.7663,\n",
      "        -0.7663,  0.0626, -0.7663, -0.7663, -0.7663], device='cuda:0')\n",
      "✅ Rewards: 0.3082\n",
      "✅ Loss: 0.0067\n",
      "-------Question---------\n",
      "Albert is wondering how much pizza he can eat in one day. He buys 2 large pizzas and 2 small pizzas. A large pizza has 16 slices and a small pizza has 8 slices. If he eats it all, how many pieces does he eat that day?\n",
      "\n",
      "🧠 Inference Index 6\n",
      "🔍 Top-K Indices: [14, 203, 140, 149, 93, 86, 131, 8, 99, 51, 238, 77, 50, 200, 23, 129, 72, 201, 54, 235, 170, 70, 64, 157, 128, 49, 217, 159, 88, 244, 25, 211, 122, 209, 59, 158, 3, 210, 90, 63, 78, 228, 105, 4, 69, 197, 179, 139, 232, 221, 103, 233, 83]\n",
      "[INFO] Launching 159 parallel inference tasks...\n"
     ]
    },
    {
     "name": "stderr",
     "output_type": "stream",
     "text": []
    },
    {
     "name": "stdout",
     "output_type": "stream",
     "text": [
      "tensor([1.0000, 0.6667, 1.0000, 1.0000, 1.0000, 1.0000, 1.0000, 1.0000, 1.0000,\n",
      "        1.0000, 1.0000, 1.0000, 1.0000, 1.0000, 1.0000, 1.0000, 1.0000, 1.0000,\n",
      "        1.0000, 1.0000, 0.6667, 1.0000, 0.6667, 1.0000, 1.0000, 1.0000, 1.0000,\n",
      "        1.0000, 1.0000, 1.0000, 1.0000, 1.0000, 1.0000, 0.6667, 0.6667, 1.0000,\n",
      "        0.6667, 1.0000, 1.0000, 1.0000, 0.0000, 1.0000, 1.0000, 1.0000, 1.0000,\n",
      "        0.6667, 1.0000, 0.6667, 0.6667, 1.0000, 1.0000, 1.0000, 1.0000],\n",
      "       device='cuda:0')\n",
      "tensor([ 0.4176, -1.4269,  0.4176,  0.4176,  0.4176,  0.4176,  0.4176,  0.4176,\n",
      "         0.4176,  0.4176,  0.4176,  0.4176,  0.4176,  0.4176,  0.4176,  0.4176,\n",
      "         0.4176,  0.4176,  0.4176,  0.4176, -1.4269,  0.4176, -1.4269,  0.4176,\n",
      "         0.4176,  0.4176,  0.4176,  0.4176,  0.4176,  0.4176,  0.4176,  0.4176,\n",
      "         0.4176, -1.4269, -1.4269,  0.4176, -1.4269,  0.4176,  0.4176,  0.4176,\n",
      "        -5.1161,  0.4176,  0.4176,  0.4176,  0.4176, -1.4269,  0.4176, -1.4269,\n",
      "        -1.4269,  0.4176,  0.4176,  0.4176,  0.4176], device='cuda:0')\n",
      "✅ Rewards: 0.9245\n",
      "✅ Loss: -0.0083\n",
      "-------Question---------\n",
      "Ken created a care package to send to his brother, who was away at boarding school.  Ken placed a box on a scale, and then he poured into the box enough jelly beans to bring the weight to 2 pounds.  Then, he added enough brownies to cause the weight to triple.  Next, he added another 2 pounds of jelly beans.  And finally, he added enough gummy worms to double the weight once again.  What was the final weight of the box of goodies, in pounds?\n",
      "\n",
      "🧠 Inference Index 7\n",
      "🔍 Top-K Indices: [215, 57, 60, 89, 236, 224, 193, 181, 97, 7, 242, 144, 31, 100, 161, 246, 248, 222, 102, 177, 128, 218, 196, 44, 56, 241, 66, 234, 111, 143, 12, 197, 174, 141, 251, 53, 26, 115, 32, 126, 159, 61, 55, 207, 123, 23, 153, 10, 198, 131, 152, 65, 3]\n",
      "[INFO] Launching 159 parallel inference tasks...\n"
     ]
    },
    {
     "name": "stderr",
     "output_type": "stream",
     "text": []
    },
    {
     "name": "stdout",
     "output_type": "stream",
     "text": [
      "tensor([0.0000, 0.6667, 0.0000, 0.0000, 0.6667, 0.0000, 0.3333, 0.6667, 1.0000,\n",
      "        0.3333, 0.0000, 0.0000, 0.0000, 0.0000, 0.6667, 1.0000, 0.0000, 1.0000,\n",
      "        0.3333, 0.0000, 0.3333, 0.0000, 0.0000, 0.3333, 0.0000, 0.6667, 0.0000,\n",
      "        0.0000, 0.0000, 0.3333, 0.3333, 0.6667, 0.6667, 0.0000, 0.0000, 0.0000,\n",
      "        0.0000, 0.3333, 0.3333, 0.0000, 0.0000, 0.3333, 0.3333, 1.0000, 1.0000,\n",
      "        0.6667, 0.0000, 0.0000, 0.3333, 0.6667, 0.0000, 0.0000, 0.0000],\n",
      "       device='cuda:0')\n",
      "tensor([-0.8271,  1.1212, -0.8271, -0.8271,  1.1212, -0.8271,  0.1470,  1.1212,\n",
      "         2.0954,  0.1470, -0.8271, -0.8271, -0.8271, -0.8271,  1.1212,  2.0954,\n",
      "        -0.8271,  2.0954,  0.1470, -0.8271,  0.1470, -0.8271, -0.8271,  0.1470,\n",
      "        -0.8271,  1.1212, -0.8271, -0.8271, -0.8271,  0.1470,  0.1470,  1.1212,\n",
      "         1.1212, -0.8271, -0.8271, -0.8271, -0.8271,  0.1470,  0.1470, -0.8271,\n",
      "        -0.8271,  0.1470,  0.1470,  2.0954,  2.0954,  1.1212, -0.8271, -0.8271,\n",
      "         0.1470,  1.1212, -0.8271, -0.8271, -0.8271], device='cuda:0')\n",
      "✅ Rewards: 0.2830\n",
      "✅ Loss: 0.0103\n",
      "-------Question---------\n",
      "Alexis is applying for a new job and bought a new set of business clothes to wear to the interview. She went to a department store with a budget of $200 and spent $30 on a button-up shirt, $46 on suit pants, $38 on a suit coat, $11 on socks, and $18 on a belt. She also purchased a pair of shoes, but lost the receipt for them. She has $16 left from her budget. How much did Alexis pay for the shoes?\n",
      "\n",
      "🧠 Inference Index 8\n",
      "🔍 Top-K Indices: [97, 102, 115, 181, 204, 36, 57, 218, 177, 23, 50, 193, 79, 118, 44, 198, 100, 40, 90, 19, 210, 98, 164, 12, 10, 238, 7, 163, 184, 142, 127, 226, 64, 32, 165, 139, 58, 182, 81, 89, 62, 92, 65, 75, 173, 25, 151, 202, 215, 147, 80, 200, 221]\n",
      "[INFO] Launching 159 parallel inference tasks...\n"
     ]
    },
    {
     "name": "stderr",
     "output_type": "stream",
     "text": []
    },
    {
     "name": "stdout",
     "output_type": "stream",
     "text": [
      "tensor([1.0000, 1.0000, 1.0000, 0.3333, 1.0000, 1.0000, 0.0000, 1.0000, 1.0000,\n",
      "        0.3333, 1.0000, 1.0000, 0.0000, 1.0000, 0.6667, 0.0000, 0.0000, 0.6667,\n",
      "        0.6667, 1.0000, 1.0000, 0.6667, 1.0000, 1.0000, 1.0000, 0.0000, 0.3333,\n",
      "        1.0000, 1.0000, 0.0000, 1.0000, 1.0000, 1.0000, 0.0000, 0.3333, 1.0000,\n",
      "        1.0000, 1.0000, 1.0000, 0.3333, 1.0000, 0.0000, 1.0000, 0.3333, 1.0000,\n",
      "        1.0000, 0.3333, 1.0000, 0.6667, 1.0000, 1.0000, 1.0000, 1.0000],\n",
      "       device='cuda:0')\n",
      "tensor([ 0.6987,  0.6987,  0.6987, -1.0237,  0.6987,  0.6987, -1.8849,  0.6987,\n",
      "         0.6987, -1.0237,  0.6987,  0.6987, -1.8849,  0.6987, -0.1625, -1.8849,\n",
      "        -1.8849, -0.1625, -0.1625,  0.6987,  0.6987, -0.1625,  0.6987,  0.6987,\n",
      "         0.6987, -1.8849, -1.0237,  0.6987,  0.6987, -1.8849,  0.6987,  0.6987,\n",
      "         0.6987, -1.8849, -1.0237,  0.6987,  0.6987,  0.6987,  0.6987, -1.0237,\n",
      "         0.6987, -1.8849,  0.6987, -1.0237,  0.6987,  0.6987, -1.0237,  0.6987,\n",
      "        -0.1625,  0.6987,  0.6987,  0.6987,  0.6987], device='cuda:0')\n",
      "✅ Rewards: 0.7296\n",
      "✅ Loss: -0.0232\n",
      "-------Question---------\n",
      "Tina makes $18.00 an hour.  If she works more than 8 hours per shift, she is eligible for overtime, which is paid by your hourly wage + 1/2 your hourly wage.  If she works 10 hours every day for 5 days, how much money does she make?\n",
      "\n",
      "🧠 Inference Index 9\n",
      "🔍 Top-K Indices: [197, 13, 179, 188, 244, 159, 81, 55, 181, 69, 128, 57, 102, 101, 175, 209, 94, 91, 207, 140, 237, 218, 3, 12, 157, 83, 21, 90, 56, 85, 6, 254, 253, 40, 136, 63, 65, 73, 201, 222, 158, 166, 247, 190, 118, 70, 18, 1, 131, 59, 120, 204, 161]\n",
      "[INFO] Launching 159 parallel inference tasks...\n"
     ]
    },
    {
     "name": "stderr",
     "output_type": "stream",
     "text": []
    },
    {
     "name": "stdout",
     "output_type": "stream",
     "text": [
      "tensor([0., 0., 0., 0., 0., 0., 0., 0., 0., 0., 0., 0., 0., 0., 0., 0., 0., 0., 0., 0., 0., 0., 0., 0.,\n",
      "        0., 0., 0., 0., 0., 0., 0., 0., 0., 0., 0., 0., 0., 0., 0., 0., 0., 0., 0., 0., 0., 0., 0., 0.,\n",
      "        0., 0., 0., 0., 0.], device='cuda:0')\n",
      "tensor([0., 0., 0., 0., 0., 0., 0., 0., 0., 0., 0., 0., 0., 0., 0., 0., 0., 0., 0., 0., 0., 0., 0., 0.,\n",
      "        0., 0., 0., 0., 0., 0., 0., 0., 0., 0., 0., 0., 0., 0., 0., 0., 0., 0., 0., 0., 0., 0., 0., 0.,\n",
      "        0., 0., 0., 0., 0.], device='cuda:0')\n",
      "✅ Rewards: 0.0000\n",
      "✅ Loss: -0.0000\n",
      "-------Question---------\n",
      "A deep-sea monster rises from the waters once every hundred years to feast on a ship and sate its hunger. Over three hundred years, it has consumed 847 people. Ships have been built larger over time, so each new ship has twice as many people as the last ship. How many people were on the ship the monster ate in the first hundred years?\n",
      "\n",
      "🧠 Inference Index 10\n",
      "🔍 Top-K Indices: [234, 115, 31, 230, 100, 60, 130, 143, 224, 211, 97, 26, 8, 96, 210, 246, 20, 236, 7, 218, 106, 204, 24, 190, 248, 242, 62, 126, 6, 16, 25, 165, 182, 193, 138, 44, 141, 11, 174, 247, 226, 47, 153, 229, 12, 251, 252, 227, 38, 240, 178, 186, 184]\n",
      "[INFO] Launching 159 parallel inference tasks...\n"
     ]
    },
    {
     "name": "stderr",
     "output_type": "stream",
     "text": []
    },
    {
     "name": "stdout",
     "output_type": "stream",
     "text": [
      "tensor([0.0000, 0.0000, 0.0000, 0.6667, 0.6667, 0.0000, 0.0000, 0.0000, 0.0000,\n",
      "        0.0000, 0.0000, 0.0000, 0.0000, 0.0000, 0.0000, 0.0000, 0.0000, 0.6667,\n",
      "        0.0000, 0.0000, 0.0000, 0.0000, 0.0000, 0.3333, 0.0000, 0.0000, 0.0000,\n",
      "        0.0000, 0.0000, 0.0000, 0.0000, 0.0000, 0.6667, 0.3333, 0.3333, 0.0000,\n",
      "        0.0000, 0.0000, 0.0000, 0.0000, 0.0000, 0.0000, 0.0000, 0.0000, 0.0000,\n",
      "        0.0000, 0.0000, 0.0000, 0.0000, 0.0000, 0.0000, 0.0000, 0.0000],\n",
      "       device='cuda:0')\n",
      "tensor([-0.3660, -0.3660, -0.3660,  3.1613,  3.1613, -0.3660, -0.3660, -0.3660,\n",
      "        -0.3660, -0.3660, -0.3660, -0.3660, -0.3660, -0.3660, -0.3660, -0.3660,\n",
      "        -0.3660,  3.1613, -0.3660, -0.3660, -0.3660, -0.3660, -0.3660,  1.3976,\n",
      "        -0.3660, -0.3660, -0.3660, -0.3660, -0.3660, -0.3660, -0.3660, -0.3660,\n",
      "         3.1613,  1.3976,  1.3976, -0.3660, -0.3660, -0.3660, -0.3660, -0.3660,\n",
      "        -0.3660, -0.3660, -0.3660, -0.3660, -0.3660, -0.3660, -0.3660, -0.3660,\n",
      "        -0.3660, -0.3660, -0.3660, -0.3660, -0.3660], device='cuda:0')\n",
      "✅ Rewards: 0.0692\n",
      "✅ Loss: -0.1049\n",
      "-------Question---------\n",
      "Tobias is buying a new pair of shoes that costs $95. He has been saving up his money each month for the past three months. He gets a $5 allowance a month. He also mows lawns and shovels driveways. He charges $15 to mow a lawn and $7 to shovel. After buying the shoes, he has $15 in change. If he mows 4 lawns, how many driveways did he shovel?\n",
      "\n",
      "🧠 Inference Index 11\n",
      "🔍 Top-K Indices: [234, 115, 96, 8, 174, 60, 193, 102, 31, 182, 7, 253, 92, 226, 246, 100, 248, 19, 224, 12, 181, 171, 184, 211, 40, 177, 44, 53, 72, 126, 236, 11, 26, 237, 14, 127, 97, 186, 71, 163, 58, 61, 81, 230, 94, 105, 188, 215, 228, 162, 138, 128, 62]\n",
      "[INFO] Launching 159 parallel inference tasks...\n"
     ]
    },
    {
     "name": "stderr",
     "output_type": "stream",
     "text": []
    },
    {
     "name": "stdout",
     "output_type": "stream",
     "text": [
      "tensor([0.0000, 0.0000, 0.0000, 0.0000, 0.0000, 0.0000, 0.0000, 0.0000, 0.0000,\n",
      "        0.0000, 0.0000, 0.0000, 0.0000, 0.0000, 0.0000, 0.0000, 0.0000, 0.0000,\n",
      "        0.3333, 0.0000, 0.0000, 0.0000, 0.0000, 0.0000, 0.0000, 0.0000, 0.0000,\n",
      "        0.3333, 0.0000, 0.0000, 0.0000, 0.0000, 0.0000, 0.0000, 0.0000, 0.0000,\n",
      "        0.0000, 0.0000, 0.0000, 0.0000, 0.0000, 0.0000, 0.0000, 0.0000, 0.0000,\n",
      "        0.0000, 0.0000, 0.0000, 0.0000, 0.3333, 0.0000, 0.0000, 0.0000],\n",
      "       device='cuda:0')\n",
      "tensor([-0.2426, -0.2426, -0.2426, -0.2426, -0.2426, -0.2426, -0.2426, -0.2426,\n",
      "        -0.2426, -0.2426, -0.2426, -0.2426, -0.2426, -0.2426, -0.2426, -0.2426,\n",
      "        -0.2426, -0.2426,  4.0438, -0.2426, -0.2426, -0.2426, -0.2426, -0.2426,\n",
      "        -0.2426, -0.2426, -0.2426,  4.0438, -0.2426, -0.2426, -0.2426, -0.2426,\n",
      "        -0.2426, -0.2426, -0.2426, -0.2426, -0.2426, -0.2426, -0.2426, -0.2426,\n",
      "        -0.2426, -0.2426, -0.2426, -0.2426, -0.2426, -0.2426, -0.2426, -0.2426,\n",
      "        -0.2426,  4.0438, -0.2426, -0.2426, -0.2426], device='cuda:0')\n",
      "✅ Rewards: 0.0189\n",
      "✅ Loss: -0.0300\n",
      "-------Question---------\n",
      "Randy has 60 mango trees on his farm. He also has 5 less than half as many coconut trees as mango trees. How many trees does Randy have in all on his farm?\n",
      "\n",
      "🧠 Inference Index 12\n",
      "🔍 Top-K Indices: [182, 189, 90, 3, 230, 115, 14, 247, 211, 6, 206, 248, 204, 113, 38, 49, 203, 234, 77, 188, 59, 67, 64, 145, 143, 184, 96, 25, 43, 21, 60, 223, 242, 190, 123, 209, 228, 100, 174, 136, 218, 167, 13, 4, 53, 231, 240, 130, 70, 149, 178, 216, 20]\n",
      "[INFO] Launching 159 parallel inference tasks...\n"
     ]
    },
    {
     "name": "stderr",
     "output_type": "stream",
     "text": []
    },
    {
     "name": "stdout",
     "output_type": "stream",
     "text": [
      "tensor([1.0000, 0.3333, 0.6667, 0.0000, 0.3333, 1.0000, 0.0000, 0.0000, 0.0000,\n",
      "        0.3333, 0.0000, 1.0000, 0.6667, 1.0000, 0.0000, 0.0000, 0.0000, 0.0000,\n",
      "        0.0000, 1.0000, 0.6667, 0.6667, 1.0000, 0.6667, 0.6667, 0.3333, 1.0000,\n",
      "        0.3333, 1.0000, 0.3333, 0.3333, 1.0000, 1.0000, 0.0000, 1.0000, 0.0000,\n",
      "        0.3333, 1.0000, 0.0000, 1.0000, 0.3333, 0.3333, 1.0000, 0.0000, 0.0000,\n",
      "        1.0000, 0.0000, 0.0000, 0.3333, 1.0000, 0.0000, 0.3333, 0.0000],\n",
      "       device='cuda:0')\n",
      "tensor([ 1.3057, -0.2852,  0.5103, -1.0806, -0.2852,  1.3057, -1.0806, -1.0806,\n",
      "        -1.0806, -0.2852, -1.0806,  1.3057,  0.5103,  1.3057, -1.0806, -1.0806,\n",
      "        -1.0806, -1.0806, -1.0806,  1.3057,  0.5103,  0.5103,  1.3057,  0.5103,\n",
      "         0.5103, -0.2852,  1.3057, -0.2852,  1.3057, -0.2852, -0.2852,  1.3057,\n",
      "         1.3057, -1.0806,  1.3057, -1.0806, -0.2852,  1.3057, -1.0806,  1.3057,\n",
      "        -0.2852, -0.2852,  1.3057, -1.0806, -1.0806,  1.3057, -1.0806, -1.0806,\n",
      "        -0.2852,  1.3057, -1.0806, -0.2852, -1.0806], device='cuda:0')\n",
      "✅ Rewards: 0.4528\n",
      "✅ Loss: -0.0227\n",
      "-------Question---------\n",
      "Jasper will serve charcuterie at his dinner party. He buys 2 pounds of cheddar cheese for $10, a pound of cream cheese that cost half the price of the cheddar cheese, and a pack of cold cuts that cost twice the price of the cheddar cheese. How much does he spend on the ingredients?\n",
      "\n",
      "🧠 Inference Index 13\n",
      "🔍 Top-K Indices: [53, 123, 198, 181, 115, 96, 37, 76, 143, 241, 159, 66, 44, 165, 177, 92, 230, 77, 58, 109, 119, 138, 57, 65, 55, 234, 242, 197, 30, 216, 237, 32, 63, 238, 60, 120, 161, 204, 174, 67, 112, 71, 110, 101, 106, 121, 24, 224, 59, 47, 247, 31, 94]\n",
      "[INFO] Launching 159 parallel inference tasks...\n"
     ]
    },
    {
     "name": "stderr",
     "output_type": "stream",
     "text": []
    },
    {
     "name": "stdout",
     "output_type": "stream",
     "text": [
      "tensor([0.0000, 0.3333, 0.0000, 0.0000, 0.0000, 0.0000, 0.3333, 0.0000, 0.0000,\n",
      "        0.0000, 0.0000, 0.0000, 0.0000, 0.0000, 0.0000, 0.0000, 0.0000, 0.0000,\n",
      "        0.0000, 0.0000, 0.0000, 0.0000, 0.0000, 0.0000, 0.0000, 0.0000, 0.0000,\n",
      "        0.0000, 0.0000, 0.0000, 0.0000, 0.0000, 0.0000, 0.0000, 0.0000, 0.0000,\n",
      "        0.0000, 0.0000, 0.0000, 0.3333, 0.0000, 0.0000, 0.0000, 0.0000, 0.0000,\n",
      "        0.0000, 0.0000, 0.0000, 0.0000, 0.0000, 0.0000, 0.0000, 0.0000],\n",
      "       device='cuda:0')\n",
      "tensor([-0.2426,  4.0438, -0.2426, -0.2426, -0.2426, -0.2426,  4.0438, -0.2426,\n",
      "        -0.2426, -0.2426, -0.2426, -0.2426, -0.2426, -0.2426, -0.2426, -0.2426,\n",
      "        -0.2426, -0.2426, -0.2426, -0.2426, -0.2426, -0.2426, -0.2426, -0.2426,\n",
      "        -0.2426, -0.2426, -0.2426, -0.2426, -0.2426, -0.2426, -0.2426, -0.2426,\n",
      "        -0.2426, -0.2426, -0.2426, -0.2426, -0.2426, -0.2426, -0.2426,  4.0438,\n",
      "        -0.2426, -0.2426, -0.2426, -0.2426, -0.2426, -0.2426, -0.2426, -0.2426,\n",
      "        -0.2426, -0.2426, -0.2426, -0.2426, -0.2426], device='cuda:0')\n",
      "✅ Rewards: 0.0189\n",
      "✅ Loss: -0.0054\n",
      "-------Question---------\n",
      "Joy can read 8 pages of a book in 20 minutes. How many hours will it take her to read 120 pages?\n",
      "\n",
      "🧠 Inference Index 14\n",
      "🔍 Top-K Indices: [185, 232, 3, 14, 149, 140, 130, 90, 76, 58, 124, 119, 1, 117, 4, 247, 204, 144, 253, 157, 228, 88, 251, 66, 203, 64, 70, 96, 221, 136, 168, 102, 56, 161, 93, 238, 59, 223, 6, 78, 176, 206, 12, 172, 55, 128, 115, 50, 91, 211, 79, 77, 213]\n",
      "[INFO] Launching 159 parallel inference tasks...\n"
     ]
    },
    {
     "name": "stderr",
     "output_type": "stream",
     "text": []
    },
    {
     "name": "stdout",
     "output_type": "stream",
     "text": [
      "tensor([0.0000, 0.0000, 0.0000, 0.3333, 0.6667, 0.0000, 0.0000, 0.0000, 0.0000,\n",
      "        0.3333, 0.6667, 0.0000, 0.0000, 0.0000, 0.0000, 0.3333, 0.0000, 0.0000,\n",
      "        1.0000, 0.3333, 0.0000, 0.6667, 1.0000, 0.0000, 0.0000, 0.6667, 1.0000,\n",
      "        0.0000, 0.0000, 0.0000, 0.0000, 1.0000, 0.0000, 1.0000, 0.0000, 0.0000,\n",
      "        0.3333, 0.0000, 1.0000, 0.0000, 0.0000, 0.0000, 0.0000, 0.0000, 0.0000,\n",
      "        0.0000, 0.0000, 0.0000, 0.0000, 1.0000, 0.0000, 0.3333, 0.3333],\n",
      "       device='cuda:0')\n",
      "tensor([-0.6243, -0.6243, -0.6243,  0.2948,  1.2140, -0.6243, -0.6243, -0.6243,\n",
      "        -0.6243,  0.2948,  1.2140, -0.6243, -0.6243, -0.6243, -0.6243,  0.2948,\n",
      "        -0.6243, -0.6243,  2.1332,  0.2948, -0.6243,  1.2140,  2.1332, -0.6243,\n",
      "        -0.6243,  1.2140,  2.1332, -0.6243, -0.6243, -0.6243, -0.6243,  2.1332,\n",
      "        -0.6243,  2.1332, -0.6243, -0.6243,  0.2948, -0.6243,  2.1332, -0.6243,\n",
      "        -0.6243, -0.6243, -0.6243, -0.6243, -0.6243, -0.6243, -0.6243, -0.6243,\n",
      "        -0.6243,  2.1332, -0.6243,  0.2948,  0.2948], device='cuda:0')\n",
      "✅ Rewards: 0.2264\n",
      "✅ Loss: 0.0044\n",
      "-------Question---------\n",
      "James creates a media empire.  He creates a movie for $2000.  Each DVD cost $6 to make.  He sells it for 2.5 times that much.  He sells 500 movies a day for 5 days a week.  How much profit does he make in 20 weeks?\n",
      "\n",
      "🧠 Inference Index 15\n",
      "🔍 Top-K Indices: [64, 159, 251, 218, 140, 23, 38, 158, 30, 226, 157, 120, 161, 172, 88, 102, 144, 168, 196, 59, 81, 139, 162, 95, 206, 6, 240, 170, 152, 55, 51, 36, 25, 123, 156, 193, 253, 207, 209, 133, 94, 131, 177, 234, 204, 166, 113, 137, 176, 70, 153, 9, 222]\n",
      "[INFO] Launching 159 parallel inference tasks...\n"
     ]
    },
    {
     "name": "stderr",
     "output_type": "stream",
     "text": []
    },
    {
     "name": "stdout",
     "output_type": "stream",
     "text": [
      "tensor([0.0000, 0.3333, 0.0000, 0.0000, 0.0000, 0.0000, 0.0000, 0.0000, 0.0000,\n",
      "        0.0000, 0.0000, 0.0000, 0.0000, 0.3333, 0.0000, 0.0000, 0.0000, 0.0000,\n",
      "        0.0000, 0.0000, 0.0000, 0.0000, 0.0000, 0.0000, 0.0000, 0.0000, 0.0000,\n",
      "        0.0000, 0.0000, 0.0000, 0.0000, 0.0000, 0.0000, 0.0000, 0.0000, 0.0000,\n",
      "        0.0000, 0.0000, 0.0000, 0.0000, 0.0000, 0.3333, 0.0000, 0.0000, 0.0000,\n",
      "        0.0000, 0.0000, 0.0000, 0.0000, 0.0000, 0.0000, 0.0000, 0.0000],\n",
      "       device='cuda:0')\n",
      "tensor([-0.2426,  4.0438, -0.2426, -0.2426, -0.2426, -0.2426, -0.2426, -0.2426,\n",
      "        -0.2426, -0.2426, -0.2426, -0.2426, -0.2426,  4.0438, -0.2426, -0.2426,\n",
      "        -0.2426, -0.2426, -0.2426, -0.2426, -0.2426, -0.2426, -0.2426, -0.2426,\n",
      "        -0.2426, -0.2426, -0.2426, -0.2426, -0.2426, -0.2426, -0.2426, -0.2426,\n",
      "        -0.2426, -0.2426, -0.2426, -0.2426, -0.2426, -0.2426, -0.2426, -0.2426,\n",
      "        -0.2426,  4.0438, -0.2426, -0.2426, -0.2426, -0.2426, -0.2426, -0.2426,\n",
      "        -0.2426, -0.2426, -0.2426, -0.2426, -0.2426], device='cuda:0')\n",
      "✅ Rewards: 0.0189\n",
      "✅ Loss: 0.0288\n",
      "-------Question---------\n",
      "The profit from a business transaction is shared among 2 business partners, Mike and Johnson in the ratio 2:5 respectively. If Johnson got $2500, how much will Mike have after spending some of his share on a shirt that costs $200?\n",
      "\n",
      "🧠 Inference Index 16\n",
      "🔍 Top-K Indices: [55, 88, 65, 232, 117, 210, 142, 28, 90, 164, 233, 110, 49, 252, 103, 202, 204, 161, 79, 70, 212, 30, 137, 228, 94, 253, 159, 133, 218, 173, 112, 208, 101, 168, 15, 152, 176, 128, 158, 98, 59, 172, 247, 18, 58, 53, 83, 179, 165, 68, 33, 227, 237]\n",
      "[INFO] Launching 159 parallel inference tasks...\n"
     ]
    },
    {
     "name": "stderr",
     "output_type": "stream",
     "text": []
    },
    {
     "name": "stdout",
     "output_type": "stream",
     "text": [
      "tensor([0.0000, 0.0000, 0.0000, 0.0000, 0.0000, 0.0000, 0.0000, 0.0000, 0.0000,\n",
      "        0.0000, 0.0000, 0.0000, 0.0000, 0.0000, 0.0000, 0.0000, 0.0000, 0.0000,\n",
      "        0.0000, 0.0000, 0.0000, 0.0000, 0.3333, 0.0000, 0.0000, 0.0000, 0.0000,\n",
      "        0.0000, 0.0000, 0.0000, 0.0000, 0.0000, 0.0000, 0.0000, 0.0000, 0.0000,\n",
      "        0.0000, 0.0000, 0.0000, 0.0000, 0.0000, 0.0000, 0.0000, 0.0000, 0.0000,\n",
      "        0.0000, 0.3333, 0.0000, 1.0000, 0.0000, 0.0000, 0.0000, 0.0000],\n",
      "       device='cuda:0')\n",
      "tensor([-0.2097, -0.2097, -0.2097, -0.2097, -0.2097, -0.2097, -0.2097, -0.2097,\n",
      "        -0.2097, -0.2097, -0.2097, -0.2097, -0.2097, -0.2097, -0.2097, -0.2097,\n",
      "        -0.2097, -0.2097, -0.2097, -0.2097, -0.2097, -0.2097,  2.0127, -0.2097,\n",
      "        -0.2097, -0.2097, -0.2097, -0.2097, -0.2097, -0.2097, -0.2097, -0.2097,\n",
      "        -0.2097, -0.2097, -0.2097, -0.2097, -0.2097, -0.2097, -0.2097, -0.2097,\n",
      "        -0.2097, -0.2097, -0.2097, -0.2097, -0.2097, -0.2097,  2.0127, -0.2097,\n",
      "         6.4575, -0.2097, -0.2097, -0.2097, -0.2097], device='cuda:0')\n",
      "✅ Rewards: 0.0314\n",
      "✅ Loss: -0.0561\n",
      "-------Question---------\n",
      "In a truck, there are 26 pink hard hats, 15 green hard hats, and 24 yellow hard hats.  If Carl takes away 4 pink hard hats, and John takes away 6 pink hard hats and twice as many green hard hats as the number of pink hard hats that he removed, then calculate the total number of hard hats that remained in the truck.\n",
      "\n",
      "🧠 Inference Index 17\n",
      "🔍 Top-K Indices: [234, 83, 19, 96, 120, 24, 100, 166, 82, 60, 231, 38, 247, 53, 48, 29, 204, 88, 242, 145, 200, 13, 58, 20, 211, 210, 14, 150, 236, 89, 190, 130, 9, 64, 41, 207, 216, 198, 240, 66, 148, 37, 113, 182, 167, 44, 72, 233, 139, 160, 135, 102, 151]\n",
      "[INFO] Launching 159 parallel inference tasks...\n"
     ]
    },
    {
     "name": "stderr",
     "output_type": "stream",
     "text": []
    },
    {
     "name": "stdout",
     "output_type": "stream",
     "text": [
      "tensor([0.0000, 0.0000, 0.0000, 0.6667, 0.0000, 0.0000, 0.0000, 0.3333, 0.0000,\n",
      "        0.0000, 0.0000, 0.0000, 0.6667, 0.0000, 0.0000, 0.0000, 0.0000, 0.0000,\n",
      "        0.0000, 0.0000, 0.0000, 0.0000, 0.0000, 0.3333, 0.0000, 0.3333, 0.0000,\n",
      "        0.0000, 0.0000, 0.3333, 0.6667, 0.0000, 0.0000, 0.0000, 0.3333, 0.6667,\n",
      "        0.0000, 0.0000, 0.0000, 0.0000, 0.0000, 0.0000, 0.0000, 0.0000, 0.0000,\n",
      "        0.0000, 0.0000, 0.0000, 0.0000, 1.0000, 0.0000, 0.0000, 0.3333],\n",
      "       device='cuda:0')\n",
      "tensor([-0.4576, -0.4576, -0.4576,  2.3958, -0.4576, -0.4576, -0.4576,  0.9691,\n",
      "        -0.4576, -0.4576, -0.4576, -0.4576,  2.3958, -0.4576, -0.4576, -0.4576,\n",
      "        -0.4576, -0.4576, -0.4576, -0.4576, -0.4576, -0.4576, -0.4576,  0.9691,\n",
      "        -0.4576,  0.9691, -0.4576, -0.4576, -0.4576,  0.9691,  2.3958, -0.4576,\n",
      "        -0.4576, -0.4576,  0.9691,  2.3958, -0.4576, -0.4576, -0.4576, -0.4576,\n",
      "        -0.4576, -0.4576, -0.4576, -0.4576, -0.4576, -0.4576, -0.4576, -0.4576,\n",
      "        -0.4576,  3.8225, -0.4576, -0.4576,  0.9691], device='cuda:0')\n",
      "✅ Rewards: 0.1069\n",
      "✅ Loss: -0.0196\n",
      "-------Question---------\n",
      "It takes Roque two hours to walk to work and one hour to ride his bike to work. Roque walks to and from work three times a week and rides his bike to and from work twice a week. How many hours in total does he take to get to and from work a week with walking and biking?\n",
      "\n",
      "🧠 Inference Index 18\n",
      "🔍 Top-K Indices: [18, 0, 119, 220, 64, 81, 55, 2, 103, 129, 62, 16, 194, 157, 140, 30, 176, 78, 48, 92, 29, 221, 209, 9, 21, 237, 164, 79, 56, 45, 101, 253, 208, 218, 28, 99, 131, 94, 207, 71, 40, 185, 235, 1, 97, 210, 226, 109, 105, 179, 177, 152, 112]\n",
      "[INFO] Launching 159 parallel inference tasks...\n"
     ]
    },
    {
     "name": "stderr",
     "output_type": "stream",
     "text": []
    },
    {
     "name": "stdout",
     "output_type": "stream",
     "text": [
      "tensor([0.0000, 0.0000, 0.0000, 0.0000, 0.0000, 0.3333, 0.0000, 0.0000, 0.0000,\n",
      "        0.0000, 0.0000, 0.0000, 0.0000, 0.0000, 0.0000, 0.0000, 0.0000, 0.0000,\n",
      "        0.0000, 0.0000, 0.0000, 0.0000, 0.6667, 0.0000, 0.0000, 0.0000, 0.0000,\n",
      "        0.0000, 0.0000, 0.3333, 0.0000, 0.0000, 0.0000, 0.0000, 0.0000, 0.0000,\n",
      "        0.0000, 1.0000, 0.3333, 0.0000, 0.0000, 0.0000, 0.0000, 1.0000, 0.0000,\n",
      "        0.0000, 0.6667, 0.0000, 0.0000, 0.0000, 0.0000, 0.0000, 0.0000],\n",
      "       device='cuda:0')\n",
      "tensor([-0.3481, -0.3481, -0.3481, -0.3481, -0.3481,  1.0712, -0.3481, -0.3481,\n",
      "        -0.3481, -0.3481, -0.3481, -0.3481, -0.3481, -0.3481, -0.3481, -0.3481,\n",
      "        -0.3481, -0.3481, -0.3481, -0.3481, -0.3481, -0.3481,  2.4906, -0.3481,\n",
      "        -0.3481, -0.3481, -0.3481, -0.3481, -0.3481,  1.0712, -0.3481, -0.3481,\n",
      "        -0.3481, -0.3481, -0.3481, -0.3481, -0.3481,  3.9100,  1.0712, -0.3481,\n",
      "        -0.3481, -0.3481, -0.3481,  3.9100, -0.3481, -0.3481,  2.4906, -0.3481,\n",
      "        -0.3481, -0.3481, -0.3481, -0.3481, -0.3481], device='cuda:0')\n",
      "✅ Rewards: 0.0818\n",
      "✅ Loss: -0.0301\n",
      "-------Question---------\n",
      "Tim rides his bike back and forth to work for each of his 5 workdays.  His work is 20 miles away.  He also goes for a weekend bike ride of 200 miles.    If he can bike at 25 mph how much time does he spend biking a week?\n",
      "\n",
      "🧠 Inference Index 19\n",
      "🔍 Top-K Indices: [0, 228, 70, 94, 207, 119, 179, 64, 194, 101, 81, 112, 232, 217, 105, 57, 49, 157, 145, 6, 235, 197, 22, 233, 5, 152, 86, 168, 202, 63, 73, 91, 28, 131, 253, 210, 87, 208, 166, 237, 219, 23, 65, 153, 254, 175, 221, 226, 142, 79, 40, 9, 55]\n",
      "[INFO] Launching 159 parallel inference tasks...\n"
     ]
    },
    {
     "name": "stderr",
     "output_type": "stream",
     "text": [
      "Examples: 100%|██████████| 20/20 [02:50<00:00,  8.51s/it]\n",
      "Training Steps:  90%|█████████ | 9/10 [25:22<02:49, 169.74s/it]"
     ]
    },
    {
     "name": "stdout",
     "output_type": "stream",
     "text": [
      "tensor([0.0000, 1.0000, 1.0000, 0.0000, 0.0000, 0.3333, 0.3333, 1.0000, 1.0000,\n",
      "        0.0000, 0.0000, 0.3333, 0.6667, 0.0000, 0.3333, 0.0000, 0.0000, 0.0000,\n",
      "        0.0000, 0.0000, 0.0000, 0.3333, 0.6667, 0.0000, 0.0000, 0.3333, 0.0000,\n",
      "        0.3333, 0.3333, 0.0000, 0.0000, 0.0000, 0.6667, 0.3333, 0.3333, 0.0000,\n",
      "        0.6667, 0.6667, 1.0000, 0.0000, 0.3333, 0.0000, 0.3333, 0.0000, 0.3333,\n",
      "        0.0000, 0.0000, 0.0000, 0.0000, 0.6667, 0.0000, 1.0000, 0.0000],\n",
      "       device='cuda:0')\n",
      "tensor([-0.7810,  2.1069,  2.1069, -0.7810, -0.7810,  0.1816,  0.1816,  2.1069,\n",
      "         2.1069, -0.7810, -0.7810,  0.1816,  1.1443, -0.7810,  0.1816, -0.7810,\n",
      "        -0.7810, -0.7810, -0.7810, -0.7810, -0.7810,  0.1816,  1.1443, -0.7810,\n",
      "        -0.7810,  0.1816, -0.7810,  0.1816,  0.1816, -0.7810, -0.7810, -0.7810,\n",
      "         1.1443,  0.1816,  0.1816, -0.7810,  1.1443,  1.1443,  2.1069, -0.7810,\n",
      "         0.1816, -0.7810,  0.1816, -0.7810,  0.1816, -0.7810, -0.7810, -0.7810,\n",
      "        -0.7810,  1.1443, -0.7810,  2.1069, -0.7810], device='cuda:0')\n",
      "✅ Rewards: 0.2704\n",
      "✅ Loss: 0.0063\n",
      "\n",
      "=== Training Step 10 ===\n"
     ]
    },
    {
     "name": "stderr",
     "output_type": "stream",
     "text": []
    },
    {
     "name": "stdout",
     "output_type": "stream",
     "text": [
      "-------Question---------\n",
      "Natalia sold clips to 48 of her friends in April, and then she sold half as many clips in May. How many clips did Natalia sell altogether in April and May?\n",
      "\n",
      "🧠 Inference Index 0\n",
      "🔍 Top-K Indices: [228, 119, 82, 207, 17, 210, 18, 198, 81, 48, 78, 51, 35, 222, 178, 195, 181, 158, 218, 64, 29, 70, 145, 55, 92, 194, 109, 118, 217, 159, 103, 45, 239, 72, 140, 94, 59, 220, 163, 0, 169, 49, 233, 4, 164, 232, 171, 214, 69, 139, 252, 184, 219]\n",
      "[INFO] Launching 159 parallel inference tasks...\n"
     ]
    },
    {
     "name": "stderr",
     "output_type": "stream",
     "text": []
    },
    {
     "name": "stdout",
     "output_type": "stream",
     "text": [
      "tensor([1.0000, 1.0000, 1.0000, 1.0000, 1.0000, 1.0000, 1.0000, 1.0000, 1.0000,\n",
      "        1.0000, 1.0000, 1.0000, 1.0000, 1.0000, 1.0000, 1.0000, 1.0000, 1.0000,\n",
      "        1.0000, 1.0000, 1.0000, 1.0000, 0.3333, 0.3333, 1.0000, 1.0000, 1.0000,\n",
      "        0.6667, 0.0000, 1.0000, 1.0000, 0.6667, 0.6667, 1.0000, 0.0000, 1.0000,\n",
      "        1.0000, 1.0000, 1.0000, 1.0000, 1.0000, 1.0000, 1.0000, 1.0000, 0.6667,\n",
      "        1.0000, 1.0000, 0.6667, 0.0000, 1.0000, 1.0000, 1.0000, 1.0000],\n",
      "       device='cuda:0')\n",
      "tensor([ 0.4207,  0.4207,  0.4207,  0.4207,  0.4207,  0.4207,  0.4207,  0.4207,\n",
      "         0.4207,  0.4207,  0.4207,  0.4207,  0.4207,  0.4207,  0.4207,  0.4207,\n",
      "         0.4207,  0.4207,  0.4207,  0.4207,  0.4207,  0.4207, -2.0568, -2.0568,\n",
      "         0.4207,  0.4207,  0.4207, -0.8180, -3.2956,  0.4207,  0.4207, -0.8180,\n",
      "        -0.8180,  0.4207, -3.2956,  0.4207,  0.4207,  0.4207,  0.4207,  0.4207,\n",
      "         0.4207,  0.4207,  0.4207,  0.4207, -0.8180,  0.4207,  0.4207, -0.8180,\n",
      "        -3.2956,  0.4207,  0.4207,  0.4207,  0.4207], device='cuda:0')\n",
      "✅ Rewards: 0.8868\n",
      "✅ Loss: 0.0068\n",
      "-------Question---------\n",
      "Weng earns $12 an hour for babysitting. Yesterday, she just did 50 minutes of babysitting. How much did she earn?\n",
      "\n",
      "🧠 Inference Index 1\n",
      "🔍 Top-K Indices: [194, 163, 35, 53, 22, 51, 105, 228, 13, 155, 65, 181, 95, 157, 28, 161, 85, 30, 55, 110, 198, 152, 56, 8, 63, 238, 137, 183, 251, 131, 103, 117, 159, 94, 70, 240, 101, 219, 18, 253, 122, 208, 235, 120, 64, 201, 87, 146, 234, 48, 241, 69, 135]\n",
      "[INFO] Launching 159 parallel inference tasks...\n"
     ]
    },
    {
     "name": "stderr",
     "output_type": "stream",
     "text": []
    },
    {
     "name": "stdout",
     "output_type": "stream",
     "text": [
      "tensor([1., 1., 1., 1., 1., 1., 1., 1., 1., 1., 1., 1., 1., 1., 1., 1., 1., 1.,\n",
      "        1., 1., 1., 1., 1., 1., 1., 1., 1., 1., 1., 1., 1., 1., 1., 1., 1., 1.,\n",
      "        1., 1., 1., 1., 1., 1., 1., 1., 1., 1., 1., 1., 1., 1., 1., 1., 1.],\n",
      "       device='cuda:0')\n",
      "tensor([0., 0., 0., 0., 0., 0., 0., 0., 0., 0., 0., 0., 0., 0., 0., 0., 0., 0., 0., 0., 0., 0., 0., 0.,\n",
      "        0., 0., 0., 0., 0., 0., 0., 0., 0., 0., 0., 0., 0., 0., 0., 0., 0., 0., 0., 0., 0., 0., 0., 0.,\n",
      "        0., 0., 0., 0., 0.], device='cuda:0')\n",
      "✅ Rewards: 1.0000\n",
      "✅ Loss: -0.0000\n",
      "-------Question---------\n",
      "Betty is saving money for a new wallet which costs $100. Betty has only half of the money she needs. Her parents decided to give her $15 for that purpose, and her grandparents twice as much as her parents. How much more money does Betty need to buy the wallet?\n",
      "\n",
      "🧠 Inference Index 2\n",
      "🔍 Top-K Indices: [2, 13, 228, 128, 117, 204, 121, 229, 105, 112, 72, 44, 161, 153, 196, 77, 245, 120, 23, 56, 156, 65, 71, 159, 253, 118, 3, 175, 51, 96, 102, 82, 225, 53, 91, 36, 248, 249, 28, 221, 64, 157, 176, 84, 76, 199, 201, 4, 19, 88, 86, 136, 48]\n",
      "[INFO] Launching 159 parallel inference tasks...\n"
     ]
    },
    {
     "name": "stderr",
     "output_type": "stream",
     "text": []
    },
    {
     "name": "stdout",
     "output_type": "stream",
     "text": [
      "tensor([0.6667, 1.0000, 1.0000, 1.0000, 1.0000, 0.6667, 1.0000, 1.0000, 1.0000,\n",
      "        0.6667, 1.0000, 1.0000, 1.0000, 1.0000, 1.0000, 1.0000, 1.0000, 1.0000,\n",
      "        1.0000, 1.0000, 1.0000, 1.0000, 0.6667, 0.3333, 1.0000, 1.0000, 1.0000,\n",
      "        1.0000, 1.0000, 1.0000, 1.0000, 1.0000, 0.0000, 1.0000, 1.0000, 1.0000,\n",
      "        1.0000, 1.0000, 1.0000, 0.0000, 0.6667, 1.0000, 1.0000, 1.0000, 0.6667,\n",
      "        1.0000, 1.0000, 1.0000, 1.0000, 1.0000, 1.0000, 1.0000, 1.0000],\n",
      "       device='cuda:0')\n",
      "tensor([-1.0764,  0.3864,  0.3864,  0.3864,  0.3864, -1.0764,  0.3864,  0.3864,\n",
      "         0.3864, -1.0764,  0.3864,  0.3864,  0.3864,  0.3864,  0.3864,  0.3864,\n",
      "         0.3864,  0.3864,  0.3864,  0.3864,  0.3864,  0.3864, -1.0764, -2.5392,\n",
      "         0.3864,  0.3864,  0.3864,  0.3864,  0.3864,  0.3864,  0.3864,  0.3864,\n",
      "        -4.0020,  0.3864,  0.3864,  0.3864,  0.3864,  0.3864,  0.3864, -4.0020,\n",
      "        -1.0764,  0.3864,  0.3864,  0.3864, -1.0764,  0.3864,  0.3864,  0.3864,\n",
      "         0.3864,  0.3864,  0.3864,  0.3864,  0.3864], device='cuda:0')\n",
      "✅ Rewards: 0.9119\n",
      "✅ Loss: 0.0099\n",
      "-------Question---------\n",
      "Julie is reading a 120-page book. Yesterday, she was able to read 12 pages and today, she read twice as many pages as yesterday. If she wants to read half of the remaining pages tomorrow, how many pages should she read?\n",
      "\n",
      "🧠 Inference Index 3\n",
      "🔍 Top-K Indices: [13, 130, 140, 77, 145, 251, 196, 161, 30, 5, 112, 211, 149, 14, 119, 157, 23, 221, 64, 204, 190, 8, 48, 3, 120, 93, 56, 230, 55, 94, 139, 249, 113, 29, 78, 115, 136, 128, 50, 72, 241, 108, 185, 228, 173, 79, 158, 147, 57, 240, 21, 63, 203]\n",
      "[INFO] Launching 159 parallel inference tasks...\n"
     ]
    },
    {
     "name": "stderr",
     "output_type": "stream",
     "text": []
    },
    {
     "name": "stdout",
     "output_type": "stream",
     "text": [
      "tensor([0.0000, 0.0000, 0.0000, 0.0000, 0.0000, 0.0000, 0.0000, 0.0000, 0.0000,\n",
      "        0.0000, 0.0000, 0.0000, 0.0000, 0.0000, 0.0000, 0.0000, 0.0000, 0.0000,\n",
      "        0.0000, 0.0000, 0.0000, 0.0000, 0.0000, 0.0000, 0.0000, 0.0000, 0.0000,\n",
      "        0.0000, 0.0000, 0.0000, 0.0000, 0.0000, 0.0000, 0.0000, 0.0000, 0.0000,\n",
      "        0.0000, 0.0000, 0.0000, 0.0000, 0.0000, 0.0000, 0.0000, 0.0000, 0.0000,\n",
      "        0.0000, 0.0000, 0.0000, 0.0000, 0.3333, 0.0000, 0.0000, 0.0000],\n",
      "       device='cuda:0')\n",
      "tensor([-0.1374, -0.1374, -0.1374, -0.1374, -0.1374, -0.1374, -0.1374, -0.1374,\n",
      "        -0.1374, -0.1374, -0.1374, -0.1374, -0.1374, -0.1374, -0.1374, -0.1374,\n",
      "        -0.1374, -0.1374, -0.1374, -0.1374, -0.1374, -0.1374, -0.1374, -0.1374,\n",
      "        -0.1374, -0.1374, -0.1374, -0.1374, -0.1374, -0.1374, -0.1374, -0.1374,\n",
      "        -0.1374, -0.1374, -0.1374, -0.1374, -0.1374, -0.1374, -0.1374, -0.1374,\n",
      "        -0.1374, -0.1374, -0.1374, -0.1374, -0.1374, -0.1374, -0.1374, -0.1374,\n",
      "        -0.1374,  7.1427, -0.1374, -0.1374, -0.1374], device='cuda:0')\n",
      "✅ Rewards: 0.0063\n",
      "✅ Loss: 0.0588\n",
      "-------Question---------\n",
      "James writes a 3-page letter to 2 different friends twice a week.  How many pages does he write a year?\n",
      "\n",
      "🧠 Inference Index 4\n",
      "🔍 Top-K Indices: [145, 13, 220, 69, 14, 196, 93, 53, 3, 77, 118, 206, 228, 200, 232, 157, 55, 95, 103, 74, 121, 201, 133, 144, 19, 161, 59, 68, 73, 5, 8, 202, 45, 253, 197, 30, 221, 81, 158, 150, 134, 43, 117, 204, 78, 94, 199, 249, 163, 51, 238, 99, 198]\n",
      "[INFO] Launching 159 parallel inference tasks...\n"
     ]
    },
    {
     "name": "stderr",
     "output_type": "stream",
     "text": []
    },
    {
     "name": "stdout",
     "output_type": "stream",
     "text": [
      "tensor([0.6667, 0.3333, 0.6667, 0.0000, 0.0000, 0.0000, 1.0000, 1.0000, 1.0000,\n",
      "        0.0000, 0.0000, 1.0000, 0.3333, 0.0000, 0.0000, 0.0000, 0.0000, 0.0000,\n",
      "        0.0000, 0.6667, 0.3333, 0.0000, 0.6667, 0.0000, 0.0000, 0.0000, 0.0000,\n",
      "        0.0000, 0.0000, 0.0000, 0.0000, 0.0000, 0.0000, 0.0000, 0.0000, 1.0000,\n",
      "        0.0000, 0.0000, 0.0000, 0.0000, 0.0000, 1.0000, 0.0000, 0.0000, 0.0000,\n",
      "        0.0000, 0.0000, 0.0000, 0.0000, 0.0000, 0.3333, 0.0000, 0.0000],\n",
      "       device='cuda:0')\n",
      "tensor([ 1.3694,  0.4144,  1.3694, -0.5406, -0.5406, -0.5406,  2.3244,  2.3244,\n",
      "         2.3244, -0.5406, -0.5406,  2.3244,  0.4144, -0.5406, -0.5406, -0.5406,\n",
      "        -0.5406, -0.5406, -0.5406,  1.3694,  0.4144, -0.5406,  1.3694, -0.5406,\n",
      "        -0.5406, -0.5406, -0.5406, -0.5406, -0.5406, -0.5406, -0.5406, -0.5406,\n",
      "        -0.5406, -0.5406, -0.5406,  2.3244, -0.5406, -0.5406, -0.5406, -0.5406,\n",
      "        -0.5406,  2.3244, -0.5406, -0.5406, -0.5406, -0.5406, -0.5406, -0.5406,\n",
      "        -0.5406, -0.5406,  0.4144, -0.5406, -0.5406], device='cuda:0')\n",
      "✅ Rewards: 0.1887\n",
      "✅ Loss: -0.0308\n",
      "-------Question---------\n",
      "Mark has a garden with flowers. He planted plants of three different colors in it. Ten of them are yellow, and there are 80% more of those in purple. There are only 25% as many green flowers as there are yellow and purple flowers. How many flowers does Mark have in his garden?\n",
      "\n",
      "🧠 Inference Index 5\n",
      "🔍 Top-K Indices: [25, 228, 70, 142, 83, 239, 154, 171, 237, 128, 160, 135, 241, 220, 202, 194, 156, 78, 61, 51, 75, 92, 253, 85, 14, 226, 94, 64, 2, 101, 163, 204, 109, 201, 166, 105, 72, 104, 249, 82, 207, 157, 161, 170, 18, 95, 238, 212, 146, 110, 131, 3, 244]\n",
      "[INFO] Launching 159 parallel inference tasks...\n"
     ]
    },
    {
     "name": "stderr",
     "output_type": "stream",
     "text": []
    },
    {
     "name": "stdout",
     "output_type": "stream",
     "text": [
      "tensor([0.0000, 0.0000, 0.3333, 0.0000, 0.0000, 0.0000, 0.0000, 0.0000, 0.0000,\n",
      "        1.0000, 0.0000, 0.3333, 0.0000, 0.6667, 0.0000, 0.0000, 0.3333, 1.0000,\n",
      "        0.6667, 1.0000, 1.0000, 0.6667, 0.0000, 0.0000, 0.0000, 1.0000, 0.0000,\n",
      "        0.0000, 0.0000, 0.0000, 0.0000, 0.6667, 0.0000, 0.3333, 0.0000, 0.3333,\n",
      "        1.0000, 0.0000, 0.0000, 0.0000, 1.0000, 0.0000, 0.0000, 0.0000, 0.0000,\n",
      "        0.3333, 0.0000, 0.0000, 0.0000, 0.3333, 0.0000, 0.6667, 0.0000],\n",
      "       device='cuda:0')\n",
      "tensor([-0.6527, -0.6527,  0.2576, -0.6527, -0.6527, -0.6527, -0.6527, -0.6527,\n",
      "        -0.6527,  2.0782, -0.6527,  0.2576, -0.6527,  1.1679, -0.6527, -0.6527,\n",
      "         0.2576,  2.0782,  1.1679,  2.0782,  2.0782,  1.1679, -0.6527, -0.6527,\n",
      "        -0.6527,  2.0782, -0.6527, -0.6527, -0.6527, -0.6527, -0.6527,  1.1679,\n",
      "        -0.6527,  0.2576, -0.6527,  0.2576,  2.0782, -0.6527, -0.6527, -0.6527,\n",
      "         2.0782, -0.6527, -0.6527, -0.6527, -0.6527,  0.2576, -0.6527, -0.6527,\n",
      "        -0.6527,  0.2576, -0.6527,  1.1679, -0.6527], device='cuda:0')\n",
      "✅ Rewards: 0.2390\n",
      "✅ Loss: -0.0199\n",
      "-------Question---------\n",
      "Albert is wondering how much pizza he can eat in one day. He buys 2 large pizzas and 2 small pizzas. A large pizza has 16 slices and a small pizza has 8 slices. If he eats it all, how many pieces does he eat that day?\n",
      "\n",
      "🧠 Inference Index 6\n",
      "🔍 Top-K Indices: [152, 86, 204, 211, 228, 159, 51, 220, 49, 167, 64, 197, 20, 253, 162, 237, 107, 170, 24, 206, 40, 19, 165, 56, 84, 128, 144, 106, 250, 151, 75, 133, 158, 61, 97, 199, 190, 72, 10, 113, 94, 177, 173, 196, 234, 123, 57, 59, 68, 88, 60, 230, 82]\n",
      "[INFO] Launching 159 parallel inference tasks...\n"
     ]
    },
    {
     "name": "stderr",
     "output_type": "stream",
     "text": []
    },
    {
     "name": "stdout",
     "output_type": "stream",
     "text": [
      "tensor([1.0000, 1.0000, 1.0000, 0.6667, 1.0000, 1.0000, 1.0000, 1.0000, 1.0000,\n",
      "        1.0000, 0.3333, 1.0000, 0.6667, 0.0000, 1.0000, 1.0000, 1.0000, 1.0000,\n",
      "        0.6667, 0.6667, 1.0000, 1.0000, 1.0000, 1.0000, 1.0000, 1.0000, 1.0000,\n",
      "        1.0000, 1.0000, 1.0000, 1.0000, 0.3333, 0.3333, 1.0000, 0.3333, 1.0000,\n",
      "        1.0000, 0.6667, 0.3333, 1.0000, 1.0000, 1.0000, 1.0000, 1.0000, 1.0000,\n",
      "        1.0000, 1.0000, 1.0000, 1.0000, 1.0000, 1.0000, 1.0000, 1.0000],\n",
      "       device='cuda:0')\n",
      "tensor([ 0.4638,  0.4638,  0.4638, -0.9018,  0.4638,  0.4638,  0.4638,  0.4638,\n",
      "         0.4638,  0.4638, -2.2673,  0.4638, -0.9018, -3.6328,  0.4638,  0.4638,\n",
      "         0.4638,  0.4638, -0.9018, -0.9018,  0.4638,  0.4638,  0.4638,  0.4638,\n",
      "         0.4638,  0.4638,  0.4638,  0.4638,  0.4638,  0.4638,  0.4638, -2.2673,\n",
      "        -2.2673,  0.4638, -2.2673,  0.4638,  0.4638, -0.9018, -2.2673,  0.4638,\n",
      "         0.4638,  0.4638,  0.4638,  0.4638,  0.4638,  0.4638,  0.4638,  0.4638,\n",
      "         0.4638,  0.4638,  0.4638,  0.4638,  0.4638], device='cuda:0')\n",
      "✅ Rewards: 0.8868\n",
      "✅ Loss: 0.0121\n",
      "-------Question---------\n",
      "Ken created a care package to send to his brother, who was away at boarding school.  Ken placed a box on a scale, and then he poured into the box enough jelly beans to bring the weight to 2 pounds.  Then, he added enough brownies to cause the weight to triple.  Next, he added another 2 pounds of jelly beans.  And finally, he added enough gummy worms to double the weight once again.  What was the final weight of the box of goodies, in pounds?\n",
      "\n",
      "🧠 Inference Index 7\n",
      "🔍 Top-K Indices: [7, 60, 97, 58, 226, 14, 193, 162, 230, 234, 115, 120, 159, 96, 16, 10, 23, 174, 224, 218, 62, 155, 130, 204, 215, 138, 251, 70, 110, 219, 116, 181, 31, 36, 85, 86, 233, 12, 201, 196, 249, 29, 24, 44, 242, 231, 51, 66, 87, 6, 133, 211, 177]\n",
      "[INFO] Launching 159 parallel inference tasks...\n"
     ]
    },
    {
     "name": "stderr",
     "output_type": "stream",
     "text": []
    },
    {
     "name": "stdout",
     "output_type": "stream",
     "text": [
      "tensor([0.0000, 0.0000, 0.0000, 0.0000, 0.0000, 0.0000, 0.3333, 0.3333, 0.3333,\n",
      "        0.0000, 0.0000, 0.0000, 0.0000, 0.0000, 0.0000, 0.0000, 0.6667, 0.0000,\n",
      "        0.0000, 0.3333, 1.0000, 0.0000, 1.0000, 0.6667, 0.0000, 0.6667, 1.0000,\n",
      "        0.3333, 0.6667, 0.3333, 0.3333, 0.0000, 0.0000, 1.0000, 0.6667, 0.3333,\n",
      "        0.3333, 1.0000, 0.3333, 0.0000, 0.0000, 0.0000, 0.0000, 0.0000, 0.3333,\n",
      "        0.3333, 0.3333, 0.0000, 0.3333, 0.0000, 0.0000, 0.3333, 0.3333],\n",
      "       device='cuda:0')\n",
      "tensor([-0.7946, -0.7946, -0.7946, -0.7946, -0.7946, -0.7946,  0.2326,  0.2326,\n",
      "         0.2326, -0.7946, -0.7946, -0.7946, -0.7946, -0.7946, -0.7946, -0.7946,\n",
      "         1.2598, -0.7946, -0.7946,  0.2326,  2.2870, -0.7946,  2.2870,  1.2598,\n",
      "        -0.7946,  1.2598,  2.2870,  0.2326,  1.2598,  0.2326,  0.2326, -0.7946,\n",
      "        -0.7946,  2.2870,  1.2598,  0.2326,  0.2326,  2.2870,  0.2326, -0.7946,\n",
      "        -0.7946, -0.7946, -0.7946, -0.7946,  0.2326,  0.2326,  0.2326, -0.7946,\n",
      "         0.2326, -0.7946, -0.7946,  0.2326,  0.2326], device='cuda:0')\n",
      "✅ Rewards: 0.2579\n",
      "✅ Loss: 0.0040\n",
      "-------Question---------\n",
      "Alexis is applying for a new job and bought a new set of business clothes to wear to the interview. She went to a department store with a budget of $200 and spent $30 on a button-up shirt, $46 on suit pants, $38 on a suit coat, $11 on socks, and $18 on a belt. She also purchased a pair of shoes, but lost the receipt for them. She has $16 left from her budget. How much did Alexis pay for the shoes?\n",
      "\n",
      "🧠 Inference Index 8\n",
      "🔍 Top-K Indices: [96, 7, 106, 12, 198, 204, 60, 230, 23, 24, 62, 218, 116, 115, 224, 16, 201, 233, 44, 121, 139, 26, 248, 53, 234, 58, 98, 149, 102, 10, 174, 14, 48, 246, 215, 74, 251, 253, 226, 211, 202, 92, 183, 142, 79, 85, 66, 70, 164, 49, 36, 40, 176]\n",
      "[INFO] Launching 159 parallel inference tasks...\n"
     ]
    },
    {
     "name": "stderr",
     "output_type": "stream",
     "text": []
    },
    {
     "name": "stdout",
     "output_type": "stream",
     "text": [
      "tensor([0.0000, 1.0000, 1.0000, 1.0000, 1.0000, 0.3333, 0.3333, 1.0000, 1.0000,\n",
      "        1.0000, 1.0000, 1.0000, 1.0000, 1.0000, 0.6667, 0.6667, 1.0000, 0.0000,\n",
      "        0.3333, 1.0000, 0.3333, 1.0000, 1.0000, 1.0000, 0.6667, 0.3333, 1.0000,\n",
      "        0.0000, 1.0000, 1.0000, 0.6667, 0.0000, 0.0000, 1.0000, 0.0000, 0.6667,\n",
      "        1.0000, 1.0000, 1.0000, 1.0000, 1.0000, 1.0000, 1.0000, 1.0000, 0.0000,\n",
      "        0.3333, 0.6667, 0.0000, 0.0000, 1.0000, 1.0000, 1.0000, 1.0000],\n",
      "       device='cuda:0')\n",
      "tensor([-1.8180,  0.7176,  0.7176,  0.7176,  0.7176, -0.9728, -0.9728,  0.7176,\n",
      "         0.7176,  0.7176,  0.7176,  0.7176,  0.7176,  0.7176, -0.1276, -0.1276,\n",
      "         0.7176, -1.8180, -0.9728,  0.7176, -0.9728,  0.7176,  0.7176,  0.7176,\n",
      "        -0.1276, -0.9728,  0.7176, -1.8180,  0.7176,  0.7176, -0.1276, -1.8180,\n",
      "        -1.8180,  0.7176, -1.8180, -0.1276,  0.7176,  0.7176,  0.7176,  0.7176,\n",
      "         0.7176,  0.7176,  0.7176,  0.7176, -1.8180, -0.9728, -0.1276, -1.8180,\n",
      "        -1.8180,  0.7176,  0.7176,  0.7176,  0.7176], device='cuda:0')\n",
      "✅ Rewards: 0.7170\n",
      "✅ Loss: -0.0297\n",
      "-------Question---------\n",
      "Tina makes $18.00 an hour.  If she works more than 8 hours per shift, she is eligible for overtime, which is paid by your hourly wage + 1/2 your hourly wage.  If she works 10 hours every day for 5 days, how much money does she make?\n",
      "\n",
      "🧠 Inference Index 9\n",
      "🔍 Top-K Indices: [95, 6, 253, 220, 85, 49, 202, 215, 140, 82, 207, 204, 81, 181, 64, 14, 235, 2, 75, 197, 91, 21, 134, 179, 92, 40, 30, 151, 158, 29, 45, 70, 72, 63, 128, 109, 206, 189, 184, 233, 18, 226, 210, 59, 185, 119, 221, 102, 236, 177, 217, 44, 145]\n",
      "[INFO] Launching 159 parallel inference tasks...\n"
     ]
    },
    {
     "name": "stderr",
     "output_type": "stream",
     "text": []
    },
    {
     "name": "stdout",
     "output_type": "stream",
     "text": [
      "tensor([0.6667, 0.0000, 0.0000, 0.0000, 0.0000, 0.0000, 0.0000, 0.0000, 0.0000,\n",
      "        0.0000, 0.0000, 0.0000, 0.0000, 0.0000, 0.0000, 0.0000, 0.0000, 0.0000,\n",
      "        0.0000, 0.0000, 0.0000, 0.0000, 0.3333, 0.0000, 0.0000, 0.0000, 1.0000,\n",
      "        0.0000, 0.0000, 0.3333, 0.0000, 0.0000, 0.0000, 0.0000, 0.0000, 0.0000,\n",
      "        0.0000, 0.0000, 0.0000, 0.0000, 0.0000, 0.0000, 0.0000, 0.0000, 0.0000,\n",
      "        0.0000, 0.0000, 0.0000, 0.0000, 0.0000, 0.0000, 0.0000, 0.3333],\n",
      "       device='cuda:0')\n",
      "tensor([ 3.4668, -0.2830, -0.2830, -0.2830, -0.2830, -0.2830, -0.2830, -0.2830,\n",
      "        -0.2830, -0.2830, -0.2830, -0.2830, -0.2830, -0.2830, -0.2830, -0.2830,\n",
      "        -0.2830, -0.2830, -0.2830, -0.2830, -0.2830, -0.2830,  1.5919, -0.2830,\n",
      "        -0.2830, -0.2830,  5.3417, -0.2830, -0.2830,  1.5919, -0.2830, -0.2830,\n",
      "        -0.2830, -0.2830, -0.2830, -0.2830, -0.2830, -0.2830, -0.2830, -0.2830,\n",
      "        -0.2830, -0.2830, -0.2830, -0.2830, -0.2830, -0.2830, -0.2830, -0.2830,\n",
      "        -0.2830, -0.2830, -0.2830, -0.2830,  1.5919], device='cuda:0')\n",
      "✅ Rewards: 0.0503\n",
      "✅ Loss: -0.0445\n",
      "-------Question---------\n",
      "A deep-sea monster rises from the waters once every hundred years to feast on a ship and sate its hunger. Over three hundred years, it has consumed 847 people. Ships have been built larger over time, so each new ship has twice as many people as the last ship. How many people were on the ship the monster ate in the first hundred years?\n",
      "\n",
      "🧠 Inference Index 10\n",
      "🔍 Top-K Indices: [224, 100, 204, 96, 143, 80, 60, 11, 174, 126, 182, 26, 62, 130, 138, 31, 216, 152, 246, 181, 211, 234, 44, 98, 7, 10, 116, 25, 240, 248, 75, 193, 218, 231, 16, 236, 93, 213, 94, 58, 24, 76, 212, 186, 223, 232, 184, 159, 32, 215, 74, 19, 117]\n",
      "[INFO] Launching 159 parallel inference tasks...\n"
     ]
    },
    {
     "name": "stderr",
     "output_type": "stream",
     "text": []
    },
    {
     "name": "stdout",
     "output_type": "stream",
     "text": [
      "tensor([0.0000, 0.0000, 0.0000, 0.0000, 0.0000, 0.3333, 0.3333, 0.3333, 0.0000,\n",
      "        0.0000, 0.0000, 0.3333, 0.0000, 0.0000, 0.0000, 0.0000, 0.0000, 0.0000,\n",
      "        0.6667, 0.0000, 0.0000, 0.0000, 0.0000, 0.0000, 0.0000, 0.0000, 0.0000,\n",
      "        0.0000, 0.3333, 0.0000, 0.0000, 0.0000, 0.0000, 0.0000, 0.0000, 0.0000,\n",
      "        0.0000, 0.0000, 0.0000, 0.0000, 0.6667, 0.0000, 0.0000, 0.0000, 0.0000,\n",
      "        0.0000, 0.0000, 0.0000, 0.0000, 0.3333, 0.0000, 0.0000, 0.0000],\n",
      "       device='cuda:0')\n",
      "tensor([-0.3909, -0.3909, -0.3909, -0.3909, -0.3909,  1.6810,  1.6810,  1.6810,\n",
      "        -0.3909, -0.3909, -0.3909,  1.6810, -0.3909, -0.3909, -0.3909, -0.3909,\n",
      "        -0.3909, -0.3909,  3.7529, -0.3909, -0.3909, -0.3909, -0.3909, -0.3909,\n",
      "        -0.3909, -0.3909, -0.3909, -0.3909,  1.6810, -0.3909, -0.3909, -0.3909,\n",
      "        -0.3909, -0.3909, -0.3909, -0.3909, -0.3909, -0.3909, -0.3909, -0.3909,\n",
      "         3.7529, -0.3909, -0.3909, -0.3909, -0.3909, -0.3909, -0.3909, -0.3909,\n",
      "        -0.3909,  1.6810, -0.3909, -0.3909, -0.3909], device='cuda:0')\n",
      "✅ Rewards: 0.0629\n",
      "✅ Loss: -0.0017\n",
      "-------Question---------\n",
      "Tobias is buying a new pair of shoes that costs $95. He has been saving up his money each month for the past three months. He gets a $5 allowance a month. He also mows lawns and shovels driveways. He charges $15 to mow a lawn and $7 to shovel. After buying the shoes, he has $15 in change. If he mows 4 lawns, how many driveways did he shovel?\n",
      "\n",
      "🧠 Inference Index 11\n",
      "🔍 Top-K Indices: [177, 161, 198, 70, 51, 226, 43, 38, 49, 158, 167, 89, 171, 233, 82, 163, 219, 181, 122, 215, 88, 154, 142, 60, 131, 173, 29, 128, 123, 6, 64, 36, 236, 12, 168, 115, 14, 244, 90, 152, 253, 53, 151, 9, 40, 247, 75, 95, 147, 124, 238, 162, 186]\n",
      "[INFO] Launching 159 parallel inference tasks...\n"
     ]
    },
    {
     "name": "stderr",
     "output_type": "stream",
     "text": []
    },
    {
     "name": "stdout",
     "output_type": "stream",
     "text": [
      "tensor([0.0000, 0.0000, 0.0000, 0.0000, 0.0000, 0.0000, 0.0000, 0.0000, 0.0000,\n",
      "        0.3333, 0.0000, 0.0000, 0.0000, 0.0000, 0.0000, 0.0000, 0.0000, 0.0000,\n",
      "        0.0000, 0.0000, 0.0000, 0.0000, 0.0000, 0.0000, 0.3333, 0.0000, 0.0000,\n",
      "        0.0000, 0.0000, 0.0000, 0.3333, 0.0000, 0.0000, 0.0000, 0.0000, 0.0000,\n",
      "        0.0000, 0.0000, 0.0000, 0.0000, 0.0000, 0.0000, 0.0000, 0.0000, 0.0000,\n",
      "        0.0000, 0.0000, 0.0000, 0.0000, 0.0000, 0.0000, 0.0000, 0.0000],\n",
      "       device='cuda:0')\n",
      "tensor([-0.2426, -0.2426, -0.2426, -0.2426, -0.2426, -0.2426, -0.2426, -0.2426,\n",
      "        -0.2426,  4.0438, -0.2426, -0.2426, -0.2426, -0.2426, -0.2426, -0.2426,\n",
      "        -0.2426, -0.2426, -0.2426, -0.2426, -0.2426, -0.2426, -0.2426, -0.2426,\n",
      "         4.0438, -0.2426, -0.2426, -0.2426, -0.2426, -0.2426,  4.0438, -0.2426,\n",
      "        -0.2426, -0.2426, -0.2426, -0.2426, -0.2426, -0.2426, -0.2426, -0.2426,\n",
      "        -0.2426, -0.2426, -0.2426, -0.2426, -0.2426, -0.2426, -0.2426, -0.2426,\n",
      "        -0.2426, -0.2426, -0.2426, -0.2426, -0.2426], device='cuda:0')\n",
      "✅ Rewards: 0.0189\n",
      "✅ Loss: 0.0030\n",
      "-------Question---------\n",
      "Randy has 60 mango trees on his farm. He also has 5 less than half as many coconut trees as mango trees. How many trees does Randy have in all on his farm?\n",
      "\n",
      "🧠 Inference Index 12\n",
      "🔍 Top-K Indices: [234, 100, 60, 96, 196, 72, 38, 231, 182, 115, 149, 165, 31, 6, 181, 53, 126, 25, 138, 49, 20, 184, 174, 67, 224, 131, 76, 103, 90, 11, 211, 229, 216, 225, 178, 82, 188, 58, 152, 111, 24, 140, 4, 13, 2, 77, 130, 97, 86, 190, 143, 80, 236]\n",
      "[INFO] Launching 159 parallel inference tasks...\n"
     ]
    },
    {
     "name": "stderr",
     "output_type": "stream",
     "text": []
    },
    {
     "name": "stdout",
     "output_type": "stream",
     "text": [
      "tensor([0.0000, 0.0000, 0.3333, 0.0000, 1.0000, 1.0000, 0.3333, 0.0000, 0.6667,\n",
      "        0.0000, 0.0000, 0.0000, 0.3333, 0.0000, 0.3333, 1.0000, 0.3333, 0.0000,\n",
      "        0.0000, 1.0000, 0.0000, 0.3333, 0.0000, 1.0000, 1.0000, 0.6667, 0.0000,\n",
      "        1.0000, 0.6667, 0.6667, 0.0000, 0.3333, 0.0000, 1.0000, 1.0000, 1.0000,\n",
      "        1.0000, 1.0000, 0.0000, 0.0000, 0.0000, 0.6667, 0.3333, 1.0000, 1.0000,\n",
      "        0.0000, 0.3333, 0.6667, 0.3333, 0.0000, 0.0000, 1.0000, 0.0000],\n",
      "       device='cuda:0')\n",
      "tensor([-0.9928, -0.9928, -0.2075, -0.9928,  1.3633,  1.3633, -0.2075, -0.9928,\n",
      "         0.5779, -0.9928, -0.9928, -0.9928, -0.2075, -0.9928, -0.2075,  1.3633,\n",
      "        -0.2075, -0.9928, -0.9928,  1.3633, -0.9928, -0.2075, -0.9928,  1.3633,\n",
      "         1.3633,  0.5779, -0.9928,  1.3633,  0.5779,  0.5779, -0.9928, -0.2075,\n",
      "        -0.9928,  1.3633,  1.3633,  1.3633,  1.3633,  1.3633, -0.9928, -0.9928,\n",
      "        -0.9928,  0.5779, -0.2075,  1.3633,  1.3633, -0.9928, -0.2075,  0.5779,\n",
      "        -0.2075, -0.9928, -0.9928,  1.3633, -0.9928], device='cuda:0')\n",
      "✅ Rewards: 0.4214\n",
      "✅ Loss: 0.0066\n",
      "-------Question---------\n",
      "Jasper will serve charcuterie at his dinner party. He buys 2 pounds of cheddar cheese for $10, a pound of cream cheese that cost half the price of the cheddar cheese, and a pack of cold cuts that cost twice the price of the cheddar cheese. How much does he spend on the ingredients?\n",
      "\n",
      "🧠 Inference Index 13\n",
      "🔍 Top-K Indices: [181, 11, 84, 60, 237, 253, 95, 233, 210, 53, 40, 94, 37, 168, 35, 20, 242, 36, 97, 142, 88, 215, 254, 220, 197, 66, 24, 115, 28, 159, 96, 138, 92, 123, 251, 47, 71, 226, 23, 55, 252, 59, 50, 137, 109, 196, 161, 205, 177, 65, 64, 228, 99]\n",
      "[INFO] Launching 159 parallel inference tasks...\n"
     ]
    },
    {
     "name": "stderr",
     "output_type": "stream",
     "text": []
    },
    {
     "name": "stdout",
     "output_type": "stream",
     "text": [
      "tensor([0.0000, 0.0000, 0.0000, 0.0000, 0.0000, 0.0000, 0.6667, 0.0000, 0.0000,\n",
      "        0.0000, 0.0000, 0.0000, 0.0000, 0.0000, 0.6667, 0.0000, 0.0000, 0.0000,\n",
      "        0.0000, 0.0000, 0.0000, 0.0000, 0.0000, 0.0000, 0.0000, 0.0000, 0.0000,\n",
      "        0.0000, 0.0000, 0.0000, 0.0000, 0.0000, 0.0000, 0.0000, 0.0000, 0.0000,\n",
      "        0.0000, 0.0000, 0.0000, 0.0000, 0.0000, 0.0000, 0.0000, 0.0000, 0.0000,\n",
      "        0.0000, 0.0000, 0.0000, 0.0000, 0.0000, 0.0000, 0.0000, 0.0000],\n",
      "       device='cuda:0')\n",
      "tensor([-0.1962, -0.1962, -0.1962, -0.1962, -0.1962, -0.1962,  5.0019, -0.1962,\n",
      "        -0.1962, -0.1962, -0.1962, -0.1962, -0.1962, -0.1962,  5.0019, -0.1962,\n",
      "        -0.1962, -0.1962, -0.1962, -0.1962, -0.1962, -0.1962, -0.1962, -0.1962,\n",
      "        -0.1962, -0.1962, -0.1962, -0.1962, -0.1962, -0.1962, -0.1962, -0.1962,\n",
      "        -0.1962, -0.1962, -0.1962, -0.1962, -0.1962, -0.1962, -0.1962, -0.1962,\n",
      "        -0.1962, -0.1962, -0.1962, -0.1962, -0.1962, -0.1962, -0.1962, -0.1962,\n",
      "        -0.1962, -0.1962, -0.1962, -0.1962, -0.1962], device='cuda:0')\n",
      "✅ Rewards: 0.0252\n",
      "✅ Loss: -0.0185\n",
      "-------Question---------\n",
      "Joy can read 8 pages of a book in 20 minutes. How many hours will it take her to read 120 pages?\n",
      "\n",
      "🧠 Inference Index 14\n",
      "🔍 Top-K Indices: [93, 140, 3, 90, 51, 220, 145, 94, 197, 63, 232, 149, 221, 50, 2, 157, 82, 105, 4, 233, 218, 148, 9, 102, 76, 253, 222, 206, 185, 203, 215, 23, 96, 237, 78, 245, 64, 86, 117, 56, 242, 228, 55, 188, 29, 135, 81, 58, 128, 196, 194, 171, 115]\n",
      "[INFO] Launching 159 parallel inference tasks...\n"
     ]
    },
    {
     "name": "stderr",
     "output_type": "stream",
     "text": []
    },
    {
     "name": "stdout",
     "output_type": "stream",
     "text": [
      "tensor([1.0000, 0.0000, 1.0000, 1.0000, 0.3333, 1.0000, 0.6667, 0.0000, 0.0000,\n",
      "        0.0000, 0.0000, 1.0000, 0.3333, 0.0000, 0.0000, 0.0000, 0.3333, 0.0000,\n",
      "        0.6667, 0.0000, 0.0000, 0.0000, 0.0000, 0.0000, 0.0000, 0.0000, 0.0000,\n",
      "        1.0000, 0.3333, 0.0000, 0.0000, 0.3333, 0.0000, 1.0000, 0.0000, 0.0000,\n",
      "        0.6667, 0.0000, 1.0000, 1.0000, 0.0000, 0.0000, 0.0000, 0.0000, 0.3333,\n",
      "        0.0000, 0.0000, 0.6667, 0.0000, 0.0000, 0.0000, 0.0000, 0.0000],\n",
      "       device='cuda:0')\n",
      "tensor([ 1.9016, -0.6607,  1.9016,  1.9016,  0.1934,  1.9016,  1.0475, -0.6607,\n",
      "        -0.6607, -0.6607, -0.6607,  1.9016,  0.1934, -0.6607, -0.6607, -0.6607,\n",
      "         0.1934, -0.6607,  1.0475, -0.6607, -0.6607, -0.6607, -0.6607, -0.6607,\n",
      "        -0.6607, -0.6607, -0.6607,  1.9016,  0.1934, -0.6607, -0.6607,  0.1934,\n",
      "        -0.6607,  1.9016, -0.6607, -0.6607,  1.0475, -0.6607,  1.9016,  1.9016,\n",
      "        -0.6607, -0.6607, -0.6607, -0.6607,  0.1934, -0.6607, -0.6607,  1.0475,\n",
      "        -0.6607, -0.6607, -0.6607, -0.6607, -0.6607], device='cuda:0')\n",
      "✅ Rewards: 0.2579\n",
      "✅ Loss: -0.0464\n",
      "-------Question---------\n",
      "James creates a media empire.  He creates a movie for $2000.  Each DVD cost $6 to make.  He sells it for 2.5 times that much.  He sells 500 movies a day for 5 days a week.  How much profit does he make in 20 weeks?\n",
      "\n",
      "🧠 Inference Index 15\n",
      "🔍 Top-K Indices: [63, 59, 30, 9, 233, 228, 161, 86, 88, 93, 198, 222, 92, 152, 3, 187, 238, 109, 203, 51, 90, 157, 137, 175, 140, 185, 81, 219, 158, 186, 22, 210, 207, 49, 23, 95, 79, 6, 253, 4, 18, 136, 220, 177, 106, 85, 39, 15, 197, 234, 195, 128, 84]\n",
      "[INFO] Launching 159 parallel inference tasks...\n"
     ]
    },
    {
     "name": "stderr",
     "output_type": "stream",
     "text": []
    },
    {
     "name": "stdout",
     "output_type": "stream",
     "text": [
      "tensor([0.0000, 0.0000, 0.3333, 0.0000, 0.0000, 0.0000, 0.0000, 0.0000, 0.0000,\n",
      "        0.0000, 0.0000, 0.0000, 0.0000, 0.0000, 0.0000, 0.0000, 0.0000, 0.0000,\n",
      "        0.0000, 0.0000, 0.0000, 0.0000, 0.0000, 0.0000, 0.0000, 0.0000, 0.0000,\n",
      "        0.0000, 0.0000, 0.0000, 0.0000, 0.0000, 0.0000, 0.0000, 0.0000, 0.0000,\n",
      "        0.0000, 0.0000, 0.0000, 0.0000, 0.0000, 0.0000, 0.0000, 0.0000, 0.0000,\n",
      "        0.0000, 0.0000, 0.0000, 0.0000, 0.0000, 0.0000, 0.0000, 0.0000],\n",
      "       device='cuda:0')\n",
      "tensor([-0.1374, -0.1374,  7.1427, -0.1374, -0.1374, -0.1374, -0.1374, -0.1374,\n",
      "        -0.1374, -0.1374, -0.1374, -0.1374, -0.1374, -0.1374, -0.1374, -0.1374,\n",
      "        -0.1374, -0.1374, -0.1374, -0.1374, -0.1374, -0.1374, -0.1374, -0.1374,\n",
      "        -0.1374, -0.1374, -0.1374, -0.1374, -0.1374, -0.1374, -0.1374, -0.1374,\n",
      "        -0.1374, -0.1374, -0.1374, -0.1374, -0.1374, -0.1374, -0.1374, -0.1374,\n",
      "        -0.1374, -0.1374, -0.1374, -0.1374, -0.1374, -0.1374, -0.1374, -0.1374,\n",
      "        -0.1374, -0.1374, -0.1374, -0.1374, -0.1374], device='cuda:0')\n",
      "✅ Rewards: 0.0063\n",
      "✅ Loss: 0.0191\n",
      "-------Question---------\n",
      "The profit from a business transaction is shared among 2 business partners, Mike and Johnson in the ratio 2:5 respectively. If Johnson got $2500, how much will Mike have after spending some of his share on a shirt that costs $200?\n",
      "\n",
      "🧠 Inference Index 16\n",
      "🔍 Top-K Indices: [147, 5, 219, 158, 237, 207, 94, 85, 91, 217, 22, 194, 51, 9, 18, 159, 110, 105, 121, 65, 131, 137, 95, 50, 142, 136, 155, 40, 235, 161, 1, 109, 176, 118, 187, 89, 17, 212, 129, 33, 254, 241, 20, 64, 133, 112, 68, 210, 199, 70, 198, 88, 233]\n",
      "[INFO] Launching 159 parallel inference tasks...\n"
     ]
    },
    {
     "name": "stderr",
     "output_type": "stream",
     "text": []
    },
    {
     "name": "stdout",
     "output_type": "stream",
     "text": [
      "tensor([0.0000, 0.0000, 0.0000, 0.3333, 0.6667, 0.0000, 0.0000, 0.0000, 0.0000,\n",
      "        0.0000, 0.0000, 1.0000, 0.0000, 0.0000, 0.0000, 0.0000, 0.0000, 0.0000,\n",
      "        0.0000, 0.0000, 0.0000, 0.0000, 0.0000, 0.0000, 0.0000, 0.0000, 0.0000,\n",
      "        0.0000, 0.0000, 0.0000, 0.0000, 0.0000, 0.0000, 0.0000, 0.0000, 0.0000,\n",
      "        0.0000, 0.0000, 0.0000, 0.0000, 0.0000, 0.3333, 0.0000, 0.0000, 0.3333,\n",
      "        0.3333, 0.0000, 0.0000, 0.0000, 0.0000, 0.0000, 0.0000, 0.0000],\n",
      "       device='cuda:0')\n",
      "tensor([-0.3113, -0.3113, -0.3113,  1.5220,  3.3553, -0.3113, -0.3113, -0.3113,\n",
      "        -0.3113, -0.3113, -0.3113,  5.1886, -0.3113, -0.3113, -0.3113, -0.3113,\n",
      "        -0.3113, -0.3113, -0.3113, -0.3113, -0.3113, -0.3113, -0.3113, -0.3113,\n",
      "        -0.3113, -0.3113, -0.3113, -0.3113, -0.3113, -0.3113, -0.3113, -0.3113,\n",
      "        -0.3113, -0.3113, -0.3113, -0.3113, -0.3113, -0.3113, -0.3113, -0.3113,\n",
      "        -0.3113,  1.5220, -0.3113, -0.3113,  1.5220,  1.5220, -0.3113, -0.3113,\n",
      "        -0.3113, -0.3113, -0.3113, -0.3113, -0.3113], device='cuda:0')\n",
      "✅ Rewards: 0.0566\n",
      "✅ Loss: 0.0332\n",
      "-------Question---------\n",
      "In a truck, there are 26 pink hard hats, 15 green hard hats, and 24 yellow hard hats.  If Carl takes away 4 pink hard hats, and John takes away 6 pink hard hats and twice as many green hard hats as the number of pink hard hats that he removed, then calculate the total number of hard hats that remained in the truck.\n",
      "\n",
      "🧠 Inference Index 17\n",
      "🔍 Top-K Indices: [234, 204, 218, 116, 13, 100, 181, 58, 23, 7, 231, 57, 242, 92, 26, 53, 19, 96, 48, 211, 62, 210, 193, 165, 72, 44, 226, 123, 121, 36, 66, 37, 60, 85, 77, 238, 88, 49, 140, 186, 82, 135, 74, 215, 97, 114, 198, 253, 22, 248, 11, 251, 98]\n",
      "[INFO] Launching 159 parallel inference tasks...\n"
     ]
    },
    {
     "name": "stderr",
     "output_type": "stream",
     "text": []
    },
    {
     "name": "stdout",
     "output_type": "stream",
     "text": [
      "tensor([0.0000, 0.0000, 0.0000, 0.0000, 0.0000, 0.0000, 0.0000, 0.0000, 1.0000,\n",
      "        0.0000, 0.0000, 0.0000, 0.0000, 0.0000, 0.0000, 0.0000, 0.3333, 0.0000,\n",
      "        0.3333, 0.0000, 0.0000, 1.0000, 0.0000, 0.0000, 0.0000, 0.0000, 0.0000,\n",
      "        0.0000, 0.0000, 0.0000, 0.0000, 0.0000, 0.0000, 0.0000, 0.0000, 0.0000,\n",
      "        0.0000, 0.0000, 0.3333, 0.0000, 0.0000, 0.0000, 1.0000, 0.0000, 0.0000,\n",
      "        0.0000, 0.0000, 0.0000, 0.0000, 0.0000, 0.0000, 0.0000, 0.3333],\n",
      "       device='cuda:0')\n",
      "tensor([-0.3354, -0.3354, -0.3354, -0.3354, -0.3354, -0.3354, -0.3354, -0.3354,\n",
      "         3.7668, -0.3354, -0.3354, -0.3354, -0.3354, -0.3354, -0.3354, -0.3354,\n",
      "         1.0320, -0.3354,  1.0320, -0.3354, -0.3354,  3.7668, -0.3354, -0.3354,\n",
      "        -0.3354, -0.3354, -0.3354, -0.3354, -0.3354, -0.3354, -0.3354, -0.3354,\n",
      "        -0.3354, -0.3354, -0.3354, -0.3354, -0.3354, -0.3354,  1.0320, -0.3354,\n",
      "        -0.3354, -0.3354,  3.7668, -0.3354, -0.3354, -0.3354, -0.3354, -0.3354,\n",
      "        -0.3354, -0.3354, -0.3354, -0.3354,  1.0320], device='cuda:0')\n",
      "✅ Rewards: 0.0818\n",
      "✅ Loss: -0.1024\n",
      "-------Question---------\n",
      "It takes Roque two hours to walk to work and one hour to ride his bike to work. Roque walks to and from work three times a week and rides his bike to and from work twice a week. How many hours in total does he take to get to and from work a week with walking and biking?\n",
      "\n",
      "🧠 Inference Index 18\n",
      "🔍 Top-K Indices: [91, 157, 103, 133, 175, 59, 55, 119, 18, 207, 30, 180, 202, 15, 63, 220, 219, 22, 101, 81, 112, 145, 254, 158, 118, 140, 163, 110, 153, 50, 64, 29, 197, 131, 45, 206, 89, 73, 159, 111, 194, 179, 51, 93, 69, 221, 48, 210, 94, 62, 108, 56, 105]\n",
      "[INFO] Launching 159 parallel inference tasks...\n"
     ]
    },
    {
     "name": "stderr",
     "output_type": "stream",
     "text": []
    },
    {
     "name": "stdout",
     "output_type": "stream",
     "text": [
      "tensor([1.0000, 0.0000, 0.0000, 0.0000, 0.0000, 0.0000, 0.0000, 0.0000, 0.0000,\n",
      "        0.0000, 0.0000, 0.0000, 0.0000, 0.0000, 0.0000, 0.0000, 0.0000, 0.0000,\n",
      "        0.0000, 0.0000, 0.0000, 0.0000, 1.0000, 0.0000, 0.0000, 0.0000, 0.0000,\n",
      "        0.0000, 0.3333, 0.0000, 0.0000, 0.0000, 0.0000, 0.0000, 0.0000, 0.0000,\n",
      "        1.0000, 0.0000, 0.0000, 0.6667, 0.0000, 0.0000, 0.0000, 0.0000, 0.0000,\n",
      "        0.0000, 0.0000, 0.0000, 0.0000, 0.0000, 0.0000, 0.0000, 0.0000],\n",
      "       device='cuda:0')\n",
      "tensor([ 3.6960, -0.3017, -0.3017, -0.3017, -0.3017, -0.3017, -0.3017, -0.3017,\n",
      "        -0.3017, -0.3017, -0.3017, -0.3017, -0.3017, -0.3017, -0.3017, -0.3017,\n",
      "        -0.3017, -0.3017, -0.3017, -0.3017, -0.3017, -0.3017,  3.6960, -0.3017,\n",
      "        -0.3017, -0.3017, -0.3017, -0.3017,  1.0309, -0.3017, -0.3017, -0.3017,\n",
      "        -0.3017, -0.3017, -0.3017, -0.3017,  3.6960, -0.3017, -0.3017,  2.3634,\n",
      "        -0.3017, -0.3017, -0.3017, -0.3017, -0.3017, -0.3017, -0.3017, -0.3017,\n",
      "        -0.3017, -0.3017, -0.3017, -0.3017, -0.3017], device='cuda:0')\n",
      "✅ Rewards: 0.0755\n",
      "✅ Loss: -0.0158\n",
      "-------Question---------\n",
      "Tim rides his bike back and forth to work for each of his 5 workdays.  His work is 20 miles away.  He also goes for a weekend bike ride of 200 miles.    If he can bike at 25 mph how much time does he spend biking a week?\n",
      "\n",
      "🧠 Inference Index 19\n",
      "🔍 Top-K Indices: [237, 101, 119, 55, 95, 112, 211, 179, 253, 23, 197, 50, 9, 129, 15, 63, 145, 207, 235, 91, 1, 76, 175, 241, 84, 81, 5, 221, 59, 150, 6, 2, 85, 157, 93, 220, 201, 22, 228, 194, 49, 110, 18, 206, 37, 217, 73, 232, 30, 208, 68, 28, 78]\n",
      "[INFO] Launching 159 parallel inference tasks...\n"
     ]
    },
    {
     "name": "stderr",
     "output_type": "stream",
     "text": [
      "Examples: 100%|██████████| 20/20 [02:47<00:00,  8.37s/it]\n",
      "Training Steps: 100%|██████████| 10/10 [28:09<00:00, 168.94s/it]"
     ]
    },
    {
     "name": "stdout",
     "output_type": "stream",
     "text": [
      "tensor([0.6667, 0.3333, 0.0000, 0.6667, 1.0000, 0.0000, 0.0000, 0.0000, 0.0000,\n",
      "        0.0000, 0.0000, 0.3333, 0.0000, 0.3333, 0.3333, 0.0000, 0.0000, 0.0000,\n",
      "        0.6667, 0.0000, 0.0000, 0.6667, 0.3333, 0.3333, 0.3333, 0.0000, 0.3333,\n",
      "        1.0000, 0.3333, 0.3333, 0.0000, 0.0000, 0.0000, 0.3333, 0.6667, 0.3333,\n",
      "        0.0000, 0.0000, 0.3333, 0.3333, 0.0000, 0.0000, 0.0000, 0.0000, 0.6667,\n",
      "        0.0000, 0.6667, 0.0000, 0.3333, 0.0000, 0.0000, 0.3333, 0.3333],\n",
      "       device='cuda:0')\n",
      "tensor([ 1.5399,  0.3571, -0.8257,  1.5399,  2.7226, -0.8257, -0.8257, -0.8257,\n",
      "        -0.8257, -0.8257, -0.8257,  0.3571, -0.8257,  0.3571,  0.3571, -0.8257,\n",
      "        -0.8257, -0.8257,  1.5399, -0.8257, -0.8257,  1.5399,  0.3571,  0.3571,\n",
      "         0.3571, -0.8257,  0.3571,  2.7226,  0.3571,  0.3571, -0.8257, -0.8257,\n",
      "        -0.8257,  0.3571,  1.5399,  0.3571, -0.8257, -0.8257,  0.3571,  0.3571,\n",
      "        -0.8257, -0.8257, -0.8257, -0.8257,  1.5399, -0.8257,  1.5399, -0.8257,\n",
      "         0.3571, -0.8257, -0.8257,  0.3571,  0.3571], device='cuda:0')\n",
      "✅ Rewards: 0.2327\n",
      "✅ Loss: -0.0387\n"
     ]
    },
    {
     "name": "stderr",
     "output_type": "stream",
     "text": [
      "\n"
     ]
    }
   ],
   "source": [
    "from tqdm import tqdm\n",
    "import torch\n",
    "from mathbert_encoder import MathBERTEncoder\n",
    "import retriever_cosine as rc\n",
    "# from import retrieve_top_k_cosine, retrieve_sample_k_cosine\n",
    "from response_sampler import sample_responses_per_demo\n",
    "from reward_aggregator import compute_demo_accuracy\n",
    "from icl_model_wrapper import OpenAIICLModel\n",
    "from grpo_optimizer import grpo_step\n",
    "from datasets import load_dataset\n",
    "from dotenv import load_dotenv\n",
    "import os\n",
    "from transformers import get_linear_schedule_with_warmup\n",
    "from importlib import reload\n",
    "\n",
    "reload(rc)\n",
    "\n",
    "load_dotenv()\n",
    "\n",
    "# === Settings ===\n",
    "API_KEY = os.getenv(\"OPENAI_API_KEY\")\n",
    "DEVICE = \"cuda\" if torch.cuda.is_available() else \"cpu\"\n",
    "K = 53\n",
    "NUM_SAMPLES_PER_DEMO = 3\n",
    "LEARNING_RATE =  1e-5\n",
    "MAX_STEPS = 10\n",
    "TEMPERATURE = 0.7\n",
    "\n",
    "# === Init ===\n",
    "encoder = MathBERTEncoder(device=DEVICE, trainable=True)\n",
    "encoder.train()\n",
    "\n",
    "icl_model = OpenAIICLModel(api_key=API_KEY, model_name=\"gpt-4.1-nano\", temperature=TEMPERATURE)\n",
    "optimizer = torch.optim.Adam(encoder.parameters(), lr=LEARNING_RATE)\n",
    "\n",
    "gsm8k_data = load_dataset('gsm8k', 'main')['train']\n",
    "gsm8k_data = gsm8k_data.select(range(256))  # slice first 200 examples\n",
    "gsm8k_data_to_infer = gsm8k_data.select(range(0,20))  # slice first 200 examples\n",
    "\n",
    "# === Training Loop ===\n",
    "epoch_wide_rewards = []\n",
    "for step in tqdm(range(MAX_STEPS), desc=\"Training Steps\"):\n",
    "    print(f\"\\n=== Training Step {step+1} ===\")\n",
    "    epoch_wide_reward = []\n",
    "    for inference_index in tqdm(range(len(gsm8k_data_to_infer)), desc=\"Examples\"):\n",
    "        inference_item = gsm8k_data_to_infer[inference_index]\n",
    "        demo_pool = [d for idx, d in enumerate(gsm8k_data) if idx != inference_index]\n",
    "\n",
    "        Q_inf = inference_item[\"question\"]\n",
    "        A_gt = inference_item[\"answer\"]\n",
    "        demos = [(d[\"question\"], d[\"answer\"]) for d in demo_pool]\n",
    "\n",
    "        q_emb = encoder.encode([Q_inf], detach=False).squeeze(0)\n",
    "        \n",
    "        # SWITCHING TO BATCH ENCODE\n",
    "        # demo_embs = encoder.encode([q for (q, a) in demos], detach=False)\n",
    "        demo_questions = [q for (q, a) in demos]\n",
    "        demo_embs = encoder.batched_encode(demo_questions, batch_size=16, detach=False)\n",
    "\n",
    "        \n",
    "        top_k_indices, _ = rc.retrieve_top_k_cosine(q_emb, demo_embs, k=min(K, len(demos)))\n",
    "        print(\"-------Question---------\")\n",
    "        print(Q_inf)\n",
    "        print(f\"\\n🧠 Inference Index {inference_index}\")\n",
    "        print(f\"🔍 Top-K Indices: {top_k_indices}\")\n",
    "        \n",
    "        top_k_indices, similarities = rc.retrieve_sample_k_cosine(q_emb, demo_embs, k=min(K, len(demos)))\n",
    "        selected_demos = [demos[i] for i in top_k_indices]\n",
    "\n",
    "\n",
    "\n",
    "        all_responses = sample_responses_per_demo(\n",
    "            demo_tuples=selected_demos,\n",
    "            Q_inf=Q_inf,\n",
    "            icl_model=icl_model,\n",
    "            num_samples=NUM_SAMPLES_PER_DEMO,\n",
    "            parallel=True\n",
    "        )\n",
    "\n",
    "        rewards = []\n",
    "        for i, responses in enumerate(all_responses):\n",
    "            reward = compute_demo_accuracy(responses, A_gt)\n",
    "            rewards.append(reward)\n",
    "            # print(f\"    Demo {i} | Reward: {reward:.2f}\")\n",
    "\n",
    "        rewards = torch.tensor(rewards, dtype=torch.float32).to(DEVICE)\n",
    "\n",
    "        loss = grpo_step(\n",
    "            rewards,\n",
    "            similarities,\n",
    "            q_emb,\n",
    "            demo_embs,\n",
    "            optimizer\n",
    "        )\n",
    "        epoch_wide_reward.append(rewards.mean())\n",
    "        print(f\"✅ Rewards: {rewards.mean():.4f}\")\n",
    "        print(f\"✅ Loss: {loss:.4f}\")\n",
    "    epoch_wide_rewards.append(epoch_wide_reward)\n"
   ]
  },
  {
   "cell_type": "code",
   "execution_count": 21,
   "id": "131cd06a",
   "metadata": {},
   "outputs": [
    {
     "data": {
      "image/png": "[encoded data removed]",
      "text/plain": [
       "<Figure size 1000x600 with 1 Axes>"
      ]
     },
     "metadata": {},
     "output_type": "display_data"
    }
   ],
   "source": [
    "import numpy as np\n",
    "import matplotlib.pyplot as plt\n",
    "\n",
    "# --- reshape rewards ---\n",
    "# epoch_wide_rewards  -> shape (num_epochs, num_questions)\n",
    "epoch_wide_rewards = [[item.item() for item in rewards] for rewards in epoch_wide_rewards]\n",
    "reward_matrix = np.array(epoch_wide_rewards)       # (E, Q)\n",
    "num_epochs, num_qs = reward_matrix.shape\n",
    "\n",
    "# --- plot ---\n",
    "plt.figure(figsize=(10, 6))\n",
    "x = np.arange(1, num_epochs + 1)\n",
    "\n",
    "for q in range(num_qs):\n",
    "    plt.plot(x, reward_matrix[:, q], label=f\"Q{q}\", alpha=0.8)\n",
    "\n",
    "plt.title(\"Per-question reward trajectory\")\n",
    "plt.xlabel(\"Epoch\")\n",
    "plt.ylabel(\"Mean reward\")\n",
    "plt.xticks(x)\n",
    "plt.grid(alpha=0.3)\n",
    "\n",
    "# put the legend outside so the graph isn’t cluttered\n",
    "plt.legend(\n",
    "    bbox_to_anchor=(1.05, 1), loc=\"upper left\",\n",
    "    ncol=2, fontsize=\"small\", frameon=False\n",
    ")\n",
    "\n",
    "plt.tight_layout()\n",
    "plt.show()"
   ]
  },
  {
   "cell_type": "code",
   "execution_count": 12,
   "id": "0d7be05a",
   "metadata": {},
   "outputs": [
    {
     "name": "stderr",
     "output_type": "stream",
     "text": [
      "Baseline eval:   0%|          | 0/20 [00:00<?, ?it/s]"
     ]
    },
    {
     "name": "stdout",
     "output_type": "stream",
     "text": [
      "🔍 Top-K Indices: [18, 15, 0]\n",
      "[INFO] Launching 15 parallel inference tasks...\n"
     ]
    },
    {
     "name": "stderr",
     "output_type": "stream",
     "text": [
      "Baseline eval:   5%|▌         | 1/20 [00:01<00:34,  1.83s/it]"
     ]
    },
    {
     "name": "stdout",
     "output_type": "stream",
     "text": [
      "[['72', '72', '72', '72', '48 + 24 = 72'], ['72', '72', '72', '72', '96'], ['72', '72', '72', '72', '72']]\n",
      "0.9333333333333333\n",
      "🔍 Top-K Indices: [101, 63, 194]\n",
      "[INFO] Launching 15 parallel inference tasks...\n"
     ]
    },
    {
     "name": "stderr",
     "output_type": "stream",
     "text": [
      "Baseline eval:  10%|█         | 2/20 [00:02<00:25,  1.39s/it]"
     ]
    },
    {
     "name": "stdout",
     "output_type": "stream",
     "text": [
      "[['10', '$10', '10', '$10', '10'], ['10', '10', '10', '10', '10'], ['$10', '10', '10', '10', '10']]\n",
      "1.0\n",
      "🔍 Top-K Indices: [112, 228, 2]\n",
      "[INFO] Launching 15 parallel inference tasks...\n"
     ]
    },
    {
     "name": "stderr",
     "output_type": "stream",
     "text": [
      "Baseline eval:  15%|█▌        | 3/20 [00:04<00:21,  1.27s/it]"
     ]
    },
    {
     "name": "stdout",
     "output_type": "stream",
     "text": [
      "[['50', '50', '25', '50', '50'], ['$35', '$55', '$35', '$55', '$55'], ['25', '25', '25', '25', '25']]\n",
      "1.0\n",
      "🔍 Top-K Indices: [13, 203, 93]\n",
      "[INFO] Launching 15 parallel inference tasks...\n"
     ]
    },
    {
     "name": "stderr",
     "output_type": "stream",
     "text": [
      "Baseline eval:  20%|██        | 4/20 [00:05<00:19,  1.24s/it]"
     ]
    },
    {
     "name": "stdout",
     "output_type": "stream",
     "text": [
      "[['48', '36', '54', '48', '48'], ['36', '36', '48', '48', '54'], ['48', '48', '48', '48', '48']]\n",
      "0.0\n",
      "🔍 Top-K Indices: [93, 206, 145]\n",
      "[INFO] Launching 15 parallel inference tasks...\n"
     ]
    },
    {
     "name": "stderr",
     "output_type": "stream",
     "text": [
      "Baseline eval:  25%|██▌       | 5/20 [00:06<00:20,  1.35s/it]"
     ]
    },
    {
     "name": "stdout",
     "output_type": "stream",
     "text": [
      "[['624', '624', '624', '624', '624'], ['624', '624', '624', '312', '3 * 2 * 2 * 52 = 624'], ['3 pages × 2 friends × 2 times per week × 52 weeks = 3 × 2 × 2 × 52 = 624', '3 pages per letter × 2 letters per week × 2 times per week = 3 × 2 × 2 = 12 pages per week.\\n\\nNumber of weeks in a year ≈ 52.\\n\\nTotal pages per year = 12 × 52 = 624', '3 pages per letter × 2 friends × 2 times per week × 52 weeks = 3 × 2 × 2 × 52 = 624', '3 pages × 2 friends × 2 times per week × 52 weeks = 3 × 2 × 2 × 52 = 624', '3 pages per letter × 2 friends × 2 times per week = 3 × 2 × 2 = 12 pages per week\\n12 pages per week × 52 weeks = 12 × 52 = 624\\n#### 624']]\n",
      "0.9333333333333333\n",
      "🔍 Top-K Indices: [51, 73, 105]\n",
      "[INFO] Launching 15 parallel inference tasks...\n"
     ]
    },
    {
     "name": "stderr",
     "output_type": "stream",
     "text": [
      "Baseline eval:  30%|███       | 6/20 [00:09<00:23,  1.68s/it]"
     ]
    },
    {
     "name": "stdout",
     "output_type": "stream",
     "text": [
      "[['150', '105', '50', '85', '220'], ['Yellow = 10  \\nPurple = 80% more than yellow = 10 + (80% of 10) = 10 + 8 = 18  \\nTotal yellow and purple = 10 + 18 = 28  \\nGreen = 25% of yellow and purple = 25% of 28 = 0.25 * 28 = 7  \\nTotal flowers = yellow + purple + green = 10 + 18 + 7 = 35', 'Yellow flowers = 10  \\nPurple flowers = 10 + 80% of 10 = 10 + 0.8 * 10 = 10 + 8 = 18  \\nTotal yellow and purple = 10 + 18 = 28  \\nGreen flowers = 25% of (yellow + purple) = 0.25 * 28 = 7  \\nTotal flowers = yellow + purple + green = 10 + 18 + 7 = 35', 'Yellow = 10  \\nPurple = 80% more than yellow = 10 + 0.80 × 10 = 10 + 8 = 18  \\nTotal yellow and purple = 10 + 18 = 28  \\nGreen = 25% of yellow and purple = 0.25 × 28 = 7  \\nTotal flowers = yellow + purple + green = 10 + 18 + 7 = 35', 'Yellow flowers = 10  \\nPurple flowers = 10 + 80% of 10 = 10 + 0.8 * 10 = 10 + 8 = 18  \\nTotal yellow and purple = 10 + 18 = 28  \\nGreen flowers = 25% of (yellow + purple) = 0.25 * 28 = 7  \\nTotal flowers = yellow + purple + green = 10 + 18 + 7 = 35', 'Yellow = 10  \\nPurple = 80% more than yellow = 10 + 0.80 * 10 = 10 + 8 = 18  \\nTotal yellow and purple = 10 + 18 = 28  \\nGreen = 25% of yellow and purple = 0.25 * 28 = 7  \\nTotal flowers = yellow + purple + green = 10 + 18 + 7 = 35'], ['Yellow flowers = 10  \\nPurple flowers = 80% more than yellow = 10 + 0.8 * 10 = 10 + 8 = 18  \\nTotal yellow and purple = 10 + 18 = 28  \\nGreen flowers = 25% of yellow and purple = 0.25 * 28 = 7  \\nTotal flowers = yellow + purple + green = 10 + 18 + 7 = 35', 'Yellow: 10\\nPurple: 80% more than yellow = 10 + 0.8 * 10 = 10 + 8 = 18\\nTotal yellow and purple: 10 + 18 = 28\\nGreen: 25% as many as yellow and purple = 0.25 * 28 = 7\\nTotal flowers: 10 + 18 + 7 = 35', 'Yellow: 10  \\nPurple: 80% more than yellow = 10 + 0.8 * 10 = 10 + 8 = 18  \\nTotal yellow and purple: 10 + 18 = 28  \\nGreen: 25% of yellow and purple = 0.25 * 28 = 7  \\nTotal flowers: 10 + 18 + 7 = 35', 'Yellow flowers = 10  \\nPurple flowers = 80% more than yellow = 10 * 1.8 = 18  \\nTotal yellow and purple = 10 + 18 = 28  \\nGreen flowers = 25% of yellow and purple = 0.25 * 28 = 7  \\nTotal flowers = 10 + 18 + 7 = 35', 'Yellow flowers = 10  \\nPurple flowers = 80% more than yellow = 10 + 0.80 × 10 = 10 + 8 = 18  \\nTotal yellow and purple = 10 + 18 = 28  \\nGreen flowers = 25% of yellow and purple = 0.25 × 28 = 7  \\nTotal flowers = 10 + 18 + 7 = 35']]\n",
      "0.6666666666666666\n",
      "🔍 Top-K Indices: [228, 77, 86]\n",
      "[INFO] Launching 15 parallel inference tasks...\n"
     ]
    },
    {
     "name": "stderr",
     "output_type": "stream",
     "text": [
      "Baseline eval:  35%|███▌      | 7/20 [00:10<00:20,  1.60s/it]"
     ]
    },
    {
     "name": "stdout",
     "output_type": "stream",
     "text": [
      "[['16*2 + 8*2 = 32 + 16 = 48', '2*16 + 2*8 = 32 + 16 = 48', '16*2 + 8*2 = 32 + 16 = 48', '16+16+8+8=48', '16 + 16 + 8 + 8 = 48'], ['48', '16 + 16 + 8 + 8 = 48', '16 + 16 + 8 + 8 = 48', '48', '48'], ['56', '48', '48', '48', '48']]\n",
      "0.9333333333333333\n",
      "🔍 Top-K Indices: [226, 60, 58]\n",
      "[INFO] Launching 15 parallel inference tasks...\n"
     ]
    },
    {
     "name": "stderr",
     "output_type": "stream",
     "text": [
      "Baseline eval:  40%|████      | 8/20 [00:14<00:28,  2.41s/it]"
     ]
    },
    {
     "name": "stdout",
     "output_type": "stream",
     "text": [
      "[['16', '8', '16', '8', '8'], ['8', '8', '8', '8', '8'], ['8', '16', '8', '16', '16']]\n",
      "0.3333333333333333\n",
      "🔍 Top-K Indices: [96, 100, 115]\n",
      "[INFO] Launching 15 parallel inference tasks...\n"
     ]
    },
    {
     "name": "stderr",
     "output_type": "stream",
     "text": [
      "Baseline eval:  45%|████▌     | 9/20 [00:16<00:24,  2.20s/it]"
     ]
    },
    {
     "name": "stdout",
     "output_type": "stream",
     "text": [
      "[['$41', '$41', '$41', '$41', '$41'], ['$61', '$200 - ($30 + $46 + $38 + $11 + $18 + $16) = $200 - $159 = 41', '$87', '$41', '$41'], ['$41', '51', '61', '61', '61']]\n",
      "0.6\n",
      "🔍 Top-K Indices: [81, 55, 119]\n",
      "[INFO] Launching 15 parallel inference tasks...\n"
     ]
    },
    {
     "name": "stderr",
     "output_type": "stream",
     "text": [
      "Baseline eval:  50%|█████     | 10/20 [00:18<00:20,  2.06s/it]"
     ]
    },
    {
     "name": "stdout",
     "output_type": "stream",
     "text": [
      "[['$405', '270', '$342.00', '$405', '$270'], ['$405.00', '$450.00', '$405.00', '$405.00', '$405.00'], ['$495', '$405', '$405', '$495', '$495']]\n",
      "0.0\n",
      "🔍 Top-K Indices: [11, 96, 100]\n",
      "[INFO] Launching 15 parallel inference tasks...\n"
     ]
    },
    {
     "name": "stderr",
     "output_type": "stream",
     "text": [
      "Baseline eval:  55%|█████▌    | 11/20 [00:19<00:16,  1.88s/it]"
     ]
    },
    {
     "name": "stdout",
     "output_type": "stream",
     "text": [
      "[['423.5', '423.5', '423.5', '423.5', '847 / (2^2 + 2^1 + 2^0) = 847 / (4 + 2 + 1) = 847 / 7 = 121'], ['1', '42', '21', '211', '126'], ['423.5', '423.5', '423.5', '423.5', '423.5']]\n",
      "0.2\n",
      "🔍 Top-K Indices: [177, 226, 60]\n",
      "[INFO] Launching 15 parallel inference tasks...\n"
     ]
    },
    {
     "name": "stderr",
     "output_type": "stream",
     "text": [
      "Baseline eval:  60%|██████    | 12/20 [00:23<00:19,  2.48s/it]"
     ]
    },
    {
     "name": "stdout",
     "output_type": "stream",
     "text": [
      "[['8', '4', '4', '10', '4'], ['4', '4', '4', '4', '4'], ['10', '10', '4', '10', '4']]\n",
      "0.0\n",
      "🔍 Top-K Indices: [182, 211, 190]\n",
      "[INFO] Launching 15 parallel inference tasks...\n"
     ]
    },
    {
     "name": "stderr",
     "output_type": "stream",
     "text": [
      "Baseline eval:  65%|██████▌   | 13/20 [00:25<00:15,  2.25s/it]"
     ]
    },
    {
     "name": "stdout",
     "output_type": "stream",
     "text": [
      "[['70', '85', '85', '85', '75'], ['60 + (1/2 * 60 - 5) = 60 + (30 - 5) = 60 + 25 = 85', '60 + (60/2 - 5) = 60 + (30 - 5) = 60 + 25 = 85', '60 + ( (1/2) * 60 - 5 ) = 60 + (30 - 5) = 60 + 25 = 85', '60 + ( (1/2) * 60 - 5 ) = 60 + (30 - 5) = 60 + 25 = 85', '60 + ( (1/2) * 60 - 5 ) = 60 + (30 - 5) = 60 + 25 = 85'], ['60 + (60/2 - 5) = 60 + (30 - 5) = 60 + 25 = 85', '60 + (60/2 - 5) = 60 + (30 - 5) = 60 + 25 = 85', '60 + (60/2 - 5) = 60 + (30 - 5) = 60 + 25 = 85', '60 + (60/2 - 5) = 60 + (30 - 5) = 60 + 25 = 85', '60 + (60/2 - 5) = 60 + (30 - 5) = 60 + 25 = 85']]\n",
      "0.8666666666666667\n",
      "🔍 Top-K Indices: [53, 181, 23]\n",
      "[INFO] Launching 15 parallel inference tasks...\n"
     ]
    },
    {
     "name": "stderr",
     "output_type": "stream",
     "text": [
      "Baseline eval:  70%|███████   | 14/20 [00:26<00:12,  2.09s/it]"
     ]
    },
    {
     "name": "stdout",
     "output_type": "stream",
     "text": [
      "[['$30', '$30', '$30', '$30', '$30'], ['$40', '$30', '$30', '$30', '$10 + $5 + $20 = 35'], ['$30', '$30', '$30', '$30', '$30']]\n",
      "0.06666666666666667\n",
      "🔍 Top-K Indices: [3, 93, 157]\n",
      "[INFO] Launching 15 parallel inference tasks...\n"
     ]
    },
    {
     "name": "stderr",
     "output_type": "stream",
     "text": [
      "Baseline eval:  75%|███████▌  | 15/20 [00:31<00:13,  2.70s/it]"
     ]
    },
    {
     "name": "stdout",
     "output_type": "stream",
     "text": [
      "[['3', '20 minutes per 8 pages, so per page: 20/8 = 2.5 minutes\\nFor 120 pages: 120 × 2.5 = 300 minutes\\nConvert minutes to hours: 300 ÷ 60 = 5\\n\\n5', '20 minutes / 8 pages = 2.5 minutes per page  \\n120 pages * 2.5 minutes per page = 300 minutes  \\n300 minutes ÷ 60 = 5 hours', '20 minutes / 8 pages = 2.5 minutes per page  \\n120 pages * 2.5 minutes = 300 minutes  \\n300 minutes / 60 = 5 hours', '20 minutes / 8 pages = 2.5 minutes per page  \\n120 pages × 2.5 minutes = 300 minutes  \\n300 minutes ÷ 60 = 5 hours'], ['20 hours', '20 hours', '20 hours', '20 hours', '30'], ['3', '3', '3', '3', '3']]\n",
      "0.26666666666666666\n",
      "🔍 Top-K Indices: [30, 86, 59]\n",
      "[INFO] Launching 15 parallel inference tasks...\n"
     ]
    },
    {
     "name": "stderr",
     "output_type": "stream",
     "text": [
      "Baseline eval:  80%|████████  | 16/20 [00:32<00:09,  2.39s/it]"
     ]
    },
    {
     "name": "stdout",
     "output_type": "stream",
     "text": [
      "[['$24,250', '$2000 + ($6 x 500 x 5 x 20) x (2.5 - 1)', '$20,000', '$125,000', '$15000'], ['60000', 'Profit per DVD = 2.5 * 6 - 6 = 15 - 6 = 9 dollars\\nNumber of DVDs sold in 20 weeks = 500 DVDs/day * 5 days/week * 20 weeks = 500 * 5 * 20 = 50,000 DVDs\\nTotal profit = 50,000 * 9 = 450,000 dollars', 'Profit per DVD = (Selling price) - (Cost to make)  \\nSelling price = 2.5 * $6 = $15  \\nProfit per DVD = $15 - $6 = $9  \\n\\nNumber of DVDs sold in one day = 500  \\nNumber of days in 20 weeks = 20 * 5 = 100  \\n\\nTotal DVDs sold in 20 weeks = 500 * 100 = 50,000  \\n\\nTotal profit from DVDs = 50,000 * $9 = $450,000  \\n\\nInitial movie creation cost = $2,000  \\n\\nTotal profit = $450,000 - $2,000 = $448,000', 'Profit per DVD = (Selling price) - (Cost to make) = (2.5 * 6) - 6 = 15 - 6 = 9 dollars\\n\\nNumber of DVDs sold per week = 500 * 5 = 2500\\n\\nProfit per week = 2500 * 9 = 22500 dollars\\n\\nProfit in 20 weeks = 20 * 22500 = 450000', 'Profit per DVD = (Selling price) - (Cost to make) = 2.5 * 6 - 6 = 15 - 6 = 9 dollars  \\nNumber of DVDs sold in 20 weeks = 500 DVDs/day * 5 days/week * 20 weeks = 50,000 DVDs  \\nTotal profit = 50,000 DVDs * 9 dollars = 450,000 dollars'], ['$102,000', '$12750', '$10500', '$37500', '$19,250']]\n",
      "0.0\n",
      "🔍 Top-K Indices: [101, 33, 18]\n",
      "[INFO] Launching 15 parallel inference tasks...\n"
     ]
    },
    {
     "name": "stderr",
     "output_type": "stream",
     "text": [
      "Baseline eval:  85%|████████▌ | 17/20 [00:34<00:06,  2.25s/it]"
     ]
    },
    {
     "name": "stdout",
     "output_type": "stream",
     "text": [
      "[['$1000', '$1000', \"Mike's share = (2/7) * 2500 = 714.29  \\nMike spends $200 on a shirt, remaining = 714.29 - 200 = 514.29\", \"Mike's share = (2/7) * 2500 = 714.2857...  \\nMike's remaining amount after buying the shirt = 714.2857... - 200 ≈ 514.29\", \"Mike's share = \\\\( \\\\frac{2}{2+5} \\\\times 2500 = \\\\frac{2}{7} \\\\times 2500 = 714.29 \\\\)\\n\\nMoney Mike has after buying the shirt = 714.29 - 200 = 514.29\"], ['1000', '1000', '1000', '1000', '$1000'], ['$1000', '700', '714.29', '1000', '500']]\n",
      "0.0\n",
      "🔍 Top-K Indices: [19, 204, 82]\n",
      "[INFO] Launching 15 parallel inference tasks...\n"
     ]
    },
    {
     "name": "stderr",
     "output_type": "stream",
     "text": [
      "Baseline eval:  90%|█████████ | 18/20 [00:36<00:04,  2.09s/it]"
     ]
    },
    {
     "name": "stdout",
     "output_type": "stream",
     "text": [
      "[['56', '43', '26 - 4 - 6 = 16 pink hard hats remaining  \\n15 - (2 × 6) = 15 - 12 = 3 green hard hats remaining  \\n24 yellow hard hats remaining  \\nTotal remaining = 16 + 3 + 24 = 43', '55', '26 - 4 - 6 = 16 (pink hard hats remaining)  \\n15 - (2 * 6) = 15 - 12 = 3 (green hard hats remaining)  \\n24 (yellow hard hats remaining)  \\nTotal remaining = 16 + 3 + 24 = 43'], ['76', '26 - 4 - 6 = 16 pink hard hats remaining  \\n15 - (2 * 6) = 15 - 12 = 3 green hard hats remaining  \\n24 yellow hard hats remain unchanged  \\nTotal hard hats remaining = 16 + 3 + 24 = 43', '26 - 4 (pink hard hats taken by Carl) = 22 pink hard hats remaining  \\nJohn takes away 6 pink hard hats: remaining pink hard hats = 22 - 6 = 16  \\nJohn takes away twice as many green hard hats as pink hard hats he took: 2 * 6 = 12 green hard hats taken  \\nRemaining green hard hats: 15 - 12 = 3  \\nYellow hard hats remain unchanged: 24  \\nTotal remaining hard hats: 16 (pink) + 3 (green) + 24 (yellow) = 43', '26 - 4 - 6 = 16 pink hard hats remaining  \\n15 - (2 * 6) = 15 - 12 = 3 green hard hats remaining  \\n24 yellow hard hats remaining (none taken)  \\n\\nTotal hard hats remaining = 16 + 3 + 24 = 43', '26 - 4 = 22 pink hard hats remaining  \\n15 - 6 = 9 green hard hats remaining  \\nTwice as many green hard hats as pink hard hats John took: 2 * 6 = 12 (but since only 15 green hats in total, and John took 6, remaining green hats are 15 - 12 = 3)  \\nYellow hard hats remain unchanged: 24  \\nTotal remaining: 22 + 9 + 3 + 24 = 58'], ['53', '39', '53', '53', '39']]\n",
      "0.4\n",
      "🔍 Top-K Indices: [18, 119, 101]\n",
      "[INFO] Launching 15 parallel inference tasks...\n"
     ]
    },
    {
     "name": "stderr",
     "output_type": "stream",
     "text": [
      "Baseline eval:  95%|█████████▌| 19/20 [00:37<00:01,  1.83s/it]"
     ]
    },
    {
     "name": "stdout",
     "output_type": "stream",
     "text": [
      "[['9', '9', '9', '9', '9'], ['9', '9', '9', '9', '9'], ['12', '12', '9', '10', '10']]\n",
      "0.0\n",
      "🔍 Top-K Indices: [18, 101, 119]\n",
      "[INFO] Launching 15 parallel inference tasks...\n"
     ]
    },
    {
     "name": "stderr",
     "output_type": "stream",
     "text": [
      "Baseline eval: 100%|██████████| 20/20 [00:39<00:00,  1.95s/it]"
     ]
    },
    {
     "name": "stdout",
     "output_type": "stream",
     "text": [
      "[['6.4', '8', '12', '8', '12'], ['(5 * 20 miles * 2) + 200 miles = 200 + 200 = 400 miles  \\nTime = Distance / Speed = 400 / 25 = 16 hours', 'Total miles biked in a week = (5 days * 2 * 20 miles) + 200 miles = 200 + 200 = 400 miles.  \\nTime spent biking = Total miles / Speed = 400 miles / 25 mph = 16 hours.', '(5 days * 2 trips/day * 20 miles/trip) + 200 miles = 200 + 200 = 400 miles  \\nTime = Distance / Speed = 400 miles / 25 mph = 16 hours', '25.6', 'Time for the 5 workdays: 2 trips per day * 5 days = 10 trips; each trip is 20 miles, so total miles = 10 * 20 = 200 miles.\\nTime for work trips: 200 miles / 25 mph = 8 hours.\\nTime for weekend ride: 200 miles / 25 mph = 8 hours.\\nTotal time: 8 hours + 8 hours = 16 hours.'], ['8', '5 hours', '12', '8', '8']]\n",
      "0.26666666666666666\n",
      "\n",
      "📊  Baseline accuracy on GSM8K_to_infer: 42.333%\n"
     ]
    },
    {
     "name": "stderr",
     "output_type": "stream",
     "text": [
      "\n"
     ]
    }
   ],
   "source": [
    "# ------------------------------------------------------------\n",
    "# 0.  Imports & config – nothing here should clash with yours\n",
    "# ------------------------------------------------------------\n",
    "from tqdm import tqdm\n",
    "import torch\n",
    "from mathbert_encoder import MathBERTEncoder\n",
    "import retriever_cosine as rc\n",
    "# from import retrieve_top_k_cosine, retrieve_sample_k_cosine\n",
    "from response_sampler import sample_responses_per_demo\n",
    "from reward_aggregator import compute_demo_accuracy\n",
    "from icl_model_wrapper import OpenAIICLModel\n",
    "from grpo_optimizer import grpo_step\n",
    "from datasets import load_dataset\n",
    "from dotenv import load_dotenv\n",
    "import os\n",
    "from transformers import get_linear_schedule_with_warmup\n",
    "from importlib import reload\n",
    "\n",
    "reload(rc)\n",
    "\n",
    "load_dotenv()\n",
    "\n",
    "API_KEY = os.getenv(\"OPENAI_API_KEY\")\n",
    "DEVICE  = \"cuda\" if torch.cuda.is_available() else \"cpu\"\n",
    "K       = 3                # demos per query\n",
    "NUM_SAMPLES = 5             # model completions per query\n",
    "TEMPERATURE = 0.7           # keep same as training loop\n",
    "\n",
    "# ------------------------------------------------------------\n",
    "# 1.  Initialise encoder **in eval mode** (weights frozen)\n",
    "# ------------------------------------------------------------\n",
    "encoder.eval()                                   # no grads!\n",
    "\n",
    "icl_model = OpenAIICLModel(api_key=API_KEY,\n",
    "                           model_name=\"gpt-4.1-nano\",\n",
    "                           temperature=TEMPERATURE)\n",
    "\n",
    "# ------------------------------------------------------------\n",
    "# 2.  Load/define the inference set\n",
    "#     If you already saved a slice elsewhere, just load it.\n",
    "# ------------------------------------------------------------\n",
    "gsm8k_data = load_dataset(\"gsm8k\", \"main\")[\"train\"].select(range(256))  # slice first 200 examples\n",
    "gsm8k_to_infer = load_dataset(\"gsm8k\", \"main\")[\"train\"] \\\n",
    "                     .select(range(20))          # ⬅ change as needed\n",
    "\n",
    "# ------------------------------------------------------------\n",
    "# 3.  Evaluation loop\n",
    "# ------------------------------------------------------------\n",
    "total, correct = 0, 0\n",
    "all_losses     = []          # optional – to compare prompt quality\n",
    "\n",
    "for idx in tqdm(range(len(gsm8k_to_infer)), desc=\"Baseline eval\"):\n",
    "    item       = gsm8k_to_infer[idx]\n",
    "    Q_inf, A_gt = item[\"question\"], item[\"answer\"]\n",
    "\n",
    "    # Build demo pool (everything except current query)\n",
    "    demos = [(d[\"question\"], d[\"answer\"])\n",
    "             for j, d in enumerate(gsm8k_data) if j != idx]\n",
    "\n",
    "    # Encode query + candidate demos\n",
    "    with torch.no_grad():\n",
    "        q_emb     = encoder.encode([Q_inf], detach=True).squeeze(0)\n",
    "        demo_embs = encoder.encode([q for (q, _) in demos], detach=True)\n",
    "\n",
    "    # ------- ORIGINAL cosine retrieval -------------------------\n",
    "    top_k, _ = rc.retrieve_top_k_cosine(\n",
    "        q_emb, demo_embs, k=min(K, len(demos))\n",
    "    )\n",
    "    print(f\"🔍 Top-K Indices: {top_k}\")\n",
    "    selected_demos = [demos[i] for i in top_k]          # length = 2\n",
    "\n",
    "    # ------- Run the ICL model --------------------------------\n",
    "    responses_nested = sample_responses_per_demo(\n",
    "        demo_tuples = selected_demos,\n",
    "        Q_inf       = Q_inf,\n",
    "        icl_model   = icl_model,\n",
    "        num_samples = NUM_SAMPLES,\n",
    "        parallel=True\n",
    "    )\n",
    "    print(responses_nested)\n",
    "    flat_responses = [r for demo_resps in responses_nested for r in demo_resps]\n",
    "    acc = compute_demo_accuracy(flat_responses, A_gt)\n",
    "    print(acc) \n",
    "    correct += acc\n",
    "    total   += 1\n",
    "\n",
    "baseline_acc = correct / total\n",
    "print(f\"\\n📊  Baseline accuracy on GSM8K_to_infer: {baseline_acc:.3%}\")\n"
   ]
  },
  {
   "cell_type": "code",
   "execution_count": 13,
   "metadata": {},
   "outputs": [
    {
     "data": {
      "text/plain": [
       "('./53k_q3_iter_1_mathbert/tokenizer_config.json',\n",
       " './53k_q3_iter_1_mathbert/special_tokens_map.json',\n",
       " './53k_q3_iter_1_mathbert/vocab.txt',\n",
       " './53k_q3_iter_1_mathbert/added_tokens.json')"
      ]
     },
     "execution_count": 13,
     "metadata": {},
     "output_type": "execute_result"
    }
   ],
   "source": [
    "# Save the updated MathBERT model\n",
    "save_path = \"./53k_q3_iter_1_mathbert\"  # your save directory\n",
    "encoder.model.save_pretrained(save_path)\n",
    "encoder.tokenizer.save_pretrained(save_path)\n",
    "\n",
    "# LOADING\n",
    "\n",
    "# from transformers import BertTokenizer, BertModel\n",
    "\n",
    "# model = BertModel.from_pretrained(\"./updated_mathbert\")\n",
    "# tokenizer = BertTokenizer.from_pretrained(\"./updated_mathbert\")\n"
   ]
  }
 ],
 "metadata": {
  "kernelspec": {
   "display_name": "unsloth",
   "language": "python",
   "name": "python3"
  },
  "language_info": {
   "codemirror_mode": {
    "name": "ipython",
    "version": 3
   },
   "file_extension": ".py",
   "mimetype": "text/x-python",
   "name": "python",
   "nbconvert_exporter": "python",
   "pygments_lexer": "ipython3",
   "version": "3.11.11"
  }
 },
 "nbformat": 4,
 "nbformat_minor": 5
}
