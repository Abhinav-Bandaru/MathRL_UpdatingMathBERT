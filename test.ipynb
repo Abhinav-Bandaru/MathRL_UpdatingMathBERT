{
 "cells": [
  {
   "cell_type": "markdown",
   "id": "1e5d29a1",
   "metadata": {},
   "source": [
    "# Model Architecture"
   ]
  },
  {
   "cell_type": "markdown",
   "id": "f05b8496",
   "metadata": {},
   "source": [
    "          [ Question Text ]               [ Candidate Demos ]\n",
    "                  ↓                                ↓\n",
    "            MathBERT Encoder               MathBERT Encoder\n",
    "                  ↓                                ↓\n",
    "             Q_embedding                      {C_embeddings}\n",
    "\n",
    "           [Selected Demos]\n",
    "                  ↓\n",
    "             MathBERT Encoder\n",
    "                  ↓\n",
    "          {Sel_embeddings}\n",
    "\n",
    "                  ↓\n",
    "     Context Aggregation (mean pooling or attention)\n",
    "\n",
    "                  ↓\n",
    "    For each candidate:\n",
    "    [Context || Candidate_emb] → MLP Scorer → Scalar Score\n",
    "\n",
    "                  ↓\n",
    "       Softmax over candidate scores\n",
    "                  ↓\n",
    "      Select next demo (sample/argmax)\n",
    "                  ↓\n",
    "  Add to selected demos, repeat until k selected\n",
    "\n",
    "                  ↓\n",
    "    Feed (k demos + question) to ICL model\n",
    "                  ↓\n",
    "           Generate answer\n",
    "                  ↓\n",
    "    Reward based on correctness\n",
    "                  ↓\n",
    "         PPO/GRPO optimization\n"
   ]
  },
  {
   "cell_type": "markdown",
   "id": "9eac0d1e",
   "metadata": {},
   "source": [
    "# Testing the MathBERT Encoder for [CLS] token"
   ]
  },
  {
   "cell_type": "code",
   "execution_count": 1,
   "id": "c6937ffb",
   "metadata": {},
   "outputs": [
    {
     "name": "stderr",
     "output_type": "stream",
     "text": [
      "c:\\Users\\abhin\\miniconda3\\envs\\lima\\lib\\site-packages\\tqdm\\auto.py:21: TqdmWarning: IProgress not found. Please update jupyter and ipywidgets. See https://ipywidgets.readthedocs.io/en/stable/user_install.html\n",
      "  from .autonotebook import tqdm as notebook_tqdm\n",
      "c:\\Users\\abhin\\miniconda3\\envs\\lima\\lib\\site-packages\\huggingface_hub\\file_download.py:140: UserWarning: `huggingface_hub` cache-system uses symlinks by default to efficiently store duplicated files but your machine does not support them in C:\\Users\\abhin\\.cache\\huggingface\\hub\\models--tbs17--MathBERT. Caching files will still work but in a degraded version that might require more space on your disk. This warning can be disabled by setting the `HF_HUB_DISABLE_SYMLINKS_WARNING` environment variable. For more details, see https://huggingface.co/docs/huggingface_hub/how-to-cache#limitations.\n",
      "To support symlinks on Windows, you either need to activate Developer Mode or to run Python as an administrator. In order to activate developer mode, see this article: https://docs.microsoft.com/en-us/windows/apps/get-started/enable-your-device-for-development\n",
      "  warnings.warn(message)\n"
     ]
    },
    {
     "name": "stdout",
     "output_type": "stream",
     "text": [
      "Tokens: ['find', 'the', 'value', 'of', 'x', 'in', '2', '##x', '+', '3', '=', '7']\n",
      "Tokenized with special tokens: ['[CLS]', 'find', 'the', 'value', 'of', 'x', 'in', '2', '##x', '+', '3', '=', '7', '[SEP]']\n"
     ]
    }
   ],
   "source": [
    "from transformers import BertTokenizer\n",
    "\n",
    "tokenizer = BertTokenizer.from_pretrained(\"tbs17/MathBERT\")\n",
    "\n",
    "text = \"Find the value of x in 2x + 3 = 7\"\n",
    "tokens = tokenizer.tokenize(text)\n",
    "print(\"Tokens:\", tokens)\n",
    "\n",
    "encoded = tokenizer(text, return_tensors=\"pt\")\n",
    "input_ids = encoded[\"input_ids\"][0]\n",
    "\n",
    "# Convert token IDs back to tokens to see full sequence\n",
    "tokens_with_special = tokenizer.convert_ids_to_tokens(input_ids)\n",
    "print(\"Tokenized with special tokens:\", tokens_with_special)\n"
   ]
  },
  {
   "cell_type": "markdown",
   "id": "0c1c37e4",
   "metadata": {},
   "source": [
    "# Testing the Retriever Pipeline"
   ]
  },
  {
   "cell_type": "code",
   "execution_count": 3,
   "metadata": {},
   "outputs": [
    {
     "name": "stdout",
     "output_type": "stream",
     "text": [
      "\n",
      "=== Selected Demo Indices ===\n",
      "[1, 0]\n",
      "\n",
      "=== Generated ICL Prompt ===\n",
      "Q: What is 5x5?\n",
      "A: 25\n",
      "\n",
      "Q: What is 2+2?\n",
      "A: 4\n",
      "\n",
      "Q: What is the value of 3 + 7?\n",
      "A:\n"
     ]
    }
   ],
   "source": [
    "import torch\n",
    "from trainer.retriever_pipeline import RetrieverPipeline\n",
    "\n",
    "# Initialize the pipeline\n",
    "pipeline = RetrieverPipeline(device=\"cuda\")  # or \"cpu\" if no GPU\n",
    "\n",
    "# Define an inference question\n",
    "Q_inf = \"What is the value of 3 + 7?\"\n",
    "\n",
    "# Define candidate demos (Q, A) pairs\n",
    "demos = [\n",
    "    (\"What is 2+2?\", \"4\"),\n",
    "    (\"What is 5x5?\", \"25\"),\n",
    "    (\"What is 10/2?\", \"5\"),\n",
    "    (\"What is 7-3?\", \"4\"),\n",
    "]\n",
    "\n",
    "# Set number of demos to retrieve\n",
    "k = 2  # 2-shot\n",
    "\n",
    "# Retrieve and build prompt\n",
    "prompt, selected_indices = pipeline.retrieve_and_build_prompt(\n",
    "    Q_inf=Q_inf,\n",
    "    demos=demos,\n",
    "    k=k,\n",
    "    sample=False  # use greedy selection\n",
    ")\n",
    "\n",
    "# Print outputs\n",
    "print(\"\\n=== Selected Demo Indices ===\")\n",
    "print(selected_indices)\n",
    "\n",
    "print(\"\\n=== Generated ICL Prompt ===\")\n",
    "print(prompt)"
   ]
  },
  {
   "cell_type": "code",
   "execution_count": null,
   "id": "baae293a",
   "metadata": {},
   "outputs": [],
   "source": []
  }
 ],
 "metadata": {
  "kernelspec": {
   "display_name": "lima",
   "language": "python",
   "name": "python3"
  },
  "language_info": {
   "codemirror_mode": {
    "name": "ipython",
    "version": 3
   },
   "file_extension": ".py",
   "mimetype": "text/x-python",
   "name": "python",
   "nbconvert_exporter": "python",
   "pygments_lexer": "ipython3",
   "version": "3.10.16"
  }
 },
 "nbformat": 4,
 "nbformat_minor": 5
}
