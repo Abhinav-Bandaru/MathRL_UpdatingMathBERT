{
 "cells": [
  {
   "cell_type": "markdown",
   "id": "f75995b3",
   "metadata": {},
   "source": [
    "# EVALUATION LOOP"
   ]
  },
  {
   "cell_type": "code",
   "execution_count": 1,
   "id": "fdc8ec74",
   "metadata": {},
   "outputs": [
    {
     "name": "stderr",
     "output_type": "stream",
     "text": [
      "Baseline eval:   0%|          | 0/40 [00:00<?, ?it/s]"
     ]
    },
    {
     "name": "stdout",
     "output_type": "stream",
     "text": [
      "🔍 Top-K Indices: [149]\n",
      "[INFO] Launching 1 parallel inference tasks...\n"
     ]
    },
    {
     "name": "stderr",
     "output_type": "stream",
     "text": [
      "Baseline eval:   2%|▎         | 1/40 [00:02<01:46,  2.73s/it]"
     ]
    },
    {
     "name": "stdout",
     "output_type": "stream",
     "text": [
      "Solution:  2\n",
      "Response:  2\n",
      "['2']\n",
      "1.0\n",
      "🔍 Top-K Indices: [104]\n",
      "[INFO] Launching 1 parallel inference tasks...\n"
     ]
    },
    {
     "name": "stderr",
     "output_type": "stream",
     "text": [
      "Baseline eval:   5%|▌         | 2/40 [00:04<01:32,  2.44s/it]"
     ]
    },
    {
     "name": "stdout",
     "output_type": "stream",
     "text": [
      "Solution:  18\n",
      "Response:  18\n",
      "['18']\n",
      "1.0\n",
      "🔍 Top-K Indices: [109]\n",
      "[INFO] Launching 1 parallel inference tasks...\n",
      "Solution:  \\dfrac{7}{20}\n",
      "Response:  \\frac{1}{2}\n",
      "['\\\\frac{1}{2}']\n"
     ]
    },
    {
     "name": "stderr",
     "output_type": "stream",
     "text": [
      "Baseline eval:   8%|▊         | 3/40 [00:10<02:29,  4.04s/it]"
     ]
    },
    {
     "name": "stdout",
     "output_type": "stream",
     "text": [
      "0.0\n",
      "🔍 Top-K Indices: [159]\n",
      "[INFO] Launching 1 parallel inference tasks...\n"
     ]
    },
    {
     "name": "stderr",
     "output_type": "stream",
     "text": [
      "Baseline eval:  10%|█         | 4/40 [00:13<02:01,  3.37s/it]"
     ]
    },
    {
     "name": "stdout",
     "output_type": "stream",
     "text": [
      "Solution:  1.36\n",
      "Response:  \\boxed{1.36}\n",
      "['\\\\boxed{1.36}']\n",
      "1.0\n",
      "🔍 Top-K Indices: [113]\n",
      "[INFO] Launching 1 parallel inference tasks...\n"
     ]
    },
    {
     "name": "stderr",
     "output_type": "stream",
     "text": [
      "Baseline eval:  12%|█▎        | 5/40 [00:20<02:50,  4.86s/it]"
     ]
    },
    {
     "name": "stdout",
     "output_type": "stream",
     "text": [
      "Solution:  28\n",
      "Response:  676\n",
      "['676']\n",
      "0.0\n",
      "🔍 Top-K Indices: [76]\n",
      "[INFO] Launching 1 parallel inference tasks...\n"
     ]
    },
    {
     "name": "stderr",
     "output_type": "stream",
     "text": [
      "Baseline eval:  15%|█▌        | 6/40 [00:26<02:53,  5.10s/it]"
     ]
    },
    {
     "name": "stdout",
     "output_type": "stream",
     "text": [
      "Solution:  \\frac{2 \\sqrt{149}}{3}\n",
      "Response:  \\frac{2\\sqrt{149}}{3}\n",
      "['\\\\frac{2\\\\sqrt{149}}{3}']\n",
      "1.0\n",
      "🔍 Top-K Indices: [64]\n",
      "[INFO] Launching 1 parallel inference tasks...\n",
      "Solution:  3\\sqrt{3}\n",
      "Response:  \u0014 \frac{2bc \\, \\, \text{cos} \\frac{A}{2}}{b+c} \n",
      "\n",
      "In triangle ABC, sides are: \n",
      "AB = AC = 14, BC = 26.\n",
      "Using the Law of Cosines to find angle A:\n",
      "\n",
      "cos A = \\frac{b^2 + c^2 - a^2}{2bc} = \\frac{14^2 + 14^2 - 26^2}{2 \\times 14 \\times 14} = \\frac{196 + 196 - 676}{392} = \\frac{-284}{392} = -\\frac{71}{98}.\n",
      "\n",
      "Now, the angle A:\n",
      "A = \\arccos \\left(-\\frac{71}{98}\\right).\n",
      "\n",
      "The angle bisector from A has length:\n",
      "\n",
      "l_a = \\frac{2bc \\sin \\frac{A}{2}}{b + c}.\n",
      "\n",
      "Since b = c = 14, this simplifies to:\n",
      "\n",
      "l_a = \\frac{2 \\times 14 \\times 14 \\sin \\frac{A}{2}}{14 + 14} = \\frac{392 \\sin \\frac{A}{2}}{28} = 14 \\sin \\frac{A}{2}.\n",
      "\n",
      "Using the half-angle formula:\n",
      "\n",
      "\\sin \\frac{A}{2} = \\sqrt{\\frac{1 - \\cos A}{2}} = \\sqrt{\\frac{1 - (-\\frac{71}{98})}{2}} = \\sqrt{\\frac{1 + \\frac{71}{98}}{2}} = \\sqrt{\\frac{\\frac{98}{98} + \\frac{71}{98}}{2}} = \\sqrt{\\frac{169/98}{2}} = \\sqrt{\\frac{169}{196}} = \\frac{13}{14}.\n",
      "\n",
      "Therefore, the length of the bisector from A:\n",
      "\n",
      "l_a = 14 \\times \\frac{13}{14} = 13.\n",
      "\n",
      "Hence, the shortest angle bisector in triangle ABC is of length \\boxed{13}.}\n",
      "['\\x14 \\x0crac{2bc \\\\, \\\\, \\text{cos} \\\\frac{A}{2}}{b+c} \\n\\nIn triangle ABC, sides are: \\nAB = AC = 14, BC = 26.\\nUsing the Law of Cosines to find angle A:\\n\\ncos A = \\\\frac{b^2 + c^2 - a^2}{2bc} = \\\\frac{14^2 + 14^2 - 26^2}{2 \\\\times 14 \\\\times 14} = \\\\frac{196 + 196 - 676}{392} = \\\\frac{-284}{392} = -\\\\frac{71}{98}.\\n\\nNow, the angle A:\\nA = \\\\arccos \\\\left(-\\\\frac{71}{98}\\\\right).\\n\\nThe angle bisector from A has length:\\n\\nl_a = \\\\frac{2bc \\\\sin \\\\frac{A}{2}}{b + c}.\\n\\nSince b = c = 14, this simplifies to:\\n\\nl_a = \\\\frac{2 \\\\times 14 \\\\times 14 \\\\sin \\\\frac{A}{2}}{14 + 14} = \\\\frac{392 \\\\sin \\\\frac{A}{2}}{28} = 14 \\\\sin \\\\frac{A}{2}.\\n\\nUsing the half-angle formula:\\n\\n\\\\sin \\\\frac{A}{2} = \\\\sqrt{\\\\frac{1 - \\\\cos A}{2}} = \\\\sqrt{\\\\frac{1 - (-\\\\frac{71}{98})}{2}} = \\\\sqrt{\\\\frac{1 + \\\\frac{71}{98}}{2}} = \\\\sqrt{\\\\frac{\\\\frac{98}{98} + \\\\frac{71}{98}}{2}} = \\\\sqrt{\\\\frac{169/98}{2}} = \\\\sqrt{\\\\frac{169}{196}} = \\\\frac{13}{14}.\\n\\nTherefore, the length of the bisector from A:\\n\\nl_a = 14 \\\\times \\\\frac{13}{14} = 13.\\n\\nHence, the shortest angle bisector in triangle ABC is of length \\\\boxed{13}.}']\n"
     ]
    },
    {
     "name": "stderr",
     "output_type": "stream",
     "text": [
      "Baseline eval:  18%|█▊        | 7/40 [00:35<03:29,  6.35s/it]"
     ]
    },
    {
     "name": "stdout",
     "output_type": "stream",
     "text": [
      "0.0\n",
      "🔍 Top-K Indices: [204]\n",
      "[INFO] Launching 1 parallel inference tasks...\n"
     ]
    },
    {
     "name": "stderr",
     "output_type": "stream",
     "text": [
      "Baseline eval:  20%|██        | 8/40 [00:38<02:52,  5.38s/it]"
     ]
    },
    {
     "name": "stdout",
     "output_type": "stream",
     "text": [
      "Solution:  10\\sqrt{2}\n",
      "Response:  10\\sqrt{2}\n",
      "['10\\\\sqrt{2}']\n",
      "1.0\n",
      "🔍 Top-K Indices: [72]\n",
      "[INFO] Launching 1 parallel inference tasks...\n",
      "Solution:  3\\sqrt{2}\n",
      "Response:  54\n",
      "['54']\n"
     ]
    },
    {
     "name": "stderr",
     "output_type": "stream",
     "text": [
      "Baseline eval:  22%|██▎       | 9/40 [00:43<02:40,  5.17s/it]"
     ]
    },
    {
     "name": "stdout",
     "output_type": "stream",
     "text": [
      "0.0\n",
      "🔍 Top-K Indices: [154]\n",
      "[INFO] Launching 1 parallel inference tasks...\n"
     ]
    },
    {
     "name": "stderr",
     "output_type": "stream",
     "text": [
      "Baseline eval:  25%|██▌       | 10/40 [00:46<02:13,  4.46s/it]"
     ]
    },
    {
     "name": "stdout",
     "output_type": "stream",
     "text": [
      "Solution:  \\text{June 20}\n",
      "Response:  \\textbf{June 20\n",
      "['\\\\textbf{June 20']\n",
      "1.0\n",
      "🔍 Top-K Indices: [194]\n",
      "[INFO] Launching 1 parallel inference tasks...\n"
     ]
    },
    {
     "name": "stderr",
     "output_type": "stream",
     "text": [
      "Baseline eval:  28%|██▊       | 11/40 [00:53<02:37,  5.44s/it]"
     ]
    },
    {
     "name": "stdout",
     "output_type": "stream",
     "text": [
      "Solution:  32736\n",
      "Response:  32861\n",
      "['32861']\n",
      "0.0\n",
      "🔍 Top-K Indices: [151]\n",
      "[INFO] Launching 1 parallel inference tasks...\n",
      "Solution:  735\n",
      "Response:  $ (33 \\times 21.95) + (33 \\times 2.55) = 33 \\times (21.95 + 2.55) = 33 \\times 24.50 = \\boxed{808.50}.\n",
      "['$ (33 \\\\times 21.95) + (33 \\\\times 2.55) = 33 \\\\times (21.95 + 2.55) = 33 \\\\times 24.50 = \\\\boxed{808.50}.']\n"
     ]
    },
    {
     "name": "stderr",
     "output_type": "stream",
     "text": [
      "Baseline eval:  30%|███       | 12/40 [00:57<02:16,  4.89s/it]"
     ]
    },
    {
     "name": "stdout",
     "output_type": "stream",
     "text": [
      "0.0\n",
      "🔍 Top-K Indices: [33]\n",
      "[INFO] Launching 1 parallel inference tasks...\n"
     ]
    },
    {
     "name": "stderr",
     "output_type": "stream",
     "text": [
      "Baseline eval:  32%|███▎      | 13/40 [01:02<02:16,  5.07s/it]"
     ]
    },
    {
     "name": "stdout",
     "output_type": "stream",
     "text": [
      "Solution:  5\n",
      "Response:  5\n",
      "['5']\n",
      "1.0\n",
      "🔍 Top-K Indices: [62]\n",
      "[INFO] Launching 1 parallel inference tasks...\n"
     ]
    },
    {
     "name": "stderr",
     "output_type": "stream",
     "text": [
      "Baseline eval:  35%|███▌      | 14/40 [01:04<01:47,  4.13s/it]"
     ]
    },
    {
     "name": "stdout",
     "output_type": "stream",
     "text": [
      "Solution:  2\n",
      "Response:  2\n",
      "['2']\n",
      "1.0\n",
      "🔍 Top-K Indices: [109]\n",
      "[INFO] Launching 1 parallel inference tasks...\n"
     ]
    },
    {
     "name": "stderr",
     "output_type": "stream",
     "text": [
      "Baseline eval:  38%|███▊      | 15/40 [01:12<02:06,  5.04s/it]"
     ]
    },
    {
     "name": "stdout",
     "output_type": "stream",
     "text": [
      "Solution:  5\n",
      "Response:  5\n",
      "['5']\n",
      "1.0\n",
      "🔍 Top-K Indices: [241]\n",
      "[INFO] Launching 1 parallel inference tasks...\n",
      "Error making OpenAI API call: Could not parse response content as the length limit was reached - CompletionUsage(completion_tokens=2048, prompt_tokens=407, total_tokens=2455, completion_tokens_details=CompletionTokensDetails(accepted_prediction_tokens=0, audio_tokens=0, reasoning_tokens=0, rejected_prediction_tokens=0), prompt_tokens_details=PromptTokensDetails(audio_tokens=0, cached_tokens=0))\n",
      "False\n",
      "Error making OpenAI API call: Could not parse response content as the length limit was reached - CompletionUsage(completion_tokens=2048, prompt_tokens=407, total_tokens=2455, completion_tokens_details=CompletionTokensDetails(accepted_prediction_tokens=0, audio_tokens=0, reasoning_tokens=0, rejected_prediction_tokens=0), prompt_tokens_details=PromptTokensDetails(audio_tokens=0, cached_tokens=0))\n",
      "False\n",
      "Error making OpenAI API call: Could not parse response content as the length limit was reached - CompletionUsage(completion_tokens=2048, prompt_tokens=407, total_tokens=2455, completion_tokens_details=CompletionTokensDetails(accepted_prediction_tokens=0, audio_tokens=0, reasoning_tokens=0, rejected_prediction_tokens=0), prompt_tokens_details=PromptTokensDetails(audio_tokens=0, cached_tokens=0))\n",
      "True\n"
     ]
    },
    {
     "name": "stderr",
     "output_type": "stream",
     "text": [
      "Baseline eval:  40%|████      | 16/40 [01:57<06:54, 17.27s/it]"
     ]
    },
    {
     "name": "stdout",
     "output_type": "stream",
     "text": [
      "Turning text into JSON by brute force...\n",
      "Solution:  \\frac{416}{27}\n",
      "Response:  \\frac{416}{27}\n",
      "['\\\\frac{416}{27}']\n",
      "1.0\n",
      "🔍 Top-K Indices: [192]\n",
      "[INFO] Launching 1 parallel inference tasks...\n"
     ]
    },
    {
     "name": "stderr",
     "output_type": "stream",
     "text": [
      "Baseline eval:  42%|████▎     | 17/40 [02:01<05:01, 13.09s/it]"
     ]
    },
    {
     "name": "stdout",
     "output_type": "stream",
     "text": [
      "Solution:  19\n",
      "Response:  19\n",
      "['19']\n",
      "1.0\n",
      "🔍 Top-K Indices: [126]\n",
      "[INFO] Launching 1 parallel inference tasks...\n"
     ]
    },
    {
     "name": "stderr",
     "output_type": "stream",
     "text": [
      "Baseline eval:  45%|████▌     | 18/40 [02:03<03:37,  9.90s/it]"
     ]
    },
    {
     "name": "stdout",
     "output_type": "stream",
     "text": [
      "Solution:  27\n",
      "Response:  27\n",
      "['27']\n",
      "1.0\n",
      "🔍 Top-K Indices: [192]\n",
      "[INFO] Launching 1 parallel inference tasks...\n"
     ]
    },
    {
     "name": "stderr",
     "output_type": "stream",
     "text": [
      "Baseline eval:  48%|████▊     | 19/40 [02:06<02:44,  7.85s/it]"
     ]
    },
    {
     "name": "stdout",
     "output_type": "stream",
     "text": [
      "Solution:  50\n",
      "Response:  50\n",
      "['50']\n",
      "1.0\n",
      "🔍 Top-K Indices: [41]\n",
      "[INFO] Launching 1 parallel inference tasks...\n"
     ]
    },
    {
     "name": "stderr",
     "output_type": "stream",
     "text": [
      "Baseline eval:  50%|█████     | 20/40 [02:10<02:11,  6.57s/it]"
     ]
    },
    {
     "name": "stdout",
     "output_type": "stream",
     "text": [
      "Solution:  \\text{even}\n",
      "Response:  even\n",
      "['even']\n",
      "1.0\n",
      "🔍 Top-K Indices: [45]\n",
      "[INFO] Launching 1 parallel inference tasks...\n"
     ]
    },
    {
     "name": "stderr",
     "output_type": "stream",
     "text": [
      "Baseline eval:  52%|█████▎    | 21/40 [02:15<01:55,  6.07s/it]"
     ]
    },
    {
     "name": "stdout",
     "output_type": "stream",
     "text": [
      "Solution:  \\sqrt{10}\n",
      "Response:  \\sqrt{10}\n",
      "['\\\\sqrt{10}']\n",
      "1.0\n",
      "🔍 Top-K Indices: [222]\n",
      "[INFO] Launching 1 parallel inference tasks...\n"
     ]
    },
    {
     "name": "stderr",
     "output_type": "stream",
     "text": [
      "Baseline eval:  55%|█████▌    | 22/40 [02:17<01:30,  5.05s/it]"
     ]
    },
    {
     "name": "stdout",
     "output_type": "stream",
     "text": [
      "Solution:  4\n",
      "Response:  4\n",
      "['4']\n",
      "1.0\n",
      "🔍 Top-K Indices: [229]\n",
      "[INFO] Launching 1 parallel inference tasks...\n"
     ]
    },
    {
     "name": "stderr",
     "output_type": "stream",
     "text": [
      "Baseline eval:  57%|█████▊    | 23/40 [02:21<01:18,  4.62s/it]"
     ]
    },
    {
     "name": "stdout",
     "output_type": "stream",
     "text": [
      "Solution:  \\frac{2}{3}\n",
      "Response:  \\frac{2}{3}\n",
      "['\\\\frac{2}{3}']\n",
      "1.0\n",
      "🔍 Top-K Indices: [115]\n",
      "[INFO] Launching 1 parallel inference tasks...\n"
     ]
    },
    {
     "name": "stderr",
     "output_type": "stream",
     "text": [
      "Baseline eval:  60%|██████    | 24/40 [02:24<01:05,  4.11s/it]"
     ]
    },
    {
     "name": "stdout",
     "output_type": "stream",
     "text": [
      "Solution:  15\n",
      "Response:  15\n",
      "['15']\n",
      "1.0\n",
      "🔍 Top-K Indices: [123]\n",
      "[INFO] Launching 1 parallel inference tasks...\n",
      "Solution:  336\n",
      "Response:  \\( 8 \\times 7 \\times 6 = 336 \\)\n",
      "['\\\\( 8 \\\\times 7 \\\\times 6 = 336 \\\\)']\n"
     ]
    },
    {
     "name": "stderr",
     "output_type": "stream",
     "text": [
      "Baseline eval:  62%|██████▎   | 25/40 [02:27<00:55,  3.69s/it]"
     ]
    },
    {
     "name": "stdout",
     "output_type": "stream",
     "text": [
      "0.0\n",
      "🔍 Top-K Indices: [5]\n",
      "[INFO] Launching 1 parallel inference tasks...\n",
      "Solution:  \\frac{1}{5}, -\\frac{1}{3}\n",
      "Response:  -\\frac{1}{3}\n",
      "['-\\\\frac{1}{3}']\n"
     ]
    },
    {
     "name": "stderr",
     "output_type": "stream",
     "text": [
      "Baseline eval:  65%|██████▌   | 26/40 [02:32<00:58,  4.21s/it]"
     ]
    },
    {
     "name": "stdout",
     "output_type": "stream",
     "text": [
      "0.0\n",
      "🔍 Top-K Indices: [16]\n",
      "[INFO] Launching 1 parallel inference tasks...\n",
      "Error making OpenAI API call: Could not parse response content as the length limit was reached - CompletionUsage(completion_tokens=2048, prompt_tokens=387, total_tokens=2435, completion_tokens_details=CompletionTokensDetails(accepted_prediction_tokens=0, audio_tokens=0, reasoning_tokens=0, rejected_prediction_tokens=0), prompt_tokens_details=PromptTokensDetails(audio_tokens=0, cached_tokens=0))\n",
      "False\n",
      "Error making OpenAI API call: Could not parse response content as the length limit was reached - CompletionUsage(completion_tokens=2048, prompt_tokens=387, total_tokens=2435, completion_tokens_details=CompletionTokensDetails(accepted_prediction_tokens=0, audio_tokens=0, reasoning_tokens=0, rejected_prediction_tokens=0), prompt_tokens_details=PromptTokensDetails(audio_tokens=0, cached_tokens=0))\n",
      "False\n",
      "Error making OpenAI API call: Could not parse response content as the length limit was reached - CompletionUsage(completion_tokens=2048, prompt_tokens=387, total_tokens=2435, completion_tokens_details=CompletionTokensDetails(accepted_prediction_tokens=0, audio_tokens=0, reasoning_tokens=0, rejected_prediction_tokens=0), prompt_tokens_details=PromptTokensDetails(audio_tokens=0, cached_tokens=0))\n",
      "True\n"
     ]
    },
    {
     "name": "stderr",
     "output_type": "stream",
     "text": [
      "Baseline eval:  68%|██████▊   | 27/40 [03:05<02:48, 12.95s/it]"
     ]
    },
    {
     "name": "stdout",
     "output_type": "stream",
     "text": [
      "Turning text into JSON by brute force...\n",
      "Solution:  11\n",
      "Response:  11\n",
      "['11']\n",
      "1.0\n",
      "🔍 Top-K Indices: [112]\n",
      "[INFO] Launching 1 parallel inference tasks...\n"
     ]
    },
    {
     "name": "stderr",
     "output_type": "stream",
     "text": [
      "Baseline eval:  70%|███████   | 28/40 [03:09<02:02, 10.23s/it]"
     ]
    },
    {
     "name": "stdout",
     "output_type": "stream",
     "text": [
      "Solution:  \\begin{pmatrix} 8 & 12 \\\\ -4 & 20 \\end{pmatrix}\n",
      "Response:  \\\\begin{pmatrix} 8 & 12 \\\\ -4 & 20 \\\\end{pmatrix}\n",
      "['\\\\\\\\begin{pmatrix} 8 & 12 \\\\\\\\ -4 & 20 \\\\\\\\end{pmatrix}']\n",
      "1.0\n",
      "🔍 Top-K Indices: [229]\n",
      "[INFO] Launching 1 parallel inference tasks...\n"
     ]
    },
    {
     "name": "stderr",
     "output_type": "stream",
     "text": [
      "Baseline eval:  72%|███████▎  | 29/40 [03:13<01:32,  8.45s/it]"
     ]
    },
    {
     "name": "stdout",
     "output_type": "stream",
     "text": [
      "Solution:  11\n",
      "Response:  12\n",
      "['12']\n",
      "0.0\n",
      "🔍 Top-K Indices: [79]\n",
      "[INFO] Launching 1 parallel inference tasks...\n"
     ]
    },
    {
     "name": "stderr",
     "output_type": "stream",
     "text": [
      "Baseline eval:  75%|███████▌  | 30/40 [03:16<01:07,  6.75s/it]"
     ]
    },
    {
     "name": "stdout",
     "output_type": "stream",
     "text": [
      "Solution:  0\n",
      "Response:  0\n",
      "['0']\n",
      "1.0\n",
      "🔍 Top-K Indices: [243]\n",
      "[INFO] Launching 1 parallel inference tasks...\n"
     ]
    },
    {
     "name": "stderr",
     "output_type": "stream",
     "text": [
      "Baseline eval:  78%|███████▊  | 31/40 [03:19<00:49,  5.53s/it]"
     ]
    },
    {
     "name": "stdout",
     "output_type": "stream",
     "text": [
      "Solution:  4\n",
      "Response:  4\n",
      "['4']\n",
      "1.0\n",
      "🔍 Top-K Indices: [33]\n",
      "[INFO] Launching 1 parallel inference tasks...\n",
      "Solution:  18\\text{ ways.}\n",
      "Response:  $12$\n",
      "['$12$']\n"
     ]
    },
    {
     "name": "stderr",
     "output_type": "stream",
     "text": [
      "Baseline eval:  80%|████████  | 32/40 [03:22<00:38,  4.80s/it]"
     ]
    },
    {
     "name": "stdout",
     "output_type": "stream",
     "text": [
      "0.0\n",
      "🔍 Top-K Indices: [97]\n",
      "[INFO] Launching 1 parallel inference tasks...\n"
     ]
    },
    {
     "name": "stderr",
     "output_type": "stream",
     "text": [
      "Baseline eval:  82%|████████▎ | 33/40 [03:24<00:28,  4.05s/it]"
     ]
    },
    {
     "name": "stdout",
     "output_type": "stream",
     "text": [
      "Solution:  9\n",
      "Response:  9\n",
      "['9']\n",
      "1.0\n",
      "🔍 Top-K Indices: [36]\n",
      "[INFO] Launching 1 parallel inference tasks...\n"
     ]
    },
    {
     "name": "stderr",
     "output_type": "stream",
     "text": [
      "Baseline eval:  85%|████████▌ | 34/40 [03:27<00:21,  3.66s/it]"
     ]
    },
    {
     "name": "stdout",
     "output_type": "stream",
     "text": [
      "Solution:  \\frac{i}{5}\n",
      "Response:  z = \\frac{i}{5}\n",
      "['z = \\\\frac{i}{5}']\n",
      "1.0\n",
      "🔍 Top-K Indices: [48]\n",
      "[INFO] Launching 1 parallel inference tasks...\n"
     ]
    },
    {
     "name": "stderr",
     "output_type": "stream",
     "text": [
      "Baseline eval:  88%|████████▊ | 35/40 [03:30<00:16,  3.37s/it]"
     ]
    },
    {
     "name": "stdout",
     "output_type": "stream",
     "text": [
      "Solution:  90\n",
      "Response:  90\n",
      "['90']\n",
      "1.0\n",
      "🔍 Top-K Indices: [41]\n",
      "[INFO] Launching 1 parallel inference tasks...\n"
     ]
    },
    {
     "name": "stderr",
     "output_type": "stream",
     "text": [
      "Baseline eval:  90%|█████████ | 36/40 [03:33<00:12,  3.19s/it]"
     ]
    },
    {
     "name": "stdout",
     "output_type": "stream",
     "text": [
      "Solution:  y^4-2y^3+7y^2+y-5\n",
      "Response:  $y^4 - 2y^3 + 7y^2 + y - 5$\n",
      "['$y^4 - 2y^3 + 7y^2 + y - 5$']\n",
      "1.0\n",
      "🔍 Top-K Indices: [166]\n",
      "[INFO] Launching 1 parallel inference tasks...\n"
     ]
    },
    {
     "name": "stderr",
     "output_type": "stream",
     "text": [
      "Baseline eval:  92%|█████████▎| 37/40 [03:35<00:08,  2.91s/it]"
     ]
    },
    {
     "name": "stdout",
     "output_type": "stream",
     "text": [
      "Solution:  120\n",
      "Response:  \\boxed{120}\n",
      "['\\\\boxed{120}']\n",
      "1.0\n",
      "🔍 Top-K Indices: [33]\n",
      "[INFO] Launching 1 parallel inference tasks...\n"
     ]
    },
    {
     "name": "stderr",
     "output_type": "stream",
     "text": [
      "Baseline eval:  95%|█████████▌| 38/40 [03:37<00:05,  2.77s/it]"
     ]
    },
    {
     "name": "stdout",
     "output_type": "stream",
     "text": [
      "Solution:  20\n",
      "Response:  20\n",
      "['20']\n",
      "1.0\n",
      "🔍 Top-K Indices: [26]\n",
      "[INFO] Launching 1 parallel inference tasks...\n"
     ]
    },
    {
     "name": "stderr",
     "output_type": "stream",
     "text": [
      "Baseline eval:  98%|█████████▊| 39/40 [03:40<00:02,  2.62s/it]"
     ]
    },
    {
     "name": "stdout",
     "output_type": "stream",
     "text": [
      "Solution:  400\n",
      "Response:  400\n",
      "['400']\n",
      "1.0\n",
      "🔍 Top-K Indices: [96]\n",
      "[INFO] Launching 1 parallel inference tasks...\n"
     ]
    },
    {
     "name": "stderr",
     "output_type": "stream",
     "text": [
      "Baseline eval: 100%|██████████| 40/40 [03:42<00:00,  5.57s/it]"
     ]
    },
    {
     "name": "stdout",
     "output_type": "stream",
     "text": [
      "Solution:  2\n",
      "Response:  2\n",
      "['2']\n",
      "1.0\n",
      "\n",
      "📊  Baseline accuracy on MATH500: 75.000%\n"
     ]
    },
    {
     "name": "stderr",
     "output_type": "stream",
     "text": [
      "\n"
     ]
    }
   ],
   "source": [
    "# ------------------------------------------------------------\n",
    "# 0.  Imports & config – nothing here should clash with yours\n",
    "# ------------------------------------------------------------\n",
    "from tqdm import tqdm\n",
    "import torch\n",
    "from mathbert_encoder import MathBERTEncoder\n",
    "import retriever_cosine as rc\n",
    "# from import retrieve_top_k_cosine, retrieve_sample_k_cosine\n",
    "from response_sampler import sample_responses_per_demo\n",
    "from reward_aggregator import compute_demo_accuracy\n",
    "from icl_model_wrapper import OpenAIICLModel, OpenAIAdvanced\n",
    "from grpo_optimizer import grpo_step\n",
    "from datasets import load_dataset\n",
    "from dotenv import load_dotenv\n",
    "import os\n",
    "from transformers import get_linear_schedule_with_warmup\n",
    "from importlib import reload\n",
    "import helpers\n",
    "\n",
    "reload(rc)\n",
    "\n",
    "load_dotenv()\n",
    "\n",
    "API_KEY = os.getenv(\"OPENAI_API_KEY\")\n",
    "DEVICE  = \"cuda\" if torch.cuda.is_available() else \"cpu\"\n",
    "K       = 1             # demos per query\n",
    "NUM_SAMPLES = 1           # model completions per query\n",
    "TEMPERATURE = 0.7           # keep same as training loop\n",
    "\n",
    "# ------------------------------------------------------------\n",
    "# 1.  Initialise encoder **in eval mode** (weights frozen)\n",
    "# ------------------------------------------------------------\n",
    "encoder = MathBERTEncoder(device=DEVICE, trainable=False)\n",
    "encoder.eval()                                   # no grads!\n",
    "\n",
    "icl_model = OpenAIAdvanced(api_key=API_KEY,\n",
    "                           model_name=\"gpt-4.1-nano\",\n",
    "                           temperature=TEMPERATURE)\n",
    "\n",
    "# ------------------------------------------------------------\n",
    "# 2.  Load/define the inference set\n",
    "#     If you already saved a slice elsewhere, just load it.\n",
    "# ------------------------------------------------------------\n",
    "train_path = \"./data/MATH/train.jsonl\"\n",
    "train_ds_list = helpers.load_jsonl(train_path)[:40]\n",
    "raw_demos = helpers.load_jsonl(train_path)[:256]\n",
    "\n",
    "# ------------------------------------------------------------\n",
    "# 3.  Evaluation loop\n",
    "# ------------------------------------------------------------\n",
    "total, correct = 0, 0\n",
    "all_losses     = []          # optional – to compare prompt quality\n",
    "\n",
    "# Build demo pool (everything except current query)\n",
    "\n",
    "for idx in tqdm(range(len(train_ds_list)), desc=\"Baseline eval\"):\n",
    "    item       = train_ds_list[idx]\n",
    "    Q_inf, A_gt, A_ans = item[\"problem\"], item[\"solution\"], item[\"answer\"]\n",
    "    demos = [(d[\"problem\"], d[\"solution\"], d[\"answer\"])\n",
    "                for j, d in enumerate(raw_demos) if j != idx]\n",
    "        \n",
    "    # Encode query + candidate demos\n",
    "    with torch.no_grad():\n",
    "        q_emb     = encoder.encode([Q_inf], detach=True).squeeze(0)\n",
    "        demo_embs = encoder.encode([q for (q,_, _) in demos], detach=True)\n",
    "\n",
    "    # ------- ORIGINAL cosine retrieval -------------------------\n",
    "    top_k, _ = rc.retrieve_top_k_cosine(\n",
    "        q_emb, demo_embs, k=min(K, len(demos))\n",
    "    )\n",
    "    print(f\"🔍 Top-K Indices: {top_k}\")\n",
    "    selected_demos = [demos[i] for i in top_k]          # length = 2\n",
    "\n",
    "    # ------- Run the ICL model --------------------------------\n",
    "    responses_nested = sample_responses_per_demo(\n",
    "        demo_tuples = selected_demos,\n",
    "        Q_inf       = Q_inf,\n",
    "        icl_model   = icl_model,\n",
    "        num_samples = NUM_SAMPLES,\n",
    "        parallel=True\n",
    "    )\n",
    "    flat_responses = [r for demo_resps in responses_nested for r in demo_resps]\n",
    "    print(\"Solution: \", A_ans)\n",
    "    print(\"Response: \", flat_responses[0])\n",
    "    acc = compute_demo_accuracy(flat_responses, A_ans)\n",
    "    print(acc) \n",
    "    correct += acc\n",
    "    total   += 1\n",
    "\n",
    "baseline_acc = correct / total\n",
    "print(f\"\\n📊  Baseline accuracy on MATH500: {baseline_acc:.3%}\")\n"
   ]
  },
  {
   "cell_type": "code",
   "execution_count": null,
   "id": "a551e50a",
   "metadata": {},
   "outputs": [
    {
     "name": "stdout",
     "output_type": "stream",
     "text": [
      "{'problem': 'How many vertical asymptotes does the graph of $y=\\\\frac{2}{x^2+x-6}$ have?', 'solution': 'The denominator of the rational function factors into $x^2+x-6=(x-2)(x+3)$. Since the numerator is always nonzero, there is a vertical asymptote whenever the denominator is $0$, which occurs for $x = 2$ and $x = -3$.  Therefore, the graph has $\\\\boxed{2}$ vertical asymptotes.', 'answer': '2', 'subject': 'Algebra', 'level': 3, 'unique_id': 'test/algebra/1.json'}\n"
     ]
    }
   ],
   "source": [
    "import helpers\n",
    "train_path = \"./data/MATH/train.jsonl\"\n",
    "train_ds_list = helpers.load_jsonl(train_path)\n",
    "print(train_ds_list[0])"
   ]
  },
  {
   "cell_type": "markdown",
   "id": "e4a6327e",
   "metadata": {},
   "source": [
    "# TRAINING LOOP"
   ]
  },
  {
   "cell_type": "code",
   "execution_count": 1,
   "id": "afe73d0b",
   "metadata": {},
   "outputs": [
    {
     "name": "stdout",
     "output_type": "stream",
     "text": [
      "\n",
      "=== Training Step 1 ===\n"
     ]
    },
    {
     "name": "stderr",
     "output_type": "stream",
     "text": [
      "Examples:   0%|          | 0/20 [00:00<?, ?it/s]\n",
      "Exception ignored in: <bound method IPythonKernel._clean_thread_parent_frames of <ipykernel.ipkernel.IPythonKernel object at 0x7f0212547e90>>\n",
      "Traceback (most recent call last):\n",
      "  File \"/home/josephL/miniconda3/envs/unsloth/lib/python3.11/site-packages/ipykernel/ipkernel.py\", line 775, in _clean_thread_parent_frames\n",
      "    def _clean_thread_parent_frames(\n",
      "\n",
      "KeyboardInterrupt: \n"
     ]
    },
    {
     "ename": "OutOfMemoryError",
     "evalue": "CUDA out of memory. Tried to allocate 14.00 MiB. GPU 0 has a total capacity of 23.59 GiB of which 3.94 MiB is free. Process 2894398 has 21.09 GiB memory in use. Including non-PyTorch memory, this process has 2.29 GiB memory in use. Of the allocated memory 1.92 GiB is allocated by PyTorch, and 67.33 MiB is reserved by PyTorch but unallocated. If reserved but unallocated memory is large try setting PYTORCH_CUDA_ALLOC_CONF=expandable_segments:True to avoid fragmentation.  See documentation for Memory Management  (https://pytorch.org/docs/stable/notes/cuda.html#environment-variables)",
     "output_type": "error",
     "traceback": [
      "\u001b[31m---------------------------------------------------------------------------\u001b[39m",
      "\u001b[31mOutOfMemoryError\u001b[39m                          Traceback (most recent call last)",
      "\u001b[36mCell\u001b[39m\u001b[36m \u001b[39m\u001b[32mIn[1]\u001b[39m\u001b[32m, line 70\u001b[39m\n\u001b[32m     68\u001b[39m demo_pool = [d \u001b[38;5;28;01mfor\u001b[39;00m j, d \u001b[38;5;129;01min\u001b[39;00m \u001b[38;5;28menumerate\u001b[39m(raw_demos) \u001b[38;5;28;01mif\u001b[39;00m j != idx]\n\u001b[32m     69\u001b[39m demo_questions = [d[\u001b[33m\"\u001b[39m\u001b[33mproblem\u001b[39m\u001b[33m\"\u001b[39m] \u001b[38;5;28;01mfor\u001b[39;00m d \u001b[38;5;129;01min\u001b[39;00m demo_pool]\n\u001b[32m---> \u001b[39m\u001b[32m70\u001b[39m demo_embs = \u001b[43mencoder\u001b[49m\u001b[43m.\u001b[49m\u001b[43mbatched_encode\u001b[49m\u001b[43m(\u001b[49m\u001b[43mdemo_questions\u001b[49m\u001b[43m,\u001b[49m\u001b[43m \u001b[49m\u001b[43mbatch_size\u001b[49m\u001b[43m=\u001b[49m\u001b[32;43m16\u001b[39;49m\u001b[43m,\u001b[49m\u001b[43m \u001b[49m\u001b[43mdetach\u001b[49m\u001b[43m=\u001b[49m\u001b[38;5;28;43;01mFalse\u001b[39;49;00m\u001b[43m)\u001b[49m\n\u001b[32m     71\u001b[39m top_k_inds, sims = rc.retrieve_top_k_cosine(q_emb, demo_embs, k=\u001b[38;5;28mmin\u001b[39m(K, \u001b[38;5;28mlen\u001b[39m(demo_questions)))\n\u001b[32m     73\u001b[39m top_k_inds_adj = [i \u001b[38;5;28;01mif\u001b[39;00m i < idx \u001b[38;5;28;01melse\u001b[39;00m i + \u001b[32m1\u001b[39m \u001b[38;5;28;01mfor\u001b[39;00m i \u001b[38;5;129;01min\u001b[39;00m top_k_inds]\n",
      "\u001b[36mFile \u001b[39m\u001b[32m~/MathRL_UpdatingMathBERT/mathbert_encoder.py:128\u001b[39m, in \u001b[36mMathBERTEncoder.batched_encode\u001b[39m\u001b[34m(self, texts, batch_size, **kwargs)\u001b[39m\n\u001b[32m    126\u001b[39m \u001b[38;5;28;01mfor\u001b[39;00m i \u001b[38;5;129;01min\u001b[39;00m \u001b[38;5;28mrange\u001b[39m(\u001b[32m0\u001b[39m, \u001b[38;5;28mlen\u001b[39m(texts), batch_size):\n\u001b[32m    127\u001b[39m     batch = texts[i:i+batch_size]\n\u001b[32m--> \u001b[39m\u001b[32m128\u001b[39m     embs = \u001b[38;5;28;43mself\u001b[39;49m\u001b[43m.\u001b[49m\u001b[43mencode\u001b[49m\u001b[43m(\u001b[49m\u001b[43mbatch\u001b[49m\u001b[43m,\u001b[49m\u001b[43m \u001b[49m\u001b[43m*\u001b[49m\u001b[43m*\u001b[49m\u001b[43mkwargs\u001b[49m\u001b[43m)\u001b[49m.cpu()  \u001b[38;5;66;03m# ← move to CPU\u001b[39;00m\n\u001b[32m    129\u001b[39m     all_embeddings.append(embs)\n\u001b[32m    131\u001b[39m \u001b[38;5;28;01mreturn\u001b[39;00m torch.cat(all_embeddings, dim=\u001b[32m0\u001b[39m).to(\u001b[38;5;28mself\u001b[39m.device)\n",
      "\u001b[36mFile \u001b[39m\u001b[32m~/MathRL_UpdatingMathBERT/mathbert_encoder.py:78\u001b[39m, in \u001b[36mMathBERTEncoder.encode\u001b[39m\u001b[34m(self, texts, max_length, detach, normalize)\u001b[39m\n\u001b[32m     59\u001b[39m \u001b[38;5;250m\u001b[39m\u001b[33;03m\"\"\"\u001b[39;00m\n\u001b[32m     60\u001b[39m \u001b[33;03mEncode a list of texts into MathBERT embeddings.\u001b[39;00m\n\u001b[32m     61\u001b[39m \n\u001b[32m   (...)\u001b[39m\u001b[32m     68\u001b[39m \u001b[33;03m    Tensor: shape (batch_size, hidden_size)\u001b[39;00m\n\u001b[32m     69\u001b[39m \u001b[33;03m\"\"\"\u001b[39;00m\n\u001b[32m     70\u001b[39m encoded_input = \u001b[38;5;28mself\u001b[39m.tokenizer(\n\u001b[32m     71\u001b[39m     texts,\n\u001b[32m     72\u001b[39m     padding=\u001b[38;5;28;01mTrue\u001b[39;00m,\n\u001b[32m   (...)\u001b[39m\u001b[32m     75\u001b[39m     return_tensors=\u001b[33m'\u001b[39m\u001b[33mpt\u001b[39m\u001b[33m'\u001b[39m\n\u001b[32m     76\u001b[39m ).to(\u001b[38;5;28mself\u001b[39m.device)\n\u001b[32m---> \u001b[39m\u001b[32m78\u001b[39m output = \u001b[38;5;28;43mself\u001b[39;49m\u001b[43m.\u001b[49m\u001b[43mmodel\u001b[49m\u001b[43m(\u001b[49m\u001b[43m*\u001b[49m\u001b[43m*\u001b[49m\u001b[43mencoded_input\u001b[49m\u001b[43m)\u001b[49m\n\u001b[32m     79\u001b[39m hidden_states = output.last_hidden_state  \u001b[38;5;66;03m# (batch_size, seq_len, hidden_size)\u001b[39;00m\n\u001b[32m     80\u001b[39m cls_embeddings = hidden_states[:, \u001b[32m0\u001b[39m, :]   \u001b[38;5;66;03m# (batch_size, hidden_size)\u001b[39;00m\n",
      "\u001b[36mFile \u001b[39m\u001b[32m~/miniconda3/envs/unsloth/lib/python3.11/site-packages/torch/nn/modules/module.py:1739\u001b[39m, in \u001b[36mModule._wrapped_call_impl\u001b[39m\u001b[34m(self, *args, **kwargs)\u001b[39m\n\u001b[32m   1737\u001b[39m     \u001b[38;5;28;01mreturn\u001b[39;00m \u001b[38;5;28mself\u001b[39m._compiled_call_impl(*args, **kwargs)  \u001b[38;5;66;03m# type: ignore[misc]\u001b[39;00m\n\u001b[32m   1738\u001b[39m \u001b[38;5;28;01melse\u001b[39;00m:\n\u001b[32m-> \u001b[39m\u001b[32m1739\u001b[39m     \u001b[38;5;28;01mreturn\u001b[39;00m \u001b[38;5;28;43mself\u001b[39;49m\u001b[43m.\u001b[49m\u001b[43m_call_impl\u001b[49m\u001b[43m(\u001b[49m\u001b[43m*\u001b[49m\u001b[43margs\u001b[49m\u001b[43m,\u001b[49m\u001b[43m \u001b[49m\u001b[43m*\u001b[49m\u001b[43m*\u001b[49m\u001b[43mkwargs\u001b[49m\u001b[43m)\u001b[49m\n",
      "\u001b[36mFile \u001b[39m\u001b[32m~/miniconda3/envs/unsloth/lib/python3.11/site-packages/torch/nn/modules/module.py:1750\u001b[39m, in \u001b[36mModule._call_impl\u001b[39m\u001b[34m(self, *args, **kwargs)\u001b[39m\n\u001b[32m   1745\u001b[39m \u001b[38;5;66;03m# If we don't have any hooks, we want to skip the rest of the logic in\u001b[39;00m\n\u001b[32m   1746\u001b[39m \u001b[38;5;66;03m# this function, and just call forward.\u001b[39;00m\n\u001b[32m   1747\u001b[39m \u001b[38;5;28;01mif\u001b[39;00m \u001b[38;5;129;01mnot\u001b[39;00m (\u001b[38;5;28mself\u001b[39m._backward_hooks \u001b[38;5;129;01mor\u001b[39;00m \u001b[38;5;28mself\u001b[39m._backward_pre_hooks \u001b[38;5;129;01mor\u001b[39;00m \u001b[38;5;28mself\u001b[39m._forward_hooks \u001b[38;5;129;01mor\u001b[39;00m \u001b[38;5;28mself\u001b[39m._forward_pre_hooks\n\u001b[32m   1748\u001b[39m         \u001b[38;5;129;01mor\u001b[39;00m _global_backward_pre_hooks \u001b[38;5;129;01mor\u001b[39;00m _global_backward_hooks\n\u001b[32m   1749\u001b[39m         \u001b[38;5;129;01mor\u001b[39;00m _global_forward_hooks \u001b[38;5;129;01mor\u001b[39;00m _global_forward_pre_hooks):\n\u001b[32m-> \u001b[39m\u001b[32m1750\u001b[39m     \u001b[38;5;28;01mreturn\u001b[39;00m \u001b[43mforward_call\u001b[49m\u001b[43m(\u001b[49m\u001b[43m*\u001b[49m\u001b[43margs\u001b[49m\u001b[43m,\u001b[49m\u001b[43m \u001b[49m\u001b[43m*\u001b[49m\u001b[43m*\u001b[49m\u001b[43mkwargs\u001b[49m\u001b[43m)\u001b[49m\n\u001b[32m   1752\u001b[39m result = \u001b[38;5;28;01mNone\u001b[39;00m\n\u001b[32m   1753\u001b[39m called_always_called_hooks = \u001b[38;5;28mset\u001b[39m()\n",
      "\u001b[36mFile \u001b[39m\u001b[32m~/miniconda3/envs/unsloth/lib/python3.11/site-packages/transformers/models/bert/modeling_bert.py:1142\u001b[39m, in \u001b[36mBertModel.forward\u001b[39m\u001b[34m(self, input_ids, attention_mask, token_type_ids, position_ids, head_mask, inputs_embeds, encoder_hidden_states, encoder_attention_mask, past_key_values, use_cache, output_attentions, output_hidden_states, return_dict)\u001b[39m\n\u001b[32m   1135\u001b[39m \u001b[38;5;66;03m# Prepare head mask if needed\u001b[39;00m\n\u001b[32m   1136\u001b[39m \u001b[38;5;66;03m# 1.0 in head_mask indicate we keep the head\u001b[39;00m\n\u001b[32m   1137\u001b[39m \u001b[38;5;66;03m# attention_probs has shape bsz x n_heads x N x N\u001b[39;00m\n\u001b[32m   1138\u001b[39m \u001b[38;5;66;03m# input head_mask has shape [num_heads] or [num_hidden_layers x num_heads]\u001b[39;00m\n\u001b[32m   1139\u001b[39m \u001b[38;5;66;03m# and head_mask is converted to shape [num_hidden_layers x batch x num_heads x seq_length x seq_length]\u001b[39;00m\n\u001b[32m   1140\u001b[39m head_mask = \u001b[38;5;28mself\u001b[39m.get_head_mask(head_mask, \u001b[38;5;28mself\u001b[39m.config.num_hidden_layers)\n\u001b[32m-> \u001b[39m\u001b[32m1142\u001b[39m encoder_outputs = \u001b[38;5;28;43mself\u001b[39;49m\u001b[43m.\u001b[49m\u001b[43mencoder\u001b[49m\u001b[43m(\u001b[49m\n\u001b[32m   1143\u001b[39m \u001b[43m    \u001b[49m\u001b[43membedding_output\u001b[49m\u001b[43m,\u001b[49m\n\u001b[32m   1144\u001b[39m \u001b[43m    \u001b[49m\u001b[43mattention_mask\u001b[49m\u001b[43m=\u001b[49m\u001b[43mextended_attention_mask\u001b[49m\u001b[43m,\u001b[49m\n\u001b[32m   1145\u001b[39m \u001b[43m    \u001b[49m\u001b[43mhead_mask\u001b[49m\u001b[43m=\u001b[49m\u001b[43mhead_mask\u001b[49m\u001b[43m,\u001b[49m\n\u001b[32m   1146\u001b[39m \u001b[43m    \u001b[49m\u001b[43mencoder_hidden_states\u001b[49m\u001b[43m=\u001b[49m\u001b[43mencoder_hidden_states\u001b[49m\u001b[43m,\u001b[49m\n\u001b[32m   1147\u001b[39m \u001b[43m    \u001b[49m\u001b[43mencoder_attention_mask\u001b[49m\u001b[43m=\u001b[49m\u001b[43mencoder_extended_attention_mask\u001b[49m\u001b[43m,\u001b[49m\n\u001b[32m   1148\u001b[39m \u001b[43m    \u001b[49m\u001b[43mpast_key_values\u001b[49m\u001b[43m=\u001b[49m\u001b[43mpast_key_values\u001b[49m\u001b[43m,\u001b[49m\n\u001b[32m   1149\u001b[39m \u001b[43m    \u001b[49m\u001b[43muse_cache\u001b[49m\u001b[43m=\u001b[49m\u001b[43muse_cache\u001b[49m\u001b[43m,\u001b[49m\n\u001b[32m   1150\u001b[39m \u001b[43m    \u001b[49m\u001b[43moutput_attentions\u001b[49m\u001b[43m=\u001b[49m\u001b[43moutput_attentions\u001b[49m\u001b[43m,\u001b[49m\n\u001b[32m   1151\u001b[39m \u001b[43m    \u001b[49m\u001b[43moutput_hidden_states\u001b[49m\u001b[43m=\u001b[49m\u001b[43moutput_hidden_states\u001b[49m\u001b[43m,\u001b[49m\n\u001b[32m   1152\u001b[39m \u001b[43m    \u001b[49m\u001b[43mreturn_dict\u001b[49m\u001b[43m=\u001b[49m\u001b[43mreturn_dict\u001b[49m\u001b[43m,\u001b[49m\n\u001b[32m   1153\u001b[39m \u001b[43m\u001b[49m\u001b[43m)\u001b[49m\n\u001b[32m   1154\u001b[39m sequence_output = encoder_outputs[\u001b[32m0\u001b[39m]\n\u001b[32m   1155\u001b[39m pooled_output = \u001b[38;5;28mself\u001b[39m.pooler(sequence_output) \u001b[38;5;28;01mif\u001b[39;00m \u001b[38;5;28mself\u001b[39m.pooler \u001b[38;5;129;01mis\u001b[39;00m \u001b[38;5;129;01mnot\u001b[39;00m \u001b[38;5;28;01mNone\u001b[39;00m \u001b[38;5;28;01melse\u001b[39;00m \u001b[38;5;28;01mNone\u001b[39;00m\n",
      "\u001b[36mFile \u001b[39m\u001b[32m~/miniconda3/envs/unsloth/lib/python3.11/site-packages/torch/nn/modules/module.py:1739\u001b[39m, in \u001b[36mModule._wrapped_call_impl\u001b[39m\u001b[34m(self, *args, **kwargs)\u001b[39m\n\u001b[32m   1737\u001b[39m     \u001b[38;5;28;01mreturn\u001b[39;00m \u001b[38;5;28mself\u001b[39m._compiled_call_impl(*args, **kwargs)  \u001b[38;5;66;03m# type: ignore[misc]\u001b[39;00m\n\u001b[32m   1738\u001b[39m \u001b[38;5;28;01melse\u001b[39;00m:\n\u001b[32m-> \u001b[39m\u001b[32m1739\u001b[39m     \u001b[38;5;28;01mreturn\u001b[39;00m \u001b[38;5;28;43mself\u001b[39;49m\u001b[43m.\u001b[49m\u001b[43m_call_impl\u001b[49m\u001b[43m(\u001b[49m\u001b[43m*\u001b[49m\u001b[43margs\u001b[49m\u001b[43m,\u001b[49m\u001b[43m \u001b[49m\u001b[43m*\u001b[49m\u001b[43m*\u001b[49m\u001b[43mkwargs\u001b[49m\u001b[43m)\u001b[49m\n",
      "\u001b[36mFile \u001b[39m\u001b[32m~/miniconda3/envs/unsloth/lib/python3.11/site-packages/torch/nn/modules/module.py:1750\u001b[39m, in \u001b[36mModule._call_impl\u001b[39m\u001b[34m(self, *args, **kwargs)\u001b[39m\n\u001b[32m   1745\u001b[39m \u001b[38;5;66;03m# If we don't have any hooks, we want to skip the rest of the logic in\u001b[39;00m\n\u001b[32m   1746\u001b[39m \u001b[38;5;66;03m# this function, and just call forward.\u001b[39;00m\n\u001b[32m   1747\u001b[39m \u001b[38;5;28;01mif\u001b[39;00m \u001b[38;5;129;01mnot\u001b[39;00m (\u001b[38;5;28mself\u001b[39m._backward_hooks \u001b[38;5;129;01mor\u001b[39;00m \u001b[38;5;28mself\u001b[39m._backward_pre_hooks \u001b[38;5;129;01mor\u001b[39;00m \u001b[38;5;28mself\u001b[39m._forward_hooks \u001b[38;5;129;01mor\u001b[39;00m \u001b[38;5;28mself\u001b[39m._forward_pre_hooks\n\u001b[32m   1748\u001b[39m         \u001b[38;5;129;01mor\u001b[39;00m _global_backward_pre_hooks \u001b[38;5;129;01mor\u001b[39;00m _global_backward_hooks\n\u001b[32m   1749\u001b[39m         \u001b[38;5;129;01mor\u001b[39;00m _global_forward_hooks \u001b[38;5;129;01mor\u001b[39;00m _global_forward_pre_hooks):\n\u001b[32m-> \u001b[39m\u001b[32m1750\u001b[39m     \u001b[38;5;28;01mreturn\u001b[39;00m \u001b[43mforward_call\u001b[49m\u001b[43m(\u001b[49m\u001b[43m*\u001b[49m\u001b[43margs\u001b[49m\u001b[43m,\u001b[49m\u001b[43m \u001b[49m\u001b[43m*\u001b[49m\u001b[43m*\u001b[49m\u001b[43mkwargs\u001b[49m\u001b[43m)\u001b[49m\n\u001b[32m   1752\u001b[39m result = \u001b[38;5;28;01mNone\u001b[39;00m\n\u001b[32m   1753\u001b[39m called_always_called_hooks = \u001b[38;5;28mset\u001b[39m()\n",
      "\u001b[36mFile \u001b[39m\u001b[32m~/miniconda3/envs/unsloth/lib/python3.11/site-packages/transformers/models/bert/modeling_bert.py:695\u001b[39m, in \u001b[36mBertEncoder.forward\u001b[39m\u001b[34m(self, hidden_states, attention_mask, head_mask, encoder_hidden_states, encoder_attention_mask, past_key_values, use_cache, output_attentions, output_hidden_states, return_dict)\u001b[39m\n\u001b[32m    684\u001b[39m     layer_outputs = \u001b[38;5;28mself\u001b[39m._gradient_checkpointing_func(\n\u001b[32m    685\u001b[39m         layer_module.\u001b[34m__call__\u001b[39m,\n\u001b[32m    686\u001b[39m         hidden_states,\n\u001b[32m   (...)\u001b[39m\u001b[32m    692\u001b[39m         output_attentions,\n\u001b[32m    693\u001b[39m     )\n\u001b[32m    694\u001b[39m \u001b[38;5;28;01melse\u001b[39;00m:\n\u001b[32m--> \u001b[39m\u001b[32m695\u001b[39m     layer_outputs = \u001b[43mlayer_module\u001b[49m\u001b[43m(\u001b[49m\n\u001b[32m    696\u001b[39m \u001b[43m        \u001b[49m\u001b[43mhidden_states\u001b[49m\u001b[43m,\u001b[49m\n\u001b[32m    697\u001b[39m \u001b[43m        \u001b[49m\u001b[43mattention_mask\u001b[49m\u001b[43m,\u001b[49m\n\u001b[32m    698\u001b[39m \u001b[43m        \u001b[49m\u001b[43mlayer_head_mask\u001b[49m\u001b[43m,\u001b[49m\n\u001b[32m    699\u001b[39m \u001b[43m        \u001b[49m\u001b[43mencoder_hidden_states\u001b[49m\u001b[43m,\u001b[49m\n\u001b[32m    700\u001b[39m \u001b[43m        \u001b[49m\u001b[43mencoder_attention_mask\u001b[49m\u001b[43m,\u001b[49m\n\u001b[32m    701\u001b[39m \u001b[43m        \u001b[49m\u001b[43mpast_key_value\u001b[49m\u001b[43m,\u001b[49m\n\u001b[32m    702\u001b[39m \u001b[43m        \u001b[49m\u001b[43moutput_attentions\u001b[49m\u001b[43m,\u001b[49m\n\u001b[32m    703\u001b[39m \u001b[43m    \u001b[49m\u001b[43m)\u001b[49m\n\u001b[32m    705\u001b[39m hidden_states = layer_outputs[\u001b[32m0\u001b[39m]\n\u001b[32m    706\u001b[39m \u001b[38;5;28;01mif\u001b[39;00m use_cache:\n",
      "\u001b[36mFile \u001b[39m\u001b[32m~/miniconda3/envs/unsloth/lib/python3.11/site-packages/torch/nn/modules/module.py:1739\u001b[39m, in \u001b[36mModule._wrapped_call_impl\u001b[39m\u001b[34m(self, *args, **kwargs)\u001b[39m\n\u001b[32m   1737\u001b[39m     \u001b[38;5;28;01mreturn\u001b[39;00m \u001b[38;5;28mself\u001b[39m._compiled_call_impl(*args, **kwargs)  \u001b[38;5;66;03m# type: ignore[misc]\u001b[39;00m\n\u001b[32m   1738\u001b[39m \u001b[38;5;28;01melse\u001b[39;00m:\n\u001b[32m-> \u001b[39m\u001b[32m1739\u001b[39m     \u001b[38;5;28;01mreturn\u001b[39;00m \u001b[38;5;28;43mself\u001b[39;49m\u001b[43m.\u001b[49m\u001b[43m_call_impl\u001b[49m\u001b[43m(\u001b[49m\u001b[43m*\u001b[49m\u001b[43margs\u001b[49m\u001b[43m,\u001b[49m\u001b[43m \u001b[49m\u001b[43m*\u001b[49m\u001b[43m*\u001b[49m\u001b[43mkwargs\u001b[49m\u001b[43m)\u001b[49m\n",
      "\u001b[36mFile \u001b[39m\u001b[32m~/miniconda3/envs/unsloth/lib/python3.11/site-packages/torch/nn/modules/module.py:1750\u001b[39m, in \u001b[36mModule._call_impl\u001b[39m\u001b[34m(self, *args, **kwargs)\u001b[39m\n\u001b[32m   1745\u001b[39m \u001b[38;5;66;03m# If we don't have any hooks, we want to skip the rest of the logic in\u001b[39;00m\n\u001b[32m   1746\u001b[39m \u001b[38;5;66;03m# this function, and just call forward.\u001b[39;00m\n\u001b[32m   1747\u001b[39m \u001b[38;5;28;01mif\u001b[39;00m \u001b[38;5;129;01mnot\u001b[39;00m (\u001b[38;5;28mself\u001b[39m._backward_hooks \u001b[38;5;129;01mor\u001b[39;00m \u001b[38;5;28mself\u001b[39m._backward_pre_hooks \u001b[38;5;129;01mor\u001b[39;00m \u001b[38;5;28mself\u001b[39m._forward_hooks \u001b[38;5;129;01mor\u001b[39;00m \u001b[38;5;28mself\u001b[39m._forward_pre_hooks\n\u001b[32m   1748\u001b[39m         \u001b[38;5;129;01mor\u001b[39;00m _global_backward_pre_hooks \u001b[38;5;129;01mor\u001b[39;00m _global_backward_hooks\n\u001b[32m   1749\u001b[39m         \u001b[38;5;129;01mor\u001b[39;00m _global_forward_hooks \u001b[38;5;129;01mor\u001b[39;00m _global_forward_pre_hooks):\n\u001b[32m-> \u001b[39m\u001b[32m1750\u001b[39m     \u001b[38;5;28;01mreturn\u001b[39;00m \u001b[43mforward_call\u001b[49m\u001b[43m(\u001b[49m\u001b[43m*\u001b[49m\u001b[43margs\u001b[49m\u001b[43m,\u001b[49m\u001b[43m \u001b[49m\u001b[43m*\u001b[49m\u001b[43m*\u001b[49m\u001b[43mkwargs\u001b[49m\u001b[43m)\u001b[49m\n\u001b[32m   1752\u001b[39m result = \u001b[38;5;28;01mNone\u001b[39;00m\n\u001b[32m   1753\u001b[39m called_always_called_hooks = \u001b[38;5;28mset\u001b[39m()\n",
      "\u001b[36mFile \u001b[39m\u001b[32m~/miniconda3/envs/unsloth/lib/python3.11/site-packages/transformers/models/bert/modeling_bert.py:585\u001b[39m, in \u001b[36mBertLayer.forward\u001b[39m\u001b[34m(self, hidden_states, attention_mask, head_mask, encoder_hidden_states, encoder_attention_mask, past_key_value, output_attentions)\u001b[39m\n\u001b[32m    573\u001b[39m \u001b[38;5;28;01mdef\u001b[39;00m\u001b[38;5;250m \u001b[39m\u001b[34mforward\u001b[39m(\n\u001b[32m    574\u001b[39m     \u001b[38;5;28mself\u001b[39m,\n\u001b[32m    575\u001b[39m     hidden_states: torch.Tensor,\n\u001b[32m   (...)\u001b[39m\u001b[32m    582\u001b[39m ) -> Tuple[torch.Tensor]:\n\u001b[32m    583\u001b[39m     \u001b[38;5;66;03m# decoder uni-directional self-attention cached key/values tuple is at positions 1,2\u001b[39;00m\n\u001b[32m    584\u001b[39m     self_attn_past_key_value = past_key_value[:\u001b[32m2\u001b[39m] \u001b[38;5;28;01mif\u001b[39;00m past_key_value \u001b[38;5;129;01mis\u001b[39;00m \u001b[38;5;129;01mnot\u001b[39;00m \u001b[38;5;28;01mNone\u001b[39;00m \u001b[38;5;28;01melse\u001b[39;00m \u001b[38;5;28;01mNone\u001b[39;00m\n\u001b[32m--> \u001b[39m\u001b[32m585\u001b[39m     self_attention_outputs = \u001b[38;5;28;43mself\u001b[39;49m\u001b[43m.\u001b[49m\u001b[43mattention\u001b[49m\u001b[43m(\u001b[49m\n\u001b[32m    586\u001b[39m \u001b[43m        \u001b[49m\u001b[43mhidden_states\u001b[49m\u001b[43m,\u001b[49m\n\u001b[32m    587\u001b[39m \u001b[43m        \u001b[49m\u001b[43mattention_mask\u001b[49m\u001b[43m,\u001b[49m\n\u001b[32m    588\u001b[39m \u001b[43m        \u001b[49m\u001b[43mhead_mask\u001b[49m\u001b[43m,\u001b[49m\n\u001b[32m    589\u001b[39m \u001b[43m        \u001b[49m\u001b[43moutput_attentions\u001b[49m\u001b[43m=\u001b[49m\u001b[43moutput_attentions\u001b[49m\u001b[43m,\u001b[49m\n\u001b[32m    590\u001b[39m \u001b[43m        \u001b[49m\u001b[43mpast_key_value\u001b[49m\u001b[43m=\u001b[49m\u001b[43mself_attn_past_key_value\u001b[49m\u001b[43m,\u001b[49m\n\u001b[32m    591\u001b[39m \u001b[43m    \u001b[49m\u001b[43m)\u001b[49m\n\u001b[32m    592\u001b[39m     attention_output = self_attention_outputs[\u001b[32m0\u001b[39m]\n\u001b[32m    594\u001b[39m     \u001b[38;5;66;03m# if decoder, the last output is tuple of self-attn cache\u001b[39;00m\n",
      "\u001b[36mFile \u001b[39m\u001b[32m~/miniconda3/envs/unsloth/lib/python3.11/site-packages/torch/nn/modules/module.py:1739\u001b[39m, in \u001b[36mModule._wrapped_call_impl\u001b[39m\u001b[34m(self, *args, **kwargs)\u001b[39m\n\u001b[32m   1737\u001b[39m     \u001b[38;5;28;01mreturn\u001b[39;00m \u001b[38;5;28mself\u001b[39m._compiled_call_impl(*args, **kwargs)  \u001b[38;5;66;03m# type: ignore[misc]\u001b[39;00m\n\u001b[32m   1738\u001b[39m \u001b[38;5;28;01melse\u001b[39;00m:\n\u001b[32m-> \u001b[39m\u001b[32m1739\u001b[39m     \u001b[38;5;28;01mreturn\u001b[39;00m \u001b[38;5;28;43mself\u001b[39;49m\u001b[43m.\u001b[49m\u001b[43m_call_impl\u001b[49m\u001b[43m(\u001b[49m\u001b[43m*\u001b[49m\u001b[43margs\u001b[49m\u001b[43m,\u001b[49m\u001b[43m \u001b[49m\u001b[43m*\u001b[49m\u001b[43m*\u001b[49m\u001b[43mkwargs\u001b[49m\u001b[43m)\u001b[49m\n",
      "\u001b[36mFile \u001b[39m\u001b[32m~/miniconda3/envs/unsloth/lib/python3.11/site-packages/torch/nn/modules/module.py:1750\u001b[39m, in \u001b[36mModule._call_impl\u001b[39m\u001b[34m(self, *args, **kwargs)\u001b[39m\n\u001b[32m   1745\u001b[39m \u001b[38;5;66;03m# If we don't have any hooks, we want to skip the rest of the logic in\u001b[39;00m\n\u001b[32m   1746\u001b[39m \u001b[38;5;66;03m# this function, and just call forward.\u001b[39;00m\n\u001b[32m   1747\u001b[39m \u001b[38;5;28;01mif\u001b[39;00m \u001b[38;5;129;01mnot\u001b[39;00m (\u001b[38;5;28mself\u001b[39m._backward_hooks \u001b[38;5;129;01mor\u001b[39;00m \u001b[38;5;28mself\u001b[39m._backward_pre_hooks \u001b[38;5;129;01mor\u001b[39;00m \u001b[38;5;28mself\u001b[39m._forward_hooks \u001b[38;5;129;01mor\u001b[39;00m \u001b[38;5;28mself\u001b[39m._forward_pre_hooks\n\u001b[32m   1748\u001b[39m         \u001b[38;5;129;01mor\u001b[39;00m _global_backward_pre_hooks \u001b[38;5;129;01mor\u001b[39;00m _global_backward_hooks\n\u001b[32m   1749\u001b[39m         \u001b[38;5;129;01mor\u001b[39;00m _global_forward_hooks \u001b[38;5;129;01mor\u001b[39;00m _global_forward_pre_hooks):\n\u001b[32m-> \u001b[39m\u001b[32m1750\u001b[39m     \u001b[38;5;28;01mreturn\u001b[39;00m \u001b[43mforward_call\u001b[49m\u001b[43m(\u001b[49m\u001b[43m*\u001b[49m\u001b[43margs\u001b[49m\u001b[43m,\u001b[49m\u001b[43m \u001b[49m\u001b[43m*\u001b[49m\u001b[43m*\u001b[49m\u001b[43mkwargs\u001b[49m\u001b[43m)\u001b[49m\n\u001b[32m   1752\u001b[39m result = \u001b[38;5;28;01mNone\u001b[39;00m\n\u001b[32m   1753\u001b[39m called_always_called_hooks = \u001b[38;5;28mset\u001b[39m()\n",
      "\u001b[36mFile \u001b[39m\u001b[32m~/miniconda3/envs/unsloth/lib/python3.11/site-packages/transformers/models/bert/modeling_bert.py:524\u001b[39m, in \u001b[36mBertAttention.forward\u001b[39m\u001b[34m(self, hidden_states, attention_mask, head_mask, encoder_hidden_states, encoder_attention_mask, past_key_value, output_attentions)\u001b[39m\n\u001b[32m    505\u001b[39m \u001b[38;5;28;01mdef\u001b[39;00m\u001b[38;5;250m \u001b[39m\u001b[34mforward\u001b[39m(\n\u001b[32m    506\u001b[39m     \u001b[38;5;28mself\u001b[39m,\n\u001b[32m    507\u001b[39m     hidden_states: torch.Tensor,\n\u001b[32m   (...)\u001b[39m\u001b[32m    513\u001b[39m     output_attentions: Optional[\u001b[38;5;28mbool\u001b[39m] = \u001b[38;5;28;01mFalse\u001b[39;00m,\n\u001b[32m    514\u001b[39m ) -> Tuple[torch.Tensor]:\n\u001b[32m    515\u001b[39m     self_outputs = \u001b[38;5;28mself\u001b[39m.self(\n\u001b[32m    516\u001b[39m         hidden_states,\n\u001b[32m    517\u001b[39m         attention_mask,\n\u001b[32m   (...)\u001b[39m\u001b[32m    522\u001b[39m         output_attentions,\n\u001b[32m    523\u001b[39m     )\n\u001b[32m--> \u001b[39m\u001b[32m524\u001b[39m     attention_output = \u001b[38;5;28;43mself\u001b[39;49m\u001b[43m.\u001b[49m\u001b[43moutput\u001b[49m\u001b[43m(\u001b[49m\u001b[43mself_outputs\u001b[49m\u001b[43m[\u001b[49m\u001b[32;43m0\u001b[39;49m\u001b[43m]\u001b[49m\u001b[43m,\u001b[49m\u001b[43m \u001b[49m\u001b[43mhidden_states\u001b[49m\u001b[43m)\u001b[49m\n\u001b[32m    525\u001b[39m     outputs = (attention_output,) + self_outputs[\u001b[32m1\u001b[39m:]  \u001b[38;5;66;03m# add attentions if we output them\u001b[39;00m\n\u001b[32m    526\u001b[39m     \u001b[38;5;28;01mreturn\u001b[39;00m outputs\n",
      "\u001b[36mFile \u001b[39m\u001b[32m~/miniconda3/envs/unsloth/lib/python3.11/site-packages/torch/nn/modules/module.py:1739\u001b[39m, in \u001b[36mModule._wrapped_call_impl\u001b[39m\u001b[34m(self, *args, **kwargs)\u001b[39m\n\u001b[32m   1737\u001b[39m     \u001b[38;5;28;01mreturn\u001b[39;00m \u001b[38;5;28mself\u001b[39m._compiled_call_impl(*args, **kwargs)  \u001b[38;5;66;03m# type: ignore[misc]\u001b[39;00m\n\u001b[32m   1738\u001b[39m \u001b[38;5;28;01melse\u001b[39;00m:\n\u001b[32m-> \u001b[39m\u001b[32m1739\u001b[39m     \u001b[38;5;28;01mreturn\u001b[39;00m \u001b[38;5;28;43mself\u001b[39;49m\u001b[43m.\u001b[49m\u001b[43m_call_impl\u001b[49m\u001b[43m(\u001b[49m\u001b[43m*\u001b[49m\u001b[43margs\u001b[49m\u001b[43m,\u001b[49m\u001b[43m \u001b[49m\u001b[43m*\u001b[49m\u001b[43m*\u001b[49m\u001b[43mkwargs\u001b[49m\u001b[43m)\u001b[49m\n",
      "\u001b[36mFile \u001b[39m\u001b[32m~/miniconda3/envs/unsloth/lib/python3.11/site-packages/torch/nn/modules/module.py:1750\u001b[39m, in \u001b[36mModule._call_impl\u001b[39m\u001b[34m(self, *args, **kwargs)\u001b[39m\n\u001b[32m   1745\u001b[39m \u001b[38;5;66;03m# If we don't have any hooks, we want to skip the rest of the logic in\u001b[39;00m\n\u001b[32m   1746\u001b[39m \u001b[38;5;66;03m# this function, and just call forward.\u001b[39;00m\n\u001b[32m   1747\u001b[39m \u001b[38;5;28;01mif\u001b[39;00m \u001b[38;5;129;01mnot\u001b[39;00m (\u001b[38;5;28mself\u001b[39m._backward_hooks \u001b[38;5;129;01mor\u001b[39;00m \u001b[38;5;28mself\u001b[39m._backward_pre_hooks \u001b[38;5;129;01mor\u001b[39;00m \u001b[38;5;28mself\u001b[39m._forward_hooks \u001b[38;5;129;01mor\u001b[39;00m \u001b[38;5;28mself\u001b[39m._forward_pre_hooks\n\u001b[32m   1748\u001b[39m         \u001b[38;5;129;01mor\u001b[39;00m _global_backward_pre_hooks \u001b[38;5;129;01mor\u001b[39;00m _global_backward_hooks\n\u001b[32m   1749\u001b[39m         \u001b[38;5;129;01mor\u001b[39;00m _global_forward_hooks \u001b[38;5;129;01mor\u001b[39;00m _global_forward_pre_hooks):\n\u001b[32m-> \u001b[39m\u001b[32m1750\u001b[39m     \u001b[38;5;28;01mreturn\u001b[39;00m \u001b[43mforward_call\u001b[49m\u001b[43m(\u001b[49m\u001b[43m*\u001b[49m\u001b[43margs\u001b[49m\u001b[43m,\u001b[49m\u001b[43m \u001b[49m\u001b[43m*\u001b[49m\u001b[43m*\u001b[49m\u001b[43mkwargs\u001b[49m\u001b[43m)\u001b[49m\n\u001b[32m   1752\u001b[39m result = \u001b[38;5;28;01mNone\u001b[39;00m\n\u001b[32m   1753\u001b[39m called_always_called_hooks = \u001b[38;5;28mset\u001b[39m()\n",
      "\u001b[36mFile \u001b[39m\u001b[32m~/miniconda3/envs/unsloth/lib/python3.11/site-packages/transformers/models/bert/modeling_bert.py:466\u001b[39m, in \u001b[36mBertSelfOutput.forward\u001b[39m\u001b[34m(self, hidden_states, input_tensor)\u001b[39m\n\u001b[32m    465\u001b[39m \u001b[38;5;28;01mdef\u001b[39;00m\u001b[38;5;250m \u001b[39m\u001b[34mforward\u001b[39m(\u001b[38;5;28mself\u001b[39m, hidden_states: torch.Tensor, input_tensor: torch.Tensor) -> torch.Tensor:\n\u001b[32m--> \u001b[39m\u001b[32m466\u001b[39m     hidden_states = \u001b[38;5;28;43mself\u001b[39;49m\u001b[43m.\u001b[49m\u001b[43mdense\u001b[49m\u001b[43m(\u001b[49m\u001b[43mhidden_states\u001b[49m\u001b[43m)\u001b[49m\n\u001b[32m    467\u001b[39m     hidden_states = \u001b[38;5;28mself\u001b[39m.dropout(hidden_states)\n\u001b[32m    468\u001b[39m     hidden_states = \u001b[38;5;28mself\u001b[39m.LayerNorm(hidden_states + input_tensor)\n",
      "\u001b[36mFile \u001b[39m\u001b[32m~/miniconda3/envs/unsloth/lib/python3.11/site-packages/torch/nn/modules/module.py:1739\u001b[39m, in \u001b[36mModule._wrapped_call_impl\u001b[39m\u001b[34m(self, *args, **kwargs)\u001b[39m\n\u001b[32m   1737\u001b[39m     \u001b[38;5;28;01mreturn\u001b[39;00m \u001b[38;5;28mself\u001b[39m._compiled_call_impl(*args, **kwargs)  \u001b[38;5;66;03m# type: ignore[misc]\u001b[39;00m\n\u001b[32m   1738\u001b[39m \u001b[38;5;28;01melse\u001b[39;00m:\n\u001b[32m-> \u001b[39m\u001b[32m1739\u001b[39m     \u001b[38;5;28;01mreturn\u001b[39;00m \u001b[38;5;28;43mself\u001b[39;49m\u001b[43m.\u001b[49m\u001b[43m_call_impl\u001b[49m\u001b[43m(\u001b[49m\u001b[43m*\u001b[49m\u001b[43margs\u001b[49m\u001b[43m,\u001b[49m\u001b[43m \u001b[49m\u001b[43m*\u001b[49m\u001b[43m*\u001b[49m\u001b[43mkwargs\u001b[49m\u001b[43m)\u001b[49m\n",
      "\u001b[36mFile \u001b[39m\u001b[32m~/miniconda3/envs/unsloth/lib/python3.11/site-packages/torch/nn/modules/module.py:1750\u001b[39m, in \u001b[36mModule._call_impl\u001b[39m\u001b[34m(self, *args, **kwargs)\u001b[39m\n\u001b[32m   1745\u001b[39m \u001b[38;5;66;03m# If we don't have any hooks, we want to skip the rest of the logic in\u001b[39;00m\n\u001b[32m   1746\u001b[39m \u001b[38;5;66;03m# this function, and just call forward.\u001b[39;00m\n\u001b[32m   1747\u001b[39m \u001b[38;5;28;01mif\u001b[39;00m \u001b[38;5;129;01mnot\u001b[39;00m (\u001b[38;5;28mself\u001b[39m._backward_hooks \u001b[38;5;129;01mor\u001b[39;00m \u001b[38;5;28mself\u001b[39m._backward_pre_hooks \u001b[38;5;129;01mor\u001b[39;00m \u001b[38;5;28mself\u001b[39m._forward_hooks \u001b[38;5;129;01mor\u001b[39;00m \u001b[38;5;28mself\u001b[39m._forward_pre_hooks\n\u001b[32m   1748\u001b[39m         \u001b[38;5;129;01mor\u001b[39;00m _global_backward_pre_hooks \u001b[38;5;129;01mor\u001b[39;00m _global_backward_hooks\n\u001b[32m   1749\u001b[39m         \u001b[38;5;129;01mor\u001b[39;00m _global_forward_hooks \u001b[38;5;129;01mor\u001b[39;00m _global_forward_pre_hooks):\n\u001b[32m-> \u001b[39m\u001b[32m1750\u001b[39m     \u001b[38;5;28;01mreturn\u001b[39;00m \u001b[43mforward_call\u001b[49m\u001b[43m(\u001b[49m\u001b[43m*\u001b[49m\u001b[43margs\u001b[49m\u001b[43m,\u001b[49m\u001b[43m \u001b[49m\u001b[43m*\u001b[49m\u001b[43m*\u001b[49m\u001b[43mkwargs\u001b[49m\u001b[43m)\u001b[49m\n\u001b[32m   1752\u001b[39m result = \u001b[38;5;28;01mNone\u001b[39;00m\n\u001b[32m   1753\u001b[39m called_always_called_hooks = \u001b[38;5;28mset\u001b[39m()\n",
      "\u001b[36mFile \u001b[39m\u001b[32m~/miniconda3/envs/unsloth/lib/python3.11/site-packages/torch/nn/modules/linear.py:125\u001b[39m, in \u001b[36mLinear.forward\u001b[39m\u001b[34m(self, input)\u001b[39m\n\u001b[32m    124\u001b[39m \u001b[38;5;28;01mdef\u001b[39;00m\u001b[38;5;250m \u001b[39m\u001b[34mforward\u001b[39m(\u001b[38;5;28mself\u001b[39m, \u001b[38;5;28minput\u001b[39m: Tensor) -> Tensor:\n\u001b[32m--> \u001b[39m\u001b[32m125\u001b[39m     \u001b[38;5;28;01mreturn\u001b[39;00m \u001b[43mF\u001b[49m\u001b[43m.\u001b[49m\u001b[43mlinear\u001b[49m\u001b[43m(\u001b[49m\u001b[38;5;28;43minput\u001b[39;49m\u001b[43m,\u001b[49m\u001b[43m \u001b[49m\u001b[38;5;28;43mself\u001b[39;49m\u001b[43m.\u001b[49m\u001b[43mweight\u001b[49m\u001b[43m,\u001b[49m\u001b[43m \u001b[49m\u001b[38;5;28;43mself\u001b[39;49m\u001b[43m.\u001b[49m\u001b[43mbias\u001b[49m\u001b[43m)\u001b[49m\n",
      "\u001b[31mOutOfMemoryError\u001b[39m: CUDA out of memory. Tried to allocate 14.00 MiB. GPU 0 has a total capacity of 23.59 GiB of which 3.94 MiB is free. Process 2894398 has 21.09 GiB memory in use. Including non-PyTorch memory, this process has 2.29 GiB memory in use. Of the allocated memory 1.92 GiB is allocated by PyTorch, and 67.33 MiB is reserved by PyTorch but unallocated. If reserved but unallocated memory is large try setting PYTORCH_CUDA_ALLOC_CONF=expandable_segments:True to avoid fragmentation.  See documentation for Memory Management  (https://pytorch.org/docs/stable/notes/cuda.html#environment-variables)"
     ]
    }
   ],
   "source": [
    "from tqdm import tqdm\n",
    "import torch\n",
    "import helpers\n",
    "from mathbert_encoder import MathBERTEncoder\n",
    "import retriever_cosine as rc\n",
    "# from import retrieve_top_k_cosine, retrieve_sample_k_cosine\n",
    "from response_sampler import sample_responses_per_demo\n",
    "from reward_aggregator import compute_demo_accuracy\n",
    "from icl_model_wrapper import OpenAIICLModel, OpenAIAdvanced\n",
    "from grpo_optimizer import grpo_step\n",
    "from datasets import load_dataset\n",
    "from dotenv import load_dotenv\n",
    "import os\n",
    "from transformers import get_linear_schedule_with_warmup\n",
    "from importlib import reload\n",
    "\n",
    "reload(rc)\n",
    "\n",
    "load_dotenv()\n",
    "\n",
    "# === Settings ===\n",
    "API_KEY = os.getenv(\"OPENAI_API_KEY\")\n",
    "DEVICE = \"cuda\" if torch.cuda.is_available() else \"cpu\"\n",
    "K = 10\n",
    "NUM_SAMPLES_PER_DEMO = 4\n",
    "LEARNING_RATE =  5e-5\n",
    "MAX_STEPS = 15\n",
    "TEMPERATURE = 0.1\n",
    "\n",
    "# === Init ===\n",
    "encoder = MathBERTEncoder(device=DEVICE, trainable=True)\n",
    "encoder.train()\n",
    "\n",
    "icl_model = OpenAIAdvanced(api_key=API_KEY,\n",
    "                           model_name=\"gpt-4.1-nano\",\n",
    "                           temperature=TEMPERATURE)\n",
    "optimizer = torch.optim.Adam(encoder.parameters(), lr=LEARNING_RATE, weight_decay=1e-2)\n",
    "WARMUP_STEPS = 3 # Define number of warmup steps for the scheduler\n",
    "\n",
    "# Initialize the Learning Rate Scheduler\n",
    "scheduler = get_linear_schedule_with_warmup(\n",
    "    optimizer,\n",
    "    num_warmup_steps=WARMUP_STEPS,\n",
    "    num_training_steps=MAX_STEPS\n",
    ")\n",
    "train_path = \"./data/MATH/train.jsonl\"\n",
    "all_examples = helpers.load_jsonl(train_path)\n",
    "train_ds_list = all_examples[:20]\n",
    "raw_demos = all_examples[:128]\n",
    "\n",
    "# === Training Loop ===\n",
    "reward_history = []\n",
    "N = len(train_ds_list)\n",
    "active_indices = list(range(N))\n",
    "\n",
    "for step in range(MAX_STEPS):\n",
    "    print(f\"\\n=== Training Step {step+1} ===\")\n",
    "    epoch_rewards = [None] * N                # default to None for every example\n",
    "    next_active = []\n",
    "\n",
    "    # loop only over the “hard” examples\n",
    "    for idx in tqdm(active_indices, desc=\"Examples\"):\n",
    "        item = train_ds_list[idx]\n",
    "        Q_inf, A_gt, A_ans = item[\"problem\"], item[\"solution\"], item[\"answer\"]\n",
    "\n",
    "        # --- encode & retrieve as before ---\n",
    "        q_emb = encoder.encode([Q_inf], detach=False).squeeze(0)\n",
    "        demo_pool = [d for j, d in enumerate(raw_demos) if j != idx]\n",
    "        demo_questions = [d[\"problem\"] for d in demo_pool]\n",
    "        demo_embs = encoder.batched_encode(demo_questions, batch_size=16, detach=False)\n",
    "        top_k_inds, sims = rc.retrieve_top_k_cosine(q_emb, demo_embs, k=min(K, len(demo_questions)))\n",
    "        \n",
    "        top_k_inds_adj = [i if i < idx else i + 1 for i in top_k_inds]\n",
    "        print(\"-------Question---------\")\n",
    "        print(Q_inf)\n",
    "        print(f\"\\n🧠 Inference Index {idx}\")\n",
    "        print(f\"🔍 Top-K Indices: {top_k_inds_adj}\")\n",
    "        top_k_inds, sims = rc.retrieve_sample_k_cosine(q_emb, demo_embs, k=min(K, len(demo_questions)), tau=0.01)\n",
    "        top_k_inds_adj = [i.item() if i.item() < idx else i.item() + 1 for i in top_k_inds]\n",
    "        print(f\"❗ Sampled Indices: {top_k_inds_adj}\")\n",
    "        \n",
    "        \n",
    "\n",
    "        selected = [(raw_demos[i], i) for i in top_k_inds_adj]\n",
    "        # Remember the demo_q's that was selected here. \n",
    "        \n",
    "        # --- sample responses & compute mean reward ---\n",
    "        responses_nested = sample_responses_per_demo(\n",
    "            demo_tuples=[(d[0][\"problem\"], d[0][\"solution\"], d[0][\"answer\"],d[1]) for d in selected],\n",
    "            Q_inf=Q_inf,\n",
    "            icl_model=icl_model,\n",
    "            num_samples=NUM_SAMPLES_PER_DEMO,\n",
    "            parallel=True\n",
    "        )\n",
    "        print(\"Responses_nested:\", responses_nested)\n",
    "        rewards = []\n",
    "        print(\"Responses: \", responses_nested)\n",
    "        for i, responses in enumerate(responses_nested):\n",
    "            reward = compute_demo_accuracy(responses, A_ans)\n",
    "            rewards.append(reward)\n",
    "            # print(f\"    Demo {i} | Reward: {reward:.2f}\")\n",
    "        \n",
    "        rewards = torch.tensor(rewards, dtype=torch.float32).to(DEVICE)\n",
    "        print(\"Rewards tensor:\", rewards)\n",
    "        print(\"Sims tensor:\", sims)\n",
    "        loss = grpo_step(\n",
    "            rewards,\n",
    "            sims,\n",
    "            q_emb,\n",
    "            demo_embs,\n",
    "            optimizer\n",
    "        )\n",
    "        scheduler.step()\n",
    "\n",
    "        mean_r = rewards.mean().item()\n",
    "        epoch_rewards[idx] = mean_r\n",
    "\n",
    "        # decide whether to keep for next epoch\n",
    "        if mean_r <= 0.75:\n",
    "            next_active.append(idx)\n",
    "\n",
    "        print(f\"✅  idx={idx} | Mean Reward: {mean_r:.4f} | Loss: {loss:.4f}\")\n",
    "\n",
    "    # record this epoch’s full reward vector (with Nones)\n",
    "    reward_history.append(epoch_rewards)\n",
    "\n",
    "    dropped = len(active_indices) - len(next_active)\n",
    "    print(f\"Epoch {step+1}: dropped {dropped} examples (mean_r > 0.75).\")\n",
    "    active_indices = next_active\n",
    "\n",
    "    if not active_indices:\n",
    "        print(\"All examples have converged—stopping early.\")\n",
    "        break\n",
    "\n"
   ]
  },
  {
   "cell_type": "code",
   "execution_count": 2,
   "id": "70185e03",
   "metadata": {},
   "outputs": [
    {
     "data": {
      "image/png": "[encoded data removed]",
      "text/plain": [
       "<Figure size 1000x600 with 1 Axes>"
      ]
     },
     "metadata": {},
     "output_type": "display_data"
    }
   ],
   "source": [
    "import numpy as np\n",
    "import matplotlib.pyplot as plt\n",
    "\n",
    "# --- reshape rewards ---\n",
    "# epoch_wide_rewards  -> shape (num_epochs, num_questions)\n",
    "epoch_wide_rewards = [[item for item in rewards] for rewards in reward_history]\n",
    "reward_matrix = np.array(epoch_wide_rewards)       # (E, Q)\n",
    "num_epochs, num_qs = reward_matrix.shape\n",
    "\n",
    "# --- plot ---\n",
    "plt.figure(figsize=(10, 6))\n",
    "x = np.arange(1, num_epochs + 1)\n",
    "\n",
    "for q in range(num_qs):\n",
    "    plt.plot(x, reward_matrix[:, q], label=f\"Q{q}\", alpha=0.8)\n",
    "\n",
    "plt.title(\"Per-question reward trajectory\")\n",
    "plt.xlabel(\"Epoch\")\n",
    "plt.ylabel(\"Mean reward\")\n",
    "plt.xticks(x)\n",
    "plt.grid(alpha=0.3)\n",
    "\n",
    "# put the legend outside so the graph isn’t cluttered\n",
    "plt.legend(\n",
    "    bbox_to_anchor=(1.05, 1), loc=\"upper left\",\n",
    "    ncol=2, fontsize=\"small\", frameon=False\n",
    ")\n",
    "\n",
    "plt.tight_layout()\n",
    "plt.show()"
   ]
  },
  {
   "cell_type": "code",
   "execution_count": 5,
   "id": "0ebaeea1",
   "metadata": {},
   "outputs": [
    {
     "name": "stdout",
     "output_type": "stream",
     "text": [
      "Positive-sloping lines: 4\n",
      "Negative-sloping lines: 5\n",
      "Flat / insufficient data: 31\n"
     ]
    }
   ],
   "source": [
    "import numpy as np\n",
    "\n",
    "# -------------------------------------------------\n",
    "# 1.  Build a (E, Q) array from reward_history\n",
    "# -------------------------------------------------\n",
    "reward_matrix = np.asarray([[v for v in row] for row in reward_history],\n",
    "                           dtype=object)         # keep Nones intact\n",
    "\n",
    "# -------------------------------------------------\n",
    "# 2.  Convert to float, using NaN for missing values\n",
    "# -------------------------------------------------\n",
    "rm_float = np.full_like(reward_matrix, np.nan, dtype=float)\n",
    "for i in range(rm_float.shape[0]):\n",
    "    for j in range(rm_float.shape[1]):\n",
    "        v = reward_matrix[i, j]\n",
    "        rm_float[i, j] = np.nan if v is None else float(v)\n",
    "\n",
    "# -------------------------------------------------\n",
    "# 3.  Count slopes\n",
    "# -------------------------------------------------\n",
    "pos, neg, flat = 0, 0, 0\n",
    "\n",
    "for q in range(rm_float.shape[1]):\n",
    "    col = rm_float[:, q]\n",
    "    idx = np.where(~np.isnan(col))[0]            # finite rows\n",
    "    if len(idx) < 2:                             # need ≥2 points\n",
    "        flat += 1\n",
    "        continue\n",
    "\n",
    "    first, last = col[idx[0]], col[idx[-1]]\n",
    "    if last > first:\n",
    "        pos += 1\n",
    "    elif last < first:\n",
    "        neg += 1\n",
    "    else:\n",
    "        flat += 1\n",
    "\n",
    "print(f\"Positive-sloping lines: {pos}\")\n",
    "print(f\"Negative-sloping lines: {neg}\")\n",
    "print(f\"Flat / insufficient data: {flat}\")"
   ]
  },
  {
   "cell_type": "code",
   "execution_count": null,
   "id": "0d7be05a",
   "metadata": {},
   "outputs": [
    {
     "name": "stderr",
     "output_type": "stream",
     "text": [
      "Baseline eval:   0%|          | 0/20 [00:00<?, ?it/s]"
     ]
    },
    {
     "name": "stdout",
     "output_type": "stream",
     "text": [
      "🔍 Top-K Indices: [78, 79, 211]\n",
      "[INFO] Launching 15 parallel inference tasks...\n"
     ]
    },
    {
     "name": "stderr",
     "output_type": "stream",
     "text": [
      "Baseline eval:   5%|▌         | 1/20 [00:01<00:22,  1.17s/it]"
     ]
    },
    {
     "name": "stdout",
     "output_type": "stream",
     "text": [
      "[['48 + (48/2) = 48 + 24 = 72', '48 + (48 / 2) = 48 + 24 = 72', '48 + (48 ÷ 2) = 48 + 24 = 72', '48 + (48/2) = 48 + 24 = 72', '48 + (48 ÷ 2) = 48 + 24 = 72'], ['48 + 24 = 72', '72', '48 + 48/2 = 48 + 24 = 72', '48 + (48/2) = 48 + 24 = 72', '144'], ['48 + 24 = 72', '48 + (48/2) = 48 + 24 = 72', '48 + 24 = 72', '72', '72']]\n",
      "0.9333333333333333\n",
      "🔍 Top-K Indices: [63, 119, 81]\n",
      "[INFO] Launching 15 parallel inference tasks...\n"
     ]
    },
    {
     "name": "stderr",
     "output_type": "stream",
     "text": [
      "Baseline eval:  10%|█         | 2/20 [00:02<00:23,  1.32s/it]"
     ]
    },
    {
     "name": "stdout",
     "output_type": "stream",
     "text": [
      "[['10', '10', '10', '10', '10'], ['10', '10', '10', '10', '10'], ['10', '10', '10', '10', '10']]\n",
      "1.0\n",
      "🔍 Top-K Indices: [13, 82, 11]\n",
      "[INFO] Launching 15 parallel inference tasks...\n"
     ]
    },
    {
     "name": "stderr",
     "output_type": "stream",
     "text": [
      "Baseline eval:  15%|█▌        | 3/20 [00:03<00:22,  1.30s/it]"
     ]
    },
    {
     "name": "stdout",
     "output_type": "stream",
     "text": [
      "[['55', '55', '55', '55', '55'], ['25', '53', '53', '50', '53'], ['55', '70', '55', '55', '55']]\n",
      "0.9333333333333333\n",
      "🔍 Top-K Indices: [130, 136, 229]\n",
      "[INFO] Launching 15 parallel inference tasks...\n"
     ]
    },
    {
     "name": "stderr",
     "output_type": "stream",
     "text": [
      "Baseline eval:  20%|██        | 4/20 [00:05<00:19,  1.25s/it]"
     ]
    },
    {
     "name": "stdout",
     "output_type": "stream",
     "text": [
      "[['48', '54', '48', '48', '54'], ['60', '60', '60', '60', '60'], ['48', '48', '48', '48', '48']]\n",
      "0.0\n",
      "🔍 Top-K Indices: [63, 119, 140]\n",
      "[INFO] Launching 15 parallel inference tasks...\n"
     ]
    },
    {
     "name": "stderr",
     "output_type": "stream",
     "text": [
      "Baseline eval:  25%|██▌       | 5/20 [00:06<00:19,  1.27s/it]"
     ]
    },
    {
     "name": "stdout",
     "output_type": "stream",
     "text": [
      "[['312', '312', '312', '312', '312'], ['312', '312', '312', '312', '312'], ['312', '312', '312', '312', '312']]\n",
      "0.0\n",
      "🔍 Top-K Indices: [135, 105, 41]\n",
      "[INFO] Launching 15 parallel inference tasks...\n"
     ]
    },
    {
     "name": "stderr",
     "output_type": "stream",
     "text": [
      "Baseline eval:  30%|███       | 6/20 [00:07<00:19,  1.39s/it]"
     ]
    },
    {
     "name": "stdout",
     "output_type": "stream",
     "text": [
      "[['130', '110', '110', 'Total yellow flowers = 10  \\nPurple flowers = 80% more than yellow = 10 + 0.80 * 10 = 10 + 8 = 18  \\nTotal yellow and purple = 10 + 18 = 28  \\nGreen flowers = 25% of yellow and purple = 0.25 * 28 = 7  \\nTotal flowers = yellow + purple + green = 10 + 18 + 7 = 35', 'Total yellow flowers = 10  \\nPurple flowers = 80% more than yellow = 10 + 0.80 * 10 = 10 + 8 = 18  \\nTotal yellow and purple = 10 + 18 = 28  \\nGreen flowers = 25% of yellow and purple = 0.25 * 28 = 7  \\nTotal flowers = yellow + purple + green = 10 + 18 + 7 = 35'], ['Yellow: 10\\nPurple: 80% more than yellow = 10 * 1.8 = 18\\nYellow + purple: 10 + 18 = 28\\nGreen: 25% of yellow + purple = 0.25 * 28 = 7\\nTotal flowers: 10 + 18 + 7 = 35', 'Yellow = 10  \\nPurple = 80% more than yellow = 10 + 0.8 * 10 = 10 + 8 = 18  \\nTotal yellow and purple = 10 + 18 = 28  \\nGreen = 25% of yellow and purple = 0.25 * 28 = 7  \\nTotal flowers = yellow + purple + green = 10 + 18 + 7 = 35', 'Yellow: 10  \\nPurple: 80% more than yellow = 10 + 0.80 * 10 = 10 + 8 = 18  \\nTotal yellow and purple: 10 + 18 = 28  \\nGreen: 25% as many as yellow and purple combined = 0.25 * 28 = 7  \\nTotal flowers: 10 + 18 + 7 = 35', 'Yellow: 10  \\nPurple: 80% more than yellow = 10 + 0.8 * 10 = 10 + 8 = 18  \\nTotal yellow and purple: 10 + 18 = 28  \\nGreen: 25% of yellow and purple = 0.25 * 28 = 7  \\nTotal flowers: 10 + 18 + 7 = 35', 'Yellow flowers: 10  \\nPurple flowers: 80% more than yellow = 10 * 1.8 = 18  \\nTotal yellow and purple: 10 + 18 = 28  \\nGreen flowers: 25% of yellow and purple = 0.25 * 28 = 7  \\nTotal flowers: 10 + 18 + 7 = 35'], ['250', '250', '250', '250', '125']]\n",
      "0.4666666666666667\n",
      "🔍 Top-K Indices: [8, 93, 140]\n",
      "[INFO] Launching 15 parallel inference tasks...\n"
     ]
    },
    {
     "name": "stderr",
     "output_type": "stream",
     "text": [
      "Baseline eval:  35%|███▌      | 7/20 [00:09<00:18,  1.39s/it]"
     ]
    },
    {
     "name": "stdout",
     "output_type": "stream",
     "text": [
      "[['48', '48', '48', '48', '48'], ['48', '48', '48', '48', '48'], ['48', '48', '48', '48', '48']]\n",
      "1.0\n",
      "🔍 Top-K Indices: [91, 18, 17]\n",
      "[INFO] Launching 15 parallel inference tasks...\n"
     ]
    },
    {
     "name": "stderr",
     "output_type": "stream",
     "text": [
      "Baseline eval:  40%|████      | 8/20 [00:10<00:16,  1.38s/it]"
     ]
    },
    {
     "name": "stdout",
     "output_type": "stream",
     "text": [
      "[['16', '16', '8', '8', '8'], ['8', '10', '8', '16', '16'], ['8', '16', '16', '16', '16']]\n",
      "0.5333333333333333\n",
      "🔍 Top-K Indices: [85, 94, 173]\n",
      "[INFO] Launching 15 parallel inference tasks...\n"
     ]
    },
    {
     "name": "stderr",
     "output_type": "stream",
     "text": [
      "Baseline eval:  45%|████▌     | 9/20 [00:12<00:15,  1.43s/it]"
     ]
    },
    {
     "name": "stdout",
     "output_type": "stream",
     "text": [
      "[['41', '41', '41', '61', '61'], ['$41', '$41', '$41', '87', '$41'], ['87', '87', '$41', '$41', '$41']]\n",
      "0.6666666666666666\n",
      "🔍 Top-K Indices: [119, 18, 63]\n",
      "[INFO] Launching 15 parallel inference tasks...\n"
     ]
    },
    {
     "name": "stderr",
     "output_type": "stream",
     "text": [
      "Baseline eval:  50%|█████     | 10/20 [00:13<00:13,  1.36s/it]"
     ]
    },
    {
     "name": "stdout",
     "output_type": "stream",
     "text": [
      "[['$495', '$405', '$405', '$585', '$405'], ['$270', '90', '$405', '$270', '10*1.5*18=270  \\n270*5=1350'], ['$495', '$405', '$495', '$495', '540']]\n",
      "0.06666666666666667\n",
      "🔍 Top-K Indices: [223, 42, 142]\n",
      "[INFO] Launching 15 parallel inference tasks...\n"
     ]
    },
    {
     "name": "stderr",
     "output_type": "stream",
     "text": [
      "Baseline eval:  55%|█████▌    | 11/20 [00:15<00:13,  1.45s/it]"
     ]
    },
    {
     "name": "stdout",
     "output_type": "stream",
     "text": [
      "[['4', '42', '42', '422', '1'], ['423.5', '422', '423.5', '1', '423'], ['423.5', '423.5', '423.5', '423.5', '423.5']]\n",
      "0.13333333333333333\n",
      "🔍 Top-K Indices: [105, 85, 49]\n",
      "[INFO] Launching 15 parallel inference tasks...\n"
     ]
    },
    {
     "name": "stderr",
     "output_type": "stream",
     "text": [
      "Baseline eval:  60%|██████    | 12/20 [00:16<00:11,  1.45s/it]"
     ]
    },
    {
     "name": "stdout",
     "output_type": "stream",
     "text": [
      "[['2', '2', '7', \"4 lawns x $15 = $60; total money saved = $95 - $15 (change) = $80; money from mowing = $60; remaining money for shoveling = $80 - $60 = $20; shoveling earns $7 each; number of driveways = $20 / $7 ≈ 2.86; since he can't shovel a fraction of a driveway, he must have shoveled 2 driveways.\", \"4 lawns x $15 = $60  \\nTotal money saved before buying shoes = $95 + $15 (change) = $110  \\nTotal money from mowing lawns = $60  \\nMoney from shoveling driveways = $110 - $60 = $50  \\nNumber of driveways shoveled = $50 / $7 ≈ 7.14  \\nSince he can't shovel a fraction of a driveway, he shovels 7 driveways\"], ['4', '4', '4', '4', '4'], ['3', '5', '4', '4', '10']]\n",
      "0.2\n",
      "🔍 Top-K Indices: [5, 211, 82]\n",
      "[INFO] Launching 15 parallel inference tasks...\n"
     ]
    },
    {
     "name": "stderr",
     "output_type": "stream",
     "text": [
      "Baseline eval:  65%|██████▌   | 13/20 [00:18<00:10,  1.46s/it]"
     ]
    },
    {
     "name": "stdout",
     "output_type": "stream",
     "text": [
      "[['55', '80', '55', '55', '55'], ['60 + (60/2 - 5) = 60 + (30 - 5) = 60 + 25 = 85', '60 + (1/2 * 60 - 5) = 60 + (30 - 5) = 60 + 25 = 85', '60 + ( (1/2) * 60 - 5 ) = 60 + (30 - 5) = 60 + 25 = 85', '60 + (60/2 - 5) = 60 + (30 - 5) = 60 + 25 = 85', '60 + ( (1/2) * 60 - 5 ) = 60 + (30 - 5) = 60 + 25 = 85'], ['75', '75', '60 + (1/2 * 60 - 5) = 60 + (30 - 5) = 60 + 25 = 85', '75', '75']]\n",
      "0.4\n",
      "🔍 Top-K Indices: [241, 48, 117]\n",
      "[INFO] Launching 15 parallel inference tasks...\n"
     ]
    },
    {
     "name": "stderr",
     "output_type": "stream",
     "text": [
      "Baseline eval:  70%|███████   | 14/20 [00:19<00:08,  1.39s/it]"
     ]
    },
    {
     "name": "stdout",
     "output_type": "stream",
     "text": [
      "[['$30', '$30', '$40', '$30', '$40'], ['$34', '$10 + $5 + $20 = 35', '$30', '$10 + $5 + $20 = 35', '$40'], ['$20', '$26', '$36', '$34', '$34']]\n",
      "0.13333333333333333\n",
      "🔍 Top-K Indices: [2, 3, 130]\n",
      "[INFO] Launching 15 parallel inference tasks...\n"
     ]
    },
    {
     "name": "stderr",
     "output_type": "stream",
     "text": [
      "Baseline eval:  75%|███████▌  | 15/20 [00:20<00:06,  1.35s/it]"
     ]
    },
    {
     "name": "stdout",
     "output_type": "stream",
     "text": [
      "[['3', '120 / 8 = 15 (sets of 8 pages)\\n15 * 20 = 300 minutes\\n300 / 60 = 5 hours', '120 / 8 = 15 (number of 20-minute segments needed)\\n15 * 20 minutes = 300 minutes\\n300 / 60 = 5 hours', '120 / 8 = 15 (number of reading sessions needed)\\n15 * 20 = 300 minutes\\n300 / 60 = 5 hours', '120 / 8 = 15  \\n15 * 20 = 300 minutes  \\n300 / 60 = 5 hours'], ['3', '20/8 = 2.5 minutes per page  \\n120 * 2.5 = 300 minutes  \\n300 / 60 = 5 hours', '3', '3', '20 minutes / 8 pages = 2.5 minutes per page  \\n120 pages × 2.5 minutes = 300 minutes  \\n300 minutes ÷ 60 = 5 hours'], ['3', '3', '3', '3', '3']]\n",
      "0.4\n",
      "🔍 Top-K Indices: [81, 63, 197]\n",
      "[INFO] Launching 15 parallel inference tasks...\n"
     ]
    },
    {
     "name": "stderr",
     "output_type": "stream",
     "text": [
      "Baseline eval:  80%|████████  | 16/20 [00:23<00:07,  1.87s/it]"
     ]
    },
    {
     "name": "stdout",
     "output_type": "stream",
     "text": [
      "[['6000', '15000', '15000', '37500', '35000'], ['30000', '$90000', 'Profit per DVD = 2.5 * 6 - 6 = 15 - 6 = 9  \\nNumber of DVDs sold in 20 weeks = 500 DVDs/day * 5 days/week * 20 weeks = 500 * 5 * 20 = 50,000  \\nTotal profit = 50,000 * 9 = 450,000', '75000', 'Profit per DVD = 6 * 2.5 - 6 = 15 - 6 = 9  \\nNumber of DVDs sold in 20 weeks = 500 * 5 * 20 = 50,000  \\nTotal profit = 50,000 * 9 = 450,000'], ['$15000', '$132,000', '$22,500', '$15,000', '$7,500']]\n",
      "0.0\n",
      "🔍 Top-K Indices: [66, 145, 81]\n",
      "[INFO] Launching 15 parallel inference tasks...\n"
     ]
    },
    {
     "name": "stderr",
     "output_type": "stream",
     "text": [
      "Baseline eval:  85%|████████▌ | 17/20 [00:25<00:05,  1.77s/it]"
     ]
    },
    {
     "name": "stdout",
     "output_type": "stream",
     "text": [
      "[['1000', '1000', '$1000', '1000', '$1000'], ['200', \"Mike's share = (2/5) * 2500 = 1000  \\nMoney left after buying the shirt = 1000 - 200 = 800\", \"Mike's share = (2 / (2 + 5)) * 2500 = (2 / 7) * 2500 ≈ 714.2857  \\nMoney Mike has after buying the shirt = 714.2857 - 200 ≈ 514.2857  \\nFinal answer: 514\", \"Mike's share = (2/5) × 2500 = 1000  \\nRemaining after buying the shirt = 1000 - 200 = 800  \\nAnswer: 800\", \"Mike's share is (2/7) of total profit, and Johnson's share is (5/7) of total profit.\\n\\nJohnson's share = $2500 = (5/7) of total profit  \\nTotal profit = $2500 * (7/5) = $2500 * 1.4 = $3500\\n\\nMike's share = (2/7) of total profit = (2/7) * $3500 = $1000\\n\\nAfter buying the shirt for $200, Mike has:  \\n$1000 - $200 = $800\\n\\n800\"], ['1000', '1000', '714.29', '1000', '1000']]\n",
      "0.2\n",
      "🔍 Top-K Indices: [82, 156, 182]\n",
      "[INFO] Launching 15 parallel inference tasks...\n"
     ]
    },
    {
     "name": "stderr",
     "output_type": "stream",
     "text": [
      "Baseline eval:  90%|█████████ | 18/20 [00:27<00:03,  1.81s/it]"
     ]
    },
    {
     "name": "stdout",
     "output_type": "stream",
     "text": [
      "[['47', '53', '73', '53', '33'], ['49', '55', '61', '55', '49'], ['53', '49', '26 - 4 = 22 pink hard hats remaining\\nJohn takes away 6 pink hard hats and twice as many green hard hats as the pink hard hats he took, so green hard hats taken by John = 2 * 6 = 12\\nRemaining pink hard hats = 22 - 6 = 16\\nRemaining green hard hats = 15 - 12 = 3\\nRemaining yellow hard hats = 24 (none taken)\\nTotal remaining hard hats = 16 + 3 + 24 = 43', '26 + 15 + 24 = 65\\nCarl takes away 4 pink hard hats: remaining pink = 26 - 4 = 22\\nJohn takes away 6 pink hard hats: remaining pink = 22 - 6 = 16\\nJohn takes away twice as many green hard hats as pink hard hats he removed: 2 * 6 = 12 green hard hats\\nRemaining green hard hats = 15 - 12 = 3\\nTotal remaining hard hats = pink + green + yellow = 16 + 3 + 24 = 43', \"26 - 4 = 22 (pink hard hats remaining after Carl's removal)  \\nJohn takes away 6 pink hard hats, leaving 22 - 6 = 16 pink hard hats in the truck  \\nJohn takes away twice as many green hard hats as the pink hard hats he removed: 2 * 6 = 12 green hard hats  \\nGreen hard hats remaining: 15 - 12 = 3  \\nTotal hard hats remaining: pink (16) + green (3) + yellow (24) = 16 + 3 + 24 = 43\"]]\n",
      "0.2\n",
      "🔍 Top-K Indices: [18, 94, 15]\n",
      "[INFO] Launching 15 parallel inference tasks...\n"
     ]
    },
    {
     "name": "stderr",
     "output_type": "stream",
     "text": [
      "Baseline eval:  95%|█████████▌| 19/20 [00:28<00:01,  1.65s/it]"
     ]
    },
    {
     "name": "stdout",
     "output_type": "stream",
     "text": [
      "[['9', '9', '9', '10', '9'], ['9', '9', '9', '9', '9'], ['9', '9', '9', '9', '9']]\n",
      "0.0\n",
      "🔍 Top-K Indices: [18, 119, 15]\n",
      "[INFO] Launching 15 parallel inference tasks...\n"
     ]
    },
    {
     "name": "stderr",
     "output_type": "stream",
     "text": [
      "Baseline eval: 100%|██████████| 20/20 [00:31<00:00,  1.58s/it]"
     ]
    },
    {
     "name": "stdout",
     "output_type": "stream",
     "text": [
      "[['10', '10', '8', '9', '16'], ['8', '8', '8', '8', '8'], ['16', '16', '16', '16', '20 miles each way, so 40 miles per day for 5 days: 40*5=200 miles  \\nWeekend ride: 200 miles  \\nTotal miles: 200+200=400 miles  \\nTime = Distance / Speed = 400 / 25 = 16 hours']]\n",
      "0.4\n",
      "\n",
      "📊  Baseline accuracy on GSM8K_to_infer: 38.333%\n"
     ]
    },
    {
     "name": "stderr",
     "output_type": "stream",
     "text": [
      "\n"
     ]
    }
   ],
   "source": [
    "# ------------------------------------------------------------\n",
    "# 0.  Imports & config – nothing here should clash with yours\n",
    "# ------------------------------------------------------------\n",
    "from tqdm import tqdm\n",
    "import torch\n",
    "from mathbert_encoder import MathBERTEncoder\n",
    "import retriever_cosine as rc\n",
    "# from import retrieve_top_k_cosine, retrieve_sample_k_cosine\n",
    "from response_sampler import sample_responses_per_demo\n",
    "from reward_aggregator import compute_demo_accuracy\n",
    "from icl_model_wrapper import OpenAIICLModel\n",
    "from grpo_optimizer import grpo_step\n",
    "from datasets import load_dataset\n",
    "from dotenv import load_dotenv\n",
    "import os\n",
    "from transformers import get_linear_schedule_with_warmup\n",
    "from importlib import reload\n",
    "\n",
    "reload(rc)\n",
    "\n",
    "load_dotenv()\n",
    "\n",
    "API_KEY = os.getenv(\"OPENAI_API_KEY\")\n",
    "DEVICE  = \"cuda\" if torch.cuda.is_available() else \"cpu\"\n",
    "K       = 3                # demos per query\n",
    "NUM_SAMPLES = 5             # model completions per query\n",
    "TEMPERATURE = 0.7           # keep same as training loop\n",
    "\n",
    "# ------------------------------------------------------------\n",
    "# 1.  Initialise encoder **in eval mode** (weights frozen)\n",
    "# ------------------------------------------------------------\n",
    "encoder.eval()                                   # no grads!\n",
    "\n",
    "icl_model = OpenAIICLModel(api_key=API_KEY,\n",
    "                           model_name=\"gpt-4.1-nano\",\n",
    "                           temperature=TEMPERATURE)\n",
    "\n",
    "# ------------------------------------------------------------\n",
    "# 2.  Load/define the inference set\n",
    "#     If you already saved a slice elsewhere, just load it.\n",
    "# ------------------------------------------------------------\n",
    "gsm8k_data = load_dataset(\"gsm8k\", \"main\")[\"train\"].select(range(256))  # slice first 200 examples\n",
    "gsm8k_to_infer = load_dataset(\"gsm8k\", \"main\")[\"train\"] \\\n",
    "                     .select(range(20))          # ⬅ change as needed\n",
    "\n",
    "# ------------------------------------------------------------\n",
    "# 3.  Evaluation loop\n",
    "# ------------------------------------------------------------\n",
    "total, correct = 0, 0\n",
    "all_losses     = []          # optional – to compare prompt quality\n",
    "\n",
    "for idx in tqdm(range(len(gsm8k_to_infer)), desc=\"Baseline eval\"):\n",
    "    item       = gsm8k_to_infer[idx]\n",
    "    Q_inf, A_gt = item[\"question\"], item[\"answer\"]\n",
    "\n",
    "    # Build demo pool (everything except current query)\n",
    "    demos = [(d[\"question\"], d[\"answer\"])\n",
    "             for j, d in enumerate(gsm8k_data) if j != idx]\n",
    "\n",
    "    # Encode query + candidate demos\n",
    "    with torch.no_grad():\n",
    "        q_emb     = encoder.encode([Q_inf], detach=True).squeeze(0)\n",
    "        demo_embs = encoder.encode([q for (q, _) in demos], detach=True)\n",
    "\n",
    "    # ------- ORIGINAL cosine retrieval -------------------------\n",
    "    top_k, _ = rc.retrieve_top_k_cosine(\n",
    "        q_emb, demo_embs, k=min(K, len(demos))\n",
    "    )\n",
    "    print(f\"🔍 Top-K Indices: {top_k}\")\n",
    "    selected_demos = [demos[i] for i in top_k]          # length = 2\n",
    "\n",
    "    # ------- Run the ICL model --------------------------------\n",
    "    responses_nested = sample_responses_per_demo(\n",
    "        demo_tuples = selected_demos,\n",
    "        Q_inf       = Q_inf,\n",
    "        icl_model   = icl_model,\n",
    "        num_samples = NUM_SAMPLES,\n",
    "        parallel=True\n",
    "    )\n",
    "    print(responses_nested)\n",
    "    flat_responses = [r for demo_resps in responses_nested for r in demo_resps]\n",
    "    acc = compute_demo_accuracy(flat_responses, A_gt)\n",
    "    print(acc) \n",
    "    correct += acc\n",
    "    total   += 1\n",
    "\n",
    "baseline_acc = correct / total\n",
    "print(f\"\\n📊  Baseline accuracy on GSM8K_to_infer: {baseline_acc:.3%}\")\n"
   ]
  },
  {
   "cell_type": "code",
   "execution_count": null,
   "metadata": {},
   "outputs": [
    {
     "data": {
      "text/plain": [
       "('./53k_q3_1024_demos_0.7_temp_40_max_steps_temp_mathbert/tokenizer_config.json',\n",
       " './53k_q3_1024_demos_0.7_temp_40_max_steps_temp_mathbert/special_tokens_map.json',\n",
       " './53k_q3_1024_demos_0.7_temp_40_max_steps_temp_mathbert/vocab.txt',\n",
       " './53k_q3_1024_demos_0.7_temp_40_max_steps_temp_mathbert/added_tokens.json')"
      ]
     },
     "execution_count": 3,
     "metadata": {},
     "output_type": "execute_result"
    }
   ],
   "source": [
    "# Save the updated MathBERT model\n",
    "save_path = \"./10k_q4_128_demos_0.1_temp_20_max_steps_on_MATH500_mathbert\"  # your save directory\n",
    "encoder.model.save_pretrained(save_path)\n",
    "encoder.tokenizer.save_pretrained(save_path)\n",
    "\n",
    "# LOADING\n",
    "\n",
    "# from transformers import BertTokenizer, BertModel\n",
    "\n",
    "# model = BertModel.from_pretrained(\"./updated_mathbert\")\n",
    "# tokenizer = BertTokenizer.from_pretrained(\"./updated_mathbert\")\n",
    "\n"
   ]
  }
 ],
 "metadata": {
  "kernelspec": {
   "display_name": "unsloth",
   "language": "python",
   "name": "python3"
  },
  "language_info": {
   "codemirror_mode": {
    "name": "ipython",
    "version": 3
   },
   "file_extension": ".py",
   "mimetype": "text/x-python",
   "name": "python",
   "nbconvert_exporter": "python",
   "pygments_lexer": "ipython3",
   "version": "3.11.11"
  }
 },
 "nbformat": 4,
 "nbformat_minor": 5
}
